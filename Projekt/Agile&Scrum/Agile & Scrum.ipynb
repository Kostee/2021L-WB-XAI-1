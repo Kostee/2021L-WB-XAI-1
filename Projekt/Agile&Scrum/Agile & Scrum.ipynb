{
 "cells": [
  {
   "cell_type": "markdown",
   "metadata": {},
   "source": [
    "# Agile &Scrum"
   ]
  },
  {
   "cell_type": "markdown",
   "metadata": {},
   "source": [
    "### \"Jest to zbiór reguł umożliwiających pracę nad profuktem w sposób zwinny i epiryczny, dynamiczne dostosowanie do rzeczywistości.\"\n",
    "\n",
    "### \"Agile to jeden ze sposobów na zarządzanie projektami w sposób elastyczny i wydajny.\"\n"
   ]
  },
  {
   "cell_type": "markdown",
   "metadata": {},
   "source": [
    "![](fig/2.png)\n",
    "###### https://charzynska.pl/agile-pm-poradnik-cz1/"
   ]
  },
  {
   "cell_type": "markdown",
   "metadata": {},
   "source": [
    "## Role"
   ]
  },
  {
   "cell_type": "markdown",
   "metadata": {},
   "source": [
    "- zespół (w IT zespół deweloperski)\n",
    "\n",
    "Osoby realizujące wyznaczone cele, poszukujące poprzez testy i próby najbardziej optymalnego rozwiązania dla danego klienta. Zespół cechuje samoorganizacja, czyli samodzielne zarządzanie pracą. Członkowie zespołu ustalją metodę pracy, narzędzia oraz rozdzielają zadania. Łączy ich wspólny cel - końcowy produkt (wszyscy członkowie zespołu ponoszą odpowiedzialność.\n",
    "#### Istotny podział członków pod kątem ich kompetencji."
   ]
  },
  {
   "cell_type": "markdown",
   "metadata": {},
   "source": [
    "![](fig\\1.png)\n",
    "\n",
    "###### https://przemyslprzyszlosci.gov.pl/agile-i-scrum-czyli-sciezka-do-zwinnosci/?gclid=CjwKCAjw6fCCBhBNEiwAem5SO_WBUiJwkj7qlAU6OaU60wJ4QGtKdBIC5KLxmsseJ_qSFrk2eGSyIhoCRrIQAvD_BwE"
   ]
  },
  {
   "cell_type": "markdown",
   "metadata": {},
   "source": [
    "- Product Owner"
   ]
  },
  {
   "cell_type": "markdown",
   "metadata": {},
   "source": [
    "- Scrum Master"
   ]
  },
  {
   "cell_type": "markdown",
   "metadata": {},
   "source": [
    "## Praca w Agile opiera się na Sprintach"
   ]
  },
  {
   "cell_type": "markdown",
   "metadata": {},
   "source": [
    "Sprinty zwykle trwają od dwóch tygodni do miesiąca i zawierają takie elementy jak planowanie, realizację, przegląd sprintu i retrospektywę.\n",
    "Rezultatem każdego sprintu jest przyrost produktu, jest również lista zadań do wykonania(Sprint Backlog). Członkowie zespołu samodzielnie decydują, jak dużo są w stanie zrobić w czasie jego trwania. Ważne jest, by zaplanować Sprint tak, by każdy element listy zadań mógł zostać ukończony. Synchronizacji zespołu w czasie Sprintu służą spotkania zwane codziennym Scrumem (Daily Scrum), moderowane przez Scrum Mastera, podczas których członkowie zespołu informują się wzajemnie o postępie pracy oraz definiują swoje potrzeby i następne akcje. \n"
   ]
  },
  {
   "cell_type": "markdown",
   "metadata": {},
   "source": [
    "#### Mamy weekly, które jest notatką, zawiera postęp pracy i jakie akcje będę następne."
   ]
  },
  {
   "cell_type": "markdown",
   "metadata": {},
   "source": [
    "## Tablica Kanban"
   ]
  },
  {
   "cell_type": "markdown",
   "metadata": {},
   "source": [
    "![](fig/3.png)\n",
    "###### https://agileforce.pl/blog/tablica-kanban/"
   ]
  },
  {
   "cell_type": "markdown",
   "metadata": {},
   "source": [
    "Kolumny na Tablicy Kanban odzwierciedlają poszczególne etapy przepływu pracy. Karta – przedstawiająca zadanie – przechodzi przez te kolumny w miarę postępów pracy. W najprostszej tablicy etapami mogą być:\n",
    "\n",
    "    Do zrobienia\n",
    "    W trakcie\n",
    "    Testy\n",
    "    Ukończone"
   ]
  }
 ],
 "metadata": {
  "kernelspec": {
   "display_name": "Python 3",
   "language": "python",
   "name": "python3"
  },
  "language_info": {
   "codemirror_mode": {
    "name": "ipython",
    "version": 3
   },
   "file_extension": ".py",
   "mimetype": "text/x-python",
   "name": "python",
   "nbconvert_exporter": "python",
   "pygments_lexer": "ipython3",
   "version": "3.7.6"
  }
 },
 "nbformat": 4,
 "nbformat_minor": 4
}
