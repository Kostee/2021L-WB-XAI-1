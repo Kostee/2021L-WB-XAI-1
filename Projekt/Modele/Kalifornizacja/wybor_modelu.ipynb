{
 "cells": [
  {
   "cell_type": "markdown",
   "id": "classified-crime",
   "metadata": {},
   "source": [
    "# Wybór modelu"
   ]
  },
  {
   "cell_type": "code",
   "execution_count": 1,
   "id": "bottom-compact",
   "metadata": {},
   "outputs": [],
   "source": [
    "from sklearn.model_selection import train_test_split\n",
    "from sklearn.metrics import mean_squared_error\n",
    "from sklearn.model_selection import cross_val_score\n",
    "import numpy as np\n",
    "import pandas as pd\n",
    "import pickle\n",
    "import warnings\n",
    "\n",
    "warnings.filterwarnings(\"ignore\")"
   ]
  },
  {
   "cell_type": "code",
   "execution_count": 2,
   "id": "loved-trash",
   "metadata": {},
   "outputs": [],
   "source": [
    "housing = pd.read_csv('housing_preprocessed.csv')"
   ]
  },
  {
   "cell_type": "code",
   "execution_count": 3,
   "id": "solved-sunglasses",
   "metadata": {},
   "outputs": [],
   "source": [
    "X = housing.drop('median_house_value', axis = 1)\n",
    "X = X.rename(columns={\"<1H OCEAN\" : \"1H OCEAN\"})\n",
    "y = housing[['median_house_value']]\n",
    "\n",
    "X_train, X_test, y_train, y_test = train_test_split(X, y, random_state=42, test_size=0.3)"
   ]
  },
  {
   "cell_type": "markdown",
   "id": "crazy-district",
   "metadata": {},
   "source": [
    "## Regresja liniowa"
   ]
  },
  {
   "cell_type": "code",
   "execution_count": 4,
   "id": "demonstrated-compromise",
   "metadata": {
    "scrolled": true
   },
   "outputs": [
    {
     "name": "stdout",
     "output_type": "stream",
     "text": [
      "Odchylenie standardowe RMSE: 3153.37\n",
      "Średnia RMSE: 64795.9\n"
     ]
    }
   ],
   "source": [
    "lr = pickle.load(open(\"linear_regression.pickle\", 'rb'))\n",
    "\n",
    "rmse = (abs(cross_val_score(lr, X, y, scoring='neg_root_mean_squared_error')))\n",
    "print(\"Odchylenie standardowe RMSE: \" + str(round(np.std(rmse), 2)))\n",
    "print(\"Średnia RMSE: \" + str(round(np.mean(rmse), 2)))"
   ]
  },
  {
   "cell_type": "markdown",
   "id": "circular-austin",
   "metadata": {},
   "source": [
    "## RandomForest"
   ]
  },
  {
   "cell_type": "code",
   "execution_count": 12,
   "id": "single-raising",
   "metadata": {},
   "outputs": [
    {
     "name": "stdout",
     "output_type": "stream",
     "text": [
      "Odchylenie standardowe RMSE: 4943.95\n",
      "Średnia RMSE: 67654.27\n"
     ]
    }
   ],
   "source": [
    "rf = pickle.load(open(\"random_forest.pickle\", 'rb'))\n",
    "\n",
    "rmse = (abs(cross_val_score(rf, X, y, scoring='neg_root_mean_squared_error')))\n",
    "print(\"Odchylenie standardowe RMSE: \" + str(round(np.std(rmse), 2)))\n",
    "print(\"Średnia RMSE: \" + str(round(np.mean(rmse), 2)))"
   ]
  },
  {
   "cell_type": "markdown",
   "id": "controlled-compiler",
   "metadata": {},
   "source": [
    "## SVR"
   ]
  },
  {
   "cell_type": "code",
   "execution_count": 11,
   "id": "noted-african",
   "metadata": {},
   "outputs": [
    {
     "name": "stdout",
     "output_type": "stream",
     "text": [
      "Odchylenie standardowe RMSE: 7619.05\n",
      "Średnia RMSE: 67620.48\n"
     ]
    }
   ],
   "source": [
    "svr = pickle.load(open(\"svr.pickle\", 'rb'))\n",
    "\n",
    "rmse = (abs(cross_val_score(svr, X, y, scoring='neg_root_mean_squared_error')))\n",
    "print(\"Odchylenie standardowe RMSE: \" + str(round(np.std(rmse), 2)))\n",
    "print(\"Średnia RMSE: \" + str(round(np.mean(rmse), 2)))"
   ]
  },
  {
   "cell_type": "markdown",
   "id": "intended-kentucky",
   "metadata": {},
   "source": [
    "## GradientBoosting"
   ]
  },
  {
   "cell_type": "code",
   "execution_count": 8,
   "id": "specialized-assets",
   "metadata": {},
   "outputs": [
    {
     "name": "stdout",
     "output_type": "stream",
     "text": [
      "Odchylenie standardowe RMSE: 3115.56\n",
      "Średnia RMSE: 60274.05\n"
     ]
    }
   ],
   "source": [
    "gb = pickle.load(open(\"gradient_boost.pickle\", 'rb'))\n",
    "\n",
    "rmse = (abs(cross_val_score(gb, X, y, scoring='neg_root_mean_squared_error')))\n",
    "print(\"Odchylenie standardowe RMSE: \" + str(round(np.std(rmse), 2)))\n",
    "print(\"Średnia RMSE: \" + str(round(np.mean(rmse), 2)))"
   ]
  },
  {
   "cell_type": "markdown",
   "id": "engaged-stadium",
   "metadata": {},
   "source": [
    "## MLP"
   ]
  },
  {
   "cell_type": "code",
   "execution_count": 9,
   "id": "binary-coast",
   "metadata": {
    "scrolled": true
   },
   "outputs": [
    {
     "name": "stdout",
     "output_type": "stream",
     "text": [
      "Odchylenie standardowe RMSE: 2989.76\n",
      "Średnia RMSE: 64019.68\n"
     ]
    }
   ],
   "source": [
    "mlp = pickle.load(open(\"mlp.pickle\", 'rb'))\n",
    "\n",
    "rmse = (abs(cross_val_score(mlp, X, y, scoring='neg_root_mean_squared_error')))\n",
    "print(\"Odchylenie standardowe RMSE: \" + str(round(np.std(rmse), 2)))\n",
    "print(\"Średnia RMSE: \" + str(round(np.mean(rmse), 2)))"
   ]
  },
  {
   "cell_type": "markdown",
   "id": "periodic-silicon",
   "metadata": {},
   "source": [
    "## XGBoost"
   ]
  },
  {
   "cell_type": "code",
   "execution_count": 10,
   "id": "wrong-immunology",
   "metadata": {
    "scrolled": true
   },
   "outputs": [
    {
     "name": "stdout",
     "output_type": "stream",
     "text": [
      "Odchylenie standardowe RMSE: 2608.4\n",
      "Średnia RMSE: 59325.71\n"
     ]
    }
   ],
   "source": [
    "xgb = pickle.load(open(\"xgb.pickle\", 'rb'))\n",
    "\n",
    "rmse = (abs(cross_val_score(xgb, X, y, scoring='neg_root_mean_squared_error')))\n",
    "print(\"Odchylenie standardowe RMSE: \" + str(round(np.std(rmse), 2)))\n",
    "print(\"Średnia RMSE: \" + str(round(np.mean(rmse), 2)))"
   ]
  }
 ],
 "metadata": {
  "kernelspec": {
   "display_name": "Python 3",
   "language": "python",
   "name": "python3"
  },
  "language_info": {
   "codemirror_mode": {
    "name": "ipython",
    "version": 3
   },
   "file_extension": ".py",
   "mimetype": "text/x-python",
   "name": "python",
   "nbconvert_exporter": "python",
   "pygments_lexer": "ipython3",
   "version": "3.8.5"
  }
 },
 "nbformat": 4,
 "nbformat_minor": 5
}
