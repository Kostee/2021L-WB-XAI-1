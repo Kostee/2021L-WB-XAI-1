{
 "cells": [
  {
   "cell_type": "code",
   "execution_count": 3,
   "metadata": {},
   "outputs": [],
   "source": [
    "import pandas as pd\n",
    "import numpy as np\n",
    "from sklearn.model_selection import train_test_split, KFold, cross_validate, cross_val_score, cross_val_predict\n",
    "from sklearn.metrics import confusion_matrix, plot_confusion_matrix\n",
    "from sklearn.pipeline import Pipeline\n",
    "from sklearn.compose import ColumnTransformer\n",
    "from sklearn.preprocessing import LabelEncoder, OneHotEncoder\n",
    "from sklearn.impute import SimpleImputer\n",
    "from sklearn.ensemble import RandomForestClassifier\n",
    "from xgboost import XGBClassifier\n",
    "from sklearn.linear_model import LogisticRegression\n",
    "from sklearn.tree import DecisionTreeClassifier"
   ]
  },
  {
   "cell_type": "code",
   "execution_count": 4,
   "metadata": {},
   "outputs": [],
   "source": [
    "full_data = pd.read_csv(\"data/hotel_bookings.csv\")"
   ]
  },
  {
   "cell_type": "code",
   "execution_count": 5,
   "metadata": {},
   "outputs": [],
   "source": [
    "num_features = [\"lead_time\",\"arrival_date_week_number\",\"arrival_date_day_of_month\",\n",
    "                \"stays_in_weekend_nights\",\"stays_in_week_nights\",\"adults\",\"children\",\n",
    "                \"babies\",\"is_repeated_guest\", \"previous_cancellations\",\n",
    "                \"previous_bookings_not_canceled\",\"agent\",\"company\",\n",
    "                \"required_car_parking_spaces\", \"total_of_special_requests\", \"adr\"]\n",
    "\n",
    "cat_features = [\"hotel\",\"arrival_date_month\",\"meal\",\"market_segment\",\n",
    "                \"distribution_channel\",\"reserved_room_type\",\"deposit_type\",\"customer_type\"]\n",
    "\n",
    "# Separate features and predicted value\n",
    "features = num_features + cat_features\n",
    "X = full_data.drop([\"is_canceled\"], axis=1)[features]\n",
    "y = full_data[\"is_canceled\"]"
   ]
  },
  {
   "cell_type": "code",
   "execution_count": 10,
   "metadata": {},
   "outputs": [
    {
     "name": "stderr",
     "output_type": "stream",
     "text": [
      "/home/anna/.local/lib/python3.6/site-packages/sklearn/utils/validation.py:63: DataConversionWarning: A column-vector y was passed when a 1d array was expected. Please change the shape of y to (n_samples, ), for example using ravel().\n",
      "  return f(*args, **kwargs)\n",
      "/home/anna/.local/lib/python3.6/site-packages/sklearn/utils/validation.py:63: DataConversionWarning: A column-vector y was passed when a 1d array was expected. Please change the shape of y to (n_samples, ), for example using ravel().\n",
      "  return f(*args, **kwargs)\n",
      "/home/anna/.local/lib/python3.6/site-packages/sklearn/utils/validation.py:63: DataConversionWarning: A column-vector y was passed when a 1d array was expected. Please change the shape of y to (n_samples, ), for example using ravel().\n",
      "  return f(*args, **kwargs)\n",
      "/home/anna/.local/lib/python3.6/site-packages/sklearn/utils/validation.py:63: DataConversionWarning: A column-vector y was passed when a 1d array was expected. Please change the shape of y to (n_samples, ), for example using ravel().\n",
      "  return f(*args, **kwargs)\n",
      "/home/anna/.local/lib/python3.6/site-packages/sklearn/utils/validation.py:63: DataConversionWarning: A column-vector y was passed when a 1d array was expected. Please change the shape of y to (n_samples, ), for example using ravel().\n",
      "  return f(*args, **kwargs)\n",
      "/home/anna/.local/lib/python3.6/site-packages/sklearn/utils/validation.py:63: DataConversionWarning: A column-vector y was passed when a 1d array was expected. Please change the shape of y to (n_samples, ), for example using ravel().\n",
      "  return f(*args, **kwargs)\n",
      "/home/anna/.local/lib/python3.6/site-packages/sklearn/utils/validation.py:63: DataConversionWarning: A column-vector y was passed when a 1d array was expected. Please change the shape of y to (n_samples, ), for example using ravel().\n",
      "  return f(*args, **kwargs)\n",
      "/home/anna/.local/lib/python3.6/site-packages/sklearn/utils/validation.py:63: DataConversionWarning: A column-vector y was passed when a 1d array was expected. Please change the shape of y to (n_samples, ), for example using ravel().\n",
      "  return f(*args, **kwargs)\n"
     ]
    }
   ],
   "source": [
    "# preprocess numerical feats:\n",
    "# for most num cols, except the dates, 0 is the most logical choice as fill value\n",
    "# and here no dates are missing.\n",
    "categorical_names = {}\n",
    "for feature in cat_features:\n",
    "    col = X[[feature]]\n",
    "    cat_transformer = SimpleImputer(strategy=\"constant\", fill_value=\"Unknown\")\n",
    "    col = cat_transformer.fit_transform(col)\n",
    "    X[feature] = col\n",
    "    le = LabelEncoder()\n",
    "    le.fit(X[[feature]])\n",
    "    X[[feature]] = le.transform(X[[feature]])\n",
    "    categorical_names[feature] = le.classes_\n",
    "\n",
    "# Preprocessing\n",
    "num_transformer = SimpleImputer(strategy=\"constant\")\n",
    "\n",
    "preprocessor = ColumnTransformer(transformers=[(\"num\", num_transformer, num_features)],\n",
    "                                remainder = 'passthrough')"
   ]
  },
  {
   "cell_type": "code",
   "execution_count": 11,
   "metadata": {},
   "outputs": [],
   "source": [
    "# define models to test:\n",
    "base_models = [(\"DT_model\", DecisionTreeClassifier(random_state=42)),\n",
    "               (\"RF_model\", RandomForestClassifier(random_state=42,n_jobs=-1)),\n",
    "               (\"LR_model\", LogisticRegression(random_state=42,n_jobs=-1)),\n",
    "               (\"XGB_model\", XGBClassifier(random_state=42, n_jobs=-1))]\n",
    "\n",
    "# split data into 'kfolds' parts for cross validation,\n",
    "# use shuffle to ensure random distribution of data:\n",
    "kfolds = 4 # 4 = 75% train, 25% validation\n",
    "split = KFold(n_splits=kfolds, shuffle=True, random_state=42)\n",
    "indicators = [\"recall\", \"accuracy\", \"roc auc\", \"f1\"]\n",
    "models_summary = pd.DataFrame(columns = indicators) \n",
    "# Preprocessing, fitting, making predictions and scoring for every model:\n",
    "for name, model in base_models:\n",
    "    # pack preprocessing of data and the model in a pipeline:\n",
    "    model_steps = Pipeline(steps=[('preprocessor', preprocessor),\n",
    "                              ('model', model)])\n",
    "    \n",
    "    # get cross validation score for each model:\n",
    "    cv_results = cross_validate(model_steps, \n",
    "                                 X, y, \n",
    "                                 cv=split,\n",
    "                                 scoring=['recall', 'accuracy', 'roc_auc', 'f1'],\n",
    "                                 n_jobs=-1)\n",
    "    models_summary.loc[name]=[np.mean(cv_results[\"test_recall\"]), np.mean(cv_results[\"test_accuracy\"]), \n",
    "                          np.mean(cv_results[\"test_roc_auc\"]), np.mean(cv_results[\"test_f1\"])]\n",
    "    "
   ]
  },
  {
   "cell_type": "code",
   "execution_count": 12,
   "metadata": {},
   "outputs": [
    {
     "data": {
      "text/html": [
       "<div>\n",
       "<style scoped>\n",
       "    .dataframe tbody tr th:only-of-type {\n",
       "        vertical-align: middle;\n",
       "    }\n",
       "\n",
       "    .dataframe tbody tr th {\n",
       "        vertical-align: top;\n",
       "    }\n",
       "\n",
       "    .dataframe thead th {\n",
       "        text-align: right;\n",
       "    }\n",
       "</style>\n",
       "<table border=\"1\" class=\"dataframe\">\n",
       "  <thead>\n",
       "    <tr style=\"text-align: right;\">\n",
       "      <th></th>\n",
       "      <th>recall</th>\n",
       "      <th>accuracy</th>\n",
       "      <th>roc auc</th>\n",
       "      <th>f1</th>\n",
       "    </tr>\n",
       "  </thead>\n",
       "  <tbody>\n",
       "    <tr>\n",
       "      <th>DT_model</th>\n",
       "      <td>0.768597</td>\n",
       "      <td>0.824449</td>\n",
       "      <td>0.816120</td>\n",
       "      <td>0.764305</td>\n",
       "    </tr>\n",
       "    <tr>\n",
       "      <th>RF_model</th>\n",
       "      <td>0.761633</td>\n",
       "      <td>0.867769</td>\n",
       "      <td>0.932350</td>\n",
       "      <td>0.810125</td>\n",
       "    </tr>\n",
       "    <tr>\n",
       "      <th>LR_model</th>\n",
       "      <td>0.537982</td>\n",
       "      <td>0.752651</td>\n",
       "      <td>0.780773</td>\n",
       "      <td>0.617023</td>\n",
       "    </tr>\n",
       "    <tr>\n",
       "      <th>XGB_model</th>\n",
       "      <td>0.706440</td>\n",
       "      <td>0.845330</td>\n",
       "      <td>0.912489</td>\n",
       "      <td>0.771857</td>\n",
       "    </tr>\n",
       "  </tbody>\n",
       "</table>\n",
       "</div>"
      ],
      "text/plain": [
       "             recall  accuracy   roc auc        f1\n",
       "DT_model   0.768597  0.824449  0.816120  0.764305\n",
       "RF_model   0.761633  0.867769  0.932350  0.810125\n",
       "LR_model   0.537982  0.752651  0.780773  0.617023\n",
       "XGB_model  0.706440  0.845330  0.912489  0.771857"
      ]
     },
     "execution_count": 12,
     "metadata": {},
     "output_type": "execute_result"
    }
   ],
   "source": [
    "models_summary"
   ]
  },
  {
   "cell_type": "code",
   "execution_count": 13,
   "metadata": {},
   "outputs": [
    {
     "name": "stderr",
     "output_type": "stream",
     "text": [
      "/home/anna/.local/lib/python3.6/site-packages/sklearn/utils/validation.py:63: DataConversionWarning: A column-vector y was passed when a 1d array was expected. Please change the shape of y to (n_samples, ), for example using ravel().\n",
      "  return f(*args, **kwargs)\n",
      "/home/anna/.local/lib/python3.6/site-packages/sklearn/utils/validation.py:63: DataConversionWarning: A column-vector y was passed when a 1d array was expected. Please change the shape of y to (n_samples, ), for example using ravel().\n",
      "  return f(*args, **kwargs)\n",
      "/home/anna/.local/lib/python3.6/site-packages/sklearn/utils/validation.py:63: DataConversionWarning: A column-vector y was passed when a 1d array was expected. Please change the shape of y to (n_samples, ), for example using ravel().\n",
      "  return f(*args, **kwargs)\n",
      "/home/anna/.local/lib/python3.6/site-packages/sklearn/utils/validation.py:63: DataConversionWarning: A column-vector y was passed when a 1d array was expected. Please change the shape of y to (n_samples, ), for example using ravel().\n",
      "  return f(*args, **kwargs)\n",
      "/home/anna/.local/lib/python3.6/site-packages/sklearn/utils/validation.py:63: DataConversionWarning: A column-vector y was passed when a 1d array was expected. Please change the shape of y to (n_samples, ), for example using ravel().\n",
      "  return f(*args, **kwargs)\n",
      "/home/anna/.local/lib/python3.6/site-packages/sklearn/utils/validation.py:63: DataConversionWarning: A column-vector y was passed when a 1d array was expected. Please change the shape of y to (n_samples, ), for example using ravel().\n",
      "  return f(*args, **kwargs)\n"
     ]
    }
   ],
   "source": [
    "# Wczytanie i przygotowanie danych \n",
    "full_data = pd.read_csv(\"data/hotel_bookings.csv\")\n",
    "full_data[\"agent\"] = full_data[\"agent\"].astype(str)\n",
    "treshold = 0.005 * len(full_data)\n",
    "agents_to_change = full_data['agent'].value_counts()[full_data['agent'].value_counts() < treshold].index\n",
    "full_data.loc[full_data[\"agent\"].isin(agents_to_change), \"agent\"] = \"other\"\n",
    "\n",
    "countries_to_change = full_data['country'].value_counts()[full_data['country'].value_counts() < treshold].index\n",
    "full_data.loc[full_data[\"country\"].isin(countries_to_change), \"country\"] = \"other\"\n",
    "\n",
    "\n",
    "# Określenie cech uwzględnionych w modelu\n",
    "num_features = [\"lead_time\", \"arrival_date_week_number\",\n",
    "                \"stays_in_weekend_nights\", \"stays_in_week_nights\", \n",
    "                \"adults\", \"previous_cancellations\",\n",
    "                \"previous_bookings_not_canceled\",\n",
    "                \"required_car_parking_spaces\", \"total_of_special_requests\", \n",
    "                \"adr\", \"booking_changes\"]\n",
    "\n",
    "cat_features = [\"hotel\", \"market_segment\", \"country\", \n",
    "                \"reserved_room_type\",\n",
    "                \"customer_type\", \"agent\"]\n",
    "\n",
    "features = num_features + cat_features\n",
    "\n",
    "# Podział na zmienne wyjaśniające i target\n",
    "X = full_data.drop([\"is_canceled\"], axis=1)[features]\n",
    "y = full_data[\"is_canceled\"]\n",
    "\n",
    "categorical_names = {}\n",
    "for feature in cat_features:\n",
    "    col = X[[feature]]\n",
    "    cat_transformer = SimpleImputer(strategy=\"constant\", fill_value=\"Unknown\")\n",
    "    col = cat_transformer.fit_transform(col)\n",
    "    X[feature] = col\n",
    "    le = LabelEncoder()\n",
    "    le.fit(X[[feature]])\n",
    "    X[[feature]] = le.transform(X[[feature]])\n",
    "    categorical_names[feature] = le.classes_\n",
    "\n",
    "# Preprocessing\n",
    "num_transformer = SimpleImputer(strategy=\"constant\")\n",
    "\n",
    "preprocessor = ColumnTransformer(transformers=[(\"num\", num_transformer, num_features)],\n",
    "                                remainder = 'passthrough')"
   ]
  },
  {
   "cell_type": "code",
   "execution_count": 14,
   "metadata": {},
   "outputs": [
    {
     "data": {
      "text/plain": [
       "Pipeline(steps=[('preprocessor',\n",
       "                 ColumnTransformer(remainder='passthrough',\n",
       "                                   transformers=[('num',\n",
       "                                                  SimpleImputer(strategy='constant'),\n",
       "                                                  ['lead_time',\n",
       "                                                   'arrival_date_week_number',\n",
       "                                                   'stays_in_weekend_nights',\n",
       "                                                   'stays_in_week_nights',\n",
       "                                                   'adults',\n",
       "                                                   'previous_cancellations',\n",
       "                                                   'previous_bookings_not_canceled',\n",
       "                                                   'required_car_parking_spaces',\n",
       "                                                   'total_of_special_requests',\n",
       "                                                   'adr',\n",
       "                                                   'booking_changes'])])),\n",
       "                ('model',\n",
       "                 RandomForestClassifier(max_features=0.4, n_estimators=160,\n",
       "                                        n_jobs=-1, random_state=42))])"
      ]
     },
     "execution_count": 14,
     "metadata": {},
     "output_type": "execute_result"
    }
   ],
   "source": [
    "# Stworzenie modelu\n",
    "rf_model_enh = RandomForestClassifier(n_estimators=160,\n",
    "                               max_features=0.4,\n",
    "                               min_samples_split=2,\n",
    "                               n_jobs=-1,\n",
    "                               random_state=42)\n",
    "\n",
    "model_pipe = Pipeline(steps=[('preprocessor', preprocessor),\n",
    "                              ('model', rf_model_enh)])\n",
    "\n",
    "X_train, X_test, y_train, y_test = train_test_split(\n",
    "    X, y,\n",
    "    test_size=0.2, random_state=42)\n",
    "\n",
    "model_pipe.fit(X_train, y_train)"
   ]
  },
  {
   "cell_type": "code",
   "execution_count": 15,
   "metadata": {},
   "outputs": [],
   "source": [
    "# get cross validation score for eenh model\n",
    "cv_results = cross_validate(model_pipe,\n",
    "                            X, y, \n",
    "                            cv=split,\n",
    "                            scoring=['recall', 'accuracy', 'roc_auc', 'f1'],\n",
    "                            n_jobs=-1)\n",
    "models_summary.loc[\"RF_model_enh\"]=[np.mean(cv_results[\"test_recall\"]), np.mean(cv_results[\"test_accuracy\"]), \n",
    "                                    np.mean(cv_results[\"test_roc_auc\"]), np.mean(cv_results[\"test_f1\"])]"
   ]
  },
  {
   "cell_type": "code",
   "execution_count": 16,
   "metadata": {},
   "outputs": [
    {
     "data": {
      "text/html": [
       "<style  type=\"text/css\" >\n",
       "#T_1fb1cec6_9300_11eb_bdf8_e86a64cf2f71row0_col0,#T_1fb1cec6_9300_11eb_bdf8_e86a64cf2f71row0_col1,#T_1fb1cec6_9300_11eb_bdf8_e86a64cf2f71row0_col2,#T_1fb1cec6_9300_11eb_bdf8_e86a64cf2f71row0_col3,#T_1fb1cec6_9300_11eb_bdf8_e86a64cf2f71row0_col4,#T_1fb1cec6_9300_11eb_bdf8_e86a64cf2f71row1_col0,#T_1fb1cec6_9300_11eb_bdf8_e86a64cf2f71row1_col1,#T_1fb1cec6_9300_11eb_bdf8_e86a64cf2f71row1_col2,#T_1fb1cec6_9300_11eb_bdf8_e86a64cf2f71row1_col3,#T_1fb1cec6_9300_11eb_bdf8_e86a64cf2f71row1_col4,#T_1fb1cec6_9300_11eb_bdf8_e86a64cf2f71row2_col0,#T_1fb1cec6_9300_11eb_bdf8_e86a64cf2f71row2_col1,#T_1fb1cec6_9300_11eb_bdf8_e86a64cf2f71row2_col2,#T_1fb1cec6_9300_11eb_bdf8_e86a64cf2f71row2_col3,#T_1fb1cec6_9300_11eb_bdf8_e86a64cf2f71row2_col4,#T_1fb1cec6_9300_11eb_bdf8_e86a64cf2f71row3_col0,#T_1fb1cec6_9300_11eb_bdf8_e86a64cf2f71row3_col1,#T_1fb1cec6_9300_11eb_bdf8_e86a64cf2f71row3_col2,#T_1fb1cec6_9300_11eb_bdf8_e86a64cf2f71row3_col3,#T_1fb1cec6_9300_11eb_bdf8_e86a64cf2f71row3_col4{\n",
       "            background-color:  white;\n",
       "        }#T_1fb1cec6_9300_11eb_bdf8_e86a64cf2f71row4_col0,#T_1fb1cec6_9300_11eb_bdf8_e86a64cf2f71row4_col1,#T_1fb1cec6_9300_11eb_bdf8_e86a64cf2f71row4_col2,#T_1fb1cec6_9300_11eb_bdf8_e86a64cf2f71row4_col3,#T_1fb1cec6_9300_11eb_bdf8_e86a64cf2f71row4_col4{\n",
       "            background-color:  yellow;\n",
       "        }</style><table id=\"T_1fb1cec6_9300_11eb_bdf8_e86a64cf2f71\" ><thead>    <tr>        <th class=\"blank level0\" ></th>        <th class=\"col_heading level0 col0\" >model</th>        <th class=\"col_heading level0 col1\" >recall</th>        <th class=\"col_heading level0 col2\" >accuracy</th>        <th class=\"col_heading level0 col3\" >roc auc</th>        <th class=\"col_heading level0 col4\" >f1</th>    </tr></thead><tbody>\n",
       "                <tr>\n",
       "                        <th id=\"T_1fb1cec6_9300_11eb_bdf8_e86a64cf2f71level0_row0\" class=\"row_heading level0 row0\" >0</th>\n",
       "                        <td id=\"T_1fb1cec6_9300_11eb_bdf8_e86a64cf2f71row0_col0\" class=\"data row0 col0\" >DT_model</td>\n",
       "                        <td id=\"T_1fb1cec6_9300_11eb_bdf8_e86a64cf2f71row0_col1\" class=\"data row0 col1\" >0.768597</td>\n",
       "                        <td id=\"T_1fb1cec6_9300_11eb_bdf8_e86a64cf2f71row0_col2\" class=\"data row0 col2\" >0.824449</td>\n",
       "                        <td id=\"T_1fb1cec6_9300_11eb_bdf8_e86a64cf2f71row0_col3\" class=\"data row0 col3\" >0.816120</td>\n",
       "                        <td id=\"T_1fb1cec6_9300_11eb_bdf8_e86a64cf2f71row0_col4\" class=\"data row0 col4\" >0.764305</td>\n",
       "            </tr>\n",
       "            <tr>\n",
       "                        <th id=\"T_1fb1cec6_9300_11eb_bdf8_e86a64cf2f71level0_row1\" class=\"row_heading level0 row1\" >1</th>\n",
       "                        <td id=\"T_1fb1cec6_9300_11eb_bdf8_e86a64cf2f71row1_col0\" class=\"data row1 col0\" >RF_model</td>\n",
       "                        <td id=\"T_1fb1cec6_9300_11eb_bdf8_e86a64cf2f71row1_col1\" class=\"data row1 col1\" >0.761633</td>\n",
       "                        <td id=\"T_1fb1cec6_9300_11eb_bdf8_e86a64cf2f71row1_col2\" class=\"data row1 col2\" >0.867769</td>\n",
       "                        <td id=\"T_1fb1cec6_9300_11eb_bdf8_e86a64cf2f71row1_col3\" class=\"data row1 col3\" >0.932350</td>\n",
       "                        <td id=\"T_1fb1cec6_9300_11eb_bdf8_e86a64cf2f71row1_col4\" class=\"data row1 col4\" >0.810125</td>\n",
       "            </tr>\n",
       "            <tr>\n",
       "                        <th id=\"T_1fb1cec6_9300_11eb_bdf8_e86a64cf2f71level0_row2\" class=\"row_heading level0 row2\" >2</th>\n",
       "                        <td id=\"T_1fb1cec6_9300_11eb_bdf8_e86a64cf2f71row2_col0\" class=\"data row2 col0\" >LR_model</td>\n",
       "                        <td id=\"T_1fb1cec6_9300_11eb_bdf8_e86a64cf2f71row2_col1\" class=\"data row2 col1\" >0.537982</td>\n",
       "                        <td id=\"T_1fb1cec6_9300_11eb_bdf8_e86a64cf2f71row2_col2\" class=\"data row2 col2\" >0.752651</td>\n",
       "                        <td id=\"T_1fb1cec6_9300_11eb_bdf8_e86a64cf2f71row2_col3\" class=\"data row2 col3\" >0.780773</td>\n",
       "                        <td id=\"T_1fb1cec6_9300_11eb_bdf8_e86a64cf2f71row2_col4\" class=\"data row2 col4\" >0.617023</td>\n",
       "            </tr>\n",
       "            <tr>\n",
       "                        <th id=\"T_1fb1cec6_9300_11eb_bdf8_e86a64cf2f71level0_row3\" class=\"row_heading level0 row3\" >3</th>\n",
       "                        <td id=\"T_1fb1cec6_9300_11eb_bdf8_e86a64cf2f71row3_col0\" class=\"data row3 col0\" >XGB_model</td>\n",
       "                        <td id=\"T_1fb1cec6_9300_11eb_bdf8_e86a64cf2f71row3_col1\" class=\"data row3 col1\" >0.706440</td>\n",
       "                        <td id=\"T_1fb1cec6_9300_11eb_bdf8_e86a64cf2f71row3_col2\" class=\"data row3 col2\" >0.845330</td>\n",
       "                        <td id=\"T_1fb1cec6_9300_11eb_bdf8_e86a64cf2f71row3_col3\" class=\"data row3 col3\" >0.912489</td>\n",
       "                        <td id=\"T_1fb1cec6_9300_11eb_bdf8_e86a64cf2f71row3_col4\" class=\"data row3 col4\" >0.771857</td>\n",
       "            </tr>\n",
       "            <tr>\n",
       "                        <th id=\"T_1fb1cec6_9300_11eb_bdf8_e86a64cf2f71level0_row4\" class=\"row_heading level0 row4\" >4</th>\n",
       "                        <td id=\"T_1fb1cec6_9300_11eb_bdf8_e86a64cf2f71row4_col0\" class=\"data row4 col0\" >RF_model_enh</td>\n",
       "                        <td id=\"T_1fb1cec6_9300_11eb_bdf8_e86a64cf2f71row4_col1\" class=\"data row4 col1\" >0.819549</td>\n",
       "                        <td id=\"T_1fb1cec6_9300_11eb_bdf8_e86a64cf2f71row4_col2\" class=\"data row4 col2\" >0.887721</td>\n",
       "                        <td id=\"T_1fb1cec6_9300_11eb_bdf8_e86a64cf2f71row4_col3\" class=\"data row4 col3\" >0.955218</td>\n",
       "                        <td id=\"T_1fb1cec6_9300_11eb_bdf8_e86a64cf2f71row4_col4\" class=\"data row4 col4\" >0.843928</td>\n",
       "            </tr>\n",
       "    </tbody></table>"
      ],
      "text/plain": [
       "<pandas.io.formats.style.Styler at 0x7f73f955f240>"
      ]
     },
     "execution_count": 16,
     "metadata": {},
     "output_type": "execute_result"
    }
   ],
   "source": [
    "models_summary=models_summary.reset_index()\n",
    "models_summary.rename(columns={\"index\":\"model\"}, inplace=True)\n",
    "models_summary.style.apply(lambda x: [\"background-color: yellow\"]*5 if (\"RF_model_enh\"== x[\"model\"]) else [\"background-color: white\"]*5, 'columns')\n"
   ]
  },
  {
   "cell_type": "code",
   "execution_count": 17,
   "metadata": {},
   "outputs": [
    {
     "data": {
      "text/plain": [
       "<sklearn.metrics._plot.confusion_matrix.ConfusionMatrixDisplay at 0x7f7419aa51d0>"
      ]
     },
     "execution_count": 17,
     "metadata": {},
     "output_type": "execute_result"
    },
    {
     "data": {
      "image/png": "[encoded data removed]",
      "text/plain": [
       "<Figure size 432x288 with 2 Axes>"
      ]
     },
     "metadata": {
      "needs_background": "light"
     },
     "output_type": "display_data"
    }
   ],
   "source": [
    "plot_confusion_matrix(model_pipe, X_test, y_test)  "
   ]
  },
  {
   "cell_type": "code",
   "execution_count": null,
   "metadata": {},
   "outputs": [],
   "source": []
  }
 ],
 "metadata": {
  "kernelspec": {
   "display_name": "Python 3",
   "language": "python",
   "name": "python3"
  },
  "language_info": {
   "codemirror_mode": {
    "name": "ipython",
    "version": 3
   },
   "file_extension": ".py",
   "mimetype": "text/x-python",
   "name": "python",
   "nbconvert_exporter": "python",
   "pygments_lexer": "ipython3",
   "version": "3.6.9"
  }
 },
 "nbformat": 4,
 "nbformat_minor": 4
}
