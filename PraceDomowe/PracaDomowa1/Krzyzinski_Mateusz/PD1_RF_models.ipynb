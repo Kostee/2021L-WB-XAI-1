{
 "cells": [
  {
   "cell_type": "code",
   "execution_count": null,
   "metadata": {
    "id": "3cfl_HcVXUOo"
   },
   "outputs": [],
   "source": [
    "import pandas as pd\n",
    "import numpy as np\n",
    "from sklearn.model_selection import train_test_split\n",
    "from sklearn.pipeline import Pipeline\n",
    "from sklearn.compose import ColumnTransformer\n",
    "from sklearn.preprocessing import LabelEncoder, OneHotEncoder\n",
    "from sklearn.impute import SimpleImputer\n",
    "from sklearn.ensemble import RandomForestClassifier\n",
    "from sklearn.preprocessing import FunctionTransformer\n",
    "from sklearn.metrics import accuracy_score\n",
    "\n",
    "import pickle"
   ]
  },
  {
   "cell_type": "code",
   "execution_count": null,
   "metadata": {},
   "outputs": [],
   "source": [
    "# Wczytanie i przygotowanie danych \n",
    "full_data = pd.read_csv(\"data/hotel_bookings.csv\")\n",
    "full_data[\"agent\"] = full_data[\"agent\"].astype(str)\n",
    "treshold = 0.005 * len(full_data)\n",
    "agents_to_change = full_data['agent'].value_counts()[full_data['agent'].value_counts() < treshold].index\n",
    "full_data.loc[full_data[\"agent\"].isin(agents_to_change), \"agent\"] = \"other\"\n",
    "\n",
    "countries_to_change = full_data['country'].value_counts()[full_data['country'].value_counts() < treshold].index\n",
    "full_data.loc[full_data[\"country\"].isin(countries_to_change), \"country\"] = \"other\"\n",
    "\n",
    "\n",
    "# Określenie cech uwzględnionych w modelu\n",
    "num_features = [\"lead_time\", \"arrival_date_week_number\",\n",
    "                \"stays_in_weekend_nights\", \"stays_in_week_nights\", \n",
    "                \"adults\", \"previous_cancellations\",\n",
    "                \"previous_bookings_not_canceled\",\n",
    "                \"required_car_parking_spaces\", \"total_of_special_requests\", \n",
    "                \"adr\", \"booking_changes\"]\n",
    "\n",
    "cat_features = [\"hotel\", \"market_segment\", \"country\", \n",
    "                \"reserved_room_type\",\n",
    "                \"customer_type\", \"agent\"]\n",
    "\n",
    "features = num_features + cat_features\n",
    "\n",
    "# Podział na zmienne wyjaśniające i target\n",
    "X = full_data.drop([\"is_canceled\"], axis=1)[features]\n",
    "y = full_data[\"is_canceled\"]\n",
    "\n",
    "# Preprocessing\n",
    "num_transformer = SimpleImputer(strategy=\"constant\")\n",
    "\n",
    "cat_transformer = Pipeline(steps=[\n",
    "    (\"imputer\", SimpleImputer(strategy=\"constant\", fill_value=\"Unknown\")),\n",
    "    (\"onehot\", OneHotEncoder(handle_unknown='ignore'))])\n",
    "\n",
    "preprocessor = ColumnTransformer(transformers=[(\"num\", num_transformer, num_features),\n",
    "                                               (\"cat\", cat_transformer, cat_features)],\n",
    "                                remainder = 'passthrough')"
   ]
  },
  {
   "cell_type": "code",
   "execution_count": null,
   "metadata": {
    "colab": {
     "base_uri": "https://localhost:8080/"
    },
    "id": "gX1NSJdcXlpt",
    "outputId": "c36943f8-fb0d-4976-b9ad-1cfa5e9e38b6"
   },
   "outputs": [],
   "source": [
    "# Stworzenie modelu\n",
    "rf_model_enh = RandomForestClassifier(n_estimators=160,\n",
    "                               max_features=0.4,\n",
    "                               min_samples_split=2,\n",
    "                               n_jobs=-1,\n",
    "                               random_state=42)\n",
    "\n",
    "model_pipe = Pipeline(steps=[('preprocessor', preprocessor),\n",
    "                              ('model', rf_model_enh)])\n",
    "\n",
    "X_train, X_test, y_train, y_test = train_test_split(\n",
    "    X, y,\n",
    "    test_size=0.2, random_state=42)\n",
    "\n",
    "model_pipe.fit(X_train, y_train)"
   ]
  },
  {
   "cell_type": "code",
   "execution_count": null,
   "metadata": {
    "colab": {
     "base_uri": "https://localhost:8080/"
    },
    "id": "Bp-RXPH5XqQO",
    "outputId": "d08e8c7e-5f07-4d26-d334-33c7f93408b8"
   },
   "outputs": [],
   "source": [
    "y_predict = model_pipe.predict(X_test)\n",
    "accuracy_score(y_test, y_predict)"
   ]
  },
  {
   "cell_type": "code",
   "execution_count": null,
   "metadata": {
    "id": "lEqoEgonaJ6y"
   },
   "outputs": [],
   "source": [
    "# Zapisanie modelu\n",
    "pickle.dump(model_pipe, open(\"RF_model\", 'wb'))"
   ]
  },
  {
   "cell_type": "markdown",
   "metadata": {},
   "source": [
    "### Model bez uwzględnienia krajów"
   ]
  },
  {
   "cell_type": "code",
   "execution_count": null,
   "metadata": {},
   "outputs": [],
   "source": [
    "# Określenie cech uwzględnionych w modelu\n",
    "cat_features = [\"hotel\", \"market_segment\",\n",
    "                \"reserved_room_type\",\n",
    "                \"customer_type\", \"agent\"]\n",
    "\n",
    "features = num_features + cat_features\n",
    "\n",
    "# Podział na zmienne wyjaśniające i target\n",
    "X = full_data.drop([\"is_canceled\"], axis=1)[features]\n",
    "y = full_data[\"is_canceled\"]\n",
    "\n",
    "# Preprocessing\n",
    "num_transformer = SimpleImputer(strategy=\"constant\")\n",
    "\n",
    "cat_transformer = Pipeline(steps=[\n",
    "    (\"imputer\", SimpleImputer(strategy=\"constant\", fill_value=\"Unknown\")),\n",
    "    (\"onehot\", OneHotEncoder(handle_unknown='ignore'))])\n",
    "\n",
    "preprocessor = ColumnTransformer(transformers=[(\"num\", num_transformer, num_features),\n",
    "                                               (\"cat\", cat_transformer, cat_features)],\n",
    "                                remainder = 'passthrough')\n",
    "\n",
    "# Stworzenie modelu\n",
    "rf_model_enh_v2 = RandomForestClassifier(n_estimators=160,\n",
    "                               max_features=0.4,\n",
    "                               min_samples_split=2,\n",
    "                               n_jobs=-1,\n",
    "                               random_state=42)\n",
    "\n",
    "model_pipe_v2 = Pipeline(steps=[('preprocessor', preprocessor),\n",
    "                              ('model', rf_model_enh_v2)])\n",
    "\n",
    "X_train, X_test, y_train, y_test = train_test_split(\n",
    "    X, y,\n",
    "    test_size=0.2, random_state=42)\n",
    "\n",
    "model_pipe_v2.fit(X_train, y_train)"
   ]
  },
  {
   "cell_type": "code",
   "execution_count": null,
   "metadata": {},
   "outputs": [],
   "source": [
    "# Zapisanie modelu\n",
    "pickle.dump(model_pipe_v2, open(\"RF_model_without_countries\", 'wb'))"
   ]
  }
 ],
 "metadata": {
  "colab": {
   "name": "enh_model.ipynb",
   "provenance": []
  },
  "kernelspec": {
   "display_name": "Python 3",
   "language": "python",
   "name": "python3"
  },
  "language_info": {
   "codemirror_mode": {
    "name": "ipython",
    "version": 3
   },
   "file_extension": ".py",
   "mimetype": "text/x-python",
   "name": "python",
   "nbconvert_exporter": "python",
   "pygments_lexer": "ipython3",
   "version": "3.7.3"
  }
 },
 "nbformat": 4,
 "nbformat_minor": 1
}
