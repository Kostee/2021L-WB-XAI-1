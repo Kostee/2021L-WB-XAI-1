{
 "cells": [
  {
   "cell_type": "markdown",
   "metadata": {},
   "source": [
    "# Praca domowa 1\n"
   ]
  },
  {
   "cell_type": "markdown",
   "metadata": {},
   "source": [
    "## Stworzenie modelu"
   ]
  },
  {
   "cell_type": "code",
   "execution_count": 1,
   "metadata": {},
   "outputs": [],
   "source": [
    "import pandas as pd\n",
    "import numpy as np\n",
    "from sklearn.model_selection import train_test_split\n",
    "from sklearn.pipeline import Pipeline\n",
    "from sklearn.compose import ColumnTransformer\n",
    "from sklearn.preprocessing import LabelEncoder, OneHotEncoder\n",
    "from sklearn.impute import SimpleImputer\n",
    "from sklearn.ensemble import RandomForestClassifier\n",
    "from sklearn.preprocessing import FunctionTransformer\n",
    "from sklearn.metrics import accuracy_score\n",
    "\n",
    "import pickle\n",
    "import dalex as dx"
   ]
  },
  {
   "cell_type": "code",
   "execution_count": 2,
   "metadata": {},
   "outputs": [],
   "source": [
    "# Wczytanie i przygotowanie danych \n",
    "full_data = pd.read_csv(\"data/hotel_bookings.csv\")\n",
    "full_data[\"agent\"] = full_data[\"agent\"].astype(str)\n",
    "treshold = 0.005 * len(full_data)\n",
    "agents_to_change = full_data['agent'].value_counts()[full_data['agent'].value_counts() < treshold].index\n",
    "full_data.loc[full_data[\"agent\"].isin(agents_to_change), \"agent\"] = \"other\"\n",
    "\n",
    "countries_to_change = full_data['country'].value_counts()[full_data['country'].value_counts() < treshold].index\n",
    "full_data.loc[full_data[\"country\"].isin(countries_to_change), \"country\"] = \"other\"\n",
    "\n",
    "\n",
    "# Określenie cech uwzględnionych w modelu\n",
    "num_features = [\"lead_time\", \"arrival_date_week_number\",\n",
    "                \"stays_in_weekend_nights\", \"stays_in_week_nights\", \n",
    "                \"adults\", \"previous_cancellations\",\n",
    "                \"previous_bookings_not_canceled\",\n",
    "                \"required_car_parking_spaces\", \"total_of_special_requests\", \n",
    "                \"adr\", \"booking_changes\"]\n",
    "\n",
    "cat_features = [\"hotel\", \"market_segment\", \"country\", \n",
    "                \"reserved_room_type\",\n",
    "                \"customer_type\", \"agent\"]\n",
    "\n",
    "features = num_features + cat_features\n",
    "\n",
    "# Podział na zmienne wyjaśniające i target\n",
    "X = full_data.drop([\"is_canceled\"], axis=1)[features]\n",
    "y = full_data[\"is_canceled\"]\n",
    "\n",
    "# Preprocessing\n",
    "num_transformer = SimpleImputer(strategy=\"constant\")\n",
    "\n",
    "cat_transformer = Pipeline(steps=[\n",
    "    (\"imputer\", SimpleImputer(strategy=\"constant\", fill_value=\"Unknown\")),\n",
    "    (\"onehot\", OneHotEncoder(handle_unknown='ignore'))])\n",
    "\n",
    "preprocessor = ColumnTransformer(transformers=[(\"num\", num_transformer, num_features),\n",
    "                                               (\"cat\", cat_transformer, cat_features)],\n",
    "                                remainder = 'passthrough')"
   ]
  },
  {
   "cell_type": "code",
   "execution_count": 3,
   "metadata": {},
   "outputs": [
    {
     "data": {
      "text/plain": [
       "Pipeline(steps=[('preprocessor',\n",
       "                 ColumnTransformer(remainder='passthrough',\n",
       "                                   transformers=[('num',\n",
       "                                                  SimpleImputer(strategy='constant'),\n",
       "                                                  ['lead_time',\n",
       "                                                   'arrival_date_week_number',\n",
       "                                                   'stays_in_weekend_nights',\n",
       "                                                   'stays_in_week_nights',\n",
       "                                                   'adults',\n",
       "                                                   'previous_cancellations',\n",
       "                                                   'previous_bookings_not_canceled',\n",
       "                                                   'required_car_parking_spaces',\n",
       "                                                   'total_of_special_requests',\n",
       "                                                   'adr', 'booking_changes']),\n",
       "                                                 ('cat',\n",
       "                                                  Pipeline(steps=[('imputer',\n",
       "                                                                   SimpleImputer(fill_value='Unknown',\n",
       "                                                                                 strategy='constant')),\n",
       "                                                                  ('onehot',\n",
       "                                                                   OneHotEncoder(handle_unknown='ignore'))]),\n",
       "                                                  ['hotel', 'market_segment',\n",
       "                                                   'country',\n",
       "                                                   'reserved_room_type',\n",
       "                                                   'customer_type',\n",
       "                                                   'agent'])])),\n",
       "                ('model',\n",
       "                 RandomForestClassifier(max_features=0.4, n_estimators=160,\n",
       "                                        n_jobs=-1, random_state=42))])"
      ]
     },
     "execution_count": 3,
     "metadata": {},
     "output_type": "execute_result"
    }
   ],
   "source": [
    "# Stworzenie modelu\n",
    "rf_model_enh = RandomForestClassifier(n_estimators=160,\n",
    "                               max_features=0.4,\n",
    "                               min_samples_split=2,\n",
    "                               n_jobs=-1,\n",
    "                               random_state=42)\n",
    "\n",
    "model_pipe = Pipeline(steps=[('preprocessor', preprocessor),\n",
    "                              ('model', rf_model_enh)])\n",
    "\n",
    "X_train, X_test, y_train, y_test = train_test_split(\n",
    "    X, y,\n",
    "    test_size=0.2, random_state=42)\n",
    "\n",
    "model_pipe.fit(X_train, y_train)"
   ]
  },
  {
   "cell_type": "markdown",
   "metadata": {},
   "source": [
    "## Wyjaśnianie"
   ]
  },
  {
   "cell_type": "code",
   "execution_count": 4,
   "metadata": {},
   "outputs": [
    {
     "name": "stdout",
     "output_type": "stream",
     "text": [
      "Preparation of a new explainer is initiated\n",
      "\n",
      "  -> data              : 95512 rows 17 cols\n",
      "  -> target variable   : Parameter 'y' was a pandas.Series. Converted to a numpy.ndarray.\n",
      "  -> target variable   : 95512 values\n",
      "  -> model_class       : sklearn.ensemble._forest.RandomForestClassifier (default)\n",
      "  -> label             : Not specified, model's class short name will be used. (default)\n",
      "  -> predict function  : <function yhat_proba_default at 0x00000252D7A555E0> will be used (default)\n",
      "  -> predict function  : Accepts only pandas.DataFrame, numpy.ndarray causes problems.\n",
      "  -> predicted values  : min = 0.0, mean = 0.371, max = 1.0\n",
      "  -> model type        : classification will be used (default)\n",
      "  -> residual function : difference between y and yhat (default)\n",
      "  -> residuals         : min = -0.943, mean = -0.00182, max = 0.957\n",
      "  -> model_info        : package sklearn\n",
      "\n",
      "A new explainer has been created!\n"
     ]
    }
   ],
   "source": [
    "explainer = dx.Explainer(model_pipe, X_train, y_train)"
   ]
  },
  {
   "cell_type": "code",
   "execution_count": 5,
   "metadata": {},
   "outputs": [],
   "source": [
    "predicts = explainer.predict(X_train)"
   ]
  },
  {
   "cell_type": "markdown",
   "metadata": {},
   "source": [
    "### 1. Predykcja dla obserwacji nr 1777"
   ]
  },
  {
   "cell_type": "code",
   "execution_count": 21,
   "metadata": {},
   "outputs": [
    {
     "data": {
      "text/plain": [
       "0.9625"
      ]
     },
     "execution_count": 21,
     "metadata": {},
     "output_type": "execute_result"
    }
   ],
   "source": [
    "predicts[1777]"
   ]
  },
  {
   "cell_type": "markdown",
   "metadata": {},
   "source": [
    "Model przewiduje anulację rezerwacji dla rekordu 1777"
   ]
  },
  {
   "cell_type": "markdown",
   "metadata": {},
   "source": [
    "### 2. Dekompozycja predykcji modelu dla wybranych 6 obserwacji, w tym obserwacji 1777 (3 pierwsze z realną wartością 0, kolejne 3 z wartością 1)"
   ]
  },
  {
   "cell_type": "code",
   "execution_count": 9,
   "metadata": {},
   "outputs": [],
   "source": [
    "pps_list = []\n",
    "ids = [289, 999, 1836, 1248, 1777, 2626]\n",
    "for id in ids:\n",
    "    pps_list.append(explainer.predict_parts(X_train.iloc[id,:]))"
   ]
  },
  {
   "cell_type": "code",
   "execution_count": 13,
   "metadata": {},
   "outputs": [
    {
     "data": {
      "text/html": [
       "<div>\n",
       "<style scoped>\n",
       "    .dataframe tbody tr th:only-of-type {\n",
       "        vertical-align: middle;\n",
       "    }\n",
       "\n",
       "    .dataframe tbody tr th {\n",
       "        vertical-align: top;\n",
       "    }\n",
       "\n",
       "    .dataframe thead th {\n",
       "        text-align: right;\n",
       "    }\n",
       "</style>\n",
       "<table border=\"1\" class=\"dataframe\">\n",
       "  <thead>\n",
       "    <tr style=\"text-align: right;\">\n",
       "      <th></th>\n",
       "      <th>variable_name</th>\n",
       "      <th>variable_value</th>\n",
       "      <th>variable</th>\n",
       "      <th>cumulative</th>\n",
       "      <th>contribution</th>\n",
       "      <th>sign</th>\n",
       "      <th>position</th>\n",
       "      <th>label</th>\n",
       "    </tr>\n",
       "  </thead>\n",
       "  <tbody>\n",
       "    <tr>\n",
       "      <th>0</th>\n",
       "      <td>intercept</td>\n",
       "      <td>1</td>\n",
       "      <td>intercept</td>\n",
       "      <td>0.370915</td>\n",
       "      <td>0.370915</td>\n",
       "      <td>1.0</td>\n",
       "      <td>17</td>\n",
       "      <td>RandomForestClassifier</td>\n",
       "    </tr>\n",
       "    <tr>\n",
       "      <th>1</th>\n",
       "      <td>total_of_special_requests</td>\n",
       "      <td>2.0</td>\n",
       "      <td>total_of_special_requests = 2.0</td>\n",
       "      <td>0.225115</td>\n",
       "      <td>-0.145800</td>\n",
       "      <td>-1.0</td>\n",
       "      <td>16</td>\n",
       "      <td>RandomForestClassifier</td>\n",
       "    </tr>\n",
       "    <tr>\n",
       "      <th>2</th>\n",
       "      <td>country</td>\n",
       "      <td>PRT</td>\n",
       "      <td>country = PRT</td>\n",
       "      <td>0.312910</td>\n",
       "      <td>0.087795</td>\n",
       "      <td>1.0</td>\n",
       "      <td>15</td>\n",
       "      <td>RandomForestClassifier</td>\n",
       "    </tr>\n",
       "    <tr>\n",
       "      <th>3</th>\n",
       "      <td>agent:hotel</td>\n",
       "      <td>240.0:Resort Hotel</td>\n",
       "      <td>agent:hotel = 240.0:Resort Hotel</td>\n",
       "      <td>0.420854</td>\n",
       "      <td>0.107944</td>\n",
       "      <td>1.0</td>\n",
       "      <td>14</td>\n",
       "      <td>RandomForestClassifier</td>\n",
       "    </tr>\n",
       "    <tr>\n",
       "      <th>4</th>\n",
       "      <td>customer_type</td>\n",
       "      <td>Transient</td>\n",
       "      <td>customer_type = Transient</td>\n",
       "      <td>0.461545</td>\n",
       "      <td>0.040691</td>\n",
       "      <td>1.0</td>\n",
       "      <td>13</td>\n",
       "      <td>RandomForestClassifier</td>\n",
       "    </tr>\n",
       "    <tr>\n",
       "      <th>5</th>\n",
       "      <td>adr</td>\n",
       "      <td>48.0</td>\n",
       "      <td>adr = 48.0</td>\n",
       "      <td>0.484718</td>\n",
       "      <td>0.023173</td>\n",
       "      <td>1.0</td>\n",
       "      <td>12</td>\n",
       "      <td>RandomForestClassifier</td>\n",
       "    </tr>\n",
       "    <tr>\n",
       "      <th>6</th>\n",
       "      <td>stays_in_week_nights</td>\n",
       "      <td>5.0</td>\n",
       "      <td>stays_in_week_nights = 5.0</td>\n",
       "      <td>0.553154</td>\n",
       "      <td>0.068436</td>\n",
       "      <td>1.0</td>\n",
       "      <td>11</td>\n",
       "      <td>RandomForestClassifier</td>\n",
       "    </tr>\n",
       "    <tr>\n",
       "      <th>7</th>\n",
       "      <td>market_segment</td>\n",
       "      <td>Online TA</td>\n",
       "      <td>market_segment = Online TA</td>\n",
       "      <td>0.648691</td>\n",
       "      <td>0.095537</td>\n",
       "      <td>1.0</td>\n",
       "      <td>10</td>\n",
       "      <td>RandomForestClassifier</td>\n",
       "    </tr>\n",
       "    <tr>\n",
       "      <th>8</th>\n",
       "      <td>previous_cancellations</td>\n",
       "      <td>0.0</td>\n",
       "      <td>previous_cancellations = 0.0</td>\n",
       "      <td>0.642768</td>\n",
       "      <td>-0.005923</td>\n",
       "      <td>-1.0</td>\n",
       "      <td>9</td>\n",
       "      <td>RandomForestClassifier</td>\n",
       "    </tr>\n",
       "    <tr>\n",
       "      <th>9</th>\n",
       "      <td>required_car_parking_spaces</td>\n",
       "      <td>0.0</td>\n",
       "      <td>required_car_parking_spaces = 0.0</td>\n",
       "      <td>0.672644</td>\n",
       "      <td>0.029877</td>\n",
       "      <td>1.0</td>\n",
       "      <td>8</td>\n",
       "      <td>RandomForestClassifier</td>\n",
       "    </tr>\n",
       "    <tr>\n",
       "      <th>10</th>\n",
       "      <td>booking_changes</td>\n",
       "      <td>0.0</td>\n",
       "      <td>booking_changes = 0.0</td>\n",
       "      <td>0.693967</td>\n",
       "      <td>0.021323</td>\n",
       "      <td>1.0</td>\n",
       "      <td>7</td>\n",
       "      <td>RandomForestClassifier</td>\n",
       "    </tr>\n",
       "    <tr>\n",
       "      <th>11</th>\n",
       "      <td>lead_time</td>\n",
       "      <td>36.0</td>\n",
       "      <td>lead_time = 36.0</td>\n",
       "      <td>0.844829</td>\n",
       "      <td>0.150862</td>\n",
       "      <td>1.0</td>\n",
       "      <td>6</td>\n",
       "      <td>RandomForestClassifier</td>\n",
       "    </tr>\n",
       "    <tr>\n",
       "      <th>12</th>\n",
       "      <td>stays_in_weekend_nights</td>\n",
       "      <td>2.0</td>\n",
       "      <td>stays_in_weekend_nights = 2.0</td>\n",
       "      <td>0.893387</td>\n",
       "      <td>0.048558</td>\n",
       "      <td>1.0</td>\n",
       "      <td>5</td>\n",
       "      <td>RandomForestClassifier</td>\n",
       "    </tr>\n",
       "    <tr>\n",
       "      <th>13</th>\n",
       "      <td>previous_bookings_not_canceled</td>\n",
       "      <td>0.0</td>\n",
       "      <td>previous_bookings_not_canceled = 0.0</td>\n",
       "      <td>0.908281</td>\n",
       "      <td>0.014894</td>\n",
       "      <td>1.0</td>\n",
       "      <td>4</td>\n",
       "      <td>RandomForestClassifier</td>\n",
       "    </tr>\n",
       "    <tr>\n",
       "      <th>14</th>\n",
       "      <td>arrival_date_week_number</td>\n",
       "      <td>11.0</td>\n",
       "      <td>arrival_date_week_number = 11.0</td>\n",
       "      <td>0.951365</td>\n",
       "      <td>0.043084</td>\n",
       "      <td>1.0</td>\n",
       "      <td>3</td>\n",
       "      <td>RandomForestClassifier</td>\n",
       "    </tr>\n",
       "    <tr>\n",
       "      <th>15</th>\n",
       "      <td>reserved_room_type</td>\n",
       "      <td>A</td>\n",
       "      <td>reserved_room_type = A</td>\n",
       "      <td>0.960847</td>\n",
       "      <td>0.009482</td>\n",
       "      <td>1.0</td>\n",
       "      <td>2</td>\n",
       "      <td>RandomForestClassifier</td>\n",
       "    </tr>\n",
       "    <tr>\n",
       "      <th>16</th>\n",
       "      <td>adults</td>\n",
       "      <td>2.0</td>\n",
       "      <td>adults = 2.0</td>\n",
       "      <td>0.962500</td>\n",
       "      <td>0.001653</td>\n",
       "      <td>1.0</td>\n",
       "      <td>1</td>\n",
       "      <td>RandomForestClassifier</td>\n",
       "    </tr>\n",
       "    <tr>\n",
       "      <th>17</th>\n",
       "      <td></td>\n",
       "      <td></td>\n",
       "      <td>prediction</td>\n",
       "      <td>0.962500</td>\n",
       "      <td>0.962500</td>\n",
       "      <td>1.0</td>\n",
       "      <td>0</td>\n",
       "      <td>RandomForestClassifier</td>\n",
       "    </tr>\n",
       "  </tbody>\n",
       "</table>\n",
       "</div>"
      ],
      "text/plain": [
       "<dalex.predict_explanations._break_down.object.BreakDown at 0x252d82daa90>"
      ]
     },
     "execution_count": 13,
     "metadata": {},
     "output_type": "execute_result"
    }
   ],
   "source": [
    "pps_list[4] ## 1777"
   ]
  },
  {
   "cell_type": "code",
   "execution_count": 14,
   "metadata": {},
   "outputs": [
    {
     "data": {
      "application/vnd.plotly.v1+json": {
       "config": {
        "displaylogo": false,
        "modeBarButtonsToRemove": [
         "sendDataToCloud",
         "lasso2d",
         "autoScale2d",
         "select2d",
         "zoom2d",
         "pan2d",
         "zoomIn2d",
         "zoomOut2d",
         "resetScale2d",
         "toggleSpikelines",
         "hoverCompareCartesian",
         "hoverClosestCartesian"
        ],
        "plotlyServerURL": "https://plot.ly",
        "staticPlot": false,
        "toImageButtonOptions": {
         "height": null,
         "width": null
        }
       },
       "data": [
        {
         "base": 0.37091514626910294,
         "connector": {
          "line": {
           "color": "#371ea3",
           "dash": "solid",
           "width": 1
          },
          "mode": "spanning"
         },
         "decreasing": {
          "marker": {
           "color": "#f05a71"
          }
         },
         "hoverinfo": "text+delta",
         "hoverlabel": {
          "bgcolor": "rgba(0,0,0,0.8)"
         },
         "hovertext": [
          "Average response: 0.371<br>Prediction: 0.962",
          "total_of_special_requests = 2.0<br>decreases average response by",
          "country = PRT<br>increases average response by",
          "agent:hotel = 240.0:Resort Hotel<br>increases average response by",
          "customer_type = Transient<br>increases average response by",
          "adr = 48.0<br>increases average response by",
          "stays_in_week_nights = 5.0<br>increases average response by",
          "market_segment = Online TA<br>increases average response by",
          "previous_cancellations = 0.0<br>decreases average response by",
          "required_car_parking_spaces = 0.0<br>increases average response by",
          "booking_changes = 0.0<br>increases average response by",
          "+ all other factors<br>increases average response by",
          "Average response: 0.371<br>Prediction: 0.962"
         ],
         "increasing": {
          "marker": {
           "color": "#8bdcbe"
          }
         },
         "measure": [
          "relative",
          "relative",
          "relative",
          "relative",
          "relative",
          "relative",
          "relative",
          "relative",
          "relative",
          "relative",
          "relative",
          "relative",
          "total"
         ],
         "orientation": "h",
         "showlegend": false,
         "text": [
          "0.371",
          "-0.146",
          "+0.088",
          "+0.108",
          "+0.041",
          "+0.023",
          "+0.068",
          "+0.096",
          "-0.006",
          "+0.03",
          "+0.021",
          "+0.267",
          "0.962"
         ],
         "textposition": "outside",
         "totals": {
          "marker": {
           "color": "#371ea3"
          }
         },
         "type": "waterfall",
         "x": [
          0,
          -0.146,
          0.088,
          0.108,
          0.041,
          0.023,
          0.068,
          0.096,
          -0.006,
          0.03,
          0.021,
          0.267,
          0.592
         ],
         "xaxis": "x",
         "y": [
          "intercept",
          "total_of_special_requests = 2.0",
          "country = PRT",
          "agent:hotel = 240.0:Resort Hotel",
          "customer_type = Transient",
          "adr = 48.0",
          "stays_in_week_nights = 5.0",
          "market_segment = Online TA",
          "previous_cancellations = 0.0",
          "required_car_parking_spaces = 0.0",
          "booking_changes = 0.0",
          "+ all other factors",
          "prediction"
         ],
         "yaxis": "y"
        }
       ],
       "layout": {
        "annotations": [
         {
          "font": {
           "size": 16
          },
          "showarrow": false,
          "text": "RandomForestClassifier",
          "x": 0.5,
          "xanchor": "center",
          "xref": "paper",
          "y": 1,
          "yanchor": "bottom",
          "yref": "paper"
         },
         {
          "font": {
           "size": 16
          },
          "showarrow": false,
          "text": "contribution",
          "x": 0.5,
          "xanchor": "center",
          "xref": "paper",
          "y": 0,
          "yanchor": "top",
          "yref": "paper",
          "yshift": -30
         }
        ],
        "font": {
         "color": "#371ea3"
        },
        "height": 413,
        "margin": {
         "b": 71,
         "r": 30,
         "t": 78
        },
        "shapes": [
         {
          "line": {
           "color": "#371ea3",
           "dash": "dot",
           "width": 1.5
          },
          "type": "line",
          "x0": 0.37091514626910294,
          "x1": 0.37091514626910294,
          "xref": "x",
          "y0": -1,
          "y1": 13,
          "yref": "y"
         }
        ],
        "template": {
         "data": {
          "scatter": [
           {
            "type": "scatter"
           }
          ]
         }
        },
        "title": {
         "text": "Break Down",
         "x": 0.15
        },
        "xaxis": {
         "anchor": "y",
         "automargin": true,
         "domain": [
          0,
          1
         ],
         "fixedrange": true,
         "gridwidth": 2,
         "range": [
          0.11430000000000001,
          1.0736999999999999
         ],
         "tickcolor": "white",
         "ticklen": 3,
         "ticks": "outside",
         "type": "linear",
         "zeroline": false
        },
        "yaxis": {
         "anchor": "x",
         "automargin": true,
         "autorange": "reversed",
         "domain": [
          0,
          1
         ],
         "fixedrange": true,
         "gridwidth": 2,
         "tickcolor": "white",
         "ticklen": 10,
         "ticks": "outside",
         "type": "category"
        }
       }
      },
      "text/html": [
       "<div>                            <div id=\"8ba3f50b-1529-4717-a91d-aefcc27f7f32\" class=\"plotly-graph-div\" style=\"height:413.0px; width:100%;\"></div>            <script type=\"text/javascript\">                require([\"plotly\"], function(Plotly) {                    window.PLOTLYENV=window.PLOTLYENV || {};                                    if (document.getElementById(\"8ba3f50b-1529-4717-a91d-aefcc27f7f32\")) {                    Plotly.newPlot(                        \"8ba3f50b-1529-4717-a91d-aefcc27f7f32\",                        [{\"base\": 0.37091514626910294, \"connector\": {\"line\": {\"color\": \"#371ea3\", \"dash\": \"solid\", \"width\": 1}, \"mode\": \"spanning\"}, \"decreasing\": {\"marker\": {\"color\": \"#f05a71\"}}, \"hoverinfo\": \"text+delta\", \"hoverlabel\": {\"bgcolor\": \"rgba(0,0,0,0.8)\"}, \"hovertext\": [\"Average response: 0.371<br>Prediction: 0.962\", \"total_of_special_requests = 2.0<br>decreases average response by\", \"country = PRT<br>increases average response by\", \"agent:hotel = 240.0:Resort Hotel<br>increases average response by\", \"customer_type = Transient<br>increases average response by\", \"adr = 48.0<br>increases average response by\", \"stays_in_week_nights = 5.0<br>increases average response by\", \"market_segment = Online TA<br>increases average response by\", \"previous_cancellations = 0.0<br>decreases average response by\", \"required_car_parking_spaces = 0.0<br>increases average response by\", \"booking_changes = 0.0<br>increases average response by\", \"+ all other factors<br>increases average response by\", \"Average response: 0.371<br>Prediction: 0.962\"], \"increasing\": {\"marker\": {\"color\": \"#8bdcbe\"}}, \"measure\": [\"relative\", \"relative\", \"relative\", \"relative\", \"relative\", \"relative\", \"relative\", \"relative\", \"relative\", \"relative\", \"relative\", \"relative\", \"total\"], \"orientation\": \"h\", \"showlegend\": false, \"text\": [\"0.371\", \"-0.146\", \"+0.088\", \"+0.108\", \"+0.041\", \"+0.023\", \"+0.068\", \"+0.096\", \"-0.006\", \"+0.03\", \"+0.021\", \"+0.267\", \"0.962\"], \"textposition\": \"outside\", \"totals\": {\"marker\": {\"color\": \"#371ea3\"}}, \"type\": \"waterfall\", \"x\": [0.0, -0.146, 0.088, 0.108, 0.041, 0.023, 0.068, 0.096, -0.006, 0.03, 0.021, 0.267, 0.592], \"xaxis\": \"x\", \"y\": [\"intercept\", \"total_of_special_requests = 2.0\", \"country = PRT\", \"agent:hotel = 240.0:Resort Hotel\", \"customer_type = Transient\", \"adr = 48.0\", \"stays_in_week_nights = 5.0\", \"market_segment = Online TA\", \"previous_cancellations = 0.0\", \"required_car_parking_spaces = 0.0\", \"booking_changes = 0.0\", \"+ all other factors\", \"prediction\"], \"yaxis\": \"y\"}],                        {\"annotations\": [{\"font\": {\"size\": 16}, \"showarrow\": false, \"text\": \"RandomForestClassifier\", \"x\": 0.5, \"xanchor\": \"center\", \"xref\": \"paper\", \"y\": 1.0, \"yanchor\": \"bottom\", \"yref\": \"paper\"}, {\"font\": {\"size\": 16}, \"showarrow\": false, \"text\": \"contribution\", \"x\": 0.5, \"xanchor\": \"center\", \"xref\": \"paper\", \"y\": 0, \"yanchor\": \"top\", \"yref\": \"paper\", \"yshift\": -30}], \"font\": {\"color\": \"#371ea3\"}, \"height\": 413.0, \"margin\": {\"b\": 71, \"r\": 30, \"t\": 78}, \"shapes\": [{\"line\": {\"color\": \"#371ea3\", \"dash\": \"dot\", \"width\": 1.5}, \"type\": \"line\", \"x0\": 0.37091514626910294, \"x1\": 0.37091514626910294, \"xref\": \"x\", \"y0\": -1, \"y1\": 13, \"yref\": \"y\"}], \"template\": {\"data\": {\"scatter\": [{\"type\": \"scatter\"}]}}, \"title\": {\"text\": \"Break Down\", \"x\": 0.15}, \"xaxis\": {\"anchor\": \"y\", \"automargin\": true, \"domain\": [0.0, 1.0], \"fixedrange\": true, \"gridwidth\": 2, \"range\": [0.11430000000000001, 1.0736999999999999], \"tickcolor\": \"white\", \"ticklen\": 3, \"ticks\": \"outside\", \"type\": \"linear\", \"zeroline\": false}, \"yaxis\": {\"anchor\": \"x\", \"automargin\": true, \"autorange\": \"reversed\", \"domain\": [0.0, 1.0], \"fixedrange\": true, \"gridwidth\": 2, \"tickcolor\": \"white\", \"ticklen\": 10, \"ticks\": \"outside\", \"type\": \"category\"}},                        {\"displaylogo\": false, \"staticPlot\": false, \"toImageButtonOptions\": {\"height\": null, \"width\": null}, \"modeBarButtonsToRemove\": [\"sendDataToCloud\", \"lasso2d\", \"autoScale2d\", \"select2d\", \"zoom2d\", \"pan2d\", \"zoomIn2d\", \"zoomOut2d\", \"resetScale2d\", \"toggleSpikelines\", \"hoverCompareCartesian\", \"hoverClosestCartesian\"], \"responsive\": true}                    ).then(function(){\n",
       "                            \n",
       "var gd = document.getElementById('8ba3f50b-1529-4717-a91d-aefcc27f7f32');\n",
       "var x = new MutationObserver(function (mutations, observer) {{\n",
       "        var display = window.getComputedStyle(gd).display;\n",
       "        if (!display || display === 'none') {{\n",
       "            console.log([gd, 'removed!']);\n",
       "            Plotly.purge(gd);\n",
       "            observer.disconnect();\n",
       "        }}\n",
       "}});\n",
       "\n",
       "// Listen for the removal of the full notebook cells\n",
       "var notebookContainer = gd.closest('#notebook-container');\n",
       "if (notebookContainer) {{\n",
       "    x.observe(notebookContainer, {childList: true});\n",
       "}}\n",
       "\n",
       "// Listen for the clearing of the current output cell\n",
       "var outputEl = gd.closest('.output');\n",
       "if (outputEl) {{\n",
       "    x.observe(outputEl, {childList: true});\n",
       "}}\n",
       "\n",
       "                        })                };                });            </script>        </div>"
      ]
     },
     "metadata": {},
     "output_type": "display_data"
    }
   ],
   "source": [
    "pps_list[4].plot()"
   ]
  },
  {
   "cell_type": "markdown",
   "metadata": {},
   "source": [
    "Jak widzimy na powyższym wykresie największy wpływ na wyliczoną predykcję miał:  kraj, z którego pochodził rezerwujący, agent w połączeniu z hotelem, a także sposób rezerwacji i liczba nocy, na którą rezerwację złożył gość. Z kolei zmienną, która sugerowała, że gość nie anuluje rezerwacji była liczba specjalnych próśb."
   ]
  },
  {
   "cell_type": "code",
   "execution_count": 15,
   "metadata": {},
   "outputs": [],
   "source": [
    "pp_shap = explainer.predict_parts(X_train.iloc[1777,:], type='shap')"
   ]
  },
  {
   "cell_type": "code",
   "execution_count": 17,
   "metadata": {},
   "outputs": [
    {
     "data": {
      "application/vnd.plotly.v1+json": {
       "config": {
        "displaylogo": false,
        "modeBarButtonsToRemove": [
         "sendDataToCloud",
         "lasso2d",
         "autoScale2d",
         "select2d",
         "zoom2d",
         "pan2d",
         "zoomIn2d",
         "zoomOut2d",
         "resetScale2d",
         "toggleSpikelines",
         "hoverCompareCartesian",
         "hoverClosestCartesian"
        ],
        "plotlyServerURL": "https://plot.ly",
        "staticPlot": false,
        "toImageButtonOptions": {
         "height": null,
         "width": null
        }
       },
       "data": [
        {
         "base": 0.37091514626910294,
         "hoverinfo": "text",
         "hoverlabel": {
          "bgcolor": "rgba(0,0,0,0.8)"
         },
         "hovertext": [
          "Average response: 0.371<br>Prediction: 0.962<br>country = PRT<br>increases average response <br>by 0.208",
          "Average response: 0.371<br>Prediction: 0.962<br>agent = 240.0<br>increases average response <br>by 0.105",
          "Average response: 0.371<br>Prediction: 0.962<br>market_segment = Online TA<br>increases average response <br>by 0.072",
          "Average response: 0.371<br>Prediction: 0.962<br>total_of_special_requests = 2.0<br>decreases average response <br>by 0.066",
          "Average response: 0.371<br>Prediction: 0.962<br>lead_time = 36.0<br>increases average response <br>by 0.065",
          "Average response: 0.371<br>Prediction: 0.962<br>stays_in_week_nights = 5.0<br>increases average response <br>by 0.041",
          "Average response: 0.371<br>Prediction: 0.962<br>customer_type = Transient<br>increases average response <br>by 0.04",
          "Average response: 0.371<br>Prediction: 0.962<br>hotel = Resort Hotel<br>increases average response <br>by 0.038",
          "Average response: 0.371<br>Prediction: 0.962<br>adr = 48.0<br>increases average response <br>by 0.034",
          "Average response: 0.371<br>Prediction: 0.962<br>+ all other factors<br>increases average response <br>by 0.055"
         ],
         "marker": {
          "color": [
           "#8bdcbe",
           "#8bdcbe",
           "#8bdcbe",
           "#f05a71",
           "#8bdcbe",
           "#8bdcbe",
           "#8bdcbe",
           "#8bdcbe",
           "#8bdcbe",
           "#8bdcbe"
          ]
         },
         "orientation": "h",
         "showlegend": false,
         "text": [
          "+0.208",
          "+0.105",
          "+0.072",
          "-0.066",
          "+0.065",
          "+0.041",
          "+0.04",
          "+0.038",
          "+0.034",
          "+0.055"
         ],
         "textposition": "outside",
         "type": "bar",
         "x": [
          0.208,
          0.105,
          0.072,
          -0.066,
          0.065,
          0.041,
          0.04,
          0.038,
          0.034,
          0.055
         ],
         "xaxis": "x",
         "y": [
          "country = PRT",
          "agent = 240.0",
          "market_segment = Online TA",
          "total_of_special_requests = 2.0",
          "lead_time = 36.0",
          "stays_in_week_nights = 5.0",
          "customer_type = Transient",
          "hotel = Resort Hotel",
          "adr = 48.0",
          "+ all other factors"
         ],
         "yaxis": "y"
        }
       ],
       "layout": {
        "annotations": [
         {
          "font": {
           "size": 16
          },
          "showarrow": false,
          "text": "RandomForestClassifier",
          "x": 0.5,
          "xanchor": "center",
          "xref": "paper",
          "y": 1,
          "yanchor": "bottom",
          "yref": "paper"
         },
         {
          "font": {
           "size": 16
          },
          "showarrow": false,
          "text": "contribution",
          "x": 0.5,
          "xanchor": "center",
          "xref": "paper",
          "y": 0,
          "yanchor": "top",
          "yref": "paper",
          "yshift": -30
         }
        ],
        "font": {
         "color": "#371ea3"
        },
        "height": 373,
        "margin": {
         "b": 71,
         "r": 30,
         "t": 78
        },
        "shapes": [
         {
          "line": {
           "color": "#371ea3",
           "dash": "dot",
           "width": 1.5
          },
          "type": "line",
          "x0": 0.37091514626910294,
          "x1": 0.37091514626910294,
          "xref": "x",
          "y0": -1,
          "y1": 11,
          "yref": "y"
         }
        ],
        "template": {
         "data": {
          "scatter": [
           {
            "type": "scatter"
           }
          ]
         }
        },
        "title": {
         "text": "Shapley Values",
         "x": 0.15
        },
        "xaxis": {
         "anchor": "y",
         "automargin": true,
         "domain": [
          0,
          1
         ],
         "fixedrange": true,
         "gridwidth": 2,
         "range": [
          0.26381514626910296,
          0.6200151462691029
         ],
         "tickcolor": "white",
         "ticklen": 3,
         "ticks": "outside",
         "type": "linear",
         "zeroline": false
        },
        "yaxis": {
         "anchor": "x",
         "automargin": true,
         "autorange": "reversed",
         "domain": [
          0,
          1
         ],
         "fixedrange": true,
         "gridwidth": 2,
         "tickcolor": "white",
         "ticklen": 10,
         "ticks": "outside",
         "type": "category"
        }
       }
      },
      "text/html": [
       "<div>                            <div id=\"67e89234-cd2b-4178-8720-8be492795e4b\" class=\"plotly-graph-div\" style=\"height:373.0px; width:100%;\"></div>            <script type=\"text/javascript\">                require([\"plotly\"], function(Plotly) {                    window.PLOTLYENV=window.PLOTLYENV || {};                                    if (document.getElementById(\"67e89234-cd2b-4178-8720-8be492795e4b\")) {                    Plotly.newPlot(                        \"67e89234-cd2b-4178-8720-8be492795e4b\",                        [{\"base\": 0.37091514626910294, \"hoverinfo\": \"text\", \"hoverlabel\": {\"bgcolor\": \"rgba(0,0,0,0.8)\"}, \"hovertext\": [\"Average response: 0.371<br>Prediction: 0.962<br>country = PRT<br>increases average response <br>by 0.208\", \"Average response: 0.371<br>Prediction: 0.962<br>agent = 240.0<br>increases average response <br>by 0.105\", \"Average response: 0.371<br>Prediction: 0.962<br>market_segment = Online TA<br>increases average response <br>by 0.072\", \"Average response: 0.371<br>Prediction: 0.962<br>total_of_special_requests = 2.0<br>decreases average response <br>by 0.066\", \"Average response: 0.371<br>Prediction: 0.962<br>lead_time = 36.0<br>increases average response <br>by 0.065\", \"Average response: 0.371<br>Prediction: 0.962<br>stays_in_week_nights = 5.0<br>increases average response <br>by 0.041\", \"Average response: 0.371<br>Prediction: 0.962<br>customer_type = Transient<br>increases average response <br>by 0.04\", \"Average response: 0.371<br>Prediction: 0.962<br>hotel = Resort Hotel<br>increases average response <br>by 0.038\", \"Average response: 0.371<br>Prediction: 0.962<br>adr = 48.0<br>increases average response <br>by 0.034\", \"Average response: 0.371<br>Prediction: 0.962<br>+ all other factors<br>increases average response <br>by 0.055\"], \"marker\": {\"color\": [\"#8bdcbe\", \"#8bdcbe\", \"#8bdcbe\", \"#f05a71\", \"#8bdcbe\", \"#8bdcbe\", \"#8bdcbe\", \"#8bdcbe\", \"#8bdcbe\", \"#8bdcbe\"]}, \"orientation\": \"h\", \"showlegend\": false, \"text\": [\"+0.208\", \"+0.105\", \"+0.072\", \"-0.066\", \"+0.065\", \"+0.041\", \"+0.04\", \"+0.038\", \"+0.034\", \"+0.055\"], \"textposition\": \"outside\", \"type\": \"bar\", \"x\": [0.208, 0.105, 0.072, -0.066, 0.065, 0.041, 0.04, 0.038, 0.034, 0.055], \"xaxis\": \"x\", \"y\": [\"country = PRT\", \"agent = 240.0\", \"market_segment = Online TA\", \"total_of_special_requests = 2.0\", \"lead_time = 36.0\", \"stays_in_week_nights = 5.0\", \"customer_type = Transient\", \"hotel = Resort Hotel\", \"adr = 48.0\", \"+ all other factors\"], \"yaxis\": \"y\"}],                        {\"annotations\": [{\"font\": {\"size\": 16}, \"showarrow\": false, \"text\": \"RandomForestClassifier\", \"x\": 0.5, \"xanchor\": \"center\", \"xref\": \"paper\", \"y\": 1.0, \"yanchor\": \"bottom\", \"yref\": \"paper\"}, {\"font\": {\"size\": 16}, \"showarrow\": false, \"text\": \"contribution\", \"x\": 0.5, \"xanchor\": \"center\", \"xref\": \"paper\", \"y\": 0, \"yanchor\": \"top\", \"yref\": \"paper\", \"yshift\": -30}], \"font\": {\"color\": \"#371ea3\"}, \"height\": 373.0, \"margin\": {\"b\": 71, \"r\": 30, \"t\": 78}, \"shapes\": [{\"line\": {\"color\": \"#371ea3\", \"dash\": \"dot\", \"width\": 1.5}, \"type\": \"line\", \"x0\": 0.37091514626910294, \"x1\": 0.37091514626910294, \"xref\": \"x\", \"y0\": -1, \"y1\": 11, \"yref\": \"y\"}], \"template\": {\"data\": {\"scatter\": [{\"type\": \"scatter\"}]}}, \"title\": {\"text\": \"Shapley Values\", \"x\": 0.15}, \"xaxis\": {\"anchor\": \"y\", \"automargin\": true, \"domain\": [0.0, 1.0], \"fixedrange\": true, \"gridwidth\": 2, \"range\": [0.26381514626910296, 0.6200151462691029], \"tickcolor\": \"white\", \"ticklen\": 3, \"ticks\": \"outside\", \"type\": \"linear\", \"zeroline\": false}, \"yaxis\": {\"anchor\": \"x\", \"automargin\": true, \"autorange\": \"reversed\", \"domain\": [0.0, 1.0], \"fixedrange\": true, \"gridwidth\": 2, \"tickcolor\": \"white\", \"ticklen\": 10, \"ticks\": \"outside\", \"type\": \"category\"}},                        {\"displaylogo\": false, \"staticPlot\": false, \"toImageButtonOptions\": {\"height\": null, \"width\": null}, \"modeBarButtonsToRemove\": [\"sendDataToCloud\", \"lasso2d\", \"autoScale2d\", \"select2d\", \"zoom2d\", \"pan2d\", \"zoomIn2d\", \"zoomOut2d\", \"resetScale2d\", \"toggleSpikelines\", \"hoverCompareCartesian\", \"hoverClosestCartesian\"], \"responsive\": true}                    ).then(function(){\n",
       "                            \n",
       "var gd = document.getElementById('67e89234-cd2b-4178-8720-8be492795e4b');\n",
       "var x = new MutationObserver(function (mutations, observer) {{\n",
       "        var display = window.getComputedStyle(gd).display;\n",
       "        if (!display || display === 'none') {{\n",
       "            console.log([gd, 'removed!']);\n",
       "            Plotly.purge(gd);\n",
       "            observer.disconnect();\n",
       "        }}\n",
       "}});\n",
       "\n",
       "// Listen for the removal of the full notebook cells\n",
       "var notebookContainer = gd.closest('#notebook-container');\n",
       "if (notebookContainer) {{\n",
       "    x.observe(notebookContainer, {childList: true});\n",
       "}}\n",
       "\n",
       "// Listen for the clearing of the current output cell\n",
       "var outputEl = gd.closest('.output');\n",
       "if (outputEl) {{\n",
       "    x.observe(outputEl, {childList: true});\n",
       "}}\n",
       "\n",
       "                        })                };                });            </script>        </div>"
      ]
     },
     "metadata": {},
     "output_type": "display_data"
    }
   ],
   "source": [
    "pp_shap.plot()"
   ]
  },
  {
   "cell_type": "markdown",
   "metadata": {},
   "source": [
    "Możemy zauważyć, że wpływ zmiennych jest inny dla innych rodzajów wykresów. Wynika to prawdopodobnie z tego, że w metodzie break down jest ściśle zdefiniowana kolejność zmiennych, które mogą na siebie oddziaływać. \n",
    "Metoda shap zauważalnie dłużej się liczy."
   ]
  },
  {
   "cell_type": "markdown",
   "metadata": {},
   "source": [
    "### 3. Wybór obserwacji z innymi najważniejszymi zmiennymi"
   ]
  },
  {
   "cell_type": "code",
   "execution_count": 31,
   "metadata": {},
   "outputs": [
    {
     "data": {
      "application/vnd.plotly.v1+json": {
       "config": {
        "displaylogo": false,
        "modeBarButtonsToRemove": [
         "sendDataToCloud",
         "lasso2d",
         "autoScale2d",
         "select2d",
         "zoom2d",
         "pan2d",
         "zoomIn2d",
         "zoomOut2d",
         "resetScale2d",
         "toggleSpikelines",
         "hoverCompareCartesian",
         "hoverClosestCartesian"
        ],
        "plotlyServerURL": "https://plot.ly",
        "staticPlot": false,
        "toImageButtonOptions": {
         "height": null,
         "width": null
        }
       },
       "data": [
        {
         "base": 0.37091514626910294,
         "connector": {
          "line": {
           "color": "#371ea3",
           "dash": "solid",
           "width": 1
          },
          "mode": "spanning"
         },
         "decreasing": {
          "marker": {
           "color": "#f05a71"
          }
         },
         "hoverinfo": "text+delta",
         "hoverlabel": {
          "bgcolor": "rgba(0,0,0,0.8)"
         },
         "hovertext": [
          "Average response: 0.371<br>Prediction: 0.019",
          "lead_time = 0.0<br>decreases average response by",
          "customer_type:country = Contract:PRT<br>increases average response by",
          "total_of_special_requests = 0.0<br>increases average response by",
          "agent = 9.0<br>decreases average response by",
          "arrival_date_week_number = 35.0<br>increases average response by",
          "market_segment = Online TA<br>decreases average response by",
          "previous_cancellations = 0.0<br>decreases average response by",
          "required_car_parking_spaces = 0.0<br>increases average response by",
          "booking_changes = 0.0<br>increases average response by",
          "stays_in_week_nights = 1.0<br>decreases average response by",
          "+ all other factors<br>decreases average response by",
          "Average response: 0.371<br>Prediction: 0.019"
         ],
         "increasing": {
          "marker": {
           "color": "#8bdcbe"
          }
         },
         "measure": [
          "relative",
          "relative",
          "relative",
          "relative",
          "relative",
          "relative",
          "relative",
          "relative",
          "relative",
          "relative",
          "relative",
          "relative",
          "total"
         ],
         "orientation": "h",
         "showlegend": false,
         "text": [
          "0.371",
          "-0.231",
          "+0.086",
          "+0.021",
          "-0.014",
          "+0.002",
          "-0.028",
          "-0.025",
          "+0.008",
          "+0.016",
          "-0.091",
          "-0.094",
          "0.019"
         ],
         "textposition": "outside",
         "totals": {
          "marker": {
           "color": "#371ea3"
          }
         },
         "type": "waterfall",
         "x": [
          0,
          -0.231,
          0.086,
          0.021,
          -0.014,
          0.002,
          -0.028,
          -0.025,
          0.008,
          0.016,
          -0.091,
          -0.094,
          -0.352
         ],
         "xaxis": "x",
         "y": [
          "intercept",
          "lead_time = 0.0",
          "customer_type:country = Contract:PRT",
          "total_of_special_requests = 0.0",
          "agent = 9.0",
          "arrival_date_week_number = 35.0",
          "market_segment = Online TA",
          "previous_cancellations = 0.0",
          "required_car_parking_spaces = 0.0",
          "booking_changes = 0.0",
          "stays_in_week_nights = 1.0",
          "+ all other factors",
          "prediction"
         ],
         "yaxis": "y"
        }
       ],
       "layout": {
        "annotations": [
         {
          "font": {
           "size": 16
          },
          "showarrow": false,
          "text": "RandomForestClassifier",
          "x": 0.5,
          "xanchor": "center",
          "xref": "paper",
          "y": 1,
          "yanchor": "bottom",
          "yref": "paper"
         },
         {
          "font": {
           "size": 16
          },
          "showarrow": false,
          "text": "contribution",
          "x": 0.5,
          "xanchor": "center",
          "xref": "paper",
          "y": 0,
          "yanchor": "top",
          "yref": "paper",
          "yshift": -30
         }
        ],
        "font": {
         "color": "#371ea3"
        },
        "height": 413,
        "margin": {
         "b": 71,
         "r": 30,
         "t": 78
        },
        "shapes": [
         {
          "line": {
           "color": "#371ea3",
           "dash": "dot",
           "width": 1.5
          },
          "type": "line",
          "x0": 0.37091514626910294,
          "x1": 0.37091514626910294,
          "xref": "x",
          "y0": -1,
          "y1": 13,
          "yref": "y"
         }
        ],
        "template": {
         "data": {
          "scatter": [
           {
            "type": "scatter"
           }
          ]
         }
        },
        "title": {
         "text": "Break Down",
         "x": 0.15
        },
        "xaxis": {
         "anchor": "y",
         "automargin": true,
         "domain": [
          0,
          1
         ],
         "fixedrange": true,
         "gridwidth": 2,
         "range": [
          -0.0338,
          0.4238
         ],
         "tickcolor": "white",
         "ticklen": 3,
         "ticks": "outside",
         "type": "linear",
         "zeroline": false
        },
        "yaxis": {
         "anchor": "x",
         "automargin": true,
         "autorange": "reversed",
         "domain": [
          0,
          1
         ],
         "fixedrange": true,
         "gridwidth": 2,
         "tickcolor": "white",
         "ticklen": 10,
         "ticks": "outside",
         "type": "category"
        }
       }
      },
      "text/html": [
       "<div>                            <div id=\"2f61e1fc-e45b-4636-8bbf-73be3f3dd3e2\" class=\"plotly-graph-div\" style=\"height:413.0px; width:100%;\"></div>            <script type=\"text/javascript\">                require([\"plotly\"], function(Plotly) {                    window.PLOTLYENV=window.PLOTLYENV || {};                                    if (document.getElementById(\"2f61e1fc-e45b-4636-8bbf-73be3f3dd3e2\")) {                    Plotly.newPlot(                        \"2f61e1fc-e45b-4636-8bbf-73be3f3dd3e2\",                        [{\"base\": 0.37091514626910294, \"connector\": {\"line\": {\"color\": \"#371ea3\", \"dash\": \"solid\", \"width\": 1}, \"mode\": \"spanning\"}, \"decreasing\": {\"marker\": {\"color\": \"#f05a71\"}}, \"hoverinfo\": \"text+delta\", \"hoverlabel\": {\"bgcolor\": \"rgba(0,0,0,0.8)\"}, \"hovertext\": [\"Average response: 0.371<br>Prediction: 0.019\", \"lead_time = 0.0<br>decreases average response by\", \"customer_type:country = Contract:PRT<br>increases average response by\", \"total_of_special_requests = 0.0<br>increases average response by\", \"agent = 9.0<br>decreases average response by\", \"arrival_date_week_number = 35.0<br>increases average response by\", \"market_segment = Online TA<br>decreases average response by\", \"previous_cancellations = 0.0<br>decreases average response by\", \"required_car_parking_spaces = 0.0<br>increases average response by\", \"booking_changes = 0.0<br>increases average response by\", \"stays_in_week_nights = 1.0<br>decreases average response by\", \"+ all other factors<br>decreases average response by\", \"Average response: 0.371<br>Prediction: 0.019\"], \"increasing\": {\"marker\": {\"color\": \"#8bdcbe\"}}, \"measure\": [\"relative\", \"relative\", \"relative\", \"relative\", \"relative\", \"relative\", \"relative\", \"relative\", \"relative\", \"relative\", \"relative\", \"relative\", \"total\"], \"orientation\": \"h\", \"showlegend\": false, \"text\": [\"0.371\", \"-0.231\", \"+0.086\", \"+0.021\", \"-0.014\", \"+0.002\", \"-0.028\", \"-0.025\", \"+0.008\", \"+0.016\", \"-0.091\", \"-0.094\", \"0.019\"], \"textposition\": \"outside\", \"totals\": {\"marker\": {\"color\": \"#371ea3\"}}, \"type\": \"waterfall\", \"x\": [0.0, -0.231, 0.086, 0.021, -0.014, 0.002, -0.028, -0.025, 0.008, 0.016, -0.091, -0.094, -0.352], \"xaxis\": \"x\", \"y\": [\"intercept\", \"lead_time = 0.0\", \"customer_type:country = Contract:PRT\", \"total_of_special_requests = 0.0\", \"agent = 9.0\", \"arrival_date_week_number = 35.0\", \"market_segment = Online TA\", \"previous_cancellations = 0.0\", \"required_car_parking_spaces = 0.0\", \"booking_changes = 0.0\", \"stays_in_week_nights = 1.0\", \"+ all other factors\", \"prediction\"], \"yaxis\": \"y\"}],                        {\"annotations\": [{\"font\": {\"size\": 16}, \"showarrow\": false, \"text\": \"RandomForestClassifier\", \"x\": 0.5, \"xanchor\": \"center\", \"xref\": \"paper\", \"y\": 1.0, \"yanchor\": \"bottom\", \"yref\": \"paper\"}, {\"font\": {\"size\": 16}, \"showarrow\": false, \"text\": \"contribution\", \"x\": 0.5, \"xanchor\": \"center\", \"xref\": \"paper\", \"y\": 0, \"yanchor\": \"top\", \"yref\": \"paper\", \"yshift\": -30}], \"font\": {\"color\": \"#371ea3\"}, \"height\": 413.0, \"margin\": {\"b\": 71, \"r\": 30, \"t\": 78}, \"shapes\": [{\"line\": {\"color\": \"#371ea3\", \"dash\": \"dot\", \"width\": 1.5}, \"type\": \"line\", \"x0\": 0.37091514626910294, \"x1\": 0.37091514626910294, \"xref\": \"x\", \"y0\": -1, \"y1\": 13, \"yref\": \"y\"}], \"template\": {\"data\": {\"scatter\": [{\"type\": \"scatter\"}]}}, \"title\": {\"text\": \"Break Down\", \"x\": 0.15}, \"xaxis\": {\"anchor\": \"y\", \"automargin\": true, \"domain\": [0.0, 1.0], \"fixedrange\": true, \"gridwidth\": 2, \"range\": [-0.0338, 0.4238], \"tickcolor\": \"white\", \"ticklen\": 3, \"ticks\": \"outside\", \"type\": \"linear\", \"zeroline\": false}, \"yaxis\": {\"anchor\": \"x\", \"automargin\": true, \"autorange\": \"reversed\", \"domain\": [0.0, 1.0], \"fixedrange\": true, \"gridwidth\": 2, \"tickcolor\": \"white\", \"ticklen\": 10, \"ticks\": \"outside\", \"type\": \"category\"}},                        {\"displaylogo\": false, \"staticPlot\": false, \"toImageButtonOptions\": {\"height\": null, \"width\": null}, \"modeBarButtonsToRemove\": [\"sendDataToCloud\", \"lasso2d\", \"autoScale2d\", \"select2d\", \"zoom2d\", \"pan2d\", \"zoomIn2d\", \"zoomOut2d\", \"resetScale2d\", \"toggleSpikelines\", \"hoverCompareCartesian\", \"hoverClosestCartesian\"], \"responsive\": true}                    ).then(function(){\n",
       "                            \n",
       "var gd = document.getElementById('2f61e1fc-e45b-4636-8bbf-73be3f3dd3e2');\n",
       "var x = new MutationObserver(function (mutations, observer) {{\n",
       "        var display = window.getComputedStyle(gd).display;\n",
       "        if (!display || display === 'none') {{\n",
       "            console.log([gd, 'removed!']);\n",
       "            Plotly.purge(gd);\n",
       "            observer.disconnect();\n",
       "        }}\n",
       "}});\n",
       "\n",
       "// Listen for the removal of the full notebook cells\n",
       "var notebookContainer = gd.closest('#notebook-container');\n",
       "if (notebookContainer) {{\n",
       "    x.observe(notebookContainer, {childList: true});\n",
       "}}\n",
       "\n",
       "// Listen for the clearing of the current output cell\n",
       "var outputEl = gd.closest('.output');\n",
       "if (outputEl) {{\n",
       "    x.observe(outputEl, {childList: true});\n",
       "}}\n",
       "\n",
       "                        })                };                });            </script>        </div>"
      ]
     },
     "metadata": {},
     "output_type": "display_data"
    },
    {
     "data": {
      "application/vnd.plotly.v1+json": {
       "config": {
        "displaylogo": false,
        "modeBarButtonsToRemove": [
         "sendDataToCloud",
         "lasso2d",
         "autoScale2d",
         "select2d",
         "zoom2d",
         "pan2d",
         "zoomIn2d",
         "zoomOut2d",
         "resetScale2d",
         "toggleSpikelines",
         "hoverCompareCartesian",
         "hoverClosestCartesian"
        ],
        "plotlyServerURL": "https://plot.ly",
        "staticPlot": false,
        "toImageButtonOptions": {
         "height": null,
         "width": null
        }
       },
       "data": [
        {
         "base": 0.37091514626910294,
         "connector": {
          "line": {
           "color": "#371ea3",
           "dash": "solid",
           "width": 1
          },
          "mode": "spanning"
         },
         "decreasing": {
          "marker": {
           "color": "#f05a71"
          }
         },
         "hoverinfo": "text+delta",
         "hoverlabel": {
          "bgcolor": "rgba(0,0,0,0.8)"
         },
         "hovertext": [
          "Average response: 0.371<br>Prediction: 0.0",
          "required_car_parking_spaces = 1.0<br>decreases average response by",
          "total_of_special_requests = 2.0<br>decreases average response by",
          "lead_time = 9.0<br>increases average response by",
          "country = PRT<br>increases average response by",
          "agent:hotel = 240.0:Resort Hotel<br>decreases average response by",
          "customer_type = Transient<br>decreases average response by",
          "market_segment = Online TA<br>decreases average response by",
          "previous_cancellations = 0.0<br>decreases average response by",
          "adr = 94.5<br>decreases average response by",
          "reserved_room_type = D<br>decreases average response by",
          "+ all other factors<br>decreases average response by",
          "Average response: 0.371<br>Prediction: 0.0"
         ],
         "increasing": {
          "marker": {
           "color": "#8bdcbe"
          }
         },
         "measure": [
          "relative",
          "relative",
          "relative",
          "relative",
          "relative",
          "relative",
          "relative",
          "relative",
          "relative",
          "relative",
          "relative",
          "relative",
          "total"
         ],
         "orientation": "h",
         "showlegend": false,
         "text": [
          "0.371",
          "-0.307",
          "-0.026",
          "+0.007",
          "+0.004",
          "-0.012",
          "-0.007",
          "-0.007",
          "-0.018",
          "-0.001",
          "-0.0",
          "-0.003",
          "0.0"
         ],
         "textposition": "outside",
         "totals": {
          "marker": {
           "color": "#371ea3"
          }
         },
         "type": "waterfall",
         "x": [
          0,
          -0.307,
          -0.026,
          0.007,
          0.004,
          -0.012,
          -0.007,
          -0.007,
          -0.018,
          -0.001,
          0,
          -0.003,
          -0.371
         ],
         "xaxis": "x",
         "y": [
          "intercept",
          "required_car_parking_spaces = 1.0",
          "total_of_special_requests = 2.0",
          "lead_time = 9.0",
          "country = PRT",
          "agent:hotel = 240.0:Resort Hotel",
          "customer_type = Transient",
          "market_segment = Online TA",
          "previous_cancellations = 0.0",
          "adr = 94.5",
          "reserved_room_type = D",
          "+ all other factors",
          "prediction"
         ],
         "yaxis": "y"
        }
       ],
       "layout": {
        "annotations": [
         {
          "font": {
           "size": 16
          },
          "showarrow": false,
          "text": "RandomForestClassifier",
          "x": 0.5,
          "xanchor": "center",
          "xref": "paper",
          "y": 1,
          "yanchor": "bottom",
          "yref": "paper"
         },
         {
          "font": {
           "size": 16
          },
          "showarrow": false,
          "text": "contribution",
          "x": 0.5,
          "xanchor": "center",
          "xref": "paper",
          "y": 0,
          "yanchor": "top",
          "yref": "paper",
          "yshift": -30
         }
        ],
        "font": {
         "color": "#371ea3"
        },
        "height": 413,
        "margin": {
         "b": 71,
         "r": 30,
         "t": 78
        },
        "shapes": [
         {
          "line": {
           "color": "#371ea3",
           "dash": "dot",
           "width": 1.5
          },
          "type": "line",
          "x0": 0.37091514626910294,
          "x1": 0.37091514626910294,
          "xref": "x",
          "y0": -1,
          "y1": 13,
          "yref": "y"
         }
        ],
        "template": {
         "data": {
          "scatter": [
           {
            "type": "scatter"
           }
          ]
         }
        },
        "title": {
         "text": "Break Down",
         "x": 0.15
        },
        "xaxis": {
         "anchor": "y",
         "automargin": true,
         "domain": [
          0,
          1
         ],
         "fixedrange": true,
         "gridwidth": 2,
         "range": [
          -0.05565,
          0.42665
         ],
         "tickcolor": "white",
         "ticklen": 3,
         "ticks": "outside",
         "type": "linear",
         "zeroline": false
        },
        "yaxis": {
         "anchor": "x",
         "automargin": true,
         "autorange": "reversed",
         "domain": [
          0,
          1
         ],
         "fixedrange": true,
         "gridwidth": 2,
         "tickcolor": "white",
         "ticklen": 10,
         "ticks": "outside",
         "type": "category"
        }
       }
      },
      "text/html": [
       "<div>                            <div id=\"91543667-a3cf-4872-8e2d-c151a8420cf3\" class=\"plotly-graph-div\" style=\"height:413.0px; width:100%;\"></div>            <script type=\"text/javascript\">                require([\"plotly\"], function(Plotly) {                    window.PLOTLYENV=window.PLOTLYENV || {};                                    if (document.getElementById(\"91543667-a3cf-4872-8e2d-c151a8420cf3\")) {                    Plotly.newPlot(                        \"91543667-a3cf-4872-8e2d-c151a8420cf3\",                        [{\"base\": 0.37091514626910294, \"connector\": {\"line\": {\"color\": \"#371ea3\", \"dash\": \"solid\", \"width\": 1}, \"mode\": \"spanning\"}, \"decreasing\": {\"marker\": {\"color\": \"#f05a71\"}}, \"hoverinfo\": \"text+delta\", \"hoverlabel\": {\"bgcolor\": \"rgba(0,0,0,0.8)\"}, \"hovertext\": [\"Average response: 0.371<br>Prediction: 0.0\", \"required_car_parking_spaces = 1.0<br>decreases average response by\", \"total_of_special_requests = 2.0<br>decreases average response by\", \"lead_time = 9.0<br>increases average response by\", \"country = PRT<br>increases average response by\", \"agent:hotel = 240.0:Resort Hotel<br>decreases average response by\", \"customer_type = Transient<br>decreases average response by\", \"market_segment = Online TA<br>decreases average response by\", \"previous_cancellations = 0.0<br>decreases average response by\", \"adr = 94.5<br>decreases average response by\", \"reserved_room_type = D<br>decreases average response by\", \"+ all other factors<br>decreases average response by\", \"Average response: 0.371<br>Prediction: 0.0\"], \"increasing\": {\"marker\": {\"color\": \"#8bdcbe\"}}, \"measure\": [\"relative\", \"relative\", \"relative\", \"relative\", \"relative\", \"relative\", \"relative\", \"relative\", \"relative\", \"relative\", \"relative\", \"relative\", \"total\"], \"orientation\": \"h\", \"showlegend\": false, \"text\": [\"0.371\", \"-0.307\", \"-0.026\", \"+0.007\", \"+0.004\", \"-0.012\", \"-0.007\", \"-0.007\", \"-0.018\", \"-0.001\", \"-0.0\", \"-0.003\", \"0.0\"], \"textposition\": \"outside\", \"totals\": {\"marker\": {\"color\": \"#371ea3\"}}, \"type\": \"waterfall\", \"x\": [0.0, -0.307, -0.026, 0.007, 0.004, -0.012, -0.007, -0.007, -0.018, -0.001, -0.0, -0.003, -0.371], \"xaxis\": \"x\", \"y\": [\"intercept\", \"required_car_parking_spaces = 1.0\", \"total_of_special_requests = 2.0\", \"lead_time = 9.0\", \"country = PRT\", \"agent:hotel = 240.0:Resort Hotel\", \"customer_type = Transient\", \"market_segment = Online TA\", \"previous_cancellations = 0.0\", \"adr = 94.5\", \"reserved_room_type = D\", \"+ all other factors\", \"prediction\"], \"yaxis\": \"y\"}],                        {\"annotations\": [{\"font\": {\"size\": 16}, \"showarrow\": false, \"text\": \"RandomForestClassifier\", \"x\": 0.5, \"xanchor\": \"center\", \"xref\": \"paper\", \"y\": 1.0, \"yanchor\": \"bottom\", \"yref\": \"paper\"}, {\"font\": {\"size\": 16}, \"showarrow\": false, \"text\": \"contribution\", \"x\": 0.5, \"xanchor\": \"center\", \"xref\": \"paper\", \"y\": 0, \"yanchor\": \"top\", \"yref\": \"paper\", \"yshift\": -30}], \"font\": {\"color\": \"#371ea3\"}, \"height\": 413.0, \"margin\": {\"b\": 71, \"r\": 30, \"t\": 78}, \"shapes\": [{\"line\": {\"color\": \"#371ea3\", \"dash\": \"dot\", \"width\": 1.5}, \"type\": \"line\", \"x0\": 0.37091514626910294, \"x1\": 0.37091514626910294, \"xref\": \"x\", \"y0\": -1, \"y1\": 13, \"yref\": \"y\"}], \"template\": {\"data\": {\"scatter\": [{\"type\": \"scatter\"}]}}, \"title\": {\"text\": \"Break Down\", \"x\": 0.15}, \"xaxis\": {\"anchor\": \"y\", \"automargin\": true, \"domain\": [0.0, 1.0], \"fixedrange\": true, \"gridwidth\": 2, \"range\": [-0.05565, 0.42665], \"tickcolor\": \"white\", \"ticklen\": 3, \"ticks\": \"outside\", \"type\": \"linear\", \"zeroline\": false}, \"yaxis\": {\"anchor\": \"x\", \"automargin\": true, \"autorange\": \"reversed\", \"domain\": [0.0, 1.0], \"fixedrange\": true, \"gridwidth\": 2, \"tickcolor\": \"white\", \"ticklen\": 10, \"ticks\": \"outside\", \"type\": \"category\"}},                        {\"displaylogo\": false, \"staticPlot\": false, \"toImageButtonOptions\": {\"height\": null, \"width\": null}, \"modeBarButtonsToRemove\": [\"sendDataToCloud\", \"lasso2d\", \"autoScale2d\", \"select2d\", \"zoom2d\", \"pan2d\", \"zoomIn2d\", \"zoomOut2d\", \"resetScale2d\", \"toggleSpikelines\", \"hoverCompareCartesian\", \"hoverClosestCartesian\"], \"responsive\": true}                    ).then(function(){\n",
       "                            \n",
       "var gd = document.getElementById('91543667-a3cf-4872-8e2d-c151a8420cf3');\n",
       "var x = new MutationObserver(function (mutations, observer) {{\n",
       "        var display = window.getComputedStyle(gd).display;\n",
       "        if (!display || display === 'none') {{\n",
       "            console.log([gd, 'removed!']);\n",
       "            Plotly.purge(gd);\n",
       "            observer.disconnect();\n",
       "        }}\n",
       "}});\n",
       "\n",
       "// Listen for the removal of the full notebook cells\n",
       "var notebookContainer = gd.closest('#notebook-container');\n",
       "if (notebookContainer) {{\n",
       "    x.observe(notebookContainer, {childList: true});\n",
       "}}\n",
       "\n",
       "// Listen for the clearing of the current output cell\n",
       "var outputEl = gd.closest('.output');\n",
       "if (outputEl) {{\n",
       "    x.observe(outputEl, {childList: true});\n",
       "}}\n",
       "\n",
       "                        })                };                });            </script>        </div>"
      ]
     },
     "metadata": {},
     "output_type": "display_data"
    }
   ],
   "source": [
    "pps_list[0].plot()\n",
    "pps_list[1].plot()"
   ]
  },
  {
   "cell_type": "code",
   "execution_count": 28,
   "metadata": {
    "scrolled": false
   },
   "outputs": [
    {
     "data": {
      "text/html": [
       "<div>\n",
       "<style scoped>\n",
       "    .dataframe tbody tr th:only-of-type {\n",
       "        vertical-align: middle;\n",
       "    }\n",
       "\n",
       "    .dataframe tbody tr th {\n",
       "        vertical-align: top;\n",
       "    }\n",
       "\n",
       "    .dataframe thead th {\n",
       "        text-align: right;\n",
       "    }\n",
       "</style>\n",
       "<table border=\"1\" class=\"dataframe\">\n",
       "  <thead>\n",
       "    <tr style=\"text-align: right;\">\n",
       "      <th></th>\n",
       "      <th>variable_name</th>\n",
       "      <th>variable_value</th>\n",
       "      <th>variable</th>\n",
       "      <th>cumulative</th>\n",
       "      <th>contribution</th>\n",
       "      <th>sign</th>\n",
       "      <th>position</th>\n",
       "      <th>label</th>\n",
       "    </tr>\n",
       "  </thead>\n",
       "  <tbody>\n",
       "    <tr>\n",
       "      <th>0</th>\n",
       "      <td>intercept</td>\n",
       "      <td>1</td>\n",
       "      <td>intercept</td>\n",
       "      <td>0.370915</td>\n",
       "      <td>0.370915</td>\n",
       "      <td>1.0</td>\n",
       "      <td>16</td>\n",
       "      <td>RandomForestClassifier</td>\n",
       "    </tr>\n",
       "    <tr>\n",
       "      <th>1</th>\n",
       "      <td>lead_time</td>\n",
       "      <td>0.0</td>\n",
       "      <td>lead_time = 0.0</td>\n",
       "      <td>0.140108</td>\n",
       "      <td>-0.230807</td>\n",
       "      <td>-1.0</td>\n",
       "      <td>15</td>\n",
       "      <td>RandomForestClassifier</td>\n",
       "    </tr>\n",
       "    <tr>\n",
       "      <th>2</th>\n",
       "      <td>customer_type:country</td>\n",
       "      <td>Contract:PRT</td>\n",
       "      <td>customer_type:country = Contract:PRT</td>\n",
       "      <td>0.226374</td>\n",
       "      <td>0.086266</td>\n",
       "      <td>1.0</td>\n",
       "      <td>14</td>\n",
       "      <td>RandomForestClassifier</td>\n",
       "    </tr>\n",
       "    <tr>\n",
       "      <th>3</th>\n",
       "      <td>total_of_special_requests</td>\n",
       "      <td>0.0</td>\n",
       "      <td>total_of_special_requests = 0.0</td>\n",
       "      <td>0.247657</td>\n",
       "      <td>0.021283</td>\n",
       "      <td>1.0</td>\n",
       "      <td>13</td>\n",
       "      <td>RandomForestClassifier</td>\n",
       "    </tr>\n",
       "    <tr>\n",
       "      <th>4</th>\n",
       "      <td>agent</td>\n",
       "      <td>9.0</td>\n",
       "      <td>agent = 9.0</td>\n",
       "      <td>0.234065</td>\n",
       "      <td>-0.013592</td>\n",
       "      <td>-1.0</td>\n",
       "      <td>12</td>\n",
       "      <td>RandomForestClassifier</td>\n",
       "    </tr>\n",
       "    <tr>\n",
       "      <th>5</th>\n",
       "      <td>arrival_date_week_number</td>\n",
       "      <td>35.0</td>\n",
       "      <td>arrival_date_week_number = 35.0</td>\n",
       "      <td>0.235593</td>\n",
       "      <td>0.001529</td>\n",
       "      <td>1.0</td>\n",
       "      <td>11</td>\n",
       "      <td>RandomForestClassifier</td>\n",
       "    </tr>\n",
       "    <tr>\n",
       "      <th>6</th>\n",
       "      <td>market_segment</td>\n",
       "      <td>Online TA</td>\n",
       "      <td>market_segment = Online TA</td>\n",
       "      <td>0.207733</td>\n",
       "      <td>-0.027860</td>\n",
       "      <td>-1.0</td>\n",
       "      <td>10</td>\n",
       "      <td>RandomForestClassifier</td>\n",
       "    </tr>\n",
       "    <tr>\n",
       "      <th>7</th>\n",
       "      <td>previous_cancellations</td>\n",
       "      <td>0.0</td>\n",
       "      <td>previous_cancellations = 0.0</td>\n",
       "      <td>0.182716</td>\n",
       "      <td>-0.025017</td>\n",
       "      <td>-1.0</td>\n",
       "      <td>9</td>\n",
       "      <td>RandomForestClassifier</td>\n",
       "    </tr>\n",
       "    <tr>\n",
       "      <th>8</th>\n",
       "      <td>required_car_parking_spaces</td>\n",
       "      <td>0.0</td>\n",
       "      <td>required_car_parking_spaces = 0.0</td>\n",
       "      <td>0.190733</td>\n",
       "      <td>0.008017</td>\n",
       "      <td>1.0</td>\n",
       "      <td>8</td>\n",
       "      <td>RandomForestClassifier</td>\n",
       "    </tr>\n",
       "    <tr>\n",
       "      <th>9</th>\n",
       "      <td>booking_changes</td>\n",
       "      <td>0.0</td>\n",
       "      <td>booking_changes = 0.0</td>\n",
       "      <td>0.206981</td>\n",
       "      <td>0.016248</td>\n",
       "      <td>1.0</td>\n",
       "      <td>7</td>\n",
       "      <td>RandomForestClassifier</td>\n",
       "    </tr>\n",
       "    <tr>\n",
       "      <th>10</th>\n",
       "      <td>stays_in_week_nights</td>\n",
       "      <td>1.0</td>\n",
       "      <td>stays_in_week_nights = 1.0</td>\n",
       "      <td>0.115652</td>\n",
       "      <td>-0.091328</td>\n",
       "      <td>-1.0</td>\n",
       "      <td>6</td>\n",
       "      <td>RandomForestClassifier</td>\n",
       "    </tr>\n",
       "    <tr>\n",
       "      <th>11</th>\n",
       "      <td>hotel</td>\n",
       "      <td>City Hotel</td>\n",
       "      <td>hotel = City Hotel</td>\n",
       "      <td>0.123887</td>\n",
       "      <td>0.008234</td>\n",
       "      <td>1.0</td>\n",
       "      <td>5</td>\n",
       "      <td>RandomForestClassifier</td>\n",
       "    </tr>\n",
       "    <tr>\n",
       "      <th>12</th>\n",
       "      <td>stays_in_weekend_nights</td>\n",
       "      <td>0.0</td>\n",
       "      <td>stays_in_weekend_nights = 0.0</td>\n",
       "      <td>0.082054</td>\n",
       "      <td>-0.041833</td>\n",
       "      <td>-1.0</td>\n",
       "      <td>4</td>\n",
       "      <td>RandomForestClassifier</td>\n",
       "    </tr>\n",
       "    <tr>\n",
       "      <th>13</th>\n",
       "      <td>reserved_room_type:adr</td>\n",
       "      <td>F:156.0</td>\n",
       "      <td>reserved_room_type:adr = F:156.0</td>\n",
       "      <td>0.023150</td>\n",
       "      <td>-0.058904</td>\n",
       "      <td>-1.0</td>\n",
       "      <td>3</td>\n",
       "      <td>RandomForestClassifier</td>\n",
       "    </tr>\n",
       "    <tr>\n",
       "      <th>14</th>\n",
       "      <td>previous_bookings_not_canceled</td>\n",
       "      <td>0.0</td>\n",
       "      <td>previous_bookings_not_canceled = 0.0</td>\n",
       "      <td>0.021891</td>\n",
       "      <td>-0.001259</td>\n",
       "      <td>-1.0</td>\n",
       "      <td>2</td>\n",
       "      <td>RandomForestClassifier</td>\n",
       "    </tr>\n",
       "    <tr>\n",
       "      <th>15</th>\n",
       "      <td>adults</td>\n",
       "      <td>2.0</td>\n",
       "      <td>adults = 2.0</td>\n",
       "      <td>0.018750</td>\n",
       "      <td>-0.003141</td>\n",
       "      <td>-1.0</td>\n",
       "      <td>1</td>\n",
       "      <td>RandomForestClassifier</td>\n",
       "    </tr>\n",
       "    <tr>\n",
       "      <th>16</th>\n",
       "      <td></td>\n",
       "      <td></td>\n",
       "      <td>prediction</td>\n",
       "      <td>0.018750</td>\n",
       "      <td>0.018750</td>\n",
       "      <td>1.0</td>\n",
       "      <td>0</td>\n",
       "      <td>RandomForestClassifier</td>\n",
       "    </tr>\n",
       "  </tbody>\n",
       "</table>\n",
       "</div>"
      ],
      "text/plain": [
       "<dalex.predict_explanations._break_down.object.BreakDown at 0x252e0651220>"
      ]
     },
     "execution_count": 28,
     "metadata": {},
     "output_type": "execute_result"
    }
   ],
   "source": [
    "pps_list[0] ## 289"
   ]
  },
  {
   "cell_type": "code",
   "execution_count": 29,
   "metadata": {},
   "outputs": [
    {
     "data": {
      "text/html": [
       "<div>\n",
       "<style scoped>\n",
       "    .dataframe tbody tr th:only-of-type {\n",
       "        vertical-align: middle;\n",
       "    }\n",
       "\n",
       "    .dataframe tbody tr th {\n",
       "        vertical-align: top;\n",
       "    }\n",
       "\n",
       "    .dataframe thead th {\n",
       "        text-align: right;\n",
       "    }\n",
       "</style>\n",
       "<table border=\"1\" class=\"dataframe\">\n",
       "  <thead>\n",
       "    <tr style=\"text-align: right;\">\n",
       "      <th></th>\n",
       "      <th>variable_name</th>\n",
       "      <th>variable_value</th>\n",
       "      <th>variable</th>\n",
       "      <th>cumulative</th>\n",
       "      <th>contribution</th>\n",
       "      <th>sign</th>\n",
       "      <th>position</th>\n",
       "      <th>label</th>\n",
       "    </tr>\n",
       "  </thead>\n",
       "  <tbody>\n",
       "    <tr>\n",
       "      <th>0</th>\n",
       "      <td>intercept</td>\n",
       "      <td>1</td>\n",
       "      <td>intercept</td>\n",
       "      <td>0.370915</td>\n",
       "      <td>0.370915</td>\n",
       "      <td>1.0</td>\n",
       "      <td>17</td>\n",
       "      <td>RandomForestClassifier</td>\n",
       "    </tr>\n",
       "    <tr>\n",
       "      <th>1</th>\n",
       "      <td>required_car_parking_spaces</td>\n",
       "      <td>1.0</td>\n",
       "      <td>required_car_parking_spaces = 1.0</td>\n",
       "      <td>0.064389</td>\n",
       "      <td>-0.306526</td>\n",
       "      <td>-1.0</td>\n",
       "      <td>16</td>\n",
       "      <td>RandomForestClassifier</td>\n",
       "    </tr>\n",
       "    <tr>\n",
       "      <th>2</th>\n",
       "      <td>total_of_special_requests</td>\n",
       "      <td>2.0</td>\n",
       "      <td>total_of_special_requests = 2.0</td>\n",
       "      <td>0.038572</td>\n",
       "      <td>-0.025816</td>\n",
       "      <td>-1.0</td>\n",
       "      <td>15</td>\n",
       "      <td>RandomForestClassifier</td>\n",
       "    </tr>\n",
       "    <tr>\n",
       "      <th>3</th>\n",
       "      <td>lead_time</td>\n",
       "      <td>9.0</td>\n",
       "      <td>lead_time = 9.0</td>\n",
       "      <td>0.045346</td>\n",
       "      <td>0.006774</td>\n",
       "      <td>1.0</td>\n",
       "      <td>14</td>\n",
       "      <td>RandomForestClassifier</td>\n",
       "    </tr>\n",
       "    <tr>\n",
       "      <th>4</th>\n",
       "      <td>country</td>\n",
       "      <td>PRT</td>\n",
       "      <td>country = PRT</td>\n",
       "      <td>0.049205</td>\n",
       "      <td>0.003859</td>\n",
       "      <td>1.0</td>\n",
       "      <td>13</td>\n",
       "      <td>RandomForestClassifier</td>\n",
       "    </tr>\n",
       "    <tr>\n",
       "      <th>5</th>\n",
       "      <td>agent:hotel</td>\n",
       "      <td>240.0:Resort Hotel</td>\n",
       "      <td>agent:hotel = 240.0:Resort Hotel</td>\n",
       "      <td>0.037280</td>\n",
       "      <td>-0.011925</td>\n",
       "      <td>-1.0</td>\n",
       "      <td>12</td>\n",
       "      <td>RandomForestClassifier</td>\n",
       "    </tr>\n",
       "    <tr>\n",
       "      <th>6</th>\n",
       "      <td>customer_type</td>\n",
       "      <td>Transient</td>\n",
       "      <td>customer_type = Transient</td>\n",
       "      <td>0.029913</td>\n",
       "      <td>-0.007367</td>\n",
       "      <td>-1.0</td>\n",
       "      <td>11</td>\n",
       "      <td>RandomForestClassifier</td>\n",
       "    </tr>\n",
       "    <tr>\n",
       "      <th>7</th>\n",
       "      <td>market_segment</td>\n",
       "      <td>Online TA</td>\n",
       "      <td>market_segment = Online TA</td>\n",
       "      <td>0.023172</td>\n",
       "      <td>-0.006741</td>\n",
       "      <td>-1.0</td>\n",
       "      <td>10</td>\n",
       "      <td>RandomForestClassifier</td>\n",
       "    </tr>\n",
       "    <tr>\n",
       "      <th>8</th>\n",
       "      <td>previous_cancellations</td>\n",
       "      <td>0.0</td>\n",
       "      <td>previous_cancellations = 0.0</td>\n",
       "      <td>0.005063</td>\n",
       "      <td>-0.018110</td>\n",
       "      <td>-1.0</td>\n",
       "      <td>9</td>\n",
       "      <td>RandomForestClassifier</td>\n",
       "    </tr>\n",
       "    <tr>\n",
       "      <th>9</th>\n",
       "      <td>adr</td>\n",
       "      <td>94.5</td>\n",
       "      <td>adr = 94.5</td>\n",
       "      <td>0.003691</td>\n",
       "      <td>-0.001372</td>\n",
       "      <td>-1.0</td>\n",
       "      <td>8</td>\n",
       "      <td>RandomForestClassifier</td>\n",
       "    </tr>\n",
       "    <tr>\n",
       "      <th>10</th>\n",
       "      <td>reserved_room_type</td>\n",
       "      <td>D</td>\n",
       "      <td>reserved_room_type = D</td>\n",
       "      <td>0.003435</td>\n",
       "      <td>-0.000256</td>\n",
       "      <td>-1.0</td>\n",
       "      <td>7</td>\n",
       "      <td>RandomForestClassifier</td>\n",
       "    </tr>\n",
       "    <tr>\n",
       "      <th>11</th>\n",
       "      <td>booking_changes</td>\n",
       "      <td>0.0</td>\n",
       "      <td>booking_changes = 0.0</td>\n",
       "      <td>0.002936</td>\n",
       "      <td>-0.000499</td>\n",
       "      <td>-1.0</td>\n",
       "      <td>6</td>\n",
       "      <td>RandomForestClassifier</td>\n",
       "    </tr>\n",
       "    <tr>\n",
       "      <th>12</th>\n",
       "      <td>stays_in_week_nights</td>\n",
       "      <td>1.0</td>\n",
       "      <td>stays_in_week_nights = 1.0</td>\n",
       "      <td>0.003161</td>\n",
       "      <td>0.000224</td>\n",
       "      <td>1.0</td>\n",
       "      <td>5</td>\n",
       "      <td>RandomForestClassifier</td>\n",
       "    </tr>\n",
       "    <tr>\n",
       "      <th>13</th>\n",
       "      <td>arrival_date_week_number</td>\n",
       "      <td>21.0</td>\n",
       "      <td>arrival_date_week_number = 21.0</td>\n",
       "      <td>0.000084</td>\n",
       "      <td>-0.003077</td>\n",
       "      <td>-1.0</td>\n",
       "      <td>4</td>\n",
       "      <td>RandomForestClassifier</td>\n",
       "    </tr>\n",
       "    <tr>\n",
       "      <th>14</th>\n",
       "      <td>previous_bookings_not_canceled</td>\n",
       "      <td>0.0</td>\n",
       "      <td>previous_bookings_not_canceled = 0.0</td>\n",
       "      <td>0.000019</td>\n",
       "      <td>-0.000065</td>\n",
       "      <td>-1.0</td>\n",
       "      <td>3</td>\n",
       "      <td>RandomForestClassifier</td>\n",
       "    </tr>\n",
       "    <tr>\n",
       "      <th>15</th>\n",
       "      <td>stays_in_weekend_nights</td>\n",
       "      <td>1.0</td>\n",
       "      <td>stays_in_weekend_nights = 1.0</td>\n",
       "      <td>0.000000</td>\n",
       "      <td>-0.000019</td>\n",
       "      <td>-1.0</td>\n",
       "      <td>2</td>\n",
       "      <td>RandomForestClassifier</td>\n",
       "    </tr>\n",
       "    <tr>\n",
       "      <th>16</th>\n",
       "      <td>adults</td>\n",
       "      <td>2.0</td>\n",
       "      <td>adults = 2.0</td>\n",
       "      <td>0.000000</td>\n",
       "      <td>0.000000</td>\n",
       "      <td>0.0</td>\n",
       "      <td>1</td>\n",
       "      <td>RandomForestClassifier</td>\n",
       "    </tr>\n",
       "    <tr>\n",
       "      <th>17</th>\n",
       "      <td></td>\n",
       "      <td></td>\n",
       "      <td>prediction</td>\n",
       "      <td>0.000000</td>\n",
       "      <td>0.000000</td>\n",
       "      <td>0.0</td>\n",
       "      <td>0</td>\n",
       "      <td>RandomForestClassifier</td>\n",
       "    </tr>\n",
       "  </tbody>\n",
       "</table>\n",
       "</div>"
      ],
      "text/plain": [
       "<dalex.predict_explanations._break_down.object.BreakDown at 0x25294f5db20>"
      ]
     },
     "execution_count": 29,
     "metadata": {},
     "output_type": "execute_result"
    }
   ],
   "source": [
    "pps_list[1] ## 999"
   ]
  },
  {
   "cell_type": "markdown",
   "metadata": {},
   "source": [
    "Zauważmy że w przypadku obserwacji z nr 289 kluczowe czynniki, ktróre wpłynęły na predykcję modelu to liczba dni od rezerwacji do przyjazdu oraz typ klienta wraz z krajem z którego pochodzi. Zauważmy jednak, że typ klienta i kraj miał sprzeczny z predykcją wpływ, co jednak nie wpłynęło na końcowy rezultat. Co ciekawe, w przypadku tej obserwacji kraj pochodzenia gościa miał znikomy wpływ.\n",
    "\n",
    "W przypadku obserwacji 999 przy przedstawionej kolejności zmiennych w tym przypadku zaskakująco duży, dominujący wpływ miało to, że gość zarezerwował miejsce parkingowe. Kolejną zmienną o sporym wpływie, jednak o rząd wielkości mniejszym, była liczba specjalnych próśb.\n"
   ]
  },
  {
   "cell_type": "markdown",
   "metadata": {},
   "source": [
    "### 4. Dwie obserwacje, które mają dla tych samych zmiennych inne efety"
   ]
  },
  {
   "cell_type": "code",
   "execution_count": 38,
   "metadata": {},
   "outputs": [
    {
     "data": {
      "application/vnd.plotly.v1+json": {
       "config": {
        "displaylogo": false,
        "modeBarButtonsToRemove": [
         "sendDataToCloud",
         "lasso2d",
         "autoScale2d",
         "select2d",
         "zoom2d",
         "pan2d",
         "zoomIn2d",
         "zoomOut2d",
         "resetScale2d",
         "toggleSpikelines",
         "hoverCompareCartesian",
         "hoverClosestCartesian"
        ],
        "plotlyServerURL": "https://plot.ly",
        "staticPlot": false,
        "toImageButtonOptions": {
         "height": null,
         "width": null
        }
       },
       "data": [
        {
         "base": 0.37091514626910294,
         "connector": {
          "line": {
           "color": "#371ea3",
           "dash": "solid",
           "width": 1
          },
          "mode": "spanning"
         },
         "decreasing": {
          "marker": {
           "color": "#f05a71"
          }
         },
         "hoverinfo": "text+delta",
         "hoverlabel": {
          "bgcolor": "rgba(0,0,0,0.8)"
         },
         "hovertext": [
          "Average response: 0.371<br>Prediction: 1.0",
          "lead_time = 482.0<br>increases average response by",
          "agent:country = 1.0:PRT<br>increases average response by",
          "total_of_special_requests = 0.0<br>increases average response by",
          "customer_type = Transient<br>increases average response by",
          "adr = 51.4<br>decreases average response by",
          "market_segment = Groups<br>increases average response by",
          "previous_cancellations = 0.0<br>decreases average response by",
          "required_car_parking_spaces = 0.0<br>increases average response by",
          "booking_changes = 0.0<br>increases average response by",
          "stays_in_week_nights = 1.0<br>increases average response by",
          "+ all other factors<br>increases average response by",
          "Average response: 0.371<br>Prediction: 1.0"
         ],
         "increasing": {
          "marker": {
           "color": "#8bdcbe"
          }
         },
         "measure": [
          "relative",
          "relative",
          "relative",
          "relative",
          "relative",
          "relative",
          "relative",
          "relative",
          "relative",
          "relative",
          "relative",
          "relative",
          "total"
         ],
         "orientation": "h",
         "showlegend": false,
         "text": [
          "0.371",
          "+0.146",
          "+0.143",
          "+0.086",
          "+0.049",
          "-0.018",
          "+0.127",
          "-0.0",
          "+0.046",
          "+0.025",
          "+0.005",
          "+0.019",
          "1.0"
         ],
         "textposition": "outside",
         "totals": {
          "marker": {
           "color": "#371ea3"
          }
         },
         "type": "waterfall",
         "x": [
          0,
          0.146,
          0.143,
          0.086,
          0.049,
          -0.018,
          0.127,
          0,
          0.046,
          0.025,
          0.005,
          0.019,
          0.629
         ],
         "xaxis": "x",
         "y": [
          "intercept",
          "lead_time = 482.0",
          "agent:country = 1.0:PRT",
          "total_of_special_requests = 0.0",
          "customer_type = Transient",
          "adr = 51.4",
          "market_segment = Groups",
          "previous_cancellations = 0.0",
          "required_car_parking_spaces = 0.0",
          "booking_changes = 0.0",
          "stays_in_week_nights = 1.0",
          "+ all other factors",
          "prediction"
         ],
         "yaxis": "y"
        }
       ],
       "layout": {
        "annotations": [
         {
          "font": {
           "size": 16
          },
          "showarrow": false,
          "text": "RandomForestClassifier",
          "x": 0.5,
          "xanchor": "center",
          "xref": "paper",
          "y": 1,
          "yanchor": "bottom",
          "yref": "paper"
         },
         {
          "font": {
           "size": 16
          },
          "showarrow": false,
          "text": "contribution",
          "x": 0.5,
          "xanchor": "center",
          "xref": "paper",
          "y": 0,
          "yanchor": "top",
          "yref": "paper",
          "yshift": -30
         }
        ],
        "font": {
         "color": "#371ea3"
        },
        "height": 413,
        "margin": {
         "b": 71,
         "r": 30,
         "t": 78
        },
        "shapes": [
         {
          "line": {
           "color": "#371ea3",
           "dash": "dot",
           "width": 1.5
          },
          "type": "line",
          "x0": 0.37091514626910294,
          "x1": 0.37091514626910294,
          "xref": "x",
          "y0": -1,
          "y1": 13,
          "yref": "y"
         }
        ],
        "template": {
         "data": {
          "scatter": [
           {
            "type": "scatter"
           }
          ]
         }
        },
        "title": {
         "text": "Break Down",
         "x": 0.15
        },
        "xaxis": {
         "anchor": "y",
         "automargin": true,
         "domain": [
          0,
          1
         ],
         "fixedrange": true,
         "gridwidth": 2,
         "range": [
          0.27665,
          1.09435
         ],
         "tickcolor": "white",
         "ticklen": 3,
         "ticks": "outside",
         "type": "linear",
         "zeroline": false
        },
        "yaxis": {
         "anchor": "x",
         "automargin": true,
         "autorange": "reversed",
         "domain": [
          0,
          1
         ],
         "fixedrange": true,
         "gridwidth": 2,
         "tickcolor": "white",
         "ticklen": 10,
         "ticks": "outside",
         "type": "category"
        }
       }
      },
      "text/html": [
       "<div>                            <div id=\"d86b8653-cef1-4307-9b4b-52b51d901169\" class=\"plotly-graph-div\" style=\"height:413.0px; width:100%;\"></div>            <script type=\"text/javascript\">                require([\"plotly\"], function(Plotly) {                    window.PLOTLYENV=window.PLOTLYENV || {};                                    if (document.getElementById(\"d86b8653-cef1-4307-9b4b-52b51d901169\")) {                    Plotly.newPlot(                        \"d86b8653-cef1-4307-9b4b-52b51d901169\",                        [{\"base\": 0.37091514626910294, \"connector\": {\"line\": {\"color\": \"#371ea3\", \"dash\": \"solid\", \"width\": 1}, \"mode\": \"spanning\"}, \"decreasing\": {\"marker\": {\"color\": \"#f05a71\"}}, \"hoverinfo\": \"text+delta\", \"hoverlabel\": {\"bgcolor\": \"rgba(0,0,0,0.8)\"}, \"hovertext\": [\"Average response: 0.371<br>Prediction: 1.0\", \"lead_time = 482.0<br>increases average response by\", \"agent:country = 1.0:PRT<br>increases average response by\", \"total_of_special_requests = 0.0<br>increases average response by\", \"customer_type = Transient<br>increases average response by\", \"adr = 51.4<br>decreases average response by\", \"market_segment = Groups<br>increases average response by\", \"previous_cancellations = 0.0<br>decreases average response by\", \"required_car_parking_spaces = 0.0<br>increases average response by\", \"booking_changes = 0.0<br>increases average response by\", \"stays_in_week_nights = 1.0<br>increases average response by\", \"+ all other factors<br>increases average response by\", \"Average response: 0.371<br>Prediction: 1.0\"], \"increasing\": {\"marker\": {\"color\": \"#8bdcbe\"}}, \"measure\": [\"relative\", \"relative\", \"relative\", \"relative\", \"relative\", \"relative\", \"relative\", \"relative\", \"relative\", \"relative\", \"relative\", \"relative\", \"total\"], \"orientation\": \"h\", \"showlegend\": false, \"text\": [\"0.371\", \"+0.146\", \"+0.143\", \"+0.086\", \"+0.049\", \"-0.018\", \"+0.127\", \"-0.0\", \"+0.046\", \"+0.025\", \"+0.005\", \"+0.019\", \"1.0\"], \"textposition\": \"outside\", \"totals\": {\"marker\": {\"color\": \"#371ea3\"}}, \"type\": \"waterfall\", \"x\": [0.0, 0.146, 0.143, 0.086, 0.049, -0.018, 0.127, -0.0, 0.046, 0.025, 0.005, 0.019, 0.629], \"xaxis\": \"x\", \"y\": [\"intercept\", \"lead_time = 482.0\", \"agent:country = 1.0:PRT\", \"total_of_special_requests = 0.0\", \"customer_type = Transient\", \"adr = 51.4\", \"market_segment = Groups\", \"previous_cancellations = 0.0\", \"required_car_parking_spaces = 0.0\", \"booking_changes = 0.0\", \"stays_in_week_nights = 1.0\", \"+ all other factors\", \"prediction\"], \"yaxis\": \"y\"}],                        {\"annotations\": [{\"font\": {\"size\": 16}, \"showarrow\": false, \"text\": \"RandomForestClassifier\", \"x\": 0.5, \"xanchor\": \"center\", \"xref\": \"paper\", \"y\": 1.0, \"yanchor\": \"bottom\", \"yref\": \"paper\"}, {\"font\": {\"size\": 16}, \"showarrow\": false, \"text\": \"contribution\", \"x\": 0.5, \"xanchor\": \"center\", \"xref\": \"paper\", \"y\": 0, \"yanchor\": \"top\", \"yref\": \"paper\", \"yshift\": -30}], \"font\": {\"color\": \"#371ea3\"}, \"height\": 413.0, \"margin\": {\"b\": 71, \"r\": 30, \"t\": 78}, \"shapes\": [{\"line\": {\"color\": \"#371ea3\", \"dash\": \"dot\", \"width\": 1.5}, \"type\": \"line\", \"x0\": 0.37091514626910294, \"x1\": 0.37091514626910294, \"xref\": \"x\", \"y0\": -1, \"y1\": 13, \"yref\": \"y\"}], \"template\": {\"data\": {\"scatter\": [{\"type\": \"scatter\"}]}}, \"title\": {\"text\": \"Break Down\", \"x\": 0.15}, \"xaxis\": {\"anchor\": \"y\", \"automargin\": true, \"domain\": [0.0, 1.0], \"fixedrange\": true, \"gridwidth\": 2, \"range\": [0.27665, 1.09435], \"tickcolor\": \"white\", \"ticklen\": 3, \"ticks\": \"outside\", \"type\": \"linear\", \"zeroline\": false}, \"yaxis\": {\"anchor\": \"x\", \"automargin\": true, \"autorange\": \"reversed\", \"domain\": [0.0, 1.0], \"fixedrange\": true, \"gridwidth\": 2, \"tickcolor\": \"white\", \"ticklen\": 10, \"ticks\": \"outside\", \"type\": \"category\"}},                        {\"displaylogo\": false, \"staticPlot\": false, \"toImageButtonOptions\": {\"height\": null, \"width\": null}, \"modeBarButtonsToRemove\": [\"sendDataToCloud\", \"lasso2d\", \"autoScale2d\", \"select2d\", \"zoom2d\", \"pan2d\", \"zoomIn2d\", \"zoomOut2d\", \"resetScale2d\", \"toggleSpikelines\", \"hoverCompareCartesian\", \"hoverClosestCartesian\"], \"responsive\": true}                    ).then(function(){\n",
       "                            \n",
       "var gd = document.getElementById('d86b8653-cef1-4307-9b4b-52b51d901169');\n",
       "var x = new MutationObserver(function (mutations, observer) {{\n",
       "        var display = window.getComputedStyle(gd).display;\n",
       "        if (!display || display === 'none') {{\n",
       "            console.log([gd, 'removed!']);\n",
       "            Plotly.purge(gd);\n",
       "            observer.disconnect();\n",
       "        }}\n",
       "}});\n",
       "\n",
       "// Listen for the removal of the full notebook cells\n",
       "var notebookContainer = gd.closest('#notebook-container');\n",
       "if (notebookContainer) {{\n",
       "    x.observe(notebookContainer, {childList: true});\n",
       "}}\n",
       "\n",
       "// Listen for the clearing of the current output cell\n",
       "var outputEl = gd.closest('.output');\n",
       "if (outputEl) {{\n",
       "    x.observe(outputEl, {childList: true});\n",
       "}}\n",
       "\n",
       "                        })                };                });            </script>        </div>"
      ]
     },
     "metadata": {},
     "output_type": "display_data"
    },
    {
     "data": {
      "application/vnd.plotly.v1+json": {
       "config": {
        "displaylogo": false,
        "modeBarButtonsToRemove": [
         "sendDataToCloud",
         "lasso2d",
         "autoScale2d",
         "select2d",
         "zoom2d",
         "pan2d",
         "zoomIn2d",
         "zoomOut2d",
         "resetScale2d",
         "toggleSpikelines",
         "hoverCompareCartesian",
         "hoverClosestCartesian"
        ],
        "plotlyServerURL": "https://plot.ly",
        "staticPlot": false,
        "toImageButtonOptions": {
         "height": null,
         "width": null
        }
       },
       "data": [
        {
         "base": 0.37091514626910294,
         "connector": {
          "line": {
           "color": "#371ea3",
           "dash": "solid",
           "width": 1
          },
          "mode": "spanning"
         },
         "decreasing": {
          "marker": {
           "color": "#f05a71"
          }
         },
         "hoverinfo": "text+delta",
         "hoverlabel": {
          "bgcolor": "rgba(0,0,0,0.8)"
         },
         "hovertext": [
          "Average response: 0.371<br>Prediction: 0.019",
          "lead_time = 0.0<br>decreases average response by",
          "customer_type:country = Contract:PRT<br>increases average response by",
          "total_of_special_requests = 0.0<br>increases average response by",
          "agent = 9.0<br>decreases average response by",
          "arrival_date_week_number = 35.0<br>increases average response by",
          "market_segment = Online TA<br>decreases average response by",
          "previous_cancellations = 0.0<br>decreases average response by",
          "required_car_parking_spaces = 0.0<br>increases average response by",
          "booking_changes = 0.0<br>increases average response by",
          "stays_in_week_nights = 1.0<br>decreases average response by",
          "+ all other factors<br>decreases average response by",
          "Average response: 0.371<br>Prediction: 0.019"
         ],
         "increasing": {
          "marker": {
           "color": "#8bdcbe"
          }
         },
         "measure": [
          "relative",
          "relative",
          "relative",
          "relative",
          "relative",
          "relative",
          "relative",
          "relative",
          "relative",
          "relative",
          "relative",
          "relative",
          "total"
         ],
         "orientation": "h",
         "showlegend": false,
         "text": [
          "0.371",
          "-0.231",
          "+0.086",
          "+0.021",
          "-0.014",
          "+0.002",
          "-0.028",
          "-0.025",
          "+0.008",
          "+0.016",
          "-0.091",
          "-0.094",
          "0.019"
         ],
         "textposition": "outside",
         "totals": {
          "marker": {
           "color": "#371ea3"
          }
         },
         "type": "waterfall",
         "x": [
          0,
          -0.231,
          0.086,
          0.021,
          -0.014,
          0.002,
          -0.028,
          -0.025,
          0.008,
          0.016,
          -0.091,
          -0.094,
          -0.352
         ],
         "xaxis": "x",
         "y": [
          "intercept",
          "lead_time = 0.0",
          "customer_type:country = Contract:PRT",
          "total_of_special_requests = 0.0",
          "agent = 9.0",
          "arrival_date_week_number = 35.0",
          "market_segment = Online TA",
          "previous_cancellations = 0.0",
          "required_car_parking_spaces = 0.0",
          "booking_changes = 0.0",
          "stays_in_week_nights = 1.0",
          "+ all other factors",
          "prediction"
         ],
         "yaxis": "y"
        }
       ],
       "layout": {
        "annotations": [
         {
          "font": {
           "size": 16
          },
          "showarrow": false,
          "text": "RandomForestClassifier",
          "x": 0.5,
          "xanchor": "center",
          "xref": "paper",
          "y": 1,
          "yanchor": "bottom",
          "yref": "paper"
         },
         {
          "font": {
           "size": 16
          },
          "showarrow": false,
          "text": "contribution",
          "x": 0.5,
          "xanchor": "center",
          "xref": "paper",
          "y": 0,
          "yanchor": "top",
          "yref": "paper",
          "yshift": -30
         }
        ],
        "font": {
         "color": "#371ea3"
        },
        "height": 413,
        "margin": {
         "b": 71,
         "r": 30,
         "t": 78
        },
        "shapes": [
         {
          "line": {
           "color": "#371ea3",
           "dash": "dot",
           "width": 1.5
          },
          "type": "line",
          "x0": 0.37091514626910294,
          "x1": 0.37091514626910294,
          "xref": "x",
          "y0": -1,
          "y1": 13,
          "yref": "y"
         }
        ],
        "template": {
         "data": {
          "scatter": [
           {
            "type": "scatter"
           }
          ]
         }
        },
        "title": {
         "text": "Break Down",
         "x": 0.15
        },
        "xaxis": {
         "anchor": "y",
         "automargin": true,
         "domain": [
          0,
          1
         ],
         "fixedrange": true,
         "gridwidth": 2,
         "range": [
          -0.0338,
          0.4238
         ],
         "tickcolor": "white",
         "ticklen": 3,
         "ticks": "outside",
         "type": "linear",
         "zeroline": false
        },
        "yaxis": {
         "anchor": "x",
         "automargin": true,
         "autorange": "reversed",
         "domain": [
          0,
          1
         ],
         "fixedrange": true,
         "gridwidth": 2,
         "tickcolor": "white",
         "ticklen": 10,
         "ticks": "outside",
         "type": "category"
        }
       }
      },
      "text/html": [
       "<div>                            <div id=\"dd081421-b971-4813-a3ea-14e2f96c4490\" class=\"plotly-graph-div\" style=\"height:413.0px; width:100%;\"></div>            <script type=\"text/javascript\">                require([\"plotly\"], function(Plotly) {                    window.PLOTLYENV=window.PLOTLYENV || {};                                    if (document.getElementById(\"dd081421-b971-4813-a3ea-14e2f96c4490\")) {                    Plotly.newPlot(                        \"dd081421-b971-4813-a3ea-14e2f96c4490\",                        [{\"base\": 0.37091514626910294, \"connector\": {\"line\": {\"color\": \"#371ea3\", \"dash\": \"solid\", \"width\": 1}, \"mode\": \"spanning\"}, \"decreasing\": {\"marker\": {\"color\": \"#f05a71\"}}, \"hoverinfo\": \"text+delta\", \"hoverlabel\": {\"bgcolor\": \"rgba(0,0,0,0.8)\"}, \"hovertext\": [\"Average response: 0.371<br>Prediction: 0.019\", \"lead_time = 0.0<br>decreases average response by\", \"customer_type:country = Contract:PRT<br>increases average response by\", \"total_of_special_requests = 0.0<br>increases average response by\", \"agent = 9.0<br>decreases average response by\", \"arrival_date_week_number = 35.0<br>increases average response by\", \"market_segment = Online TA<br>decreases average response by\", \"previous_cancellations = 0.0<br>decreases average response by\", \"required_car_parking_spaces = 0.0<br>increases average response by\", \"booking_changes = 0.0<br>increases average response by\", \"stays_in_week_nights = 1.0<br>decreases average response by\", \"+ all other factors<br>decreases average response by\", \"Average response: 0.371<br>Prediction: 0.019\"], \"increasing\": {\"marker\": {\"color\": \"#8bdcbe\"}}, \"measure\": [\"relative\", \"relative\", \"relative\", \"relative\", \"relative\", \"relative\", \"relative\", \"relative\", \"relative\", \"relative\", \"relative\", \"relative\", \"total\"], \"orientation\": \"h\", \"showlegend\": false, \"text\": [\"0.371\", \"-0.231\", \"+0.086\", \"+0.021\", \"-0.014\", \"+0.002\", \"-0.028\", \"-0.025\", \"+0.008\", \"+0.016\", \"-0.091\", \"-0.094\", \"0.019\"], \"textposition\": \"outside\", \"totals\": {\"marker\": {\"color\": \"#371ea3\"}}, \"type\": \"waterfall\", \"x\": [0.0, -0.231, 0.086, 0.021, -0.014, 0.002, -0.028, -0.025, 0.008, 0.016, -0.091, -0.094, -0.352], \"xaxis\": \"x\", \"y\": [\"intercept\", \"lead_time = 0.0\", \"customer_type:country = Contract:PRT\", \"total_of_special_requests = 0.0\", \"agent = 9.0\", \"arrival_date_week_number = 35.0\", \"market_segment = Online TA\", \"previous_cancellations = 0.0\", \"required_car_parking_spaces = 0.0\", \"booking_changes = 0.0\", \"stays_in_week_nights = 1.0\", \"+ all other factors\", \"prediction\"], \"yaxis\": \"y\"}],                        {\"annotations\": [{\"font\": {\"size\": 16}, \"showarrow\": false, \"text\": \"RandomForestClassifier\", \"x\": 0.5, \"xanchor\": \"center\", \"xref\": \"paper\", \"y\": 1.0, \"yanchor\": \"bottom\", \"yref\": \"paper\"}, {\"font\": {\"size\": 16}, \"showarrow\": false, \"text\": \"contribution\", \"x\": 0.5, \"xanchor\": \"center\", \"xref\": \"paper\", \"y\": 0, \"yanchor\": \"top\", \"yref\": \"paper\", \"yshift\": -30}], \"font\": {\"color\": \"#371ea3\"}, \"height\": 413.0, \"margin\": {\"b\": 71, \"r\": 30, \"t\": 78}, \"shapes\": [{\"line\": {\"color\": \"#371ea3\", \"dash\": \"dot\", \"width\": 1.5}, \"type\": \"line\", \"x0\": 0.37091514626910294, \"x1\": 0.37091514626910294, \"xref\": \"x\", \"y0\": -1, \"y1\": 13, \"yref\": \"y\"}], \"template\": {\"data\": {\"scatter\": [{\"type\": \"scatter\"}]}}, \"title\": {\"text\": \"Break Down\", \"x\": 0.15}, \"xaxis\": {\"anchor\": \"y\", \"automargin\": true, \"domain\": [0.0, 1.0], \"fixedrange\": true, \"gridwidth\": 2, \"range\": [-0.0338, 0.4238], \"tickcolor\": \"white\", \"ticklen\": 3, \"ticks\": \"outside\", \"type\": \"linear\", \"zeroline\": false}, \"yaxis\": {\"anchor\": \"x\", \"automargin\": true, \"autorange\": \"reversed\", \"domain\": [0.0, 1.0], \"fixedrange\": true, \"gridwidth\": 2, \"tickcolor\": \"white\", \"ticklen\": 10, \"ticks\": \"outside\", \"type\": \"category\"}},                        {\"displaylogo\": false, \"staticPlot\": false, \"toImageButtonOptions\": {\"height\": null, \"width\": null}, \"modeBarButtonsToRemove\": [\"sendDataToCloud\", \"lasso2d\", \"autoScale2d\", \"select2d\", \"zoom2d\", \"pan2d\", \"zoomIn2d\", \"zoomOut2d\", \"resetScale2d\", \"toggleSpikelines\", \"hoverCompareCartesian\", \"hoverClosestCartesian\"], \"responsive\": true}                    ).then(function(){\n",
       "                            \n",
       "var gd = document.getElementById('dd081421-b971-4813-a3ea-14e2f96c4490');\n",
       "var x = new MutationObserver(function (mutations, observer) {{\n",
       "        var display = window.getComputedStyle(gd).display;\n",
       "        if (!display || display === 'none') {{\n",
       "            console.log([gd, 'removed!']);\n",
       "            Plotly.purge(gd);\n",
       "            observer.disconnect();\n",
       "        }}\n",
       "}});\n",
       "\n",
       "// Listen for the removal of the full notebook cells\n",
       "var notebookContainer = gd.closest('#notebook-container');\n",
       "if (notebookContainer) {{\n",
       "    x.observe(notebookContainer, {childList: true});\n",
       "}}\n",
       "\n",
       "// Listen for the clearing of the current output cell\n",
       "var outputEl = gd.closest('.output');\n",
       "if (outputEl) {{\n",
       "    x.observe(outputEl, {childList: true});\n",
       "}}\n",
       "\n",
       "                        })                };                });            </script>        </div>"
      ]
     },
     "metadata": {},
     "output_type": "display_data"
    }
   ],
   "source": [
    "pps_list[5].plot() ## 2626\n",
    "pps_list[0].plot() ## 289"
   ]
  },
  {
   "cell_type": "markdown",
   "metadata": {},
   "source": [
    "Możemy zauważyć, że w powyższych predykcjach wpływ rezerwacji na jedną noc w tygodniu jest inny. W przypadku obserwacji z nr 2626 jest to zmienna wpływająca na anulowanie rezerwacji. Jednak przy obserwacji 289 wpływ ten jest przeciwny. "
   ]
  }
 ],
 "metadata": {
  "kernelspec": {
   "display_name": "Python 3",
   "language": "python",
   "name": "python3"
  },
  "language_info": {
   "codemirror_mode": {
    "name": "ipython",
    "version": 3
   },
   "file_extension": ".py",
   "mimetype": "text/x-python",
   "name": "python",
   "nbconvert_exporter": "python",
   "pygments_lexer": "ipython3",
   "version": "3.9.0"
  }
 },
 "nbformat": 4,
 "nbformat_minor": 4
}
