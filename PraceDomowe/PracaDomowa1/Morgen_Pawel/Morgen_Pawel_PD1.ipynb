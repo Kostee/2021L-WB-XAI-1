{
 "cells": [
  {
   "cell_type": "markdown",
   "id": "tough-magnet",
   "metadata": {},
   "source": [
    "# Warsztaty badawcze\n",
    "## Praca domowa  1\n",
    "### Paweł Morgen"
   ]
  },
  {
   "cell_type": "code",
   "execution_count": 7,
   "id": "killing-phrase",
   "metadata": {},
   "outputs": [],
   "source": [
    "import numpy as np\n",
    "import pandas as pd\n",
    "import dalex as dx\n",
    "import pickle"
   ]
  },
  {
   "cell_type": "code",
   "execution_count": 39,
   "id": "asian-wallet",
   "metadata": {},
   "outputs": [],
   "source": [
    "housing = pd.read_csv('housing_preprocessed.csv', usecols = list(range(1,17)))\n",
    "random_forest = pickle.load(open(\"random_forest\", 'rb'))"
   ]
  },
  {
   "cell_type": "code",
   "execution_count": 40,
   "id": "asian-column",
   "metadata": {},
   "outputs": [
    {
     "data": {
      "text/html": [
       "<div>\n",
       "<style scoped>\n",
       "    .dataframe tbody tr th:only-of-type {\n",
       "        vertical-align: middle;\n",
       "    }\n",
       "\n",
       "    .dataframe tbody tr th {\n",
       "        vertical-align: top;\n",
       "    }\n",
       "\n",
       "    .dataframe thead th {\n",
       "        text-align: right;\n",
       "    }\n",
       "</style>\n",
       "<table border=\"1\" class=\"dataframe\">\n",
       "  <thead>\n",
       "    <tr style=\"text-align: right;\">\n",
       "      <th></th>\n",
       "      <th>longitude</th>\n",
       "      <th>latitude</th>\n",
       "      <th>housing_median_age</th>\n",
       "      <th>total_rooms</th>\n",
       "      <th>total_bedrooms</th>\n",
       "      <th>population</th>\n",
       "      <th>households</th>\n",
       "      <th>median_income</th>\n",
       "      <th>median_house_value</th>\n",
       "      <th>&lt;1H OCEAN</th>\n",
       "      <th>INLAND</th>\n",
       "      <th>ISLAND</th>\n",
       "      <th>NEAR BAY</th>\n",
       "      <th>NEAR OCEAN</th>\n",
       "      <th>rooms_per_household</th>\n",
       "      <th>rooms_per_person</th>\n",
       "    </tr>\n",
       "  </thead>\n",
       "  <tbody>\n",
       "    <tr>\n",
       "      <th>0</th>\n",
       "      <td>-122.23</td>\n",
       "      <td>37.88</td>\n",
       "      <td>41.0</td>\n",
       "      <td>880.0</td>\n",
       "      <td>129.0</td>\n",
       "      <td>322.0</td>\n",
       "      <td>126.0</td>\n",
       "      <td>8.3252</td>\n",
       "      <td>452600.0</td>\n",
       "      <td>0.0</td>\n",
       "      <td>0.0</td>\n",
       "      <td>0.0</td>\n",
       "      <td>1.0</td>\n",
       "      <td>0.0</td>\n",
       "      <td>6.984127</td>\n",
       "      <td>2.732919</td>\n",
       "    </tr>\n",
       "    <tr>\n",
       "      <th>1</th>\n",
       "      <td>-122.22</td>\n",
       "      <td>37.86</td>\n",
       "      <td>21.0</td>\n",
       "      <td>7099.0</td>\n",
       "      <td>1106.0</td>\n",
       "      <td>2401.0</td>\n",
       "      <td>1138.0</td>\n",
       "      <td>8.3014</td>\n",
       "      <td>358500.0</td>\n",
       "      <td>0.0</td>\n",
       "      <td>0.0</td>\n",
       "      <td>0.0</td>\n",
       "      <td>1.0</td>\n",
       "      <td>0.0</td>\n",
       "      <td>6.238137</td>\n",
       "      <td>2.956685</td>\n",
       "    </tr>\n",
       "    <tr>\n",
       "      <th>2</th>\n",
       "      <td>-122.24</td>\n",
       "      <td>37.85</td>\n",
       "      <td>52.0</td>\n",
       "      <td>1467.0</td>\n",
       "      <td>190.0</td>\n",
       "      <td>496.0</td>\n",
       "      <td>177.0</td>\n",
       "      <td>7.2574</td>\n",
       "      <td>352100.0</td>\n",
       "      <td>0.0</td>\n",
       "      <td>0.0</td>\n",
       "      <td>0.0</td>\n",
       "      <td>1.0</td>\n",
       "      <td>0.0</td>\n",
       "      <td>8.288136</td>\n",
       "      <td>2.957661</td>\n",
       "    </tr>\n",
       "    <tr>\n",
       "      <th>3</th>\n",
       "      <td>-122.25</td>\n",
       "      <td>37.85</td>\n",
       "      <td>52.0</td>\n",
       "      <td>1274.0</td>\n",
       "      <td>235.0</td>\n",
       "      <td>558.0</td>\n",
       "      <td>219.0</td>\n",
       "      <td>5.6431</td>\n",
       "      <td>341300.0</td>\n",
       "      <td>0.0</td>\n",
       "      <td>0.0</td>\n",
       "      <td>0.0</td>\n",
       "      <td>1.0</td>\n",
       "      <td>0.0</td>\n",
       "      <td>5.817352</td>\n",
       "      <td>2.283154</td>\n",
       "    </tr>\n",
       "    <tr>\n",
       "      <th>4</th>\n",
       "      <td>-122.25</td>\n",
       "      <td>37.85</td>\n",
       "      <td>52.0</td>\n",
       "      <td>1627.0</td>\n",
       "      <td>280.0</td>\n",
       "      <td>565.0</td>\n",
       "      <td>259.0</td>\n",
       "      <td>3.8462</td>\n",
       "      <td>342200.0</td>\n",
       "      <td>0.0</td>\n",
       "      <td>0.0</td>\n",
       "      <td>0.0</td>\n",
       "      <td>1.0</td>\n",
       "      <td>0.0</td>\n",
       "      <td>6.281853</td>\n",
       "      <td>2.879646</td>\n",
       "    </tr>\n",
       "  </tbody>\n",
       "</table>\n",
       "</div>"
      ],
      "text/plain": [
       "   longitude  latitude  housing_median_age  total_rooms  total_bedrooms  \\\n",
       "0    -122.23     37.88                41.0        880.0           129.0   \n",
       "1    -122.22     37.86                21.0       7099.0          1106.0   \n",
       "2    -122.24     37.85                52.0       1467.0           190.0   \n",
       "3    -122.25     37.85                52.0       1274.0           235.0   \n",
       "4    -122.25     37.85                52.0       1627.0           280.0   \n",
       "\n",
       "   population  households  median_income  median_house_value  <1H OCEAN  \\\n",
       "0       322.0       126.0         8.3252            452600.0        0.0   \n",
       "1      2401.0      1138.0         8.3014            358500.0        0.0   \n",
       "2       496.0       177.0         7.2574            352100.0        0.0   \n",
       "3       558.0       219.0         5.6431            341300.0        0.0   \n",
       "4       565.0       259.0         3.8462            342200.0        0.0   \n",
       "\n",
       "   INLAND  ISLAND  NEAR BAY  NEAR OCEAN  rooms_per_household  rooms_per_person  \n",
       "0     0.0     0.0       1.0         0.0             6.984127          2.732919  \n",
       "1     0.0     0.0       1.0         0.0             6.238137          2.956685  \n",
       "2     0.0     0.0       1.0         0.0             8.288136          2.957661  \n",
       "3     0.0     0.0       1.0         0.0             5.817352          2.283154  \n",
       "4     0.0     0.0       1.0         0.0             6.281853          2.879646  "
      ]
     },
     "execution_count": 40,
     "metadata": {},
     "output_type": "execute_result"
    }
   ],
   "source": [
    "housing.head()"
   ]
  },
  {
   "cell_type": "code",
   "execution_count": 41,
   "id": "attached-rwanda",
   "metadata": {},
   "outputs": [],
   "source": [
    "predictors = housing.drop('median_house_value', axis = 1)\n",
    "target = housing.loc[:, ['median_house_value']]\n",
    "observation = predictors.loc[[420], :]"
   ]
  },
  {
   "cell_type": "code",
   "execution_count": 42,
   "id": "unknown-christian",
   "metadata": {},
   "outputs": [
    {
     "data": {
      "text/plain": [
       "array([390127.7688711])"
      ]
     },
     "execution_count": 42,
     "metadata": {},
     "output_type": "execute_result"
    }
   ],
   "source": [
    "random_forest.predict(observation)"
   ]
  },
  {
   "cell_type": "code",
   "execution_count": 43,
   "id": "happy-twist",
   "metadata": {},
   "outputs": [
    {
     "name": "stdout",
     "output_type": "stream",
     "text": [
      "Preparation of a new explainer is initiated\n",
      "\n",
      "  -> data              : 19608 rows 15 cols\n",
      "  -> target variable   : Parameter 'y' was a pandas.DataFrame. Converted to a numpy.ndarray.\n",
      "  -> target variable   : 19608 values\n",
      "  -> model_class       : sklearn.ensemble._forest.RandomForestRegressor (default)\n",
      "  -> label             : Not specified, model's class short name will be used. (default)\n",
      "  -> predict function  : <function yhat_default at 0x0000029434DE4E50> will be used (default)\n",
      "  -> predict function  : Accepts pandas.DataFrame and numpy.ndarray.\n",
      "  -> predicted values  : min = 5.77e+04, mean = 1.91e+05, max = 4.53e+05\n",
      "  -> model type        : regression will be used (default)\n",
      "  -> residual function : difference between y and yhat (default)\n",
      "  -> residuals         : min = -2.17e+05, mean = 1.82e+02, max = 3.35e+05\n",
      "  -> model_info        : package sklearn\n",
      "\n",
      "A new explainer has been created!\n"
     ]
    }
   ],
   "source": [
    "explainer = dx.Explainer(random_forest, predictors, target)"
   ]
  },
  {
   "cell_type": "code",
   "execution_count": 44,
   "id": "related-assumption",
   "metadata": {},
   "outputs": [],
   "source": [
    "pp = explainer.predict_parts(observation)"
   ]
  },
  {
   "cell_type": "code",
   "execution_count": 45,
   "id": "liked-steering",
   "metadata": {},
   "outputs": [
    {
     "data": {
      "application/vnd.plotly.v1+json": {
       "config": {
        "displaylogo": false,
        "modeBarButtonsToRemove": [
         "sendDataToCloud",
         "lasso2d",
         "autoScale2d",
         "select2d",
         "zoom2d",
         "pan2d",
         "zoomIn2d",
         "zoomOut2d",
         "resetScale2d",
         "toggleSpikelines",
         "hoverCompareCartesian",
         "hoverClosestCartesian"
        ],
        "plotlyServerURL": "https://plot.ly",
        "staticPlot": false,
        "toImageButtonOptions": {
         "height": null,
         "width": null
        }
       },
       "data": [
        {
         "base": 191256.27324241697,
         "connector": {
          "line": {
           "color": "#371ea3",
           "dash": "solid",
           "width": 1
          },
          "mode": "spanning"
         },
         "decreasing": {
          "marker": {
           "color": "#f05a71"
          }
         },
         "hoverinfo": "text+delta",
         "hoverlabel": {
          "bgcolor": "rgba(0,0,0,0.8)"
         },
         "hovertext": [
          "Average response: 191256.273<br>Prediction: 390127.769",
          "median_income = 7.538<br>increases average response by",
          "rooms_per_person = 3.04<br>increases average response by",
          "longitude = -122.2<br>increases average response by",
          "INLAND = 0.0<br>increases average response by",
          "housing_median_age = 37.0<br>increases average response by",
          "latitude = 37.89<br>decreases average response by",
          "rooms_per_household = 6.667<br>increases average response by",
          "total_rooms = 3000.0<br>increases average response by",
          "NEAR OCEAN = 0.0<br>decreases average response by",
          "<1H OCEAN = 0.0<br>increases average response by",
          "+ all other factors<br>increases average response by",
          "Average response: 191256.273<br>Prediction: 390127.769"
         ],
         "increasing": {
          "marker": {
           "color": "#8bdcbe"
          }
         },
         "measure": [
          "relative",
          "relative",
          "relative",
          "relative",
          "relative",
          "relative",
          "relative",
          "relative",
          "relative",
          "relative",
          "relative",
          "relative",
          "total"
         ],
         "orientation": "h",
         "showlegend": false,
         "text": [
          "191256.273",
          "+149240.885",
          "+11217.731",
          "+14305.871",
          "+13808.926",
          "+7381.49",
          "-8046.165",
          "+7774.661",
          "+1748.199",
          "-238.533",
          "+2.531",
          "+1675.899",
          "390127.769"
         ],
         "textposition": "outside",
         "totals": {
          "marker": {
           "color": "#371ea3"
          }
         },
         "type": "waterfall",
         "x": [
          0,
          149240.885,
          11217.731,
          14305.871,
          13808.926,
          7381.49,
          -8046.165,
          7774.661,
          1748.199,
          -238.533,
          2.531,
          1675.899,
          198871.496
         ],
         "xaxis": "x",
         "y": [
          "intercept",
          "median_income = 7.538",
          "rooms_per_person = 3.04",
          "longitude = -122.2",
          "INLAND = 0.0",
          "housing_median_age = 37.0",
          "latitude = 37.89",
          "rooms_per_household = 6.667",
          "total_rooms = 3000.0",
          "NEAR OCEAN = 0.0",
          "<1H OCEAN = 0.0",
          "+ all other factors",
          "prediction"
         ],
         "yaxis": "y"
        }
       ],
       "layout": {
        "annotations": [
         {
          "font": {
           "size": 16
          },
          "showarrow": false,
          "text": "RandomForestRegressor",
          "x": 0.5,
          "xanchor": "center",
          "xref": "paper",
          "y": 1,
          "yanchor": "bottom",
          "yref": "paper"
         },
         {
          "font": {
           "size": 16
          },
          "showarrow": false,
          "text": "contribution",
          "x": 0.5,
          "xanchor": "center",
          "xref": "paper",
          "y": 0,
          "yanchor": "top",
          "yref": "paper",
          "yshift": -30
         }
        ],
        "font": {
         "color": "#371ea3"
        },
        "height": 413,
        "margin": {
         "b": 71,
         "r": 30,
         "t": 78
        },
        "shapes": [
         {
          "line": {
           "color": "#371ea3",
           "dash": "dot",
           "width": 1.5
          },
          "type": "line",
          "x0": 191256.27324241697,
          "x1": 191256.27324241697,
          "xref": "x",
          "y0": -1,
          "y1": 13,
          "yref": "y"
         }
        ],
        "template": {
         "data": {
          "scatter": [
           {
            "type": "scatter"
           }
          ]
         }
        },
        "title": {
         "text": "Break Down",
         "x": 0.15
        },
        "xaxis": {
         "anchor": "y",
         "automargin": true,
         "domain": [
          0,
          1
         ],
         "fixedrange": true,
         "gridwidth": 2,
         "range": [
          161425.54859999998,
          419958.4934
         ],
         "tickcolor": "white",
         "ticklen": 3,
         "ticks": "outside",
         "type": "linear",
         "zeroline": false
        },
        "yaxis": {
         "anchor": "x",
         "automargin": true,
         "autorange": "reversed",
         "domain": [
          0,
          1
         ],
         "fixedrange": true,
         "gridwidth": 2,
         "tickcolor": "white",
         "ticklen": 10,
         "ticks": "outside",
         "type": "category"
        }
       }
      },
      "text/html": [
       "<div>                            <div id=\"66e60eb2-aa3d-4e96-b769-f835250a341d\" class=\"plotly-graph-div\" style=\"height:413.0px; width:100%;\"></div>            <script type=\"text/javascript\">                require([\"plotly\"], function(Plotly) {                    window.PLOTLYENV=window.PLOTLYENV || {};                                    if (document.getElementById(\"66e60eb2-aa3d-4e96-b769-f835250a341d\")) {                    Plotly.newPlot(                        \"66e60eb2-aa3d-4e96-b769-f835250a341d\",                        [{\"base\": 191256.27324241697, \"connector\": {\"line\": {\"color\": \"#371ea3\", \"dash\": \"solid\", \"width\": 1}, \"mode\": \"spanning\"}, \"decreasing\": {\"marker\": {\"color\": \"#f05a71\"}}, \"hoverinfo\": \"text+delta\", \"hoverlabel\": {\"bgcolor\": \"rgba(0,0,0,0.8)\"}, \"hovertext\": [\"Average response: 191256.273<br>Prediction: 390127.769\", \"median_income = 7.538<br>increases average response by\", \"rooms_per_person = 3.04<br>increases average response by\", \"longitude = -122.2<br>increases average response by\", \"INLAND = 0.0<br>increases average response by\", \"housing_median_age = 37.0<br>increases average response by\", \"latitude = 37.89<br>decreases average response by\", \"rooms_per_household = 6.667<br>increases average response by\", \"total_rooms = 3000.0<br>increases average response by\", \"NEAR OCEAN = 0.0<br>decreases average response by\", \"<1H OCEAN = 0.0<br>increases average response by\", \"+ all other factors<br>increases average response by\", \"Average response: 191256.273<br>Prediction: 390127.769\"], \"increasing\": {\"marker\": {\"color\": \"#8bdcbe\"}}, \"measure\": [\"relative\", \"relative\", \"relative\", \"relative\", \"relative\", \"relative\", \"relative\", \"relative\", \"relative\", \"relative\", \"relative\", \"relative\", \"total\"], \"orientation\": \"h\", \"showlegend\": false, \"text\": [\"191256.273\", \"+149240.885\", \"+11217.731\", \"+14305.871\", \"+13808.926\", \"+7381.49\", \"-8046.165\", \"+7774.661\", \"+1748.199\", \"-238.533\", \"+2.531\", \"+1675.899\", \"390127.769\"], \"textposition\": \"outside\", \"totals\": {\"marker\": {\"color\": \"#371ea3\"}}, \"type\": \"waterfall\", \"x\": [0.0, 149240.885, 11217.731, 14305.871, 13808.926, 7381.49, -8046.165, 7774.661, 1748.199, -238.533, 2.531, 1675.899, 198871.496], \"xaxis\": \"x\", \"y\": [\"intercept\", \"median_income = 7.538\", \"rooms_per_person = 3.04\", \"longitude = -122.2\", \"INLAND = 0.0\", \"housing_median_age = 37.0\", \"latitude = 37.89\", \"rooms_per_household = 6.667\", \"total_rooms = 3000.0\", \"NEAR OCEAN = 0.0\", \"<1H OCEAN = 0.0\", \"+ all other factors\", \"prediction\"], \"yaxis\": \"y\"}],                        {\"annotations\": [{\"font\": {\"size\": 16}, \"showarrow\": false, \"text\": \"RandomForestRegressor\", \"x\": 0.5, \"xanchor\": \"center\", \"xref\": \"paper\", \"y\": 1.0, \"yanchor\": \"bottom\", \"yref\": \"paper\"}, {\"font\": {\"size\": 16}, \"showarrow\": false, \"text\": \"contribution\", \"x\": 0.5, \"xanchor\": \"center\", \"xref\": \"paper\", \"y\": 0, \"yanchor\": \"top\", \"yref\": \"paper\", \"yshift\": -30}], \"font\": {\"color\": \"#371ea3\"}, \"height\": 413.0, \"margin\": {\"b\": 71, \"r\": 30, \"t\": 78}, \"shapes\": [{\"line\": {\"color\": \"#371ea3\", \"dash\": \"dot\", \"width\": 1.5}, \"type\": \"line\", \"x0\": 191256.27324241697, \"x1\": 191256.27324241697, \"xref\": \"x\", \"y0\": -1, \"y1\": 13, \"yref\": \"y\"}], \"template\": {\"data\": {\"scatter\": [{\"type\": \"scatter\"}]}}, \"title\": {\"text\": \"Break Down\", \"x\": 0.15}, \"xaxis\": {\"anchor\": \"y\", \"automargin\": true, \"domain\": [0.0, 1.0], \"fixedrange\": true, \"gridwidth\": 2, \"range\": [161425.54859999998, 419958.4934], \"tickcolor\": \"white\", \"ticklen\": 3, \"ticks\": \"outside\", \"type\": \"linear\", \"zeroline\": false}, \"yaxis\": {\"anchor\": \"x\", \"automargin\": true, \"autorange\": \"reversed\", \"domain\": [0.0, 1.0], \"fixedrange\": true, \"gridwidth\": 2, \"tickcolor\": \"white\", \"ticklen\": 10, \"ticks\": \"outside\", \"type\": \"category\"}},                        {\"displaylogo\": false, \"staticPlot\": false, \"toImageButtonOptions\": {\"height\": null, \"width\": null}, \"modeBarButtonsToRemove\": [\"sendDataToCloud\", \"lasso2d\", \"autoScale2d\", \"select2d\", \"zoom2d\", \"pan2d\", \"zoomIn2d\", \"zoomOut2d\", \"resetScale2d\", \"toggleSpikelines\", \"hoverCompareCartesian\", \"hoverClosestCartesian\"], \"responsive\": true}                    ).then(function(){\n",
       "                            \n",
       "var gd = document.getElementById('66e60eb2-aa3d-4e96-b769-f835250a341d');\n",
       "var x = new MutationObserver(function (mutations, observer) {{\n",
       "        var display = window.getComputedStyle(gd).display;\n",
       "        if (!display || display === 'none') {{\n",
       "            console.log([gd, 'removed!']);\n",
       "            Plotly.purge(gd);\n",
       "            observer.disconnect();\n",
       "        }}\n",
       "}});\n",
       "\n",
       "// Listen for the removal of the full notebook cells\n",
       "var notebookContainer = gd.closest('#notebook-container');\n",
       "if (notebookContainer) {{\n",
       "    x.observe(notebookContainer, {childList: true});\n",
       "}}\n",
       "\n",
       "// Listen for the clearing of the current output cell\n",
       "var outputEl = gd.closest('.output');\n",
       "if (outputEl) {{\n",
       "    x.observe(outputEl, {childList: true});\n",
       "}}\n",
       "\n",
       "                        })                };                });            </script>        </div>"
      ]
     },
     "metadata": {},
     "output_type": "display_data"
    }
   ],
   "source": [
    "pp.plot()"
   ]
  },
  {
   "cell_type": "code",
   "execution_count": 46,
   "id": "reverse-davis",
   "metadata": {},
   "outputs": [],
   "source": [
    "observation2 = predictors.loc[1024]\n",
    "observation3 = predictors.loc[34]\n",
    "observation4 = predictors.loc[2021]\n",
    "observation5 = predictors.loc[2137]"
   ]
  },
  {
   "cell_type": "code",
   "execution_count": 47,
   "id": "oriental-humanity",
   "metadata": {},
   "outputs": [
    {
     "data": {
      "application/vnd.plotly.v1+json": {
       "config": {
        "displaylogo": false,
        "modeBarButtonsToRemove": [
         "sendDataToCloud",
         "lasso2d",
         "autoScale2d",
         "select2d",
         "zoom2d",
         "pan2d",
         "zoomIn2d",
         "zoomOut2d",
         "resetScale2d",
         "toggleSpikelines",
         "hoverCompareCartesian",
         "hoverClosestCartesian"
        ],
        "plotlyServerURL": "https://plot.ly",
        "staticPlot": false,
        "toImageButtonOptions": {
         "height": null,
         "width": null
        }
       },
       "data": [
        {
         "base": 191256.27324241697,
         "connector": {
          "line": {
           "color": "#371ea3",
           "dash": "solid",
           "width": 1
          },
          "mode": "spanning"
         },
         "decreasing": {
          "marker": {
           "color": "#f05a71"
          }
         },
         "hoverinfo": "text+delta",
         "hoverlabel": {
          "bgcolor": "rgba(0,0,0,0.8)"
         },
         "hovertext": [
          "Average response: 191256.273<br>Prediction: 136558.206",
          "INLAND = 1.0<br>decreases average response by",
          "rooms_per_person = 2.548<br>increases average response by",
          "latitude:longitude = 38.43:-120.8<br>decreases average response by",
          "housing_median_age = 40.0<br>increases average response by",
          "rooms_per_household = 6.5<br>decreases average response by",
          "median_income = 3.911<br>decreases average response by",
          "total_bedrooms = 246.0<br>decreases average response by",
          "households = 214.0<br>decreases average response by",
          "total_rooms = 1391.0<br>decreases average response by",
          "NEAR OCEAN = 0.0<br>decreases average response by",
          "+ all other factors<br>decreases average response by",
          "Average response: 191256.273<br>Prediction: 136558.206"
         ],
         "increasing": {
          "marker": {
           "color": "#8bdcbe"
          }
         },
         "measure": [
          "relative",
          "relative",
          "relative",
          "relative",
          "relative",
          "relative",
          "relative",
          "relative",
          "relative",
          "relative",
          "relative",
          "relative",
          "total"
         ],
         "orientation": "h",
         "showlegend": false,
         "text": [
          "191256.273",
          "-34649.514",
          "+9543.404",
          "-13878.773",
          "+4844.392",
          "-2027.398",
          "-11191.887",
          "-38.031",
          "-2049.109",
          "-4225.683",
          "0.0",
          "-1025.467",
          "136558.206"
         ],
         "textposition": "outside",
         "totals": {
          "marker": {
           "color": "#371ea3"
          }
         },
         "type": "waterfall",
         "x": [
          0,
          -34649.514,
          9543.404,
          -13878.773,
          4844.392,
          -2027.398,
          -11191.887,
          -38.031,
          -2049.109,
          -4225.683,
          0,
          -1025.467,
          -54698.067
         ],
         "xaxis": "x",
         "y": [
          "intercept",
          "INLAND = 1.0",
          "rooms_per_person = 2.548",
          "latitude:longitude = 38.43:-120.8",
          "housing_median_age = 40.0",
          "rooms_per_household = 6.5",
          "median_income = 3.911",
          "total_bedrooms = 246.0",
          "households = 214.0",
          "total_rooms = 1391.0",
          "NEAR OCEAN = 0.0",
          "+ all other factors",
          "prediction"
         ],
         "yaxis": "y"
        }
       ],
       "layout": {
        "annotations": [
         {
          "font": {
           "size": 16
          },
          "showarrow": false,
          "text": "RandomForestRegressor",
          "x": 0.5,
          "xanchor": "center",
          "xref": "paper",
          "y": 1,
          "yanchor": "bottom",
          "yref": "paper"
         },
         {
          "font": {
           "size": 16
          },
          "showarrow": false,
          "text": "contribution",
          "x": 0.5,
          "xanchor": "center",
          "xref": "paper",
          "y": 0,
          "yanchor": "top",
          "yref": "paper",
          "yshift": -30
         }
        ],
        "font": {
         "color": "#371ea3"
        },
        "height": 413,
        "margin": {
         "b": 71,
         "r": 30,
         "t": 78
        },
        "shapes": [
         {
          "line": {
           "color": "#371ea3",
           "dash": "dot",
           "width": 1.5
          },
          "type": "line",
          "x0": 191256.27324241697,
          "x1": 191256.27324241697,
          "xref": "x",
          "y0": -1,
          "y1": 13,
          "yref": "y"
         }
        ],
        "template": {
         "data": {
          "scatter": [
           {
            "type": "scatter"
           }
          ]
         }
        },
        "title": {
         "text": "Break Down",
         "x": 0.15
        },
        "xaxis": {
         "anchor": "y",
         "automargin": true,
         "domain": [
          0,
          1
         ],
         "fixedrange": true,
         "gridwidth": 2,
         "range": [
          128353.49595000001,
          199460.98304999998
         ],
         "tickcolor": "white",
         "ticklen": 3,
         "ticks": "outside",
         "type": "linear",
         "zeroline": false
        },
        "yaxis": {
         "anchor": "x",
         "automargin": true,
         "autorange": "reversed",
         "domain": [
          0,
          1
         ],
         "fixedrange": true,
         "gridwidth": 2,
         "tickcolor": "white",
         "ticklen": 10,
         "ticks": "outside",
         "type": "category"
        }
       }
      },
      "text/html": [
       "<div>                            <div id=\"a0853062-288b-4123-b1f4-05c54b15a766\" class=\"plotly-graph-div\" style=\"height:413.0px; width:100%;\"></div>            <script type=\"text/javascript\">                require([\"plotly\"], function(Plotly) {                    window.PLOTLYENV=window.PLOTLYENV || {};                                    if (document.getElementById(\"a0853062-288b-4123-b1f4-05c54b15a766\")) {                    Plotly.newPlot(                        \"a0853062-288b-4123-b1f4-05c54b15a766\",                        [{\"base\": 191256.27324241697, \"connector\": {\"line\": {\"color\": \"#371ea3\", \"dash\": \"solid\", \"width\": 1}, \"mode\": \"spanning\"}, \"decreasing\": {\"marker\": {\"color\": \"#f05a71\"}}, \"hoverinfo\": \"text+delta\", \"hoverlabel\": {\"bgcolor\": \"rgba(0,0,0,0.8)\"}, \"hovertext\": [\"Average response: 191256.273<br>Prediction: 136558.206\", \"INLAND = 1.0<br>decreases average response by\", \"rooms_per_person = 2.548<br>increases average response by\", \"latitude:longitude = 38.43:-120.8<br>decreases average response by\", \"housing_median_age = 40.0<br>increases average response by\", \"rooms_per_household = 6.5<br>decreases average response by\", \"median_income = 3.911<br>decreases average response by\", \"total_bedrooms = 246.0<br>decreases average response by\", \"households = 214.0<br>decreases average response by\", \"total_rooms = 1391.0<br>decreases average response by\", \"NEAR OCEAN = 0.0<br>decreases average response by\", \"+ all other factors<br>decreases average response by\", \"Average response: 191256.273<br>Prediction: 136558.206\"], \"increasing\": {\"marker\": {\"color\": \"#8bdcbe\"}}, \"measure\": [\"relative\", \"relative\", \"relative\", \"relative\", \"relative\", \"relative\", \"relative\", \"relative\", \"relative\", \"relative\", \"relative\", \"relative\", \"total\"], \"orientation\": \"h\", \"showlegend\": false, \"text\": [\"191256.273\", \"-34649.514\", \"+9543.404\", \"-13878.773\", \"+4844.392\", \"-2027.398\", \"-11191.887\", \"-38.031\", \"-2049.109\", \"-4225.683\", \"0.0\", \"-1025.467\", \"136558.206\"], \"textposition\": \"outside\", \"totals\": {\"marker\": {\"color\": \"#371ea3\"}}, \"type\": \"waterfall\", \"x\": [0.0, -34649.514, 9543.404, -13878.773, 4844.392, -2027.398, -11191.887, -38.031, -2049.109, -4225.683, 0.0, -1025.467, -54698.067], \"xaxis\": \"x\", \"y\": [\"intercept\", \"INLAND = 1.0\", \"rooms_per_person = 2.548\", \"latitude:longitude = 38.43:-120.8\", \"housing_median_age = 40.0\", \"rooms_per_household = 6.5\", \"median_income = 3.911\", \"total_bedrooms = 246.0\", \"households = 214.0\", \"total_rooms = 1391.0\", \"NEAR OCEAN = 0.0\", \"+ all other factors\", \"prediction\"], \"yaxis\": \"y\"}],                        {\"annotations\": [{\"font\": {\"size\": 16}, \"showarrow\": false, \"text\": \"RandomForestRegressor\", \"x\": 0.5, \"xanchor\": \"center\", \"xref\": \"paper\", \"y\": 1.0, \"yanchor\": \"bottom\", \"yref\": \"paper\"}, {\"font\": {\"size\": 16}, \"showarrow\": false, \"text\": \"contribution\", \"x\": 0.5, \"xanchor\": \"center\", \"xref\": \"paper\", \"y\": 0, \"yanchor\": \"top\", \"yref\": \"paper\", \"yshift\": -30}], \"font\": {\"color\": \"#371ea3\"}, \"height\": 413.0, \"margin\": {\"b\": 71, \"r\": 30, \"t\": 78}, \"shapes\": [{\"line\": {\"color\": \"#371ea3\", \"dash\": \"dot\", \"width\": 1.5}, \"type\": \"line\", \"x0\": 191256.27324241697, \"x1\": 191256.27324241697, \"xref\": \"x\", \"y0\": -1, \"y1\": 13, \"yref\": \"y\"}], \"template\": {\"data\": {\"scatter\": [{\"type\": \"scatter\"}]}}, \"title\": {\"text\": \"Break Down\", \"x\": 0.15}, \"xaxis\": {\"anchor\": \"y\", \"automargin\": true, \"domain\": [0.0, 1.0], \"fixedrange\": true, \"gridwidth\": 2, \"range\": [128353.49595000001, 199460.98304999998], \"tickcolor\": \"white\", \"ticklen\": 3, \"ticks\": \"outside\", \"type\": \"linear\", \"zeroline\": false}, \"yaxis\": {\"anchor\": \"x\", \"automargin\": true, \"autorange\": \"reversed\", \"domain\": [0.0, 1.0], \"fixedrange\": true, \"gridwidth\": 2, \"tickcolor\": \"white\", \"ticklen\": 10, \"ticks\": \"outside\", \"type\": \"category\"}},                        {\"displaylogo\": false, \"staticPlot\": false, \"toImageButtonOptions\": {\"height\": null, \"width\": null}, \"modeBarButtonsToRemove\": [\"sendDataToCloud\", \"lasso2d\", \"autoScale2d\", \"select2d\", \"zoom2d\", \"pan2d\", \"zoomIn2d\", \"zoomOut2d\", \"resetScale2d\", \"toggleSpikelines\", \"hoverCompareCartesian\", \"hoverClosestCartesian\"], \"responsive\": true}                    ).then(function(){\n",
       "                            \n",
       "var gd = document.getElementById('a0853062-288b-4123-b1f4-05c54b15a766');\n",
       "var x = new MutationObserver(function (mutations, observer) {{\n",
       "        var display = window.getComputedStyle(gd).display;\n",
       "        if (!display || display === 'none') {{\n",
       "            console.log([gd, 'removed!']);\n",
       "            Plotly.purge(gd);\n",
       "            observer.disconnect();\n",
       "        }}\n",
       "}});\n",
       "\n",
       "// Listen for the removal of the full notebook cells\n",
       "var notebookContainer = gd.closest('#notebook-container');\n",
       "if (notebookContainer) {{\n",
       "    x.observe(notebookContainer, {childList: true});\n",
       "}}\n",
       "\n",
       "// Listen for the clearing of the current output cell\n",
       "var outputEl = gd.closest('.output');\n",
       "if (outputEl) {{\n",
       "    x.observe(outputEl, {childList: true});\n",
       "}}\n",
       "\n",
       "                        })                };                });            </script>        </div>"
      ]
     },
     "metadata": {},
     "output_type": "display_data"
    }
   ],
   "source": [
    "explainer.predict_parts(observation2).plot()"
   ]
  },
  {
   "cell_type": "markdown",
   "id": "efficient-giving",
   "metadata": {},
   "source": [
    "W `observation1` `rooms_per_household` na poziomie 6.67 ma wpływ dodatni, a w `observation2` - ujemny. By wyjaśnić ten paradoks, trzeba spojrzeć na szerszy kontekst.\n",
    "\n",
    "`observation1` dotyczy posiadłości nad zatoką posiadanej przez dobrze zarabiające osoby. Możemy zakładać, że tu więcej przestrzeni to wyższa wartość.\n",
    "\n",
    "`observation2` z kolei dotyczy nieruchomości w głębi lądu posiadanej przez słabiej zarabiające osoby."
   ]
  },
  {
   "cell_type": "code",
   "execution_count": 49,
   "id": "north-november",
   "metadata": {},
   "outputs": [
    {
     "data": {
      "application/vnd.plotly.v1+json": {
       "config": {
        "displaylogo": false,
        "modeBarButtonsToRemove": [
         "sendDataToCloud",
         "lasso2d",
         "autoScale2d",
         "select2d",
         "zoom2d",
         "pan2d",
         "zoomIn2d",
         "zoomOut2d",
         "resetScale2d",
         "toggleSpikelines",
         "hoverCompareCartesian",
         "hoverClosestCartesian"
        ],
        "plotlyServerURL": "https://plot.ly",
        "staticPlot": false,
        "toImageButtonOptions": {
         "height": null,
         "width": null
        }
       },
       "data": [
        {
         "base": 191256.27324241697,
         "connector": {
          "line": {
           "color": "#371ea3",
           "dash": "solid",
           "width": 1
          },
          "mode": "spanning"
         },
         "decreasing": {
          "marker": {
           "color": "#f05a71"
          }
         },
         "hoverinfo": "text+delta",
         "hoverlabel": {
          "bgcolor": "rgba(0,0,0,0.8)"
         },
         "hovertext": [
          "Average response: 191256.273<br>Prediction: 82751.019",
          "INLAND = 1.0<br>decreases average response by",
          "longitude = -119.7<br>increases average response by",
          "median_income = 3.018<br>decreases average response by",
          "rooms_per_person = 1.819<br>increases average response by",
          "rooms_per_household = 5.792<br>decreases average response by",
          "latitude = 36.71<br>decreases average response by",
          "housing_median_age = 7.0<br>decreases average response by",
          "NEAR OCEAN = 0.0<br>decreases average response by",
          "total_bedrooms = 463.0<br>decreases average response by",
          "<1H OCEAN = 0.0<br>decreases average response by",
          "+ all other factors<br>decreases average response by",
          "Average response: 191256.273<br>Prediction: 82751.019"
         ],
         "increasing": {
          "marker": {
           "color": "#8bdcbe"
          }
         },
         "measure": [
          "relative",
          "relative",
          "relative",
          "relative",
          "relative",
          "relative",
          "relative",
          "relative",
          "relative",
          "relative",
          "relative",
          "relative",
          "total"
         ],
         "orientation": "h",
         "showlegend": false,
         "text": [
          "191256.273",
          "-34649.514",
          "+1336.353",
          "-9057.593",
          "+1294.818",
          "-1183.113",
          "-64968.324",
          "-3.769",
          "0.0",
          "-274.916",
          "0.0",
          "-999.197",
          "82751.019"
         ],
         "textposition": "outside",
         "totals": {
          "marker": {
           "color": "#371ea3"
          }
         },
         "type": "waterfall",
         "x": [
          0,
          -34649.514,
          1336.353,
          -9057.593,
          1294.818,
          -1183.113,
          -64968.324,
          -3.769,
          0,
          -274.916,
          0,
          -999.197,
          -108505.254
         ],
         "xaxis": "x",
         "y": [
          "intercept",
          "INLAND = 1.0",
          "longitude = -119.7",
          "median_income = 3.018",
          "rooms_per_person = 1.819",
          "rooms_per_household = 5.792",
          "latitude = 36.71",
          "housing_median_age = 7.0",
          "NEAR OCEAN = 0.0",
          "total_bedrooms = 463.0",
          "<1H OCEAN = 0.0",
          "+ all other factors",
          "prediction"
         ],
         "yaxis": "y"
        }
       ],
       "layout": {
        "annotations": [
         {
          "font": {
           "size": 16
          },
          "showarrow": false,
          "text": "RandomForestRegressor",
          "x": 0.5,
          "xanchor": "center",
          "xref": "paper",
          "y": 1,
          "yanchor": "bottom",
          "yref": "paper"
         },
         {
          "font": {
           "size": 16
          },
          "showarrow": false,
          "text": "contribution",
          "x": 0.5,
          "xanchor": "center",
          "xref": "paper",
          "y": 0,
          "yanchor": "top",
          "yref": "paper",
          "yshift": -30
         }
        ],
        "font": {
         "color": "#371ea3"
        },
        "height": 413,
        "margin": {
         "b": 71,
         "r": 30,
         "t": 78
        },
        "shapes": [
         {
          "line": {
           "color": "#371ea3",
           "dash": "dot",
           "width": 1.5
          },
          "type": "line",
          "x0": 191256.27324241697,
          "x1": 191256.27324241697,
          "xref": "x",
          "y0": -1,
          "y1": 13,
          "yref": "y"
         }
        ],
        "template": {
         "data": {
          "scatter": [
           {
            "type": "scatter"
           }
          ]
         }
        },
        "title": {
         "text": "Break Down",
         "x": 0.15
        },
        "xaxis": {
         "anchor": "y",
         "automargin": true,
         "domain": [
          0,
          1
         ],
         "fixedrange": true,
         "gridwidth": 2,
         "range": [
          66475.2309,
          207532.0611
         ],
         "tickcolor": "white",
         "ticklen": 3,
         "ticks": "outside",
         "type": "linear",
         "zeroline": false
        },
        "yaxis": {
         "anchor": "x",
         "automargin": true,
         "autorange": "reversed",
         "domain": [
          0,
          1
         ],
         "fixedrange": true,
         "gridwidth": 2,
         "tickcolor": "white",
         "ticklen": 10,
         "ticks": "outside",
         "type": "category"
        }
       }
      },
      "text/html": [
       "<div>                            <div id=\"15be7e97-f8bb-493b-a0b8-aba22c4ba71c\" class=\"plotly-graph-div\" style=\"height:413.0px; width:100%;\"></div>            <script type=\"text/javascript\">                require([\"plotly\"], function(Plotly) {                    window.PLOTLYENV=window.PLOTLYENV || {};                                    if (document.getElementById(\"15be7e97-f8bb-493b-a0b8-aba22c4ba71c\")) {                    Plotly.newPlot(                        \"15be7e97-f8bb-493b-a0b8-aba22c4ba71c\",                        [{\"base\": 191256.27324241697, \"connector\": {\"line\": {\"color\": \"#371ea3\", \"dash\": \"solid\", \"width\": 1}, \"mode\": \"spanning\"}, \"decreasing\": {\"marker\": {\"color\": \"#f05a71\"}}, \"hoverinfo\": \"text+delta\", \"hoverlabel\": {\"bgcolor\": \"rgba(0,0,0,0.8)\"}, \"hovertext\": [\"Average response: 191256.273<br>Prediction: 82751.019\", \"INLAND = 1.0<br>decreases average response by\", \"longitude = -119.7<br>increases average response by\", \"median_income = 3.018<br>decreases average response by\", \"rooms_per_person = 1.819<br>increases average response by\", \"rooms_per_household = 5.792<br>decreases average response by\", \"latitude = 36.71<br>decreases average response by\", \"housing_median_age = 7.0<br>decreases average response by\", \"NEAR OCEAN = 0.0<br>decreases average response by\", \"total_bedrooms = 463.0<br>decreases average response by\", \"<1H OCEAN = 0.0<br>decreases average response by\", \"+ all other factors<br>decreases average response by\", \"Average response: 191256.273<br>Prediction: 82751.019\"], \"increasing\": {\"marker\": {\"color\": \"#8bdcbe\"}}, \"measure\": [\"relative\", \"relative\", \"relative\", \"relative\", \"relative\", \"relative\", \"relative\", \"relative\", \"relative\", \"relative\", \"relative\", \"relative\", \"total\"], \"orientation\": \"h\", \"showlegend\": false, \"text\": [\"191256.273\", \"-34649.514\", \"+1336.353\", \"-9057.593\", \"+1294.818\", \"-1183.113\", \"-64968.324\", \"-3.769\", \"0.0\", \"-274.916\", \"0.0\", \"-999.197\", \"82751.019\"], \"textposition\": \"outside\", \"totals\": {\"marker\": {\"color\": \"#371ea3\"}}, \"type\": \"waterfall\", \"x\": [0.0, -34649.514, 1336.353, -9057.593, 1294.818, -1183.113, -64968.324, -3.769, 0.0, -274.916, 0.0, -999.197, -108505.254], \"xaxis\": \"x\", \"y\": [\"intercept\", \"INLAND = 1.0\", \"longitude = -119.7\", \"median_income = 3.018\", \"rooms_per_person = 1.819\", \"rooms_per_household = 5.792\", \"latitude = 36.71\", \"housing_median_age = 7.0\", \"NEAR OCEAN = 0.0\", \"total_bedrooms = 463.0\", \"<1H OCEAN = 0.0\", \"+ all other factors\", \"prediction\"], \"yaxis\": \"y\"}],                        {\"annotations\": [{\"font\": {\"size\": 16}, \"showarrow\": false, \"text\": \"RandomForestRegressor\", \"x\": 0.5, \"xanchor\": \"center\", \"xref\": \"paper\", \"y\": 1.0, \"yanchor\": \"bottom\", \"yref\": \"paper\"}, {\"font\": {\"size\": 16}, \"showarrow\": false, \"text\": \"contribution\", \"x\": 0.5, \"xanchor\": \"center\", \"xref\": \"paper\", \"y\": 0, \"yanchor\": \"top\", \"yref\": \"paper\", \"yshift\": -30}], \"font\": {\"color\": \"#371ea3\"}, \"height\": 413.0, \"margin\": {\"b\": 71, \"r\": 30, \"t\": 78}, \"shapes\": [{\"line\": {\"color\": \"#371ea3\", \"dash\": \"dot\", \"width\": 1.5}, \"type\": \"line\", \"x0\": 191256.27324241697, \"x1\": 191256.27324241697, \"xref\": \"x\", \"y0\": -1, \"y1\": 13, \"yref\": \"y\"}], \"template\": {\"data\": {\"scatter\": [{\"type\": \"scatter\"}]}}, \"title\": {\"text\": \"Break Down\", \"x\": 0.15}, \"xaxis\": {\"anchor\": \"y\", \"automargin\": true, \"domain\": [0.0, 1.0], \"fixedrange\": true, \"gridwidth\": 2, \"range\": [66475.2309, 207532.0611], \"tickcolor\": \"white\", \"ticklen\": 3, \"ticks\": \"outside\", \"type\": \"linear\", \"zeroline\": false}, \"yaxis\": {\"anchor\": \"x\", \"automargin\": true, \"autorange\": \"reversed\", \"domain\": [0.0, 1.0], \"fixedrange\": true, \"gridwidth\": 2, \"tickcolor\": \"white\", \"ticklen\": 10, \"ticks\": \"outside\", \"type\": \"category\"}},                        {\"displaylogo\": false, \"staticPlot\": false, \"toImageButtonOptions\": {\"height\": null, \"width\": null}, \"modeBarButtonsToRemove\": [\"sendDataToCloud\", \"lasso2d\", \"autoScale2d\", \"select2d\", \"zoom2d\", \"pan2d\", \"zoomIn2d\", \"zoomOut2d\", \"resetScale2d\", \"toggleSpikelines\", \"hoverCompareCartesian\", \"hoverClosestCartesian\"], \"responsive\": true}                    ).then(function(){\n",
       "                            \n",
       "var gd = document.getElementById('15be7e97-f8bb-493b-a0b8-aba22c4ba71c');\n",
       "var x = new MutationObserver(function (mutations, observer) {{\n",
       "        var display = window.getComputedStyle(gd).display;\n",
       "        if (!display || display === 'none') {{\n",
       "            console.log([gd, 'removed!']);\n",
       "            Plotly.purge(gd);\n",
       "            observer.disconnect();\n",
       "        }}\n",
       "}});\n",
       "\n",
       "// Listen for the removal of the full notebook cells\n",
       "var notebookContainer = gd.closest('#notebook-container');\n",
       "if (notebookContainer) {{\n",
       "    x.observe(notebookContainer, {childList: true});\n",
       "}}\n",
       "\n",
       "// Listen for the clearing of the current output cell\n",
       "var outputEl = gd.closest('.output');\n",
       "if (outputEl) {{\n",
       "    x.observe(outputEl, {childList: true});\n",
       "}}\n",
       "\n",
       "                        })                };                });            </script>        </div>"
      ]
     },
     "metadata": {},
     "output_type": "display_data"
    }
   ],
   "source": [
    "explainer.predict_parts(observation4).plot()"
   ]
  },
  {
   "cell_type": "markdown",
   "id": "empty-guyana",
   "metadata": {},
   "source": [
    "W `observation1` dominującą zmienną było `median_income`, natomiast w `observation4` - `INLAND` oraz `latitude`.\n",
    "\n",
    "Gdzie jest położone domostwo z `observation4` ?\n",
    "![](california_latlong.jpg)\n",
    "\n",
    "Są to przedmieścia Los Angeles, niedaleko Santa Barbary. Niewykluczone, że tam po prostu nie spotyka się posiadłości osób zamożniejszech."
   ]
  }
 ],
 "metadata": {
  "kernelspec": {
   "display_name": "Python 3",
   "language": "python",
   "name": "python3"
  },
  "language_info": {
   "codemirror_mode": {
    "name": "ipython",
    "version": 3
   },
   "file_extension": ".py",
   "mimetype": "text/x-python",
   "name": "python",
   "nbconvert_exporter": "python",
   "pygments_lexer": "ipython3",
   "version": "3.8.5"
  }
 },
 "nbformat": 4,
 "nbformat_minor": 5
}
