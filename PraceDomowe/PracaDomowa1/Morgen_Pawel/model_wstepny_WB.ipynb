{
 "cells": [
  {
   "cell_type": "code",
   "execution_count": 80,
   "id": "alpine-heading",
   "metadata": {},
   "outputs": [],
   "source": [
    "import pandas as pd \n",
    "import numpy as np\n",
    "import matplotlib.pyplot as plt\n",
    "import seaborn as sns\n",
    "import os\n",
    "import sklearn"
   ]
  },
  {
   "cell_type": "code",
   "execution_count": 81,
   "id": "equal-steam",
   "metadata": {},
   "outputs": [],
   "source": [
    "housing = pd.read_csv('housing.csv')"
   ]
  },
  {
   "cell_type": "code",
   "execution_count": 82,
   "id": "divided-stylus",
   "metadata": {},
   "outputs": [
    {
     "data": {
      "text/html": [
       "<div>\n",
       "<style scoped>\n",
       "    .dataframe tbody tr th:only-of-type {\n",
       "        vertical-align: middle;\n",
       "    }\n",
       "\n",
       "    .dataframe tbody tr th {\n",
       "        vertical-align: top;\n",
       "    }\n",
       "\n",
       "    .dataframe thead th {\n",
       "        text-align: right;\n",
       "    }\n",
       "</style>\n",
       "<table border=\"1\" class=\"dataframe\">\n",
       "  <thead>\n",
       "    <tr style=\"text-align: right;\">\n",
       "      <th></th>\n",
       "      <th>longitude</th>\n",
       "      <th>latitude</th>\n",
       "      <th>housing_median_age</th>\n",
       "      <th>total_rooms</th>\n",
       "      <th>total_bedrooms</th>\n",
       "      <th>population</th>\n",
       "      <th>households</th>\n",
       "      <th>median_income</th>\n",
       "      <th>median_house_value</th>\n",
       "      <th>ocean_proximity</th>\n",
       "    </tr>\n",
       "  </thead>\n",
       "  <tbody>\n",
       "    <tr>\n",
       "      <th>0</th>\n",
       "      <td>-122.23</td>\n",
       "      <td>37.88</td>\n",
       "      <td>41.0</td>\n",
       "      <td>880.0</td>\n",
       "      <td>129.0</td>\n",
       "      <td>322.0</td>\n",
       "      <td>126.0</td>\n",
       "      <td>8.3252</td>\n",
       "      <td>452600.0</td>\n",
       "      <td>NEAR BAY</td>\n",
       "    </tr>\n",
       "    <tr>\n",
       "      <th>1</th>\n",
       "      <td>-122.22</td>\n",
       "      <td>37.86</td>\n",
       "      <td>21.0</td>\n",
       "      <td>7099.0</td>\n",
       "      <td>1106.0</td>\n",
       "      <td>2401.0</td>\n",
       "      <td>1138.0</td>\n",
       "      <td>8.3014</td>\n",
       "      <td>358500.0</td>\n",
       "      <td>NEAR BAY</td>\n",
       "    </tr>\n",
       "    <tr>\n",
       "      <th>2</th>\n",
       "      <td>-122.24</td>\n",
       "      <td>37.85</td>\n",
       "      <td>52.0</td>\n",
       "      <td>1467.0</td>\n",
       "      <td>190.0</td>\n",
       "      <td>496.0</td>\n",
       "      <td>177.0</td>\n",
       "      <td>7.2574</td>\n",
       "      <td>352100.0</td>\n",
       "      <td>NEAR BAY</td>\n",
       "    </tr>\n",
       "    <tr>\n",
       "      <th>3</th>\n",
       "      <td>-122.25</td>\n",
       "      <td>37.85</td>\n",
       "      <td>52.0</td>\n",
       "      <td>1274.0</td>\n",
       "      <td>235.0</td>\n",
       "      <td>558.0</td>\n",
       "      <td>219.0</td>\n",
       "      <td>5.6431</td>\n",
       "      <td>341300.0</td>\n",
       "      <td>NEAR BAY</td>\n",
       "    </tr>\n",
       "    <tr>\n",
       "      <th>4</th>\n",
       "      <td>-122.25</td>\n",
       "      <td>37.85</td>\n",
       "      <td>52.0</td>\n",
       "      <td>1627.0</td>\n",
       "      <td>280.0</td>\n",
       "      <td>565.0</td>\n",
       "      <td>259.0</td>\n",
       "      <td>3.8462</td>\n",
       "      <td>342200.0</td>\n",
       "      <td>NEAR BAY</td>\n",
       "    </tr>\n",
       "  </tbody>\n",
       "</table>\n",
       "</div>"
      ],
      "text/plain": [
       "   longitude  latitude  housing_median_age  total_rooms  total_bedrooms  \\\n",
       "0    -122.23     37.88                41.0        880.0           129.0   \n",
       "1    -122.22     37.86                21.0       7099.0          1106.0   \n",
       "2    -122.24     37.85                52.0       1467.0           190.0   \n",
       "3    -122.25     37.85                52.0       1274.0           235.0   \n",
       "4    -122.25     37.85                52.0       1627.0           280.0   \n",
       "\n",
       "   population  households  median_income  median_house_value ocean_proximity  \n",
       "0       322.0       126.0         8.3252            452600.0        NEAR BAY  \n",
       "1      2401.0      1138.0         8.3014            358500.0        NEAR BAY  \n",
       "2       496.0       177.0         7.2574            352100.0        NEAR BAY  \n",
       "3       558.0       219.0         5.6431            341300.0        NEAR BAY  \n",
       "4       565.0       259.0         3.8462            342200.0        NEAR BAY  "
      ]
     },
     "execution_count": 82,
     "metadata": {},
     "output_type": "execute_result"
    }
   ],
   "source": [
    "housing.head()"
   ]
  },
  {
   "cell_type": "code",
   "execution_count": 83,
   "id": "front-semiconductor",
   "metadata": {},
   "outputs": [
    {
     "name": "stdout",
     "output_type": "stream",
     "text": [
      "<class 'pandas.core.frame.DataFrame'>\n",
      "RangeIndex: 20640 entries, 0 to 20639\n",
      "Data columns (total 10 columns):\n",
      " #   Column              Non-Null Count  Dtype  \n",
      "---  ------              --------------  -----  \n",
      " 0   longitude           20640 non-null  float64\n",
      " 1   latitude            20640 non-null  float64\n",
      " 2   housing_median_age  20640 non-null  float64\n",
      " 3   total_rooms         20640 non-null  float64\n",
      " 4   total_bedrooms      20433 non-null  float64\n",
      " 5   population          20640 non-null  float64\n",
      " 6   households          20640 non-null  float64\n",
      " 7   median_income       20640 non-null  float64\n",
      " 8   median_house_value  20640 non-null  float64\n",
      " 9   ocean_proximity     20640 non-null  object \n",
      "dtypes: float64(9), object(1)\n",
      "memory usage: 1.6+ MB\n"
     ]
    }
   ],
   "source": [
    "housing.info()"
   ]
  },
  {
   "cell_type": "markdown",
   "id": "supported-greeting",
   "metadata": {},
   "source": [
    "207 brakujących wartości w kolumnie total_bedrooms. Zastąpimy je medianą reszty, pełnych rekordów."
   ]
  },
  {
   "cell_type": "code",
   "execution_count": 84,
   "id": "acoustic-triangle",
   "metadata": {},
   "outputs": [],
   "source": [
    "from sklearn.impute import SimpleImputer\n",
    "imputer =SimpleImputer(strategy='median')"
   ]
  },
  {
   "cell_type": "markdown",
   "id": "treated-spanish",
   "metadata": {},
   "source": [
    "Jednak najpierw musimy zająć się kolumną z danymi kategorycznymi (ocean_proximity). Zastosujemy tu OneHotEncoding."
   ]
  },
  {
   "cell_type": "code",
   "execution_count": 85,
   "id": "excellent-drove",
   "metadata": {},
   "outputs": [],
   "source": [
    "ocean_proximity_encoded = pd.get_dummies(housing['ocean_proximity'])\n",
    "housing = pd.concat([housing, ocean_proximity_encoded], axis = 1).drop('ocean_proximity', axis = 1)"
   ]
  },
  {
   "cell_type": "markdown",
   "id": "involved-sussex",
   "metadata": {},
   "source": [
    "Teraz możemy uzupełnić brakujące wartości total_bedrooms."
   ]
  },
  {
   "cell_type": "code",
   "execution_count": 86,
   "id": "accompanied-stylus",
   "metadata": {
    "scrolled": false
   },
   "outputs": [
    {
     "name": "stdout",
     "output_type": "stream",
     "text": [
      "<class 'pandas.core.frame.DataFrame'>\n",
      "RangeIndex: 20640 entries, 0 to 20639\n",
      "Data columns (total 14 columns):\n",
      " #   Column              Non-Null Count  Dtype  \n",
      "---  ------              --------------  -----  \n",
      " 0   longitude           20640 non-null  float64\n",
      " 1   latitude            20640 non-null  float64\n",
      " 2   housing_median_age  20640 non-null  float64\n",
      " 3   total_rooms         20640 non-null  float64\n",
      " 4   total_bedrooms      20640 non-null  float64\n",
      " 5   population          20640 non-null  float64\n",
      " 6   households          20640 non-null  float64\n",
      " 7   median_income       20640 non-null  float64\n",
      " 8   median_house_value  20640 non-null  float64\n",
      " 9   <1H OCEAN           20640 non-null  float64\n",
      " 10  INLAND              20640 non-null  float64\n",
      " 11  ISLAND              20640 non-null  float64\n",
      " 12  NEAR BAY            20640 non-null  float64\n",
      " 13  NEAR OCEAN          20640 non-null  float64\n",
      "dtypes: float64(14)\n",
      "memory usage: 2.2 MB\n"
     ]
    }
   ],
   "source": [
    "imputer.fit(housing);\n",
    "result = imputer.transform(housing);\n",
    "transformed_df = pd.DataFrame(result, columns = housing.columns)\n",
    "transformed_df.info()\n",
    "housing = transformed_df"
   ]
  },
  {
   "cell_type": "markdown",
   "id": "imposed-tennessee",
   "metadata": {},
   "source": [
    "Następnie stworzymy dodatkowe kolumny, które aż się proszą o dodanie do ramki danych. Będzie to np. rooms_per_household czy population_per_household."
   ]
  },
  {
   "cell_type": "code",
   "execution_count": 87,
   "id": "ongoing-finnish",
   "metadata": {},
   "outputs": [
    {
     "data": {
      "text/html": [
       "<div>\n",
       "<style scoped>\n",
       "    .dataframe tbody tr th:only-of-type {\n",
       "        vertical-align: middle;\n",
       "    }\n",
       "\n",
       "    .dataframe tbody tr th {\n",
       "        vertical-align: top;\n",
       "    }\n",
       "\n",
       "    .dataframe thead th {\n",
       "        text-align: right;\n",
       "    }\n",
       "</style>\n",
       "<table border=\"1\" class=\"dataframe\">\n",
       "  <thead>\n",
       "    <tr style=\"text-align: right;\">\n",
       "      <th></th>\n",
       "      <th>longitude</th>\n",
       "      <th>latitude</th>\n",
       "      <th>housing_median_age</th>\n",
       "      <th>total_rooms</th>\n",
       "      <th>total_bedrooms</th>\n",
       "      <th>population</th>\n",
       "      <th>households</th>\n",
       "      <th>median_income</th>\n",
       "      <th>median_house_value</th>\n",
       "      <th>&lt;1H OCEAN</th>\n",
       "      <th>INLAND</th>\n",
       "      <th>ISLAND</th>\n",
       "      <th>NEAR BAY</th>\n",
       "      <th>NEAR OCEAN</th>\n",
       "      <th>rooms_per_household</th>\n",
       "      <th>population_per_household</th>\n",
       "      <th>rooms_per_person</th>\n",
       "    </tr>\n",
       "  </thead>\n",
       "  <tbody>\n",
       "    <tr>\n",
       "      <th>0</th>\n",
       "      <td>-122.23</td>\n",
       "      <td>37.88</td>\n",
       "      <td>41.0</td>\n",
       "      <td>880.0</td>\n",
       "      <td>129.0</td>\n",
       "      <td>322.0</td>\n",
       "      <td>126.0</td>\n",
       "      <td>8.3252</td>\n",
       "      <td>452600.0</td>\n",
       "      <td>0.0</td>\n",
       "      <td>0.0</td>\n",
       "      <td>0.0</td>\n",
       "      <td>1.0</td>\n",
       "      <td>0.0</td>\n",
       "      <td>6.984127</td>\n",
       "      <td>2.555556</td>\n",
       "      <td>2.732919</td>\n",
       "    </tr>\n",
       "    <tr>\n",
       "      <th>1</th>\n",
       "      <td>-122.22</td>\n",
       "      <td>37.86</td>\n",
       "      <td>21.0</td>\n",
       "      <td>7099.0</td>\n",
       "      <td>1106.0</td>\n",
       "      <td>2401.0</td>\n",
       "      <td>1138.0</td>\n",
       "      <td>8.3014</td>\n",
       "      <td>358500.0</td>\n",
       "      <td>0.0</td>\n",
       "      <td>0.0</td>\n",
       "      <td>0.0</td>\n",
       "      <td>1.0</td>\n",
       "      <td>0.0</td>\n",
       "      <td>6.238137</td>\n",
       "      <td>2.109842</td>\n",
       "      <td>2.956685</td>\n",
       "    </tr>\n",
       "    <tr>\n",
       "      <th>2</th>\n",
       "      <td>-122.24</td>\n",
       "      <td>37.85</td>\n",
       "      <td>52.0</td>\n",
       "      <td>1467.0</td>\n",
       "      <td>190.0</td>\n",
       "      <td>496.0</td>\n",
       "      <td>177.0</td>\n",
       "      <td>7.2574</td>\n",
       "      <td>352100.0</td>\n",
       "      <td>0.0</td>\n",
       "      <td>0.0</td>\n",
       "      <td>0.0</td>\n",
       "      <td>1.0</td>\n",
       "      <td>0.0</td>\n",
       "      <td>8.288136</td>\n",
       "      <td>2.802260</td>\n",
       "      <td>2.957661</td>\n",
       "    </tr>\n",
       "    <tr>\n",
       "      <th>3</th>\n",
       "      <td>-122.25</td>\n",
       "      <td>37.85</td>\n",
       "      <td>52.0</td>\n",
       "      <td>1274.0</td>\n",
       "      <td>235.0</td>\n",
       "      <td>558.0</td>\n",
       "      <td>219.0</td>\n",
       "      <td>5.6431</td>\n",
       "      <td>341300.0</td>\n",
       "      <td>0.0</td>\n",
       "      <td>0.0</td>\n",
       "      <td>0.0</td>\n",
       "      <td>1.0</td>\n",
       "      <td>0.0</td>\n",
       "      <td>5.817352</td>\n",
       "      <td>2.547945</td>\n",
       "      <td>2.283154</td>\n",
       "    </tr>\n",
       "    <tr>\n",
       "      <th>4</th>\n",
       "      <td>-122.25</td>\n",
       "      <td>37.85</td>\n",
       "      <td>52.0</td>\n",
       "      <td>1627.0</td>\n",
       "      <td>280.0</td>\n",
       "      <td>565.0</td>\n",
       "      <td>259.0</td>\n",
       "      <td>3.8462</td>\n",
       "      <td>342200.0</td>\n",
       "      <td>0.0</td>\n",
       "      <td>0.0</td>\n",
       "      <td>0.0</td>\n",
       "      <td>1.0</td>\n",
       "      <td>0.0</td>\n",
       "      <td>6.281853</td>\n",
       "      <td>2.181467</td>\n",
       "      <td>2.879646</td>\n",
       "    </tr>\n",
       "  </tbody>\n",
       "</table>\n",
       "</div>"
      ],
      "text/plain": [
       "   longitude  latitude  housing_median_age  total_rooms  total_bedrooms  \\\n",
       "0    -122.23     37.88                41.0        880.0           129.0   \n",
       "1    -122.22     37.86                21.0       7099.0          1106.0   \n",
       "2    -122.24     37.85                52.0       1467.0           190.0   \n",
       "3    -122.25     37.85                52.0       1274.0           235.0   \n",
       "4    -122.25     37.85                52.0       1627.0           280.0   \n",
       "\n",
       "   population  households  median_income  median_house_value  <1H OCEAN  \\\n",
       "0       322.0       126.0         8.3252            452600.0        0.0   \n",
       "1      2401.0      1138.0         8.3014            358500.0        0.0   \n",
       "2       496.0       177.0         7.2574            352100.0        0.0   \n",
       "3       558.0       219.0         5.6431            341300.0        0.0   \n",
       "4       565.0       259.0         3.8462            342200.0        0.0   \n",
       "\n",
       "   INLAND  ISLAND  NEAR BAY  NEAR OCEAN  rooms_per_household  \\\n",
       "0     0.0     0.0       1.0         0.0             6.984127   \n",
       "1     0.0     0.0       1.0         0.0             6.238137   \n",
       "2     0.0     0.0       1.0         0.0             8.288136   \n",
       "3     0.0     0.0       1.0         0.0             5.817352   \n",
       "4     0.0     0.0       1.0         0.0             6.281853   \n",
       "\n",
       "   population_per_household  rooms_per_person  \n",
       "0                  2.555556          2.732919  \n",
       "1                  2.109842          2.956685  \n",
       "2                  2.802260          2.957661  \n",
       "3                  2.547945          2.283154  \n",
       "4                  2.181467          2.879646  "
      ]
     },
     "execution_count": 87,
     "metadata": {},
     "output_type": "execute_result"
    }
   ],
   "source": [
    "housing['rooms_per_household'] = housing.total_rooms / housing.households\n",
    "housing['population_per_household'] = housing.population / housing.households\n",
    "housing['rooms_per_person'] = housing.total_rooms / housing.population\n",
    "\n",
    "housing.head()"
   ]
  },
  {
   "cell_type": "markdown",
   "id": "contrary-tiger",
   "metadata": {},
   "source": [
    "Teraz sprawdźmy, czy nowe kolumny są przydatne. Sprawdźmy jak ich wartości korelują z ceną domu."
   ]
  },
  {
   "cell_type": "code",
   "execution_count": 88,
   "id": "excellent-steel",
   "metadata": {},
   "outputs": [
    {
     "data": {
      "text/plain": [
       "median_house_value          1.000000\n",
       "median_income               0.688075\n",
       "<1H OCEAN                   0.256617\n",
       "rooms_per_person            0.209482\n",
       "NEAR BAY                    0.160284\n",
       "rooms_per_household         0.151948\n",
       "NEAR OCEAN                  0.141862\n",
       "total_rooms                 0.134153\n",
       "housing_median_age          0.105623\n",
       "households                  0.065843\n",
       "total_bedrooms              0.049457\n",
       "ISLAND                      0.023416\n",
       "population_per_household   -0.023737\n",
       "population                 -0.024650\n",
       "longitude                  -0.045967\n",
       "latitude                   -0.144160\n",
       "INLAND                     -0.484859\n",
       "Name: median_house_value, dtype: float64"
      ]
     },
     "execution_count": 88,
     "metadata": {},
     "output_type": "execute_result"
    }
   ],
   "source": [
    "correlation = housing.corr()\n",
    "correlation = correlation.median_house_value.sort_values(ascending=False)\n",
    "correlation"
   ]
  },
  {
   "cell_type": "markdown",
   "id": "manual-hardware",
   "metadata": {},
   "source": [
    "Jak widać rooms_per_person i rooms_per_household są bardzo przydatnymi wartościami (mają wysoki moduł korelacji). Nie tyczy się to population_per_household, które jest drugą najgorszą (najmniej znaczącą dla ceny) zmienną. Usuńmy więc te kolumnę. Dla czyteności przeniśmy kolumne będącą Targetem na ostatnie miejsce."
   ]
  },
  {
   "cell_type": "code",
   "execution_count": 89,
   "id": "developed-calculation",
   "metadata": {},
   "outputs": [],
   "source": [
    "housing = housing.drop('population_per_household', axis = 1)"
   ]
  },
  {
   "cell_type": "markdown",
   "id": "regulated-canal",
   "metadata": {},
   "source": [
    "Usuwamy obserwacje o wartości zmiennej celu 500 000. Te wartości zostały ucięte i zaburzają model. Konsultowane z prowadzącą"
   ]
  },
  {
   "cell_type": "code",
   "execution_count": 90,
   "id": "coordinated-elephant",
   "metadata": {},
   "outputs": [],
   "source": [
    "old_housing = housing.copy(deep = True)"
   ]
  },
  {
   "cell_type": "code",
   "execution_count": 91,
   "id": "genetic-window",
   "metadata": {},
   "outputs": [],
   "source": [
    "housing = housing.loc[housing['median_house_value'] < 4.9e5].reset_index(drop=True)"
   ]
  },
  {
   "cell_type": "markdown",
   "id": "traditional-calculation",
   "metadata": {},
   "source": [
    "Zostaje nam teraz podzielić nasz zbiór na testowy i treningowy i nauczyć model."
   ]
  },
  {
   "cell_type": "code",
   "execution_count": 93,
   "id": "amino-electric",
   "metadata": {
    "scrolled": true
   },
   "outputs": [],
   "source": [
    "from sklearn.model_selection import train_test_split\n",
    "X_train, X_test, y_train, y_test = train_test_split(\n",
    "    housing.drop('median_house_value', axis = 1), \n",
    "    housing['median_house_value'], \n",
    "    test_size=0.30, random_state=42)"
   ]
  },
  {
   "cell_type": "markdown",
   "id": "qualified-complexity",
   "metadata": {},
   "source": [
    "### Model RandomForest - czarna skrzynka\n",
    "Parametry dobrane metodą `GridSearchCV`."
   ]
  },
  {
   "cell_type": "code",
   "execution_count": 97,
   "id": "frank-victorian",
   "metadata": {},
   "outputs": [
    {
     "name": "stdout",
     "output_type": "stream",
     "text": [
      "RMSE : 50921.137\n"
     ]
    }
   ],
   "source": [
    "from sklearn.ensemble import RandomForestRegressor\n",
    "from sklearn.metrics import mean_squared_error\n",
    "random_forest = RandomForestRegressor(n_estimators = 450,\n",
    "                            max_depth = 8)\n",
    "random_forest.fit(X_train, y_train)\n",
    "y_test_hat = random_forest.predict(X_test)\n",
    "\n",
    "print(f'RMSE : {np.sqrt(mean_squared_error(y_test, y_test_hat)):.3f}')"
   ]
  },
  {
   "cell_type": "code",
   "execution_count": 99,
   "id": "figured-clearing",
   "metadata": {},
   "outputs": [],
   "source": [
    "import pickle\n",
    "pickle.dump(random_forest, open(\"random_forest\", 'wb'))\n",
    "housing.to_csv('housing_preprocessed.csv')"
   ]
  }
 ],
 "metadata": {
  "kernelspec": {
   "display_name": "Python 3",
   "language": "python",
   "name": "python3"
  },
  "language_info": {
   "codemirror_mode": {
    "name": "ipython",
    "version": 3
   },
   "file_extension": ".py",
   "mimetype": "text/x-python",
   "name": "python",
   "nbconvert_exporter": "python",
   "pygments_lexer": "ipython3",
   "version": "3.8.5"
  }
 },
 "nbformat": 4,
 "nbformat_minor": 5
}
