{
  "nbformat": 4,
  "nbformat_minor": 0,
  "metadata": {
    "colab": {
      "name": "HW_Patryk_Slowakiewicz.ipynb",
      "provenance": [],
      "collapsed_sections": []
    },
    "kernelspec": {
      "name": "python3",
      "display_name": "Python 3"
    },
    "language_info": {
      "name": "python"
    }
  },
  "cells": [
    {
      "cell_type": "code",
      "metadata": {
        "id": "tqVSigERGj8c"
      },
      "source": [
        "!pip install dalex"
      ],
      "execution_count": null,
      "outputs": []
    },
    {
      "cell_type": "code",
      "metadata": {
        "id": "gaA7Xfu9Gruj",
        "cellView": "form"
      },
      "source": [
        "#@title\n",
        "\n",
        "import numpy as np\n",
        "import pandas as pd\n",
        "import matplotlib.pyplot as plt\n",
        "import dalex as dx\n",
        "from copy import deepcopy, copy\n",
        "from sklearn.model_selection import train_test_split\n",
        "import warnings\n",
        "from sklearn.linear_model import LogisticRegression\n",
        "from sklearn.model_selection import cross_val_score\n",
        "warnings.filterwarnings('ignore')"
      ],
      "execution_count": 3,
      "outputs": []
    },
    {
      "cell_type": "code",
      "metadata": {
        "id": "6SebgkR_G20f",
        "colab": {
          "base_uri": "https://localhost:8080/",
          "height": 0
        },
        "outputId": "c7f083d4-df14-4c6c-8262-7eaba705b2c6"
      },
      "source": [
        "from google.colab import drive\n",
        "drive.mount('/content/drive')"
      ],
      "execution_count": 4,
      "outputs": [
        {
          "output_type": "stream",
          "text": [
            "Mounted at /content/drive\n"
          ],
          "name": "stdout"
        }
      ]
    },
    {
      "cell_type": "code",
      "metadata": {
        "id": "Go-utcGQH9rx"
      },
      "source": [
        "df  = pd.read_csv('/content/drive/My Drive/Colab Notebooks/heart.csv')"
      ],
      "execution_count": 5,
      "outputs": []
    },
    {
      "cell_type": "code",
      "metadata": {
        "id": "Xogao7qbY3GO",
        "cellView": "form"
      },
      "source": [
        "#@title\n",
        "def encoder_data(df):\n",
        "  data = df.copy()\n",
        "  a = pd.get_dummies(data['cp'], prefix = 'cp')\n",
        "  b = pd.get_dummies(data['thal'], prefix = 'thal')\n",
        "  c = pd.get_dummies(data['slope'], prefix = 'slope')\n",
        "  d = pd.get_dummies(data['restecg'], prefix = 'restecg')\n",
        "  frames = [data.drop(columns = ['cp', 'thal', 'slope', 'restecg']), a, b, c, d]\n",
        "  data = pd.concat(frames, axis = 1)\n",
        "  return data"
      ],
      "execution_count": 6,
      "outputs": []
    },
    {
      "cell_type": "code",
      "metadata": {
        "id": "ZLX-Nc-7IyLS"
      },
      "source": [
        "df.ca.replace(4, 0, inplace=True)\n",
        "df.thal.replace(0, 2, inplace=True)\n",
        "df = encoder_data(df)\n",
        "x = df.drop('target', axis=1)\n",
        "y = df.target"
      ],
      "execution_count": 7,
      "outputs": []
    },
    {
      "cell_type": "code",
      "metadata": {
        "id": "rhkwMwtWIXKC"
      },
      "source": [
        "x_train, x_test, y_train, y_test = train_test_split(x,y, test_size = 0.2,random_state=1 , stratify = y)"
      ],
      "execution_count": 8,
      "outputs": []
    },
    {
      "cell_type": "code",
      "metadata": {
        "colab": {
          "base_uri": "https://localhost:8080/",
          "height": 0
        },
        "id": "sUM9jKH2O-ZN",
        "outputId": "94c63aa5-47a8-4408-b512-3bce45c6e8f7"
      },
      "source": [
        "lr = LogisticRegression()\n",
        "lr.fit(x_train, y_train)\n",
        "y_hat = lr.predict(x_test)\n",
        "print(cross_val_score(lr, x_train, y_train, cv =10, scoring='accuracy'))"
      ],
      "execution_count": 9,
      "outputs": [
        {
          "output_type": "stream",
          "text": [
            "[0.84       0.84       0.875      0.875      0.79166667 0.83333333\n",
            " 0.875      0.83333333 0.91666667 0.91666667]\n"
          ],
          "name": "stdout"
        }
      ]
    },
    {
      "cell_type": "code",
      "metadata": {
        "id": "B7KlrJJXUzQC",
        "cellView": "form"
      },
      "source": [
        "#@title\n",
        "explainer = dx.Explainer(lr, x_train, y_train)"
      ],
      "execution_count": null,
      "outputs": []
    },
    {
      "cell_type": "markdown",
      "metadata": {
        "id": "E2ihjuGtyFlo"
      },
      "source": [
        "# Analiza pojedyńczego przypaku\n",
        "Analizujemy pojedyńczego pacjenta: jest to mężczyzna w wieku 45 lat, ze stosunkowo niskim ciśnieniem krwi za to dużym cholesterolem, jest on faktycznie chory.\n",
        "Główne zmienne dzięki którym diagnozujemy go jako chorego to:\n",
        "- Naprawiona wada (thal_2 = 1) warto zwórcić uwagę, że pomimo występowania jako trzecia na wykresie to właśnie ta zminna jest kluczowa ponieważ, (thal 3 = 0) wpływa również na plus diagnozy, a jedno wyklucza występowanie drugiej zmiennej \n",
        "- brak naczyń zabarwionych w czsie fluoroskopii (ca)\n",
        "- występownie bólu w klatce (cp_0 = 0) co ciekawe nie istotne jaki ból się pojwaił ale sam fakt występowania.\n",
        "\n",
        "Zaskakujące może wydawać się, że duży cholesterol nie wpływa na pozywtyne zdiagnowoanie. Podejrzewam, że wynika to z metody Break Down, wydaje się, że zmienne ciągłe nie są dla niej aż tak istotne."
      ]
    },
    {
      "cell_type": "code",
      "metadata": {
        "id": "8eDl-W7R2ec3",
        "colab": {
          "base_uri": "https://localhost:8080/",
          "height": 0
        },
        "outputId": "d8926793-9d87-4c54-92b4-ad41c1cccab7"
      },
      "source": [
        "x_train.iloc[3]"
      ],
      "execution_count": 11,
      "outputs": [
        {
          "output_type": "execute_result",
          "data": {
            "text/plain": [
              "age           45.0\n",
              "sex            1.0\n",
              "trestbps     128.0\n",
              "chol         308.0\n",
              "fbs            0.0\n",
              "thalach      170.0\n",
              "exang          0.0\n",
              "oldpeak        0.0\n",
              "ca             0.0\n",
              "cp_0           0.0\n",
              "cp_1           1.0\n",
              "cp_2           0.0\n",
              "cp_3           0.0\n",
              "thal_1         0.0\n",
              "thal_2         1.0\n",
              "thal_3         0.0\n",
              "slope_0        0.0\n",
              "slope_1        0.0\n",
              "slope_2        1.0\n",
              "restecg_0      1.0\n",
              "restecg_1      0.0\n",
              "restecg_2      0.0\n",
              "Name: 81, dtype: float64"
            ]
          },
          "metadata": {
            "tags": []
          },
          "execution_count": 11
        }
      ]
    },
    {
      "cell_type": "markdown",
      "metadata": {
        "id": "PE18UNBNG9K5"
      },
      "source": [
        "## 1"
      ]
    },
    {
      "cell_type": "code",
      "metadata": {
        "colab": {
          "base_uri": "https://localhost:8080/",
          "height": 0
        },
        "id": "yeqTpcNtW8X_",
        "outputId": "55883829-7384-4df2-89b6-ef9ac16ae177"
      },
      "source": [
        "explainer.predict(x_test)[3]"
      ],
      "execution_count": 12,
      "outputs": [
        {
          "output_type": "execute_result",
          "data": {
            "text/plain": [
              "0.929020023984435"
            ]
          },
          "metadata": {
            "tags": []
          },
          "execution_count": 12
        }
      ]
    },
    {
      "cell_type": "markdown",
      "metadata": {
        "id": "S9tIdYJgHCB4"
      },
      "source": [
        "## 2"
      ]
    },
    {
      "cell_type": "code",
      "metadata": {
        "colab": {
          "base_uri": "https://localhost:8080/",
          "height": 430
        },
        "id": "eUVoYYEib9sv",
        "outputId": "78ed7ab8-c6ad-425b-9aee-20b4827332f6"
      },
      "source": [
        "pp = explainer.predict_parts(x_test.iloc[3])\n",
        "pp.plot()"
      ],
      "execution_count": 13,
      "outputs": [
        {
          "output_type": "display_data",
          "data": {
            "text/html": [
              "<html>\n",
              "<head><meta charset=\"utf-8\" /></head>\n",
              "<body>\n",
              "    <div>            <script src=\"https://cdnjs.cloudflare.com/ajax/libs/mathjax/2.7.5/MathJax.js?config=TeX-AMS-MML_SVG\"></script><script type=\"text/javascript\">if (window.MathJax) {MathJax.Hub.Config({SVG: {font: \"STIX-Web\"}});}</script>                <script type=\"text/javascript\">window.PlotlyConfig = {MathJaxConfig: 'local'};</script>\n",
              "        <script src=\"https://cdn.plot.ly/plotly-latest.min.js\"></script>                <div id=\"5ad98388-452b-4520-8f7e-33281e24b2cb\" class=\"plotly-graph-div\" style=\"height:413.0px; width:100%;\"></div>            <script type=\"text/javascript\">                                    window.PLOTLYENV=window.PLOTLYENV || {};                                    if (document.getElementById(\"5ad98388-452b-4520-8f7e-33281e24b2cb\")) {                    Plotly.newPlot(                        \"5ad98388-452b-4520-8f7e-33281e24b2cb\",                        [{\"base\": 0.5439476749845984, \"connector\": {\"line\": {\"color\": \"#371ea3\", \"dash\": \"solid\", \"width\": 1}, \"mode\": \"spanning\"}, \"decreasing\": {\"marker\": {\"color\": \"#f05a71\"}}, \"hoverinfo\": \"text+delta\", \"hoverlabel\": {\"bgcolor\": \"rgba(0,0,0,0.8)\"}, \"hovertext\": [\"Average response: 0.544<br>Prediction: 0.929\", \"ca = 0.0<br>increases average response by\", \"cp_0 = 0.0<br>increases average response by\", \"oldpeak = 0.0<br>increases average response by\", \"sex = 1.0<br>decreases average response by\", \"thal_3 = 0.0<br>increases average response by\", \"thal_2 = 1.0<br>increases average response by\", \"slope_2 = 1.0<br>increases average response by\", \"cp_2 = 0.0<br>decreases average response by\", \"slope_1 = 0.0<br>increases average response by\", \"exang = 0.0<br>increases average response by\", \"+ all other factors<br>increases average response by\", \"Average response: 0.544<br>Prediction: 0.929\"], \"increasing\": {\"marker\": {\"color\": \"#8bdcbe\"}}, \"measure\": [\"relative\", \"relative\", \"relative\", \"relative\", \"relative\", \"relative\", \"relative\", \"relative\", \"relative\", \"relative\", \"relative\", \"relative\", \"total\"], \"orientation\": \"h\", \"showlegend\": false, \"text\": [\"0.544\", \"+0.08\", \"+0.077\", \"+0.065\", \"-0.029\", \"+0.059\", \"+0.048\", \"+0.028\", \"-0.012\", \"+0.02\", \"+0.019\", \"+0.03\", \"0.929\"], \"textposition\": \"outside\", \"totals\": {\"marker\": {\"color\": \"#371ea3\"}}, \"type\": \"waterfall\", \"x\": [0.0, 0.08, 0.077, 0.065, -0.029, 0.059, 0.048, 0.028, -0.012, 0.02, 0.019, 0.03, 0.385], \"xaxis\": \"x\", \"y\": [\"intercept\", \"ca = 0.0\", \"cp_0 = 0.0\", \"oldpeak = 0.0\", \"sex = 1.0\", \"thal_3 = 0.0\", \"thal_2 = 1.0\", \"slope_2 = 1.0\", \"cp_2 = 0.0\", \"slope_1 = 0.0\", \"exang = 0.0\", \"+ all other factors\", \"prediction\"], \"yaxis\": \"y\"}],                        {\"annotations\": [{\"font\": {\"size\": 16}, \"showarrow\": false, \"text\": \"LogisticRegression\", \"x\": 0.5, \"xanchor\": \"center\", \"xref\": \"paper\", \"y\": 1.0, \"yanchor\": \"bottom\", \"yref\": \"paper\"}, {\"font\": {\"size\": 16}, \"showarrow\": false, \"text\": \"contribution\", \"x\": 0.5, \"xanchor\": \"center\", \"xref\": \"paper\", \"y\": 0, \"yanchor\": \"top\", \"yref\": \"paper\", \"yshift\": -30}], \"font\": {\"color\": \"#371ea3\"}, \"height\": 413.0, \"margin\": {\"b\": 71, \"r\": 30, \"t\": 78}, \"shapes\": [{\"line\": {\"color\": \"#371ea3\", \"dash\": \"dot\", \"width\": 1.5}, \"type\": \"line\", \"x0\": 0.5439476749845984, \"x1\": 0.5439476749845984, \"xref\": \"x\", \"y0\": -1, \"y1\": 13, \"yref\": \"y\"}], \"template\": {\"data\": {\"scatter\": [{\"type\": \"scatter\"}]}}, \"title\": {\"text\": \"Break Down\", \"x\": 0.15}, \"xaxis\": {\"anchor\": \"y\", \"automargin\": true, \"domain\": [0.0, 1.0], \"fixedrange\": true, \"gridwidth\": 2, \"range\": [0.48625000000000007, 0.98675], \"tickcolor\": \"white\", \"ticklen\": 3, \"ticks\": \"outside\", \"type\": \"linear\", \"zeroline\": false}, \"yaxis\": {\"anchor\": \"x\", \"automargin\": true, \"autorange\": \"reversed\", \"domain\": [0.0, 1.0], \"fixedrange\": true, \"gridwidth\": 2, \"tickcolor\": \"white\", \"ticklen\": 10, \"ticks\": \"outside\", \"type\": \"category\"}},                        {\"displaylogo\": false, \"staticPlot\": false, \"toImageButtonOptions\": {\"height\": null, \"width\": null}, \"modeBarButtonsToRemove\": [\"sendDataToCloud\", \"lasso2d\", \"autoScale2d\", \"select2d\", \"zoom2d\", \"pan2d\", \"zoomIn2d\", \"zoomOut2d\", \"resetScale2d\", \"toggleSpikelines\", \"hoverCompareCartesian\", \"hoverClosestCartesian\"], \"responsive\": true}                    ).then(function(){\n",
              "                            \n",
              "var gd = document.getElementById('5ad98388-452b-4520-8f7e-33281e24b2cb');\n",
              "var x = new MutationObserver(function (mutations, observer) {{\n",
              "        var display = window.getComputedStyle(gd).display;\n",
              "        if (!display || display === 'none') {{\n",
              "            console.log([gd, 'removed!']);\n",
              "            Plotly.purge(gd);\n",
              "            observer.disconnect();\n",
              "        }}\n",
              "}});\n",
              "\n",
              "// Listen for the removal of the full notebook cells\n",
              "var notebookContainer = gd.closest('#notebook-container');\n",
              "if (notebookContainer) {{\n",
              "    x.observe(notebookContainer, {childList: true});\n",
              "}}\n",
              "\n",
              "// Listen for the clearing of the current output cell\n",
              "var outputEl = gd.closest('.output');\n",
              "if (outputEl) {{\n",
              "    x.observe(outputEl, {childList: true});\n",
              "}}\n",
              "\n",
              "                        })                };                            </script>        </div>\n",
              "</body>\n",
              "</html>"
            ]
          },
          "metadata": {
            "tags": []
          }
        }
      ]
    },
    {
      "cell_type": "code",
      "metadata": {
        "colab": {
          "base_uri": "https://localhost:8080/",
          "height": 52
        },
        "id": "4KM9uzHcw8PP",
        "outputId": "3b20a5fc-b63f-4520-f047-c28abb4ffc76"
      },
      "source": [
        "#Kod do znajdowania przypadków do pkt 3\n",
        "'''\n",
        "pp1 = explainer.predict_parts(x_test.iloc[11])\n",
        "ls = []\n",
        "for i in range(1,x_test.shape[0]):\n",
        "  pp = explainer.predict_parts(x_test.iloc[i-1])\n",
        "  if any(pp.result.iloc[:3,0] == 'ca') or any(pp.result.iloc[:3,0] == 'cp_0'):\n",
        "    continue\n",
        "  else:\n",
        "    print(str(i-1))\n",
        "'''"
      ],
      "execution_count": null,
      "outputs": [
        {
          "output_type": "execute_result",
          "data": {
            "application/vnd.google.colaboratory.intrinsic+json": {
              "type": "string"
            },
            "text/plain": [
              "\"\\npp1 = explainer.predict_parts(x_test.iloc[11])\\nls = []\\nfor i in range(1,x_test.shape[0]):\\n  pp = explainer.predict_parts(x_test.iloc[i-1])\\n  if any(pp.result.iloc[:3,0] == 'ca') or any(pp.result.iloc[:3,0] == 'cp_0'):\\n    continue\\n  else:\\n    print(str(i-1))\\n\""
            ]
          },
          "metadata": {
            "tags": []
          },
          "execution_count": 13
        }
      ]
    },
    {
      "cell_type": "markdown",
      "metadata": {
        "id": "PgeiHuGuDcqw"
      },
      "source": [
        "# Analiza porównawcza z porzednim przypadkiem\n",
        "Porównuję do poprzedniej obserwacji.\n",
        "\n",
        "W przypadu  tego 59 letniego męszczyzny najważniejszymi zmiennymi są:\n",
        "- obniżenie ST na elektrogramie\n",
        "- ciśnienie spoczynkowe\n",
        "\n",
        "Przewidywania te są nieefektywne ponieważ w rzeczywistości pacjent jest chory. \n",
        "Ogolnie tak duży spadek ST wskazuje na problemy z sercem przeciwnie do tego co wskazuje mój model, tak samo duże ciśnienie powinno przemawiać za występowaniem choroby. Duży spadek prawdopodobieństwa wystąpienia choroby jest spowodowany istniniem nieodwracalnej zmiany serca. \n",
        "Ten przykład wskazuje, że ten model jest źle zaprojektowany. \n"
      ]
    },
    {
      "cell_type": "markdown",
      "metadata": {
        "id": "aFPpSoABHV6A"
      },
      "source": [
        "## 3"
      ]
    },
    {
      "cell_type": "code",
      "metadata": {
        "colab": {
          "base_uri": "https://localhost:8080/",
          "height": 430
        },
        "id": "gdFtq1D2_D0x",
        "outputId": "7b8b6da0-8e8d-4db9-d699-30f385037879"
      },
      "source": [
        "pp = explainer.predict_parts(x_test.iloc[15])\n",
        "pp.plot()"
      ],
      "execution_count": 14,
      "outputs": [
        {
          "output_type": "display_data",
          "data": {
            "text/html": [
              "<html>\n",
              "<head><meta charset=\"utf-8\" /></head>\n",
              "<body>\n",
              "    <div>            <script src=\"https://cdnjs.cloudflare.com/ajax/libs/mathjax/2.7.5/MathJax.js?config=TeX-AMS-MML_SVG\"></script><script type=\"text/javascript\">if (window.MathJax) {MathJax.Hub.Config({SVG: {font: \"STIX-Web\"}});}</script>                <script type=\"text/javascript\">window.PlotlyConfig = {MathJaxConfig: 'local'};</script>\n",
              "        <script src=\"https://cdn.plot.ly/plotly-latest.min.js\"></script>                <div id=\"53292785-af04-4b8c-933e-a27ce5115a5d\" class=\"plotly-graph-div\" style=\"height:413.0px; width:100%;\"></div>            <script type=\"text/javascript\">                                    window.PLOTLYENV=window.PLOTLYENV || {};                                    if (document.getElementById(\"53292785-af04-4b8c-933e-a27ce5115a5d\")) {                    Plotly.newPlot(                        \"53292785-af04-4b8c-933e-a27ce5115a5d\",                        [{\"base\": 0.5439476749845984, \"connector\": {\"line\": {\"color\": \"#371ea3\", \"dash\": \"solid\", \"width\": 1}, \"mode\": \"spanning\"}, \"decreasing\": {\"marker\": {\"color\": \"#f05a71\"}}, \"hoverinfo\": \"text+delta\", \"hoverlabel\": {\"bgcolor\": \"rgba(0,0,0,0.8)\"}, \"hovertext\": [\"Average response: 0.544<br>Prediction: 0.173\", \"oldpeak = 4.2<br>decreases average response by\", \"trestbps = 178.0<br>decreases average response by\", \"ca = 0.0<br>increases average response by\", \"cp_3 = 1.0<br>increases average response by\", \"thal_3 = 1.0<br>decreases average response by\", \"cp_0 = 0.0<br>increases average response by\", \"thal_2 = 0.0<br>decreases average response by\", \"sex = 1.0<br>decreases average response by\", \"thalach = 145.0<br>decreases average response by\", \"slope_2 = 0.0<br>decreases average response by\", \"+ all other factors<br>decreases average response by\", \"Average response: 0.544<br>Prediction: 0.173\"], \"increasing\": {\"marker\": {\"color\": \"#8bdcbe\"}}, \"measure\": [\"relative\", \"relative\", \"relative\", \"relative\", \"relative\", \"relative\", \"relative\", \"relative\", \"relative\", \"relative\", \"relative\", \"relative\", \"total\"], \"orientation\": \"h\", \"showlegend\": false, \"text\": [\"0.544\", \"-0.156\", \"-0.114\", \"+0.055\", \"+0.093\", \"-0.088\", \"+0.061\", \"-0.076\", \"-0.067\", \"-0.041\", \"-0.03\", \"-0.008\", \"0.173\"], \"textposition\": \"outside\", \"totals\": {\"marker\": {\"color\": \"#371ea3\"}}, \"type\": \"waterfall\", \"x\": [0.0, -0.156, -0.114, 0.055, 0.093, -0.088, 0.061, -0.076, -0.067, -0.041, -0.03, -0.008, -0.371], \"xaxis\": \"x\", \"y\": [\"intercept\", \"oldpeak = 4.2\", \"trestbps = 178.0\", \"ca = 0.0\", \"cp_3 = 1.0\", \"thal_3 = 1.0\", \"cp_0 = 0.0\", \"thal_2 = 0.0\", \"sex = 1.0\", \"thalach = 145.0\", \"slope_2 = 0.0\", \"+ all other factors\", \"prediction\"], \"yaxis\": \"y\"}],                        {\"annotations\": [{\"font\": {\"size\": 16}, \"showarrow\": false, \"text\": \"LogisticRegression\", \"x\": 0.5, \"xanchor\": \"center\", \"xref\": \"paper\", \"y\": 1.0, \"yanchor\": \"bottom\", \"yref\": \"paper\"}, {\"font\": {\"size\": 16}, \"showarrow\": false, \"text\": \"contribution\", \"x\": 0.5, \"xanchor\": \"center\", \"xref\": \"paper\", \"y\": 0, \"yanchor\": \"top\", \"yref\": \"paper\", \"yshift\": -30}], \"font\": {\"color\": \"#371ea3\"}, \"height\": 413.0, \"margin\": {\"b\": 71, \"r\": 30, \"t\": 78}, \"shapes\": [{\"line\": {\"color\": \"#371ea3\", \"dash\": \"dot\", \"width\": 1.5}, \"type\": \"line\", \"x0\": 0.5439476749845984, \"x1\": 0.5439476749845984, \"xref\": \"x\", \"y0\": -1, \"y1\": 13, \"yref\": \"y\"}], \"template\": {\"data\": {\"scatter\": [{\"type\": \"scatter\"}]}}, \"title\": {\"text\": \"Break Down\", \"x\": 0.15}, \"xaxis\": {\"anchor\": \"y\", \"automargin\": true, \"domain\": [0.0, 1.0], \"fixedrange\": true, \"gridwidth\": 2, \"range\": [0.11734999999999998, 0.59965], \"tickcolor\": \"white\", \"ticklen\": 3, \"ticks\": \"outside\", \"type\": \"linear\", \"zeroline\": false}, \"yaxis\": {\"anchor\": \"x\", \"automargin\": true, \"autorange\": \"reversed\", \"domain\": [0.0, 1.0], \"fixedrange\": true, \"gridwidth\": 2, \"tickcolor\": \"white\", \"ticklen\": 10, \"ticks\": \"outside\", \"type\": \"category\"}},                        {\"displaylogo\": false, \"staticPlot\": false, \"toImageButtonOptions\": {\"height\": null, \"width\": null}, \"modeBarButtonsToRemove\": [\"sendDataToCloud\", \"lasso2d\", \"autoScale2d\", \"select2d\", \"zoom2d\", \"pan2d\", \"zoomIn2d\", \"zoomOut2d\", \"resetScale2d\", \"toggleSpikelines\", \"hoverCompareCartesian\", \"hoverClosestCartesian\"], \"responsive\": true}                    ).then(function(){\n",
              "                            \n",
              "var gd = document.getElementById('53292785-af04-4b8c-933e-a27ce5115a5d');\n",
              "var x = new MutationObserver(function (mutations, observer) {{\n",
              "        var display = window.getComputedStyle(gd).display;\n",
              "        if (!display || display === 'none') {{\n",
              "            console.log([gd, 'removed!']);\n",
              "            Plotly.purge(gd);\n",
              "            observer.disconnect();\n",
              "        }}\n",
              "}});\n",
              "\n",
              "// Listen for the removal of the full notebook cells\n",
              "var notebookContainer = gd.closest('#notebook-container');\n",
              "if (notebookContainer) {{\n",
              "    x.observe(notebookContainer, {childList: true});\n",
              "}}\n",
              "\n",
              "// Listen for the clearing of the current output cell\n",
              "var outputEl = gd.closest('.output');\n",
              "if (outputEl) {{\n",
              "    x.observe(outputEl, {childList: true});\n",
              "}}\n",
              "\n",
              "                        })                };                            </script>        </div>\n",
              "</body>\n",
              "</html>"
            ]
          },
          "metadata": {
            "tags": []
          }
        }
      ]
    },
    {
      "cell_type": "code",
      "metadata": {
        "colab": {
          "base_uri": "https://localhost:8080/",
          "height": 430
        },
        "id": "SuRomfRYK5Sh",
        "outputId": "bb35e901-0c66-4a53-dc19-1c7524511019"
      },
      "source": [
        "pp = explainer.predict_parts(x_test.iloc[3])\n",
        "pp.plot()"
      ],
      "execution_count": 16,
      "outputs": [
        {
          "output_type": "display_data",
          "data": {
            "text/html": [
              "<html>\n",
              "<head><meta charset=\"utf-8\" /></head>\n",
              "<body>\n",
              "    <div>            <script src=\"https://cdnjs.cloudflare.com/ajax/libs/mathjax/2.7.5/MathJax.js?config=TeX-AMS-MML_SVG\"></script><script type=\"text/javascript\">if (window.MathJax) {MathJax.Hub.Config({SVG: {font: \"STIX-Web\"}});}</script>                <script type=\"text/javascript\">window.PlotlyConfig = {MathJaxConfig: 'local'};</script>\n",
              "        <script src=\"https://cdn.plot.ly/plotly-latest.min.js\"></script>                <div id=\"b67ecb59-6526-429c-9870-d1ee93a210c8\" class=\"plotly-graph-div\" style=\"height:413.0px; width:100%;\"></div>            <script type=\"text/javascript\">                                    window.PLOTLYENV=window.PLOTLYENV || {};                                    if (document.getElementById(\"b67ecb59-6526-429c-9870-d1ee93a210c8\")) {                    Plotly.newPlot(                        \"b67ecb59-6526-429c-9870-d1ee93a210c8\",                        [{\"base\": 0.5439476749845984, \"connector\": {\"line\": {\"color\": \"#371ea3\", \"dash\": \"solid\", \"width\": 1}, \"mode\": \"spanning\"}, \"decreasing\": {\"marker\": {\"color\": \"#f05a71\"}}, \"hoverinfo\": \"text+delta\", \"hoverlabel\": {\"bgcolor\": \"rgba(0,0,0,0.8)\"}, \"hovertext\": [\"Average response: 0.544<br>Prediction: 0.929\", \"ca = 0.0<br>increases average response by\", \"cp_0 = 0.0<br>increases average response by\", \"oldpeak = 0.0<br>increases average response by\", \"sex = 1.0<br>decreases average response by\", \"thal_3 = 0.0<br>increases average response by\", \"thal_2 = 1.0<br>increases average response by\", \"slope_2 = 1.0<br>increases average response by\", \"cp_2 = 0.0<br>decreases average response by\", \"slope_1 = 0.0<br>increases average response by\", \"exang = 0.0<br>increases average response by\", \"+ all other factors<br>increases average response by\", \"Average response: 0.544<br>Prediction: 0.929\"], \"increasing\": {\"marker\": {\"color\": \"#8bdcbe\"}}, \"measure\": [\"relative\", \"relative\", \"relative\", \"relative\", \"relative\", \"relative\", \"relative\", \"relative\", \"relative\", \"relative\", \"relative\", \"relative\", \"total\"], \"orientation\": \"h\", \"showlegend\": false, \"text\": [\"0.544\", \"+0.08\", \"+0.077\", \"+0.065\", \"-0.029\", \"+0.059\", \"+0.048\", \"+0.028\", \"-0.012\", \"+0.02\", \"+0.019\", \"+0.03\", \"0.929\"], \"textposition\": \"outside\", \"totals\": {\"marker\": {\"color\": \"#371ea3\"}}, \"type\": \"waterfall\", \"x\": [0.0, 0.08, 0.077, 0.065, -0.029, 0.059, 0.048, 0.028, -0.012, 0.02, 0.019, 0.03, 0.385], \"xaxis\": \"x\", \"y\": [\"intercept\", \"ca = 0.0\", \"cp_0 = 0.0\", \"oldpeak = 0.0\", \"sex = 1.0\", \"thal_3 = 0.0\", \"thal_2 = 1.0\", \"slope_2 = 1.0\", \"cp_2 = 0.0\", \"slope_1 = 0.0\", \"exang = 0.0\", \"+ all other factors\", \"prediction\"], \"yaxis\": \"y\"}],                        {\"annotations\": [{\"font\": {\"size\": 16}, \"showarrow\": false, \"text\": \"LogisticRegression\", \"x\": 0.5, \"xanchor\": \"center\", \"xref\": \"paper\", \"y\": 1.0, \"yanchor\": \"bottom\", \"yref\": \"paper\"}, {\"font\": {\"size\": 16}, \"showarrow\": false, \"text\": \"contribution\", \"x\": 0.5, \"xanchor\": \"center\", \"xref\": \"paper\", \"y\": 0, \"yanchor\": \"top\", \"yref\": \"paper\", \"yshift\": -30}], \"font\": {\"color\": \"#371ea3\"}, \"height\": 413.0, \"margin\": {\"b\": 71, \"r\": 30, \"t\": 78}, \"shapes\": [{\"line\": {\"color\": \"#371ea3\", \"dash\": \"dot\", \"width\": 1.5}, \"type\": \"line\", \"x0\": 0.5439476749845984, \"x1\": 0.5439476749845984, \"xref\": \"x\", \"y0\": -1, \"y1\": 13, \"yref\": \"y\"}], \"template\": {\"data\": {\"scatter\": [{\"type\": \"scatter\"}]}}, \"title\": {\"text\": \"Break Down\", \"x\": 0.15}, \"xaxis\": {\"anchor\": \"y\", \"automargin\": true, \"domain\": [0.0, 1.0], \"fixedrange\": true, \"gridwidth\": 2, \"range\": [0.48625000000000007, 0.98675], \"tickcolor\": \"white\", \"ticklen\": 3, \"ticks\": \"outside\", \"type\": \"linear\", \"zeroline\": false}, \"yaxis\": {\"anchor\": \"x\", \"automargin\": true, \"autorange\": \"reversed\", \"domain\": [0.0, 1.0], \"fixedrange\": true, \"gridwidth\": 2, \"tickcolor\": \"white\", \"ticklen\": 10, \"ticks\": \"outside\", \"type\": \"category\"}},                        {\"displaylogo\": false, \"staticPlot\": false, \"toImageButtonOptions\": {\"height\": null, \"width\": null}, \"modeBarButtonsToRemove\": [\"sendDataToCloud\", \"lasso2d\", \"autoScale2d\", \"select2d\", \"zoom2d\", \"pan2d\", \"zoomIn2d\", \"zoomOut2d\", \"resetScale2d\", \"toggleSpikelines\", \"hoverCompareCartesian\", \"hoverClosestCartesian\"], \"responsive\": true}                    ).then(function(){\n",
              "                            \n",
              "var gd = document.getElementById('b67ecb59-6526-429c-9870-d1ee93a210c8');\n",
              "var x = new MutationObserver(function (mutations, observer) {{\n",
              "        var display = window.getComputedStyle(gd).display;\n",
              "        if (!display || display === 'none') {{\n",
              "            console.log([gd, 'removed!']);\n",
              "            Plotly.purge(gd);\n",
              "            observer.disconnect();\n",
              "        }}\n",
              "}});\n",
              "\n",
              "// Listen for the removal of the full notebook cells\n",
              "var notebookContainer = gd.closest('#notebook-container');\n",
              "if (notebookContainer) {{\n",
              "    x.observe(notebookContainer, {childList: true});\n",
              "}}\n",
              "\n",
              "// Listen for the clearing of the current output cell\n",
              "var outputEl = gd.closest('.output');\n",
              "if (outputEl) {{\n",
              "    x.observe(outputEl, {childList: true});\n",
              "}}\n",
              "\n",
              "                        })                };                            </script>        </div>\n",
              "</body>\n",
              "</html>"
            ]
          },
          "metadata": {
            "tags": []
          }
        }
      ]
    },
    {
      "cell_type": "markdown",
      "metadata": {
        "id": "PITw_Ie8SpOK"
      },
      "source": [
        "# Wpływ zmiennych na wynik predykcji\n",
        "W tym przypadku próbowałem wybrać dwie osoby dla których ta sama zminna wpływa przeciwnie, ale po przeszukaniu praktycznie wszystkich obserwacji nie udało mi się takiej znaleźć. Jest to dość nieintuicyjne dlatego postanowiłem sprawdzić czy poszczególne zminne. Kodem poniżej sprawdzam, czy istnieje obserwacja która posiada thal_2 = 0 i ma wpływ dodatni na *prediction*. Nie istnieje, w taki sam spobób sprawdziłem wszystkie inne zmienne kategoryczne."
      ]
    },
    {
      "cell_type": "code",
      "metadata": {
        "id": "Av1gX9HAG6Su"
      },
      "source": [
        "for i in range(1,x_train.shape[0]):\n",
        "  pp = explainer.predict_parts(x_train.iloc[i-1], B = 1)\n",
        "  v = pp.result.loc[pp.result.variable_name == 'exang',['variable_value']]\n",
        "  s = pp.result.loc[pp.result.variable_name == 'exang',['sign']]\n",
        "  if v.iloc[0,0] == '0.0' and s.iloc[0,0] == -1:\n",
        "    print(i)\n",
        "  if v.iloc[0,0] == '1.0'  and s.iloc[0,0] == 1:\n",
        "    print(i)\n"
      ],
      "execution_count": 17,
      "outputs": []
    },
    {
      "cell_type": "code",
      "metadata": {
        "colab": {
          "base_uri": "https://localhost:8080/",
          "height": 430
        },
        "id": "1Z9BTigqLHRS",
        "outputId": "58a6d70e-6d8c-4711-9eb7-2d0ae5944ea8"
      },
      "source": [
        "pp = explainer.predict_parts(x_test.iloc[10])\n",
        "pp.plot()"
      ],
      "execution_count": 18,
      "outputs": [
        {
          "output_type": "display_data",
          "data": {
            "text/html": [
              "<html>\n",
              "<head><meta charset=\"utf-8\" /></head>\n",
              "<body>\n",
              "    <div>            <script src=\"https://cdnjs.cloudflare.com/ajax/libs/mathjax/2.7.5/MathJax.js?config=TeX-AMS-MML_SVG\"></script><script type=\"text/javascript\">if (window.MathJax) {MathJax.Hub.Config({SVG: {font: \"STIX-Web\"}});}</script>                <script type=\"text/javascript\">window.PlotlyConfig = {MathJaxConfig: 'local'};</script>\n",
              "        <script src=\"https://cdn.plot.ly/plotly-latest.min.js\"></script>                <div id=\"e405cd2c-8ae2-48db-8aa0-f78e91ded40f\" class=\"plotly-graph-div\" style=\"height:413.0px; width:100%;\"></div>            <script type=\"text/javascript\">                                    window.PLOTLYENV=window.PLOTLYENV || {};                                    if (document.getElementById(\"e405cd2c-8ae2-48db-8aa0-f78e91ded40f\")) {                    Plotly.newPlot(                        \"e405cd2c-8ae2-48db-8aa0-f78e91ded40f\",                        [{\"base\": 0.5439476749845984, \"connector\": {\"line\": {\"color\": \"#371ea3\", \"dash\": \"solid\", \"width\": 1}, \"mode\": \"spanning\"}, \"decreasing\": {\"marker\": {\"color\": \"#f05a71\"}}, \"hoverinfo\": \"text+delta\", \"hoverlabel\": {\"bgcolor\": \"rgba(0,0,0,0.8)\"}, \"hovertext\": [\"Average response: 0.544<br>Prediction: 0.235\", \"thalach = 123.0<br>decreases average response by\", \"cp_0 = 1.0<br>decreases average response by\", \"ca = 0.0<br>increases average response by\", \"sex = 0.0<br>increases average response by\", \"thal_3 = 1.0<br>decreases average response by\", \"thal_2 = 0.0<br>decreases average response by\", \"exang = 1.0<br>decreases average response by\", \"oldpeak = 0.2<br>increases average response by\", \"slope_1 = 1.0<br>decreases average response by\", \"slope_2 = 0.0<br>decreases average response by\", \"+ all other factors<br>decreases average response by\", \"Average response: 0.544<br>Prediction: 0.235\"], \"increasing\": {\"marker\": {\"color\": \"#8bdcbe\"}}, \"measure\": [\"relative\", \"relative\", \"relative\", \"relative\", \"relative\", \"relative\", \"relative\", \"relative\", \"relative\", \"relative\", \"relative\", \"relative\", \"total\"], \"orientation\": \"h\", \"showlegend\": false, \"text\": [\"0.544\", \"-0.087\", \"-0.107\", \"+0.078\", \"+0.127\", \"-0.095\", \"-0.08\", \"-0.066\", \"+0.054\", \"-0.04\", \"-0.036\", \"-0.057\", \"0.235\"], \"textposition\": \"outside\", \"totals\": {\"marker\": {\"color\": \"#371ea3\"}}, \"type\": \"waterfall\", \"x\": [0.0, -0.087, -0.107, 0.078, 0.127, -0.095, -0.08, -0.066, 0.054, -0.04, -0.036, -0.057, -0.309], \"xaxis\": \"x\", \"y\": [\"intercept\", \"thalach = 123.0\", \"cp_0 = 1.0\", \"ca = 0.0\", \"sex = 0.0\", \"thal_3 = 1.0\", \"thal_2 = 0.0\", \"exang = 1.0\", \"oldpeak = 0.2\", \"slope_1 = 1.0\", \"slope_2 = 0.0\", \"+ all other factors\", \"prediction\"], \"yaxis\": \"y\"}],                        {\"annotations\": [{\"font\": {\"size\": 16}, \"showarrow\": false, \"text\": \"LogisticRegression\", \"x\": 0.5, \"xanchor\": \"center\", \"xref\": \"paper\", \"y\": 1.0, \"yanchor\": \"bottom\", \"yref\": \"paper\"}, {\"font\": {\"size\": 16}, \"showarrow\": false, \"text\": \"contribution\", \"x\": 0.5, \"xanchor\": \"center\", \"xref\": \"paper\", \"y\": 0, \"yanchor\": \"top\", \"yref\": \"paper\", \"yshift\": -30}], \"font\": {\"color\": \"#371ea3\"}, \"height\": 413.0, \"margin\": {\"b\": 71, \"r\": 30, \"t\": 78}, \"shapes\": [{\"line\": {\"color\": \"#371ea3\", \"dash\": \"dot\", \"width\": 1.5}, \"type\": \"line\", \"x0\": 0.5439476749845984, \"x1\": 0.5439476749845984, \"xref\": \"x\", \"y0\": -1, \"y1\": 13, \"yref\": \"y\"}], \"template\": {\"data\": {\"scatter\": [{\"type\": \"scatter\"}]}}, \"title\": {\"text\": \"Break Down\", \"x\": 0.15}, \"xaxis\": {\"anchor\": \"y\", \"automargin\": true, \"domain\": [0.0, 1.0], \"fixedrange\": true, \"gridwidth\": 2, \"range\": [0.18699999999999997, 0.6030000000000001], \"tickcolor\": \"white\", \"ticklen\": 3, \"ticks\": \"outside\", \"type\": \"linear\", \"zeroline\": false}, \"yaxis\": {\"anchor\": \"x\", \"automargin\": true, \"autorange\": \"reversed\", \"domain\": [0.0, 1.0], \"fixedrange\": true, \"gridwidth\": 2, \"tickcolor\": \"white\", \"ticklen\": 10, \"ticks\": \"outside\", \"type\": \"category\"}},                        {\"displaylogo\": false, \"staticPlot\": false, \"toImageButtonOptions\": {\"height\": null, \"width\": null}, \"modeBarButtonsToRemove\": [\"sendDataToCloud\", \"lasso2d\", \"autoScale2d\", \"select2d\", \"zoom2d\", \"pan2d\", \"zoomIn2d\", \"zoomOut2d\", \"resetScale2d\", \"toggleSpikelines\", \"hoverCompareCartesian\", \"hoverClosestCartesian\"], \"responsive\": true}                    ).then(function(){\n",
              "                            \n",
              "var gd = document.getElementById('e405cd2c-8ae2-48db-8aa0-f78e91ded40f');\n",
              "var x = new MutationObserver(function (mutations, observer) {{\n",
              "        var display = window.getComputedStyle(gd).display;\n",
              "        if (!display || display === 'none') {{\n",
              "            console.log([gd, 'removed!']);\n",
              "            Plotly.purge(gd);\n",
              "            observer.disconnect();\n",
              "        }}\n",
              "}});\n",
              "\n",
              "// Listen for the removal of the full notebook cells\n",
              "var notebookContainer = gd.closest('#notebook-container');\n",
              "if (notebookContainer) {{\n",
              "    x.observe(notebookContainer, {childList: true});\n",
              "}}\n",
              "\n",
              "// Listen for the clearing of the current output cell\n",
              "var outputEl = gd.closest('.output');\n",
              "if (outputEl) {{\n",
              "    x.observe(outputEl, {childList: true});\n",
              "}}\n",
              "\n",
              "                        })                };                            </script>        </div>\n",
              "</body>\n",
              "</html>"
            ]
          },
          "metadata": {
            "tags": []
          }
        }
      ]
    },
    {
      "cell_type": "code",
      "metadata": {
        "colab": {
          "base_uri": "https://localhost:8080/",
          "height": 430
        },
        "id": "hrQ3nBlKLtsH",
        "outputId": "b8859453-eb25-4ecf-9f10-907087fccc51"
      },
      "source": [
        "pp = explainer.predict_parts(x_test.iloc[15])\n",
        "pp.plot()"
      ],
      "execution_count": 19,
      "outputs": [
        {
          "output_type": "display_data",
          "data": {
            "text/html": [
              "<html>\n",
              "<head><meta charset=\"utf-8\" /></head>\n",
              "<body>\n",
              "    <div>            <script src=\"https://cdnjs.cloudflare.com/ajax/libs/mathjax/2.7.5/MathJax.js?config=TeX-AMS-MML_SVG\"></script><script type=\"text/javascript\">if (window.MathJax) {MathJax.Hub.Config({SVG: {font: \"STIX-Web\"}});}</script>                <script type=\"text/javascript\">window.PlotlyConfig = {MathJaxConfig: 'local'};</script>\n",
              "        <script src=\"https://cdn.plot.ly/plotly-latest.min.js\"></script>                <div id=\"e1146c7b-ea81-41d2-ad8c-b16afb81e8fa\" class=\"plotly-graph-div\" style=\"height:413.0px; width:100%;\"></div>            <script type=\"text/javascript\">                                    window.PLOTLYENV=window.PLOTLYENV || {};                                    if (document.getElementById(\"e1146c7b-ea81-41d2-ad8c-b16afb81e8fa\")) {                    Plotly.newPlot(                        \"e1146c7b-ea81-41d2-ad8c-b16afb81e8fa\",                        [{\"base\": 0.5439476749845984, \"connector\": {\"line\": {\"color\": \"#371ea3\", \"dash\": \"solid\", \"width\": 1}, \"mode\": \"spanning\"}, \"decreasing\": {\"marker\": {\"color\": \"#f05a71\"}}, \"hoverinfo\": \"text+delta\", \"hoverlabel\": {\"bgcolor\": \"rgba(0,0,0,0.8)\"}, \"hovertext\": [\"Average response: 0.544<br>Prediction: 0.173\", \"oldpeak = 4.2<br>decreases average response by\", \"trestbps = 178.0<br>decreases average response by\", \"ca = 0.0<br>increases average response by\", \"cp_3 = 1.0<br>increases average response by\", \"thal_3 = 1.0<br>decreases average response by\", \"cp_0 = 0.0<br>increases average response by\", \"thal_2 = 0.0<br>decreases average response by\", \"sex = 1.0<br>decreases average response by\", \"thalach = 145.0<br>decreases average response by\", \"slope_2 = 0.0<br>decreases average response by\", \"+ all other factors<br>decreases average response by\", \"Average response: 0.544<br>Prediction: 0.173\"], \"increasing\": {\"marker\": {\"color\": \"#8bdcbe\"}}, \"measure\": [\"relative\", \"relative\", \"relative\", \"relative\", \"relative\", \"relative\", \"relative\", \"relative\", \"relative\", \"relative\", \"relative\", \"relative\", \"total\"], \"orientation\": \"h\", \"showlegend\": false, \"text\": [\"0.544\", \"-0.156\", \"-0.114\", \"+0.055\", \"+0.093\", \"-0.088\", \"+0.061\", \"-0.076\", \"-0.067\", \"-0.041\", \"-0.03\", \"-0.008\", \"0.173\"], \"textposition\": \"outside\", \"totals\": {\"marker\": {\"color\": \"#371ea3\"}}, \"type\": \"waterfall\", \"x\": [0.0, -0.156, -0.114, 0.055, 0.093, -0.088, 0.061, -0.076, -0.067, -0.041, -0.03, -0.008, -0.371], \"xaxis\": \"x\", \"y\": [\"intercept\", \"oldpeak = 4.2\", \"trestbps = 178.0\", \"ca = 0.0\", \"cp_3 = 1.0\", \"thal_3 = 1.0\", \"cp_0 = 0.0\", \"thal_2 = 0.0\", \"sex = 1.0\", \"thalach = 145.0\", \"slope_2 = 0.0\", \"+ all other factors\", \"prediction\"], \"yaxis\": \"y\"}],                        {\"annotations\": [{\"font\": {\"size\": 16}, \"showarrow\": false, \"text\": \"LogisticRegression\", \"x\": 0.5, \"xanchor\": \"center\", \"xref\": \"paper\", \"y\": 1.0, \"yanchor\": \"bottom\", \"yref\": \"paper\"}, {\"font\": {\"size\": 16}, \"showarrow\": false, \"text\": \"contribution\", \"x\": 0.5, \"xanchor\": \"center\", \"xref\": \"paper\", \"y\": 0, \"yanchor\": \"top\", \"yref\": \"paper\", \"yshift\": -30}], \"font\": {\"color\": \"#371ea3\"}, \"height\": 413.0, \"margin\": {\"b\": 71, \"r\": 30, \"t\": 78}, \"shapes\": [{\"line\": {\"color\": \"#371ea3\", \"dash\": \"dot\", \"width\": 1.5}, \"type\": \"line\", \"x0\": 0.5439476749845984, \"x1\": 0.5439476749845984, \"xref\": \"x\", \"y0\": -1, \"y1\": 13, \"yref\": \"y\"}], \"template\": {\"data\": {\"scatter\": [{\"type\": \"scatter\"}]}}, \"title\": {\"text\": \"Break Down\", \"x\": 0.15}, \"xaxis\": {\"anchor\": \"y\", \"automargin\": true, \"domain\": [0.0, 1.0], \"fixedrange\": true, \"gridwidth\": 2, \"range\": [0.11734999999999998, 0.59965], \"tickcolor\": \"white\", \"ticklen\": 3, \"ticks\": \"outside\", \"type\": \"linear\", \"zeroline\": false}, \"yaxis\": {\"anchor\": \"x\", \"automargin\": true, \"autorange\": \"reversed\", \"domain\": [0.0, 1.0], \"fixedrange\": true, \"gridwidth\": 2, \"tickcolor\": \"white\", \"ticklen\": 10, \"ticks\": \"outside\", \"type\": \"category\"}},                        {\"displaylogo\": false, \"staticPlot\": false, \"toImageButtonOptions\": {\"height\": null, \"width\": null}, \"modeBarButtonsToRemove\": [\"sendDataToCloud\", \"lasso2d\", \"autoScale2d\", \"select2d\", \"zoom2d\", \"pan2d\", \"zoomIn2d\", \"zoomOut2d\", \"resetScale2d\", \"toggleSpikelines\", \"hoverCompareCartesian\", \"hoverClosestCartesian\"], \"responsive\": true}                    ).then(function(){\n",
              "                            \n",
              "var gd = document.getElementById('e1146c7b-ea81-41d2-ad8c-b16afb81e8fa');\n",
              "var x = new MutationObserver(function (mutations, observer) {{\n",
              "        var display = window.getComputedStyle(gd).display;\n",
              "        if (!display || display === 'none') {{\n",
              "            console.log([gd, 'removed!']);\n",
              "            Plotly.purge(gd);\n",
              "            observer.disconnect();\n",
              "        }}\n",
              "}});\n",
              "\n",
              "// Listen for the removal of the full notebook cells\n",
              "var notebookContainer = gd.closest('#notebook-container');\n",
              "if (notebookContainer) {{\n",
              "    x.observe(notebookContainer, {childList: true});\n",
              "}}\n",
              "\n",
              "// Listen for the clearing of the current output cell\n",
              "var outputEl = gd.closest('.output');\n",
              "if (outputEl) {{\n",
              "    x.observe(outputEl, {childList: true});\n",
              "}}\n",
              "\n",
              "                        })                };                            </script>        </div>\n",
              "</body>\n",
              "</html>"
            ]
          },
          "metadata": {
            "tags": []
          }
        }
      ]
    },
    {
      "cell_type": "code",
      "metadata": {
        "colab": {
          "base_uri": "https://localhost:8080/",
          "height": 430
        },
        "id": "BgOd30EeLuui",
        "outputId": "6d8aa890-301d-42b1-d373-4f1c659a4916"
      },
      "source": [
        "pp = explainer.predict_parts(x_test.iloc[20])\n",
        "pp.plot()"
      ],
      "execution_count": 20,
      "outputs": [
        {
          "output_type": "display_data",
          "data": {
            "text/html": [
              "<html>\n",
              "<head><meta charset=\"utf-8\" /></head>\n",
              "<body>\n",
              "    <div>            <script src=\"https://cdnjs.cloudflare.com/ajax/libs/mathjax/2.7.5/MathJax.js?config=TeX-AMS-MML_SVG\"></script><script type=\"text/javascript\">if (window.MathJax) {MathJax.Hub.Config({SVG: {font: \"STIX-Web\"}});}</script>                <script type=\"text/javascript\">window.PlotlyConfig = {MathJaxConfig: 'local'};</script>\n",
              "        <script src=\"https://cdn.plot.ly/plotly-latest.min.js\"></script>                <div id=\"d7f5ea14-1ce5-4368-bb98-75119d5fdbee\" class=\"plotly-graph-div\" style=\"height:413.0px; width:100%;\"></div>            <script type=\"text/javascript\">                                    window.PLOTLYENV=window.PLOTLYENV || {};                                    if (document.getElementById(\"d7f5ea14-1ce5-4368-bb98-75119d5fdbee\")) {                    Plotly.newPlot(                        \"d7f5ea14-1ce5-4368-bb98-75119d5fdbee\",                        [{\"base\": 0.5439476749845984, \"connector\": {\"line\": {\"color\": \"#371ea3\", \"dash\": \"solid\", \"width\": 1}, \"mode\": \"spanning\"}, \"decreasing\": {\"marker\": {\"color\": \"#f05a71\"}}, \"hoverinfo\": \"text+delta\", \"hoverlabel\": {\"bgcolor\": \"rgba(0,0,0,0.8)\"}, \"hovertext\": [\"Average response: 0.544<br>Prediction: 0.815\", \"cp_0 = 1.0<br>decreases average response by\", \"ca = 0.0<br>increases average response by\", \"thalach = 178.0<br>increases average response by\", \"oldpeak = 0.0<br>increases average response by\", \"sex = 1.0<br>decreases average response by\", \"thal_3 = 0.0<br>increases average response by\", \"thal_2 = 1.0<br>increases average response by\", \"age = 42.0<br>decreases average response by\", \"slope_2 = 1.0<br>increases average response by\", \"trestbps = 140.0<br>decreases average response by\", \"+ all other factors<br>increases average response by\", \"Average response: 0.544<br>Prediction: 0.815\"], \"increasing\": {\"marker\": {\"color\": \"#8bdcbe\"}}, \"measure\": [\"relative\", \"relative\", \"relative\", \"relative\", \"relative\", \"relative\", \"relative\", \"relative\", \"relative\", \"relative\", \"relative\", \"relative\", \"total\"], \"orientation\": \"h\", \"showlegend\": false, \"text\": [\"0.544\", \"-0.084\", \"+0.084\", \"+0.106\", \"+0.072\", \"-0.037\", \"+0.068\", \"+0.055\", \"-0.048\", \"+0.036\", \"-0.019\", \"+0.039\", \"0.815\"], \"textposition\": \"outside\", \"totals\": {\"marker\": {\"color\": \"#371ea3\"}}, \"type\": \"waterfall\", \"x\": [0.0, -0.084, 0.084, 0.106, 0.072, -0.037, 0.068, 0.055, -0.048, 0.036, -0.019, 0.039, 0.271], \"xaxis\": \"x\", \"y\": [\"intercept\", \"cp_0 = 1.0\", \"ca = 0.0\", \"thalach = 178.0\", \"oldpeak = 0.0\", \"sex = 1.0\", \"thal_3 = 0.0\", \"thal_2 = 1.0\", \"age = 42.0\", \"slope_2 = 1.0\", \"trestbps = 140.0\", \"+ all other factors\", \"prediction\"], \"yaxis\": \"y\"}],                        {\"annotations\": [{\"font\": {\"size\": 16}, \"showarrow\": false, \"text\": \"LogisticRegression\", \"x\": 0.5, \"xanchor\": \"center\", \"xref\": \"paper\", \"y\": 1.0, \"yanchor\": \"bottom\", \"yref\": \"paper\"}, {\"font\": {\"size\": 16}, \"showarrow\": false, \"text\": \"contribution\", \"x\": 0.5, \"xanchor\": \"center\", \"xref\": \"paper\", \"y\": 0, \"yanchor\": \"top\", \"yref\": \"paper\", \"yshift\": -30}], \"font\": {\"color\": \"#371ea3\"}, \"height\": 413.0, \"margin\": {\"b\": 71, \"r\": 30, \"t\": 78}, \"shapes\": [{\"line\": {\"color\": \"#371ea3\", \"dash\": \"dot\", \"width\": 1.5}, \"type\": \"line\", \"x0\": 0.5439476749845984, \"x1\": 0.5439476749845984, \"xref\": \"x\", \"y0\": -1, \"y1\": 13, \"yref\": \"y\"}], \"template\": {\"data\": {\"scatter\": [{\"type\": \"scatter\"}]}}, \"title\": {\"text\": \"Break Down\", \"x\": 0.15}, \"xaxis\": {\"anchor\": \"y\", \"automargin\": true, \"domain\": [0.0, 1.0], \"fixedrange\": true, \"gridwidth\": 2, \"range\": [0.40675000000000006, 0.86825], \"tickcolor\": \"white\", \"ticklen\": 3, \"ticks\": \"outside\", \"type\": \"linear\", \"zeroline\": false}, \"yaxis\": {\"anchor\": \"x\", \"automargin\": true, \"autorange\": \"reversed\", \"domain\": [0.0, 1.0], \"fixedrange\": true, \"gridwidth\": 2, \"tickcolor\": \"white\", \"ticklen\": 10, \"ticks\": \"outside\", \"type\": \"category\"}},                        {\"displaylogo\": false, \"staticPlot\": false, \"toImageButtonOptions\": {\"height\": null, \"width\": null}, \"modeBarButtonsToRemove\": [\"sendDataToCloud\", \"lasso2d\", \"autoScale2d\", \"select2d\", \"zoom2d\", \"pan2d\", \"zoomIn2d\", \"zoomOut2d\", \"resetScale2d\", \"toggleSpikelines\", \"hoverCompareCartesian\", \"hoverClosestCartesian\"], \"responsive\": true}                    ).then(function(){\n",
              "                            \n",
              "var gd = document.getElementById('d7f5ea14-1ce5-4368-bb98-75119d5fdbee');\n",
              "var x = new MutationObserver(function (mutations, observer) {{\n",
              "        var display = window.getComputedStyle(gd).display;\n",
              "        if (!display || display === 'none') {{\n",
              "            console.log([gd, 'removed!']);\n",
              "            Plotly.purge(gd);\n",
              "            observer.disconnect();\n",
              "        }}\n",
              "}});\n",
              "\n",
              "// Listen for the removal of the full notebook cells\n",
              "var notebookContainer = gd.closest('#notebook-container');\n",
              "if (notebookContainer) {{\n",
              "    x.observe(notebookContainer, {childList: true});\n",
              "}}\n",
              "\n",
              "// Listen for the clearing of the current output cell\n",
              "var outputEl = gd.closest('.output');\n",
              "if (outputEl) {{\n",
              "    x.observe(outputEl, {childList: true});\n",
              "}}\n",
              "\n",
              "                        })                };                            </script>        </div>\n",
              "</body>\n",
              "</html>"
            ]
          },
          "metadata": {
            "tags": []
          }
        }
      ]
    },
    {
      "cell_type": "code",
      "metadata": {
        "id": "lNjvr7eTTcbG"
      },
      "source": [
        "!pip install nbconvert"
      ],
      "execution_count": null,
      "outputs": []
    },
    {
      "cell_type": "code",
      "metadata": {
        "colab": {
          "base_uri": "https://localhost:8080/"
        },
        "id": "e12UTfnnb0NJ",
        "outputId": "211c3481-c8f7-4332-abed-d79f01d6b406"
      },
      "source": [
        "!jupyter nbconvert --to html HW_Patryk_Slowakiewicz.ipynb"
      ],
      "execution_count": 27,
      "outputs": [
        {
          "output_type": "stream",
          "text": [
            "[NbConvertApp] WARNING | pattern u'HW_Patryk_Slowakiewicz.ipynb' matched no files\n",
            "This application is used to convert notebook files (*.ipynb) to various other\n",
            "formats.\n",
            "\n",
            "WARNING: THE COMMANDLINE INTERFACE MAY CHANGE IN FUTURE RELEASES.\n",
            "\n",
            "Options\n",
            "-------\n",
            "\n",
            "Arguments that take values are actually convenience aliases to full\n",
            "Configurables, whose aliases are listed on the help line. For more information\n",
            "on full configurables, see '--help-all'.\n",
            "\n",
            "--execute\n",
            "    Execute the notebook prior to export.\n",
            "--allow-errors\n",
            "    Continue notebook execution even if one of the cells throws an error and include the error message in the cell output (the default behaviour is to abort conversion). This flag is only relevant if '--execute' was specified, too.\n",
            "--no-input\n",
            "    Exclude input cells and output prompts from converted document. \n",
            "    This mode is ideal for generating code-free reports.\n",
            "--stdout\n",
            "    Write notebook output to stdout instead of files.\n",
            "--stdin\n",
            "    read a single notebook file from stdin. Write the resulting notebook with default basename 'notebook.*'\n",
            "--inplace\n",
            "    Run nbconvert in place, overwriting the existing notebook (only \n",
            "    relevant when converting to notebook format)\n",
            "-y\n",
            "    Answer yes to any questions instead of prompting.\n",
            "--clear-output\n",
            "    Clear output of current file and save in place, \n",
            "    overwriting the existing notebook.\n",
            "--debug\n",
            "    set log level to logging.DEBUG (maximize logging output)\n",
            "--no-prompt\n",
            "    Exclude input and output prompts from converted document.\n",
            "--generate-config\n",
            "    generate default config file\n",
            "--nbformat=<Enum> (NotebookExporter.nbformat_version)\n",
            "    Default: 4\n",
            "    Choices: [1, 2, 3, 4]\n",
            "    The nbformat version to write. Use this to downgrade notebooks.\n",
            "--output-dir=<Unicode> (FilesWriter.build_directory)\n",
            "    Default: ''\n",
            "    Directory to write output(s) to. Defaults to output to the directory of each\n",
            "    notebook. To recover previous default behaviour (outputting to the current\n",
            "    working directory) use . as the flag value.\n",
            "--writer=<DottedObjectName> (NbConvertApp.writer_class)\n",
            "    Default: 'FilesWriter'\n",
            "    Writer class used to write the  results of the conversion\n",
            "--log-level=<Enum> (Application.log_level)\n",
            "    Default: 30\n",
            "    Choices: (0, 10, 20, 30, 40, 50, 'DEBUG', 'INFO', 'WARN', 'ERROR', 'CRITICAL')\n",
            "    Set the log level by value or name.\n",
            "--reveal-prefix=<Unicode> (SlidesExporter.reveal_url_prefix)\n",
            "    Default: u''\n",
            "    The URL prefix for reveal.js (version 3.x). This defaults to the reveal CDN,\n",
            "    but can be any url pointing to a copy  of reveal.js.\n",
            "    For speaker notes to work, this must be a relative path to a local  copy of\n",
            "    reveal.js: e.g., \"reveal.js\".\n",
            "    If a relative path is given, it must be a subdirectory of the current\n",
            "    directory (from which the server is run).\n",
            "    See the usage documentation\n",
            "    (https://nbconvert.readthedocs.io/en/latest/usage.html#reveal-js-html-\n",
            "    slideshow) for more details.\n",
            "--to=<Unicode> (NbConvertApp.export_format)\n",
            "    Default: 'html'\n",
            "    The export format to be used, either one of the built-in formats\n",
            "    ['asciidoc', 'custom', 'html', 'latex', 'markdown', 'notebook', 'pdf',\n",
            "    'python', 'rst', 'script', 'slides'] or a dotted object name that represents\n",
            "    the import path for an `Exporter` class\n",
            "--template=<Unicode> (TemplateExporter.template_file)\n",
            "    Default: u''\n",
            "    Name of the template file to use\n",
            "--output=<Unicode> (NbConvertApp.output_base)\n",
            "    Default: ''\n",
            "    overwrite base name use for output files. can only be used when converting\n",
            "    one notebook at a time.\n",
            "--post=<DottedOrNone> (NbConvertApp.postprocessor_class)\n",
            "    Default: u''\n",
            "    PostProcessor class used to write the results of the conversion\n",
            "--config=<Unicode> (JupyterApp.config_file)\n",
            "    Default: u''\n",
            "    Full path of a config file.\n",
            "\n",
            "To see all available configurables, use `--help-all`\n",
            "\n",
            "Examples\n",
            "--------\n",
            "\n",
            "    The simplest way to use nbconvert is\n",
            "    \n",
            "    > jupyter nbconvert mynotebook.ipynb\n",
            "    \n",
            "    which will convert mynotebook.ipynb to the default format (probably HTML).\n",
            "    \n",
            "    You can specify the export format with `--to`.\n",
            "    Options include ['asciidoc', 'custom', 'html', 'latex', 'markdown', 'notebook', 'pdf', 'python', 'rst', 'script', 'slides'].\n",
            "    \n",
            "    > jupyter nbconvert --to latex mynotebook.ipynb\n",
            "    \n",
            "    Both HTML and LaTeX support multiple output templates. LaTeX includes\n",
            "    'base', 'article' and 'report'.  HTML includes 'basic' and 'full'. You\n",
            "    can specify the flavor of the format used.\n",
            "    \n",
            "    > jupyter nbconvert --to html --template basic mynotebook.ipynb\n",
            "    \n",
            "    You can also pipe the output to stdout, rather than a file\n",
            "    \n",
            "    > jupyter nbconvert mynotebook.ipynb --stdout\n",
            "    \n",
            "    PDF is generated via latex\n",
            "    \n",
            "    > jupyter nbconvert mynotebook.ipynb --to pdf\n",
            "    \n",
            "    You can get (and serve) a Reveal.js-powered slideshow\n",
            "    \n",
            "    > jupyter nbconvert myslides.ipynb --to slides --post serve\n",
            "    \n",
            "    Multiple notebooks can be given at the command line in a couple of \n",
            "    different ways:\n",
            "    \n",
            "    > jupyter nbconvert notebook*.ipynb\n",
            "    > jupyter nbconvert notebook1.ipynb notebook2.ipynb\n",
            "    \n",
            "    or you can specify the notebooks list in a config file, containing::\n",
            "    \n",
            "        c.NbConvertApp.notebooks = [\"my_notebook.ipynb\"]\n",
            "    \n",
            "    > jupyter nbconvert --config mycfg.py\n",
            "\n"
          ],
          "name": "stdout"
        }
      ]
    },
    {
      "cell_type": "code",
      "metadata": {
        "id": "QcbxHq0ycDIR"
      },
      "source": [
        ""
      ],
      "execution_count": null,
      "outputs": []
    }
  ]
}