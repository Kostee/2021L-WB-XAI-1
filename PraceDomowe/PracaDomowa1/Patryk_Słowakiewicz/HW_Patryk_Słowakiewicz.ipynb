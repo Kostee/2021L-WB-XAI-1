{
  "nbformat": 4,
  "nbformat_minor": 0,
  "metadata": {
    "colab": {
      "name": "HW_Patryk_Słowakiewicz.ipynb",
      "provenance": [],
      "collapsed_sections": []
    },
    "kernelspec": {
      "name": "python3",
      "display_name": "Python 3"
    },
    "language_info": {
      "name": "python"
    }
  },
  "cells": [
    {
      "cell_type": "code",
      "metadata": {
        "id": "tqVSigERGj8c",
        "colab": {
          "base_uri": "https://localhost:8080/"
        },
        "outputId": "3e03c68e-6847-4345-96e6-e4743ba428ee"
      },
      "source": [
        "!pip install dalex"
      ],
      "execution_count": null,
      "outputs": [
        {
          "output_type": "stream",
          "text": [
            "Collecting dalex\n",
            "\u001b[?25l  Downloading https://files.pythonhosted.org/packages/c5/4a/62ae586557786036890a834b7642b82c30537dcda630b87d3611159de787/dalex-1.0.1.tar.gz (961kB)\n",
            "\r\u001b[K     |▍                               | 10kB 12.8MB/s eta 0:00:01\r\u001b[K     |▊                               | 20kB 9.9MB/s eta 0:00:01\r\u001b[K     |█                               | 30kB 9.2MB/s eta 0:00:01\r\u001b[K     |█▍                              | 40kB 8.2MB/s eta 0:00:01\r\u001b[K     |█▊                              | 51kB 5.0MB/s eta 0:00:01\r\u001b[K     |██                              | 61kB 4.8MB/s eta 0:00:01\r\u001b[K     |██▍                             | 71kB 5.2MB/s eta 0:00:01\r\u001b[K     |██▊                             | 81kB 5.7MB/s eta 0:00:01\r\u001b[K     |███                             | 92kB 5.7MB/s eta 0:00:01\r\u001b[K     |███▍                            | 102kB 6.2MB/s eta 0:00:01\r\u001b[K     |███▊                            | 112kB 6.2MB/s eta 0:00:01\r\u001b[K     |████                            | 122kB 6.2MB/s eta 0:00:01\r\u001b[K     |████▍                           | 133kB 6.2MB/s eta 0:00:01\r\u001b[K     |████▊                           | 143kB 6.2MB/s eta 0:00:01\r\u001b[K     |█████                           | 153kB 6.2MB/s eta 0:00:01\r\u001b[K     |█████▌                          | 163kB 6.2MB/s eta 0:00:01\r\u001b[K     |█████▉                          | 174kB 6.2MB/s eta 0:00:01\r\u001b[K     |██████▏                         | 184kB 6.2MB/s eta 0:00:01\r\u001b[K     |██████▌                         | 194kB 6.2MB/s eta 0:00:01\r\u001b[K     |██████▉                         | 204kB 6.2MB/s eta 0:00:01\r\u001b[K     |███████▏                        | 215kB 6.2MB/s eta 0:00:01\r\u001b[K     |███████▌                        | 225kB 6.2MB/s eta 0:00:01\r\u001b[K     |███████▉                        | 235kB 6.2MB/s eta 0:00:01\r\u001b[K     |████████▏                       | 245kB 6.2MB/s eta 0:00:01\r\u001b[K     |████████▌                       | 256kB 6.2MB/s eta 0:00:01\r\u001b[K     |████████▉                       | 266kB 6.2MB/s eta 0:00:01\r\u001b[K     |█████████▏                      | 276kB 6.2MB/s eta 0:00:01\r\u001b[K     |█████████▌                      | 286kB 6.2MB/s eta 0:00:01\r\u001b[K     |█████████▉                      | 296kB 6.2MB/s eta 0:00:01\r\u001b[K     |██████████▏                     | 307kB 6.2MB/s eta 0:00:01\r\u001b[K     |██████████▋                     | 317kB 6.2MB/s eta 0:00:01\r\u001b[K     |███████████                     | 327kB 6.2MB/s eta 0:00:01\r\u001b[K     |███████████▎                    | 337kB 6.2MB/s eta 0:00:01\r\u001b[K     |███████████▋                    | 348kB 6.2MB/s eta 0:00:01\r\u001b[K     |████████████                    | 358kB 6.2MB/s eta 0:00:01\r\u001b[K     |████████████▎                   | 368kB 6.2MB/s eta 0:00:01\r\u001b[K     |████████████▋                   | 378kB 6.2MB/s eta 0:00:01\r\u001b[K     |█████████████                   | 389kB 6.2MB/s eta 0:00:01\r\u001b[K     |█████████████▎                  | 399kB 6.2MB/s eta 0:00:01\r\u001b[K     |█████████████▋                  | 409kB 6.2MB/s eta 0:00:01\r\u001b[K     |██████████████                  | 419kB 6.2MB/s eta 0:00:01\r\u001b[K     |██████████████▎                 | 430kB 6.2MB/s eta 0:00:01\r\u001b[K     |██████████████▋                 | 440kB 6.2MB/s eta 0:00:01\r\u001b[K     |███████████████                 | 450kB 6.2MB/s eta 0:00:01\r\u001b[K     |███████████████▎                | 460kB 6.2MB/s eta 0:00:01\r\u001b[K     |███████████████▊                | 471kB 6.2MB/s eta 0:00:01\r\u001b[K     |████████████████                | 481kB 6.2MB/s eta 0:00:01\r\u001b[K     |████████████████▍               | 491kB 6.2MB/s eta 0:00:01\r\u001b[K     |████████████████▊               | 501kB 6.2MB/s eta 0:00:01\r\u001b[K     |█████████████████               | 512kB 6.2MB/s eta 0:00:01\r\u001b[K     |█████████████████▍              | 522kB 6.2MB/s eta 0:00:01\r\u001b[K     |█████████████████▊              | 532kB 6.2MB/s eta 0:00:01\r\u001b[K     |██████████████████              | 542kB 6.2MB/s eta 0:00:01\r\u001b[K     |██████████████████▍             | 552kB 6.2MB/s eta 0:00:01\r\u001b[K     |██████████████████▊             | 563kB 6.2MB/s eta 0:00:01\r\u001b[K     |███████████████████             | 573kB 6.2MB/s eta 0:00:01\r\u001b[K     |███████████████████▍            | 583kB 6.2MB/s eta 0:00:01\r\u001b[K     |███████████████████▊            | 593kB 6.2MB/s eta 0:00:01\r\u001b[K     |████████████████████            | 604kB 6.2MB/s eta 0:00:01\r\u001b[K     |████████████████████▍           | 614kB 6.2MB/s eta 0:00:01\r\u001b[K     |████████████████████▉           | 624kB 6.2MB/s eta 0:00:01\r\u001b[K     |█████████████████████▏          | 634kB 6.2MB/s eta 0:00:01\r\u001b[K     |█████████████████████▌          | 645kB 6.2MB/s eta 0:00:01\r\u001b[K     |█████████████████████▉          | 655kB 6.2MB/s eta 0:00:01\r\u001b[K     |██████████████████████▏         | 665kB 6.2MB/s eta 0:00:01\r\u001b[K     |██████████████████████▌         | 675kB 6.2MB/s eta 0:00:01\r\u001b[K     |██████████████████████▉         | 686kB 6.2MB/s eta 0:00:01\r\u001b[K     |███████████████████████▏        | 696kB 6.2MB/s eta 0:00:01\r\u001b[K     |███████████████████████▌        | 706kB 6.2MB/s eta 0:00:01\r\u001b[K     |███████████████████████▉        | 716kB 6.2MB/s eta 0:00:01\r\u001b[K     |████████████████████████▏       | 727kB 6.2MB/s eta 0:00:01\r\u001b[K     |████████████████████████▌       | 737kB 6.2MB/s eta 0:00:01\r\u001b[K     |████████████████████████▉       | 747kB 6.2MB/s eta 0:00:01\r\u001b[K     |█████████████████████████▏      | 757kB 6.2MB/s eta 0:00:01\r\u001b[K     |█████████████████████████▌      | 768kB 6.2MB/s eta 0:00:01\r\u001b[K     |██████████████████████████      | 778kB 6.2MB/s eta 0:00:01\r\u001b[K     |██████████████████████████▎     | 788kB 6.2MB/s eta 0:00:01\r\u001b[K     |██████████████████████████▋     | 798kB 6.2MB/s eta 0:00:01\r\u001b[K     |███████████████████████████     | 808kB 6.2MB/s eta 0:00:01\r\u001b[K     |███████████████████████████▎    | 819kB 6.2MB/s eta 0:00:01\r\u001b[K     |███████████████████████████▋    | 829kB 6.2MB/s eta 0:00:01\r\u001b[K     |████████████████████████████    | 839kB 6.2MB/s eta 0:00:01\r\u001b[K     |████████████████████████████▎   | 849kB 6.2MB/s eta 0:00:01\r\u001b[K     |████████████████████████████▋   | 860kB 6.2MB/s eta 0:00:01\r\u001b[K     |█████████████████████████████   | 870kB 6.2MB/s eta 0:00:01\r\u001b[K     |█████████████████████████████▎  | 880kB 6.2MB/s eta 0:00:01\r\u001b[K     |█████████████████████████████▋  | 890kB 6.2MB/s eta 0:00:01\r\u001b[K     |██████████████████████████████  | 901kB 6.2MB/s eta 0:00:01\r\u001b[K     |██████████████████████████████▎ | 911kB 6.2MB/s eta 0:00:01\r\u001b[K     |██████████████████████████████▋ | 921kB 6.2MB/s eta 0:00:01\r\u001b[K     |███████████████████████████████ | 931kB 6.2MB/s eta 0:00:01\r\u001b[K     |███████████████████████████████▍| 942kB 6.2MB/s eta 0:00:01\r\u001b[K     |███████████████████████████████▊| 952kB 6.2MB/s eta 0:00:01\r\u001b[K     |████████████████████████████████| 962kB 6.2MB/s \n",
            "\u001b[?25hRequirement already satisfied: setuptools in /usr/local/lib/python3.7/dist-packages (from dalex) (54.1.2)\n",
            "Requirement already satisfied: pandas>=1.1.2 in /usr/local/lib/python3.7/dist-packages (from dalex) (1.1.5)\n",
            "Requirement already satisfied: numpy>=1.18.4 in /usr/local/lib/python3.7/dist-packages (from dalex) (1.19.5)\n",
            "Collecting plotly>=4.12.0\n",
            "\u001b[?25l  Downloading https://files.pythonhosted.org/packages/1f/f6/bd3c17c8003b6641df1228e80e1acac97ed8402635e46c2571f8e1ef63af/plotly-4.14.3-py2.py3-none-any.whl (13.2MB)\n",
            "\u001b[K     |████████████████████████████████| 13.2MB 269kB/s \n",
            "\u001b[?25hCollecting tqdm>=4.48.2\n",
            "\u001b[?25l  Downloading https://files.pythonhosted.org/packages/f8/3e/2730d0effc282960dbff3cf91599ad0d8f3faedc8e75720fdf224b31ab24/tqdm-4.59.0-py2.py3-none-any.whl (74kB)\n",
            "\u001b[K     |████████████████████████████████| 81kB 5.1MB/s \n",
            "\u001b[?25hRequirement already satisfied: pytz>=2017.2 in /usr/local/lib/python3.7/dist-packages (from pandas>=1.1.2->dalex) (2018.9)\n",
            "Requirement already satisfied: python-dateutil>=2.7.3 in /usr/local/lib/python3.7/dist-packages (from pandas>=1.1.2->dalex) (2.8.1)\n",
            "Requirement already satisfied: retrying>=1.3.3 in /usr/local/lib/python3.7/dist-packages (from plotly>=4.12.0->dalex) (1.3.3)\n",
            "Requirement already satisfied: six in /usr/local/lib/python3.7/dist-packages (from plotly>=4.12.0->dalex) (1.15.0)\n",
            "Building wheels for collected packages: dalex\n",
            "  Building wheel for dalex (setup.py) ... \u001b[?25l\u001b[?25hdone\n",
            "  Created wheel for dalex: filename=dalex-1.0.1-cp37-none-any.whl size=978196 sha256=f0aac6259a7d79e63a07e3b6369995c3962d06d15a51519af97585c1bb9c6b08\n",
            "  Stored in directory: /root/.cache/pip/wheels/50/e9/55/f49b1035158a7d85746a3ba1514f8e31481227087c3dcc222a\n",
            "Successfully built dalex\n",
            "Installing collected packages: plotly, tqdm, dalex\n",
            "  Found existing installation: plotly 4.4.1\n",
            "    Uninstalling plotly-4.4.1:\n",
            "      Successfully uninstalled plotly-4.4.1\n",
            "  Found existing installation: tqdm 4.41.1\n",
            "    Uninstalling tqdm-4.41.1:\n",
            "      Successfully uninstalled tqdm-4.41.1\n",
            "Successfully installed dalex-1.0.1 plotly-4.14.3 tqdm-4.59.0\n"
          ],
          "name": "stdout"
        }
      ]
    },
    {
      "cell_type": "code",
      "metadata": {
        "id": "gaA7Xfu9Gruj"
      },
      "source": [
        "import numpy as np\n",
        "import pandas as pd\n",
        "import matplotlib.pyplot as plt\n",
        "import dalex as dx\n",
        "from copy import deepcopy, copy\n",
        "from sklearn.model_selection import train_test_split\n",
        "import warnings\n",
        "from sklearn.linear_model import LogisticRegression\n",
        "from sklearn.model_selection import cross_val_score\n",
        "warnings.filterwarnings('ignore')"
      ],
      "execution_count": null,
      "outputs": []
    },
    {
      "cell_type": "code",
      "metadata": {
        "id": "6SebgkR_G20f",
        "colab": {
          "base_uri": "https://localhost:8080/"
        },
        "outputId": "767c327f-0a98-402f-932b-1d7e77de4f76"
      },
      "source": [
        "from google.colab import drive\n",
        "drive.mount('/content/drive')"
      ],
      "execution_count": null,
      "outputs": [
        {
          "output_type": "stream",
          "text": [
            "Mounted at /content/drive\n"
          ],
          "name": "stdout"
        }
      ]
    },
    {
      "cell_type": "code",
      "metadata": {
        "id": "Go-utcGQH9rx"
      },
      "source": [
        "df  = pd.read_csv('/content/drive/My Drive/Colab Notebooks/heart.csv')"
      ],
      "execution_count": null,
      "outputs": []
    },
    {
      "cell_type": "code",
      "metadata": {
        "id": "Xogao7qbY3GO"
      },
      "source": [
        "def encoder_data(df):\n",
        "  data = df.copy()\n",
        "  a = pd.get_dummies(data['cp'], prefix = 'cp')\n",
        "  b = pd.get_dummies(data['thal'], prefix = 'thal')\n",
        "  c = pd.get_dummies(data['slope'], prefix = 'slope')\n",
        "  d = pd.get_dummies(data['restecg'], prefix = 'restecg')\n",
        "  frames = [data.drop(columns = ['cp', 'thal', 'slope', 'restecg']), a, b, c, d]\n",
        "  data = pd.concat(frames, axis = 1)\n",
        "  return data"
      ],
      "execution_count": null,
      "outputs": []
    },
    {
      "cell_type": "code",
      "metadata": {
        "id": "ZLX-Nc-7IyLS"
      },
      "source": [
        "df.ca.replace(4, 0, inplace=True)\n",
        "df.thal.replace(0, 2, inplace=True)\n",
        "df = encoder_data(df)\n",
        "x = df.drop('target', axis=1)\n",
        "y = df.target"
      ],
      "execution_count": null,
      "outputs": []
    },
    {
      "cell_type": "code",
      "metadata": {
        "id": "rhkwMwtWIXKC"
      },
      "source": [
        "x_train, x_test, y_train, y_test = train_test_split(x,y, test_size = 0.2,random_state=1 , stratify = y)"
      ],
      "execution_count": null,
      "outputs": []
    },
    {
      "cell_type": "code",
      "metadata": {
        "colab": {
          "base_uri": "https://localhost:8080/"
        },
        "id": "sUM9jKH2O-ZN",
        "outputId": "802d9fe1-3ab9-410b-94bf-55c7eccf390d"
      },
      "source": [
        "lr = LogisticRegression()\n",
        "lr.fit(x_train, y_train)\n",
        "y_hat = lr.predict(x_test)\n",
        "print(cross_val_score(lr, x_train, y_train, cv =10, scoring='accuracy'))"
      ],
      "execution_count": null,
      "outputs": [
        {
          "output_type": "stream",
          "text": [
            "[0.84       0.84       0.875      0.875      0.79166667 0.83333333\n",
            " 0.875      0.83333333 0.91666667 0.91666667]\n"
          ],
          "name": "stdout"
        }
      ]
    },
    {
      "cell_type": "code",
      "metadata": {
        "colab": {
          "base_uri": "https://localhost:8080/"
        },
        "id": "B7KlrJJXUzQC",
        "outputId": "29a20aa5-13a8-4cd8-a8e0-b0b05aece80e"
      },
      "source": [
        "explainer = dx.Explainer(lr, x_train, y_train)"
      ],
      "execution_count": null,
      "outputs": [
        {
          "output_type": "stream",
          "text": [
            "Preparation of a new explainer is initiated\n",
            "\n",
            "  -> data              : 242 rows 22 cols\n",
            "  -> target variable   : Parameter 'y' was a pandas.Series. Converted to a numpy.ndarray.\n",
            "  -> target variable   : 242 values\n",
            "  -> model_class       : sklearn.linear_model._logistic.LogisticRegression (default)\n",
            "  -> label             : Not specified, model's class short name will be used. (default)\n",
            "  -> predict function  : <function yhat_proba_default at 0x7fa0b95474d0> will be used (default)\n",
            "  -> predict function  : Accepts pandas.DataFrame and numpy.ndarray.\n",
            "  -> predicted values  : min = 0.000605, mean = 0.544, max = 0.994\n",
            "  -> model type        : classification will be used (default)\n",
            "  -> residual function : difference between y and yhat (default)\n",
            "  -> residuals         : min = -0.96, mean = 0.00151, max = 0.969\n",
            "  -> model_info        : package sklearn\n",
            "\n",
            "A new explainer has been created!\n"
          ],
          "name": "stdout"
        }
      ]
    },
    {
      "cell_type": "markdown",
      "metadata": {
        "id": "E2ihjuGtyFlo"
      },
      "source": [
        "# Analiza pojedyńczego przypaku\n",
        "Analizujemy pojedyńczego pacjenta: jest to mężczyzna w wieku 45 lat, ze stosunkowo niskim ciśnieniem krwi za to dużym cholesterolem, jest on faktycznie chory.\n",
        "Główne zmienne dzięki którym diagnozujemy go jako chorego to:\n",
        "- Naprawiona wada (thal_2 = 1) warto zwórcić uwagę, że pomimo występowania jako trzecia na wykresie to właśnie ta zminna jest kluczowa ponieważ, (thal 3 = 0) wpływa również na plus diagnozy, a jedno wyklucza występowanie drugiej zmiennej \n",
        "- brak naczyń zabarwionych w czsie fluoroskopii (ca)\n",
        "- występownie bólu w klatce (cp_0 = 0) co ciekawe nie istotne jaki ból się pojwaił ale sam fakt występowania.\n",
        "\n",
        "Zaskakujące może wydawać się, że duży cholesterol nie wpływa na pozywtyne zdiagnowoanie. Podejrzewam, że wynika to z metody Break Down, wydaje się, że zmienne ciągłe nie są dla niej aż tak istotne."
      ]
    },
    {
      "cell_type": "code",
      "metadata": {
        "id": "8eDl-W7R2ec3"
      },
      "source": [
        "x_train.iloc[3]"
      ],
      "execution_count": null,
      "outputs": []
    },
    {
      "cell_type": "markdown",
      "metadata": {
        "id": "PE18UNBNG9K5"
      },
      "source": [
        "## 1"
      ]
    },
    {
      "cell_type": "code",
      "metadata": {
        "colab": {
          "base_uri": "https://localhost:8080/"
        },
        "id": "yeqTpcNtW8X_",
        "outputId": "11037794-99b3-4a95-cae4-51253815792c"
      },
      "source": [
        "explainer.predict(x_test)[3]"
      ],
      "execution_count": null,
      "outputs": [
        {
          "output_type": "execute_result",
          "data": {
            "text/plain": [
              "0.929020023984435"
            ]
          },
          "metadata": {
            "tags": []
          },
          "execution_count": 11
        }
      ]
    },
    {
      "cell_type": "markdown",
      "metadata": {
        "id": "S9tIdYJgHCB4"
      },
      "source": [
        "## 2"
      ]
    },
    {
      "cell_type": "code",
      "metadata": {
        "colab": {
          "base_uri": "https://localhost:8080/",
          "height": 430
        },
        "id": "eUVoYYEib9sv",
        "outputId": "061a4762-558a-4648-d41e-02e76544de18"
      },
      "source": [
        "pp = explainer.predict_parts(x_test.iloc[3])\n",
        "pp.plot()"
      ],
      "execution_count": null,
      "outputs": [
        {
          "output_type": "display_data",
          "data": {
            "text/html": [
              "<html>\n",
              "<head><meta charset=\"utf-8\" /></head>\n",
              "<body>\n",
              "    <div>            <script src=\"https://cdnjs.cloudflare.com/ajax/libs/mathjax/2.7.5/MathJax.js?config=TeX-AMS-MML_SVG\"></script><script type=\"text/javascript\">if (window.MathJax) {MathJax.Hub.Config({SVG: {font: \"STIX-Web\"}});}</script>                <script type=\"text/javascript\">window.PlotlyConfig = {MathJaxConfig: 'local'};</script>\n",
              "        <script src=\"https://cdn.plot.ly/plotly-latest.min.js\"></script>                <div id=\"39697f3e-0a3c-4727-a1df-2d33ff1d10c6\" class=\"plotly-graph-div\" style=\"height:413.0px; width:100%;\"></div>            <script type=\"text/javascript\">                                    window.PLOTLYENV=window.PLOTLYENV || {};                                    if (document.getElementById(\"39697f3e-0a3c-4727-a1df-2d33ff1d10c6\")) {                    Plotly.newPlot(                        \"39697f3e-0a3c-4727-a1df-2d33ff1d10c6\",                        [{\"base\": 0.5439476749845984, \"connector\": {\"line\": {\"color\": \"#371ea3\", \"dash\": \"solid\", \"width\": 1}, \"mode\": \"spanning\"}, \"decreasing\": {\"marker\": {\"color\": \"#f05a71\"}}, \"hoverinfo\": \"text+delta\", \"hoverlabel\": {\"bgcolor\": \"rgba(0,0,0,0.8)\"}, \"hovertext\": [\"Average response: 0.544<br>Prediction: 0.929\", \"ca = 0.0<br>increases average response by\", \"cp_0 = 0.0<br>increases average response by\", \"oldpeak = 0.0<br>increases average response by\", \"sex = 1.0<br>decreases average response by\", \"thal_3 = 0.0<br>increases average response by\", \"thal_2 = 1.0<br>increases average response by\", \"slope_2 = 1.0<br>increases average response by\", \"cp_2 = 0.0<br>decreases average response by\", \"slope_1 = 0.0<br>increases average response by\", \"exang = 0.0<br>increases average response by\", \"+ all other factors<br>increases average response by\", \"Average response: 0.544<br>Prediction: 0.929\"], \"increasing\": {\"marker\": {\"color\": \"#8bdcbe\"}}, \"measure\": [\"relative\", \"relative\", \"relative\", \"relative\", \"relative\", \"relative\", \"relative\", \"relative\", \"relative\", \"relative\", \"relative\", \"relative\", \"total\"], \"orientation\": \"h\", \"showlegend\": false, \"text\": [\"0.544\", \"+0.08\", \"+0.077\", \"+0.065\", \"-0.029\", \"+0.059\", \"+0.048\", \"+0.028\", \"-0.012\", \"+0.02\", \"+0.019\", \"+0.03\", \"0.929\"], \"textposition\": \"outside\", \"totals\": {\"marker\": {\"color\": \"#371ea3\"}}, \"type\": \"waterfall\", \"x\": [0.0, 0.08, 0.077, 0.065, -0.029, 0.059, 0.048, 0.028, -0.012, 0.02, 0.019, 0.03, 0.385], \"xaxis\": \"x\", \"y\": [\"intercept\", \"ca = 0.0\", \"cp_0 = 0.0\", \"oldpeak = 0.0\", \"sex = 1.0\", \"thal_3 = 0.0\", \"thal_2 = 1.0\", \"slope_2 = 1.0\", \"cp_2 = 0.0\", \"slope_1 = 0.0\", \"exang = 0.0\", \"+ all other factors\", \"prediction\"], \"yaxis\": \"y\"}],                        {\"annotations\": [{\"font\": {\"size\": 16}, \"showarrow\": false, \"text\": \"LogisticRegression\", \"x\": 0.5, \"xanchor\": \"center\", \"xref\": \"paper\", \"y\": 1.0, \"yanchor\": \"bottom\", \"yref\": \"paper\"}, {\"font\": {\"size\": 16}, \"showarrow\": false, \"text\": \"contribution\", \"x\": 0.5, \"xanchor\": \"center\", \"xref\": \"paper\", \"y\": 0, \"yanchor\": \"top\", \"yref\": \"paper\", \"yshift\": -30}], \"font\": {\"color\": \"#371ea3\"}, \"height\": 413.0, \"margin\": {\"b\": 71, \"r\": 30, \"t\": 78}, \"shapes\": [{\"line\": {\"color\": \"#371ea3\", \"dash\": \"dot\", \"width\": 1.5}, \"type\": \"line\", \"x0\": 0.5439476749845984, \"x1\": 0.5439476749845984, \"xref\": \"x\", \"y0\": -1, \"y1\": 13, \"yref\": \"y\"}], \"template\": {\"data\": {\"scatter\": [{\"type\": \"scatter\"}]}}, \"title\": {\"text\": \"Break Down\", \"x\": 0.15}, \"xaxis\": {\"anchor\": \"y\", \"automargin\": true, \"domain\": [0.0, 1.0], \"fixedrange\": true, \"gridwidth\": 2, \"range\": [0.48625000000000007, 0.98675], \"tickcolor\": \"white\", \"ticklen\": 3, \"ticks\": \"outside\", \"type\": \"linear\", \"zeroline\": false}, \"yaxis\": {\"anchor\": \"x\", \"automargin\": true, \"autorange\": \"reversed\", \"domain\": [0.0, 1.0], \"fixedrange\": true, \"gridwidth\": 2, \"tickcolor\": \"white\", \"ticklen\": 10, \"ticks\": \"outside\", \"type\": \"category\"}},                        {\"displaylogo\": false, \"staticPlot\": false, \"toImageButtonOptions\": {\"height\": null, \"width\": null}, \"modeBarButtonsToRemove\": [\"sendDataToCloud\", \"lasso2d\", \"autoScale2d\", \"select2d\", \"zoom2d\", \"pan2d\", \"zoomIn2d\", \"zoomOut2d\", \"resetScale2d\", \"toggleSpikelines\", \"hoverCompareCartesian\", \"hoverClosestCartesian\"], \"responsive\": true}                    ).then(function(){\n",
              "                            \n",
              "var gd = document.getElementById('39697f3e-0a3c-4727-a1df-2d33ff1d10c6');\n",
              "var x = new MutationObserver(function (mutations, observer) {{\n",
              "        var display = window.getComputedStyle(gd).display;\n",
              "        if (!display || display === 'none') {{\n",
              "            console.log([gd, 'removed!']);\n",
              "            Plotly.purge(gd);\n",
              "            observer.disconnect();\n",
              "        }}\n",
              "}});\n",
              "\n",
              "// Listen for the removal of the full notebook cells\n",
              "var notebookContainer = gd.closest('#notebook-container');\n",
              "if (notebookContainer) {{\n",
              "    x.observe(notebookContainer, {childList: true});\n",
              "}}\n",
              "\n",
              "// Listen for the clearing of the current output cell\n",
              "var outputEl = gd.closest('.output');\n",
              "if (outputEl) {{\n",
              "    x.observe(outputEl, {childList: true});\n",
              "}}\n",
              "\n",
              "                        })                };                            </script>        </div>\n",
              "</body>\n",
              "</html>"
            ]
          },
          "metadata": {
            "tags": []
          }
        }
      ]
    },
    {
      "cell_type": "code",
      "metadata": {
        "colab": {
          "base_uri": "https://localhost:8080/",
          "height": 52
        },
        "id": "4KM9uzHcw8PP",
        "outputId": "3b20a5fc-b63f-4520-f047-c28abb4ffc76"
      },
      "source": [
        "#Kod do znajdowania przypadków do pkt 3\n",
        "'''\n",
        "pp1 = explainer.predict_parts(x_test.iloc[11])\n",
        "ls = []\n",
        "for i in range(1,x_test.shape[0]):\n",
        "  pp = explainer.predict_parts(x_test.iloc[i-1])\n",
        "  if any(pp.result.iloc[:3,0] == 'ca') or any(pp.result.iloc[:3,0] == 'cp_0'):\n",
        "    continue\n",
        "  else:\n",
        "    print(str(i-1))\n",
        "'''"
      ],
      "execution_count": null,
      "outputs": [
        {
          "output_type": "execute_result",
          "data": {
            "application/vnd.google.colaboratory.intrinsic+json": {
              "type": "string"
            },
            "text/plain": [
              "\"\\npp1 = explainer.predict_parts(x_test.iloc[11])\\nls = []\\nfor i in range(1,x_test.shape[0]):\\n  pp = explainer.predict_parts(x_test.iloc[i-1])\\n  if any(pp.result.iloc[:3,0] == 'ca') or any(pp.result.iloc[:3,0] == 'cp_0'):\\n    continue\\n  else:\\n    print(str(i-1))\\n\""
            ]
          },
          "metadata": {
            "tags": []
          },
          "execution_count": 13
        }
      ]
    },
    {
      "cell_type": "markdown",
      "metadata": {
        "id": "PgeiHuGuDcqw"
      },
      "source": [
        "# Analiza porównawcza z porzednim przypadkiem\n",
        "Porównuję do poprzedniej obserwacji.\n",
        "\n",
        "W przypadu  tego 59 letniego męszczyzny najważniejszymi zmiennymi są:\n",
        "- obniżenie ST na elektrogramie\n",
        "- ciśnienie spoczynkowe\n",
        "\n",
        "Przewidywania te są nieefektywne ponieważ w rzeczywistości pacjent jest chory. \n",
        "Ogolnie tak duży spadek ST wskazuje na problemy z sercem przeciwnie do tego co wskazuje mój model, tak samo duże ciśnienie powinno przemawiać za występowaniem choroby. Duży spadek prawdopodobieństwa wystąpienia choroby jest spowodowany istniniem nieodwracalnej zmiany serca. \n",
        "Ten przykład wskazuje, że ten model jest źle zaprojektowany. \n"
      ]
    },
    {
      "cell_type": "markdown",
      "metadata": {
        "id": "aFPpSoABHV6A"
      },
      "source": [
        "## 3"
      ]
    },
    {
      "cell_type": "code",
      "metadata": {
        "colab": {
          "base_uri": "https://localhost:8080/",
          "height": 430
        },
        "id": "gdFtq1D2_D0x",
        "outputId": "0d0ddbbd-cfe8-427f-bb08-7021b6b80e8a"
      },
      "source": [
        "pp = explainer.predict_parts(x_test.iloc[15])\n",
        "pp.plot()"
      ],
      "execution_count": null,
      "outputs": [
        {
          "output_type": "display_data",
          "data": {
            "text/html": [
              "<html>\n",
              "<head><meta charset=\"utf-8\" /></head>\n",
              "<body>\n",
              "    <div>            <script src=\"https://cdnjs.cloudflare.com/ajax/libs/mathjax/2.7.5/MathJax.js?config=TeX-AMS-MML_SVG\"></script><script type=\"text/javascript\">if (window.MathJax) {MathJax.Hub.Config({SVG: {font: \"STIX-Web\"}});}</script>                <script type=\"text/javascript\">window.PlotlyConfig = {MathJaxConfig: 'local'};</script>\n",
              "        <script src=\"https://cdn.plot.ly/plotly-latest.min.js\"></script>                <div id=\"4cfcc883-266d-43cd-955c-5f5d4031db5d\" class=\"plotly-graph-div\" style=\"height:413.0px; width:100%;\"></div>            <script type=\"text/javascript\">                                    window.PLOTLYENV=window.PLOTLYENV || {};                                    if (document.getElementById(\"4cfcc883-266d-43cd-955c-5f5d4031db5d\")) {                    Plotly.newPlot(                        \"4cfcc883-266d-43cd-955c-5f5d4031db5d\",                        [{\"base\": 0.5439476749845984, \"connector\": {\"line\": {\"color\": \"#371ea3\", \"dash\": \"solid\", \"width\": 1}, \"mode\": \"spanning\"}, \"decreasing\": {\"marker\": {\"color\": \"#f05a71\"}}, \"hoverinfo\": \"text+delta\", \"hoverlabel\": {\"bgcolor\": \"rgba(0,0,0,0.8)\"}, \"hovertext\": [\"Average response: 0.544<br>Prediction: 0.173\", \"oldpeak = 4.2<br>decreases average response by\", \"trestbps = 178.0<br>decreases average response by\", \"ca = 0.0<br>increases average response by\", \"cp_3 = 1.0<br>increases average response by\", \"thal_3 = 1.0<br>decreases average response by\", \"cp_0 = 0.0<br>increases average response by\", \"thal_2 = 0.0<br>decreases average response by\", \"sex = 1.0<br>decreases average response by\", \"thalach = 145.0<br>decreases average response by\", \"slope_2 = 0.0<br>decreases average response by\", \"+ all other factors<br>decreases average response by\", \"Average response: 0.544<br>Prediction: 0.173\"], \"increasing\": {\"marker\": {\"color\": \"#8bdcbe\"}}, \"measure\": [\"relative\", \"relative\", \"relative\", \"relative\", \"relative\", \"relative\", \"relative\", \"relative\", \"relative\", \"relative\", \"relative\", \"relative\", \"total\"], \"orientation\": \"h\", \"showlegend\": false, \"text\": [\"0.544\", \"-0.156\", \"-0.114\", \"+0.055\", \"+0.093\", \"-0.088\", \"+0.061\", \"-0.076\", \"-0.067\", \"-0.041\", \"-0.03\", \"-0.008\", \"0.173\"], \"textposition\": \"outside\", \"totals\": {\"marker\": {\"color\": \"#371ea3\"}}, \"type\": \"waterfall\", \"x\": [0.0, -0.156, -0.114, 0.055, 0.093, -0.088, 0.061, -0.076, -0.067, -0.041, -0.03, -0.008, -0.371], \"xaxis\": \"x\", \"y\": [\"intercept\", \"oldpeak = 4.2\", \"trestbps = 178.0\", \"ca = 0.0\", \"cp_3 = 1.0\", \"thal_3 = 1.0\", \"cp_0 = 0.0\", \"thal_2 = 0.0\", \"sex = 1.0\", \"thalach = 145.0\", \"slope_2 = 0.0\", \"+ all other factors\", \"prediction\"], \"yaxis\": \"y\"}],                        {\"annotations\": [{\"font\": {\"size\": 16}, \"showarrow\": false, \"text\": \"LogisticRegression\", \"x\": 0.5, \"xanchor\": \"center\", \"xref\": \"paper\", \"y\": 1.0, \"yanchor\": \"bottom\", \"yref\": \"paper\"}, {\"font\": {\"size\": 16}, \"showarrow\": false, \"text\": \"contribution\", \"x\": 0.5, \"xanchor\": \"center\", \"xref\": \"paper\", \"y\": 0, \"yanchor\": \"top\", \"yref\": \"paper\", \"yshift\": -30}], \"font\": {\"color\": \"#371ea3\"}, \"height\": 413.0, \"margin\": {\"b\": 71, \"r\": 30, \"t\": 78}, \"shapes\": [{\"line\": {\"color\": \"#371ea3\", \"dash\": \"dot\", \"width\": 1.5}, \"type\": \"line\", \"x0\": 0.5439476749845984, \"x1\": 0.5439476749845984, \"xref\": \"x\", \"y0\": -1, \"y1\": 13, \"yref\": \"y\"}], \"template\": {\"data\": {\"scatter\": [{\"type\": \"scatter\"}]}}, \"title\": {\"text\": \"Break Down\", \"x\": 0.15}, \"xaxis\": {\"anchor\": \"y\", \"automargin\": true, \"domain\": [0.0, 1.0], \"fixedrange\": true, \"gridwidth\": 2, \"range\": [0.11734999999999998, 0.59965], \"tickcolor\": \"white\", \"ticklen\": 3, \"ticks\": \"outside\", \"type\": \"linear\", \"zeroline\": false}, \"yaxis\": {\"anchor\": \"x\", \"automargin\": true, \"autorange\": \"reversed\", \"domain\": [0.0, 1.0], \"fixedrange\": true, \"gridwidth\": 2, \"tickcolor\": \"white\", \"ticklen\": 10, \"ticks\": \"outside\", \"type\": \"category\"}},                        {\"displaylogo\": false, \"staticPlot\": false, \"toImageButtonOptions\": {\"height\": null, \"width\": null}, \"modeBarButtonsToRemove\": [\"sendDataToCloud\", \"lasso2d\", \"autoScale2d\", \"select2d\", \"zoom2d\", \"pan2d\", \"zoomIn2d\", \"zoomOut2d\", \"resetScale2d\", \"toggleSpikelines\", \"hoverCompareCartesian\", \"hoverClosestCartesian\"], \"responsive\": true}                    ).then(function(){\n",
              "                            \n",
              "var gd = document.getElementById('4cfcc883-266d-43cd-955c-5f5d4031db5d');\n",
              "var x = new MutationObserver(function (mutations, observer) {{\n",
              "        var display = window.getComputedStyle(gd).display;\n",
              "        if (!display || display === 'none') {{\n",
              "            console.log([gd, 'removed!']);\n",
              "            Plotly.purge(gd);\n",
              "            observer.disconnect();\n",
              "        }}\n",
              "}});\n",
              "\n",
              "// Listen for the removal of the full notebook cells\n",
              "var notebookContainer = gd.closest('#notebook-container');\n",
              "if (notebookContainer) {{\n",
              "    x.observe(notebookContainer, {childList: true});\n",
              "}}\n",
              "\n",
              "// Listen for the clearing of the current output cell\n",
              "var outputEl = gd.closest('.output');\n",
              "if (outputEl) {{\n",
              "    x.observe(outputEl, {childList: true});\n",
              "}}\n",
              "\n",
              "                        })                };                            </script>        </div>\n",
              "</body>\n",
              "</html>"
            ]
          },
          "metadata": {
            "tags": []
          }
        }
      ]
    },
    {
      "cell_type": "markdown",
      "metadata": {
        "id": "PITw_Ie8SpOK"
      },
      "source": [
        "# Wpływ zmiennych na wynik predykcji\n",
        "W tym przypadku próbowałem wybrać dwie osoby dla których ta sama zminna wpływa przeciwnie, ale po przeszukaniu praktycznie wszystkich obserwacji nie udało mi się takiej znaleźć. Jest to dość nieintuicyjne dlatego postanowiłem sprawdzić czy poszczególne zminne. Kodem poniżej sprawdzam, czy istnieje obserwacja która posiada thal_2 = 0 i ma wpływ dodatni na *prediction*. Nie istnieje, w taki sam spobób sprawdziłem wszystkie inne zmienne kategoryczne."
      ]
    },
    {
      "cell_type": "code",
      "metadata": {
        "id": "Av1gX9HAG6Su"
      },
      "source": [
        "for i in range(1,x_train.shape[0]):\n",
        "  pp = explainer.predict_parts(x_train.iloc[i-1], B = 1)\n",
        "  v = pp.result.loc[pp.result.variable_name == 'thal_1',['variable_value']]\n",
        "  s = pp.result.loc[pp.result.variable_name == 'thal_1',['sign']]\n",
        "  if v.iloc[0,0] == '0.0' and s.iloc[0,0] == 1:\n",
        "    print(i)\n",
        "  if v.iloc[0,0] == '1.0'  and s.iloc[0,0] == -1:\n",
        "    print(i)\n"
      ],
      "execution_count": 89,
      "outputs": []
    }
  ]
}