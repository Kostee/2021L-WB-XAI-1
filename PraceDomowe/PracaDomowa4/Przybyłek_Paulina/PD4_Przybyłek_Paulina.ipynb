{
 "cells": [
  {
   "cell_type": "markdown",
   "metadata": {},
   "source": [
    "# WB - Praca domowa 4\n",
    "\n",
    "autor: Paulina Przybyłek"
   ]
  },
  {
   "cell_type": "code",
   "execution_count": 1,
   "metadata": {},
   "outputs": [],
   "source": [
    "import numpy as np\n",
    "import pandas as pd\n",
    "import dalex as dx\n",
    "import pickle\n",
    "import warnings\n",
    "warnings.filterwarnings('ignore')"
   ]
  },
  {
   "cell_type": "markdown",
   "metadata": {},
   "source": [
    "## Wczytanie zbioru danych *heart* oraz modelu \n",
    "\n",
    "Wykorzystamy nasz stworzony zbiór danych, który opisany został przy drugiej pracy domowej, i modele: Random Forest, SVC, KNN oraz Naive Bayes."
   ]
  },
  {
   "cell_type": "code",
   "execution_count": 2,
   "metadata": {},
   "outputs": [
    {
     "data": {
      "text/html": [
       "<div>\n",
       "<style scoped>\n",
       "    .dataframe tbody tr th:only-of-type {\n",
       "        vertical-align: middle;\n",
       "    }\n",
       "\n",
       "    .dataframe tbody tr th {\n",
       "        vertical-align: top;\n",
       "    }\n",
       "\n",
       "    .dataframe thead th {\n",
       "        text-align: right;\n",
       "    }\n",
       "</style>\n",
       "<table border=\"1\" class=\"dataframe\">\n",
       "  <thead>\n",
       "    <tr style=\"text-align: right;\">\n",
       "      <th></th>\n",
       "      <th>age</th>\n",
       "      <th>sex</th>\n",
       "      <th>trestbps</th>\n",
       "      <th>chol</th>\n",
       "      <th>fbs</th>\n",
       "      <th>restecg</th>\n",
       "      <th>thalach</th>\n",
       "      <th>exang</th>\n",
       "      <th>oldpeak</th>\n",
       "      <th>ca</th>\n",
       "      <th>...</th>\n",
       "      <th>thal_fd</th>\n",
       "      <th>thal_rd</th>\n",
       "      <th>slope_up</th>\n",
       "      <th>slope_flat</th>\n",
       "      <th>slope_down</th>\n",
       "      <th>cp_ta</th>\n",
       "      <th>cp_aa</th>\n",
       "      <th>cp_np</th>\n",
       "      <th>cp_a</th>\n",
       "      <th>target</th>\n",
       "    </tr>\n",
       "  </thead>\n",
       "  <tbody>\n",
       "    <tr>\n",
       "      <th>0</th>\n",
       "      <td>56</td>\n",
       "      <td>1</td>\n",
       "      <td>125</td>\n",
       "      <td>249</td>\n",
       "      <td>1</td>\n",
       "      <td>1</td>\n",
       "      <td>144</td>\n",
       "      <td>1</td>\n",
       "      <td>1.2</td>\n",
       "      <td>1</td>\n",
       "      <td>...</td>\n",
       "      <td>0</td>\n",
       "      <td>0</td>\n",
       "      <td>0</td>\n",
       "      <td>1</td>\n",
       "      <td>0</td>\n",
       "      <td>1</td>\n",
       "      <td>0</td>\n",
       "      <td>0</td>\n",
       "      <td>0</td>\n",
       "      <td>1</td>\n",
       "    </tr>\n",
       "    <tr>\n",
       "      <th>1</th>\n",
       "      <td>44</td>\n",
       "      <td>1</td>\n",
       "      <td>112</td>\n",
       "      <td>290</td>\n",
       "      <td>0</td>\n",
       "      <td>1</td>\n",
       "      <td>153</td>\n",
       "      <td>0</td>\n",
       "      <td>0.0</td>\n",
       "      <td>1</td>\n",
       "      <td>...</td>\n",
       "      <td>0</td>\n",
       "      <td>0</td>\n",
       "      <td>1</td>\n",
       "      <td>0</td>\n",
       "      <td>0</td>\n",
       "      <td>1</td>\n",
       "      <td>0</td>\n",
       "      <td>0</td>\n",
       "      <td>0</td>\n",
       "      <td>1</td>\n",
       "    </tr>\n",
       "    <tr>\n",
       "      <th>2</th>\n",
       "      <td>62</td>\n",
       "      <td>0</td>\n",
       "      <td>140</td>\n",
       "      <td>394</td>\n",
       "      <td>0</td>\n",
       "      <td>1</td>\n",
       "      <td>157</td>\n",
       "      <td>0</td>\n",
       "      <td>1.2</td>\n",
       "      <td>0</td>\n",
       "      <td>...</td>\n",
       "      <td>0</td>\n",
       "      <td>0</td>\n",
       "      <td>0</td>\n",
       "      <td>1</td>\n",
       "      <td>0</td>\n",
       "      <td>1</td>\n",
       "      <td>0</td>\n",
       "      <td>0</td>\n",
       "      <td>0</td>\n",
       "      <td>0</td>\n",
       "    </tr>\n",
       "    <tr>\n",
       "      <th>3</th>\n",
       "      <td>35</td>\n",
       "      <td>1</td>\n",
       "      <td>120</td>\n",
       "      <td>198</td>\n",
       "      <td>0</td>\n",
       "      <td>0</td>\n",
       "      <td>130</td>\n",
       "      <td>1</td>\n",
       "      <td>1.6</td>\n",
       "      <td>0</td>\n",
       "      <td>...</td>\n",
       "      <td>0</td>\n",
       "      <td>1</td>\n",
       "      <td>0</td>\n",
       "      <td>1</td>\n",
       "      <td>0</td>\n",
       "      <td>1</td>\n",
       "      <td>0</td>\n",
       "      <td>0</td>\n",
       "      <td>0</td>\n",
       "      <td>1</td>\n",
       "    </tr>\n",
       "    <tr>\n",
       "      <th>4</th>\n",
       "      <td>56</td>\n",
       "      <td>0</td>\n",
       "      <td>140</td>\n",
       "      <td>294</td>\n",
       "      <td>0</td>\n",
       "      <td>1</td>\n",
       "      <td>153</td>\n",
       "      <td>0</td>\n",
       "      <td>1.3</td>\n",
       "      <td>0</td>\n",
       "      <td>...</td>\n",
       "      <td>0</td>\n",
       "      <td>0</td>\n",
       "      <td>0</td>\n",
       "      <td>1</td>\n",
       "      <td>0</td>\n",
       "      <td>0</td>\n",
       "      <td>1</td>\n",
       "      <td>0</td>\n",
       "      <td>0</td>\n",
       "      <td>0</td>\n",
       "    </tr>\n",
       "  </tbody>\n",
       "</table>\n",
       "<p>5 rows × 21 columns</p>\n",
       "</div>"
      ],
      "text/plain": [
       "   age  sex  trestbps  chol  fbs  restecg  thalach  exang  oldpeak  ca  ...  \\\n",
       "0   56    1       125   249    1        1      144      1      1.2   1  ...   \n",
       "1   44    1       112   290    0        1      153      0      0.0   1  ...   \n",
       "2   62    0       140   394    0        1      157      0      1.2   0  ...   \n",
       "3   35    1       120   198    0        0      130      1      1.6   0  ...   \n",
       "4   56    0       140   294    0        1      153      0      1.3   0  ...   \n",
       "\n",
       "   thal_fd  thal_rd  slope_up  slope_flat  slope_down  cp_ta  cp_aa  cp_np  \\\n",
       "0        0        0         0           1           0      1      0      0   \n",
       "1        0        0         1           0           0      1      0      0   \n",
       "2        0        0         0           1           0      1      0      0   \n",
       "3        0        1         0           1           0      1      0      0   \n",
       "4        0        0         0           1           0      0      1      0   \n",
       "\n",
       "   cp_a  target  \n",
       "0     0       1  \n",
       "1     0       1  \n",
       "2     0       0  \n",
       "3     0       1  \n",
       "4     0       0  \n",
       "\n",
       "[5 rows x 21 columns]"
      ]
     },
     "execution_count": 2,
     "metadata": {},
     "output_type": "execute_result"
    }
   ],
   "source": [
    "# wczytujemy treningowy zbiór danych - na treningowym model został nauczony\n",
    "data = pd.read_csv('heart_train.csv')\n",
    "data.head()"
   ]
  },
  {
   "cell_type": "code",
   "execution_count": 3,
   "metadata": {},
   "outputs": [],
   "source": [
    "target_train = data.target.values\n",
    "data_train = data.drop(['target'], axis = 1)"
   ]
  },
  {
   "cell_type": "code",
   "execution_count": 4,
   "metadata": {},
   "outputs": [],
   "source": [
    "rf = pickle.load(open('./Modele/random_forest', 'rb'))\n",
    "nb = pickle.load(open('./Modele/naive_bayes', 'rb'))\n",
    "knn = pickle.load(open('./Modele/knn', 'rb'))"
   ]
  },
  {
   "cell_type": "code",
   "execution_count": 5,
   "metadata": {},
   "outputs": [
    {
     "data": {
      "text/plain": [
       "Pipeline(steps=[('standardscaler', StandardScaler()),\n",
       "                ('SVC', SVC(C=0.5, probability=True, random_state=1))])"
      ]
     },
     "execution_count": 5,
     "metadata": {},
     "output_type": "execute_result"
    }
   ],
   "source": [
    "# wczytany model SVC z pickle nie działa jakoś poprawnie, dlatego tworzymy go tutaj\n",
    "from sklearn.svm import SVC\n",
    "from sklearn.preprocessing import StandardScaler\n",
    "from sklearn.pipeline import Pipeline\n",
    "svc = Pipeline(\n",
    "    [\n",
    "        ('standardscaler', StandardScaler()),\n",
    "        ('SVC', SVC( C = 0.5, random_state=1, probability=True))\n",
    "    ]\n",
    ")\n",
    "svc.fit(data_train, target_train)"
   ]
  },
  {
   "cell_type": "markdown",
   "metadata": {},
   "source": [
    "## Permutacyjna ważność zmiennych dla wybranego modelu\n",
    "\n",
    "Wybrano model lasu losowego, ponieważ to na nim skupiliśmy się w projekcie. Metoda permutacyjnej ważności zmiennej pozwoli zdobyć nowe informacje o danych oraz modelu przy czym celem jest potwierdzenie hipotez medycznych oraz zauważonych wniosków przy wyjaśnieniach lokalnych."
   ]
  },
  {
   "cell_type": "code",
   "execution_count": 6,
   "metadata": {},
   "outputs": [
    {
     "name": "stdout",
     "output_type": "stream",
     "text": [
      "Preparation of a new explainer is initiated\n",
      "\n",
      "  -> data              : 242 rows 20 cols\n",
      "  -> target variable   : 242 values\n",
      "  -> model_class       : sklearn.ensemble._forest.RandomForestClassifier (default)\n",
      "  -> label             : Random Forest\n",
      "  -> predict function  : <function yhat_proba_default at 0x7f00f61de7b8> will be used (default)\n",
      "  -> predict function  : Accepts pandas.DataFrame and numpy.ndarray.\n",
      "  -> predicted values  : min = 0.0322, mean = 0.46, max = 0.988\n",
      "  -> model type        : classification will be used (default)\n",
      "  -> residual function : difference between y and yhat (default)\n",
      "  -> residuals         : min = -0.738, mean = -0.00088, max = 0.81\n",
      "  -> model_info        : package sklearn\n",
      "\n",
      "A new explainer has been created!\n"
     ]
    }
   ],
   "source": [
    "explainer = dx.Explainer(rf, data_train, target_train, label = \"Random Forest\")"
   ]
  },
  {
   "cell_type": "code",
   "execution_count": 7,
   "metadata": {},
   "outputs": [],
   "source": [
    "fi = explainer.model_parts()"
   ]
  },
  {
   "cell_type": "code",
   "execution_count": 9,
   "metadata": {},
   "outputs": [
    {
     "data": {
      "application/vnd.plotly.v1+json": {
       "config": {
        "displaylogo": false,
        "modeBarButtonsToRemove": [
         "sendDataToCloud",
         "lasso2d",
         "autoScale2d",
         "select2d",
         "zoom2d",
         "pan2d",
         "zoomIn2d",
         "zoomOut2d",
         "resetScale2d",
         "toggleSpikelines",
         "hoverCompareCartesian",
         "hoverClosestCartesian"
        ],
        "plotlyServerURL": "https://plot.ly",
        "staticPlot": false,
        "toImageButtonOptions": {
         "height": null,
         "width": null
        }
       },
       "data": [
        {
         "base": 0.03404167526304924,
         "hoverinfo": "text",
         "hoverlabel": {
          "bgcolor": "rgba(0,0,0,0.8)"
         },
         "hovertext": [
          "Model: Random Forest loss after<br>variable: ca is permuted: 0.08<br>Drop-out loss change: +0.046",
          "Model: Random Forest loss after<br>variable: cp_ta is permuted: 0.049<br>Drop-out loss change: +0.015",
          "Model: Random Forest loss after<br>variable: oldpeak is permuted: 0.048<br>Drop-out loss change: +0.014",
          "Model: Random Forest loss after<br>variable: thalach is permuted: 0.045<br>Drop-out loss change: +0.011",
          "Model: Random Forest loss after<br>variable: thal_n is permuted: 0.045<br>Drop-out loss change: +0.011",
          "Model: Random Forest loss after<br>variable: age is permuted: 0.044<br>Drop-out loss change: +0.01",
          "Model: Random Forest loss after<br>variable: thal_rd is permuted: 0.044<br>Drop-out loss change: +0.01",
          "Model: Random Forest loss after<br>variable: sex is permuted: 0.042<br>Drop-out loss change: +0.008",
          "Model: Random Forest loss after<br>variable: exang is permuted: 0.042<br>Drop-out loss change: +0.008",
          "Model: Random Forest loss after<br>variable: chol is permuted: 0.041<br>Drop-out loss change: +0.007"
         ],
         "marker": {
          "color": "#46bac2"
         },
         "orientation": "h",
         "showlegend": false,
         "text": [
          "+0.046",
          "+0.015",
          "+0.014",
          "+0.011",
          "+0.011",
          "+0.01",
          "+0.01",
          "+0.008",
          "+0.008",
          "+0.007"
         ],
         "textposition": "outside",
         "type": "bar",
         "x": [
          0.045973454370401026,
          0.014827040781239378,
          0.014132453063750841,
          0.01138161061825195,
          0.01134722508768319,
          0.009964926758819936,
          0.009744859363180071,
          0.00785365518189949,
          0.0077573756963070575,
          0.007021525342136091
         ],
         "xaxis": "x",
         "y": [
          "ca",
          "cp_ta",
          "oldpeak",
          "thalach",
          "thal_n",
          "age",
          "thal_rd",
          "sex",
          "exang",
          "chol"
         ],
         "yaxis": "y"
        }
       ],
       "layout": {
        "annotations": [
         {
          "font": {
           "size": 16
          },
          "showarrow": false,
          "text": "Random Forest",
          "x": 0.5,
          "xanchor": "center",
          "xref": "paper",
          "y": 1,
          "yanchor": "bottom",
          "yref": "paper"
         },
         {
          "font": {
           "size": 16
          },
          "showarrow": false,
          "text": "drop-out loss",
          "x": 0.5,
          "xanchor": "center",
          "xref": "paper",
          "y": 0,
          "yanchor": "top",
          "yref": "paper",
          "yshift": -30
         }
        ],
        "font": {
         "color": "#371ea3"
        },
        "height": 383,
        "margin": {
         "b": 71,
         "r": 30,
         "t": 78
        },
        "shapes": [
         {
          "line": {
           "color": "#371ea3",
           "dash": "dot",
           "width": 1.5
          },
          "type": "line",
          "x0": 0.03404167526304924,
          "x1": 0.03404167526304924,
          "xref": "x",
          "y0": -1,
          "y1": 10,
          "yref": "y"
         }
        ],
        "template": {
         "data": {
          "scatter": [
           {
            "type": "scatter"
           }
          ]
         }
        },
        "title": {
         "text": "Variable Importance",
         "x": 0.15
        },
        "xaxis": {
         "anchor": "y",
         "automargin": true,
         "domain": [
          0,
          1
         ],
         "fixedrange": true,
         "gridwidth": 2,
         "range": [
          0.02707447905921181,
          0.08692043188226398
         ],
         "tickcolor": "white",
         "ticklen": 3,
         "ticks": "outside",
         "type": "linear",
         "zeroline": false
        },
        "yaxis": {
         "anchor": "x",
         "automargin": true,
         "autorange": "reversed",
         "domain": [
          0,
          1
         ],
         "fixedrange": true,
         "gridwidth": 2,
         "tickcolor": "white",
         "ticklen": 10,
         "ticks": "outside",
         "type": "category"
        }
       }
      },
      "text/html": [
       "<div>                            <div id=\"3dd409cf-b865-4b7b-8e62-b6107e3f7a91\" class=\"plotly-graph-div\" style=\"height:383.0px; width:100%;\"></div>            <script type=\"text/javascript\">                require([\"plotly\"], function(Plotly) {                    window.PLOTLYENV=window.PLOTLYENV || {};                                    if (document.getElementById(\"3dd409cf-b865-4b7b-8e62-b6107e3f7a91\")) {                    Plotly.newPlot(                        \"3dd409cf-b865-4b7b-8e62-b6107e3f7a91\",                        [{\"base\": 0.03404167526304924, \"hoverinfo\": \"text\", \"hoverlabel\": {\"bgcolor\": \"rgba(0,0,0,0.8)\"}, \"hovertext\": [\"Model: Random Forest loss after<br>variable: ca is permuted: 0.08<br>Drop-out loss change: +0.046\", \"Model: Random Forest loss after<br>variable: cp_ta is permuted: 0.049<br>Drop-out loss change: +0.015\", \"Model: Random Forest loss after<br>variable: oldpeak is permuted: 0.048<br>Drop-out loss change: +0.014\", \"Model: Random Forest loss after<br>variable: thalach is permuted: 0.045<br>Drop-out loss change: +0.011\", \"Model: Random Forest loss after<br>variable: thal_n is permuted: 0.045<br>Drop-out loss change: +0.011\", \"Model: Random Forest loss after<br>variable: age is permuted: 0.044<br>Drop-out loss change: +0.01\", \"Model: Random Forest loss after<br>variable: thal_rd is permuted: 0.044<br>Drop-out loss change: +0.01\", \"Model: Random Forest loss after<br>variable: sex is permuted: 0.042<br>Drop-out loss change: +0.008\", \"Model: Random Forest loss after<br>variable: exang is permuted: 0.042<br>Drop-out loss change: +0.008\", \"Model: Random Forest loss after<br>variable: chol is permuted: 0.041<br>Drop-out loss change: +0.007\"], \"marker\": {\"color\": \"#46bac2\"}, \"orientation\": \"h\", \"showlegend\": false, \"text\": [\"+0.046\", \"+0.015\", \"+0.014\", \"+0.011\", \"+0.011\", \"+0.01\", \"+0.01\", \"+0.008\", \"+0.008\", \"+0.007\"], \"textposition\": \"outside\", \"type\": \"bar\", \"x\": [0.045973454370401026, 0.014827040781239378, 0.014132453063750841, 0.01138161061825195, 0.01134722508768319, 0.009964926758819936, 0.009744859363180071, 0.00785365518189949, 0.0077573756963070575, 0.007021525342136091], \"xaxis\": \"x\", \"y\": [\"ca\", \"cp_ta\", \"oldpeak\", \"thalach\", \"thal_n\", \"age\", \"thal_rd\", \"sex\", \"exang\", \"chol\"], \"yaxis\": \"y\"}],                        {\"annotations\": [{\"font\": {\"size\": 16}, \"showarrow\": false, \"text\": \"Random Forest\", \"x\": 0.5, \"xanchor\": \"center\", \"xref\": \"paper\", \"y\": 1.0, \"yanchor\": \"bottom\", \"yref\": \"paper\"}, {\"font\": {\"size\": 16}, \"showarrow\": false, \"text\": \"drop-out loss\", \"x\": 0.5, \"xanchor\": \"center\", \"xref\": \"paper\", \"y\": 0, \"yanchor\": \"top\", \"yref\": \"paper\", \"yshift\": -30}], \"font\": {\"color\": \"#371ea3\"}, \"height\": 383.0, \"margin\": {\"b\": 71, \"r\": 30, \"t\": 78}, \"shapes\": [{\"line\": {\"color\": \"#371ea3\", \"dash\": \"dot\", \"width\": 1.5}, \"type\": \"line\", \"x0\": 0.03404167526304924, \"x1\": 0.03404167526304924, \"xref\": \"x\", \"y0\": -1, \"y1\": 10, \"yref\": \"y\"}], \"template\": {\"data\": {\"scatter\": [{\"type\": \"scatter\"}]}}, \"title\": {\"text\": \"Variable Importance\", \"x\": 0.15}, \"xaxis\": {\"anchor\": \"y\", \"automargin\": true, \"domain\": [0.0, 1.0], \"fixedrange\": true, \"gridwidth\": 2, \"range\": [0.02707447905921181, 0.08692043188226398], \"tickcolor\": \"white\", \"ticklen\": 3, \"ticks\": \"outside\", \"type\": \"linear\", \"zeroline\": false}, \"yaxis\": {\"anchor\": \"x\", \"automargin\": true, \"autorange\": \"reversed\", \"domain\": [0.0, 1.0], \"fixedrange\": true, \"gridwidth\": 2, \"tickcolor\": \"white\", \"ticklen\": 10, \"ticks\": \"outside\", \"type\": \"category\"}},                        {\"displaylogo\": false, \"staticPlot\": false, \"toImageButtonOptions\": {\"height\": null, \"width\": null}, \"modeBarButtonsToRemove\": [\"sendDataToCloud\", \"lasso2d\", \"autoScale2d\", \"select2d\", \"zoom2d\", \"pan2d\", \"zoomIn2d\", \"zoomOut2d\", \"resetScale2d\", \"toggleSpikelines\", \"hoverCompareCartesian\", \"hoverClosestCartesian\"], \"responsive\": true}                    ).then(function(){\n",
       "                            \n",
       "var gd = document.getElementById('3dd409cf-b865-4b7b-8e62-b6107e3f7a91');\n",
       "var x = new MutationObserver(function (mutations, observer) {{\n",
       "        var display = window.getComputedStyle(gd).display;\n",
       "        if (!display || display === 'none') {{\n",
       "            console.log([gd, 'removed!']);\n",
       "            Plotly.purge(gd);\n",
       "            observer.disconnect();\n",
       "        }}\n",
       "}});\n",
       "\n",
       "// Listen for the removal of the full notebook cells\n",
       "var notebookContainer = gd.closest('#notebook-container');\n",
       "if (notebookContainer) {{\n",
       "    x.observe(notebookContainer, {childList: true});\n",
       "}}\n",
       "\n",
       "// Listen for the clearing of the current output cell\n",
       "var outputEl = gd.closest('.output');\n",
       "if (outputEl) {{\n",
       "    x.observe(outputEl, {childList: true});\n",
       "}}\n",
       "\n",
       "                        })                };                });            </script>        </div>"
      ]
     },
     "metadata": {},
     "output_type": "display_data"
    }
   ],
   "source": [
    "fi.plot()"
   ]
  },
  {
   "cell_type": "markdown",
   "metadata": {},
   "source": [
    "Najważniejszą zmienną dla modelu okazuje się zmienna **ca**, czyli badanie uwapnienia. Krótko przypominając, jest to zmienna, która określa liczbę naczyń zabarwionych podczas badania uwapnienia, a im większa liczba tych naczyń tym wiąże się to z utrudnionym przepływem krwi, zwężeniem naczyń głównych serca czy występowaniem blaszek miażdżycowych. Grupa na podstawie konsultacji z lekarzem i wyjaśńień lokalnych uznała tę zmienną za kluczową, natomiast teraz dowiadujemy się, że jest ona najważniejsza dla modelu lasu losowego. \n",
    "\n",
    "Podczas pracy nad zbiorem oraz zgłębianiu wiedzy medycznej ustalono, że najważniejsze zmienne, które dotyczą choroby wieńcowej to w teorii ca (uwapnienie), cp (bóle w klatce, a szczególnie 'typical angina'), thal (wady serca, ubytki w sercu), oldpeak (dotyczy zmian w badaniu EKG, przy czym slope jest z nim powiązany), a także z takich bardziej oczywistych jest to wiek oraz tętno. Przyglądając się ważności zmiennym to 6 pierwszych zmiennych właśnie dotyczy tych zmiennych. \n",
    "\n",
    "Mówiąc coś więcej o określonej ważności to ciekawe jest, że thal występuje tak nisko, jednak analizując działanie metody permutacyjnej ważności zmiennych oraz znaczenie innych zmiennych nie jest to już zaskakujące. Dlaczego? Mianowicie ca, oldpeak oraz typical angina mają określone wartości, które jasno wskazują chorego. Dodatkowo osoby starsze częściej chorują na CAD, tętno zależy od wieku i występowania choroby (ponieważ jest to próba wysiłkowa, a osoby starsze i chore kończą ją wcześniej i mają niskie tętno uzyskane podczas badania). I dopiero wtedy pojawia się zmienna oznaczająca brak wady, już nie jest ważne jaka to wada, chociaż to właśnie thal_rd określa chorobę częściej. \n",
    "\n",
    "Warto wspomnieć też coś o płci - dane medyczne jasno mówią, że mężczyźni częściej są dotknięci chorobą wieńcową, często to właśnie płeć i wiek określają czy lekarz wyśle chorego na konkretne badania. Stąd w zbiorze było bardzo podobnie i występuje dużo więcej chorych mężczyzn, co warto przypomnieć. Poniżej załączono rozkład płci względem chorowania na serce (1 - mężczyzna, 0 - kobieta)."
   ]
  },
  {
   "attachments": {
    "pobrane.png": {
     "image/png": "[encoded data removed]"
    }
   },
   "cell_type": "markdown",
   "metadata": {},
   "source": [
    "![pobrane.png](attachment:pobrane.png)"
   ]
  },
  {
   "cell_type": "markdown",
   "metadata": {},
   "source": [
    "Na zakończenie to chciałam powiedzieć coś o zmiennej określającej cholesterol pacjentów. Afroamerykanie mają bardzo dziwny i zaburzony, a wykresy rozkładu nic nie powiedziały więcej stąd ciekawe jest to, że model uważa tę zmienną za dość ważną. Co prawda czasem pojawiała się w wyjaśnieniach lokalnych, ale uznano to za nietypowe przypadki, których nie da się medycznie wyjaśnić właśnie z powodu tej dziwności cholesterolu u pacjentów co lekarze uważają za normalne.\n",
    "\n",
    "Poniżej przedstawiono jeszcze tabelę ważności wszystkich zmiennych, na której bazuje wykres, który właśnie omówiono. Przy niej powiemy trochę o najmniej ważnych zmiennych."
   ]
  },
  {
   "cell_type": "code",
   "execution_count": 10,
   "metadata": {},
   "outputs": [
    {
     "data": {
      "text/html": [
       "<div>\n",
       "<style scoped>\n",
       "    .dataframe tbody tr th:only-of-type {\n",
       "        vertical-align: middle;\n",
       "    }\n",
       "\n",
       "    .dataframe tbody tr th {\n",
       "        vertical-align: top;\n",
       "    }\n",
       "\n",
       "    .dataframe thead th {\n",
       "        text-align: right;\n",
       "    }\n",
       "</style>\n",
       "<table border=\"1\" class=\"dataframe\">\n",
       "  <thead>\n",
       "    <tr style=\"text-align: right;\">\n",
       "      <th></th>\n",
       "      <th>variable</th>\n",
       "      <th>dropout_loss</th>\n",
       "      <th>label</th>\n",
       "    </tr>\n",
       "  </thead>\n",
       "  <tbody>\n",
       "    <tr>\n",
       "      <th>0</th>\n",
       "      <td>thal_fd</td>\n",
       "      <td>0.033980</td>\n",
       "      <td>Random Forest</td>\n",
       "    </tr>\n",
       "    <tr>\n",
       "      <th>1</th>\n",
       "      <td>_full_model_</td>\n",
       "      <td>0.034042</td>\n",
       "      <td>Random Forest</td>\n",
       "    </tr>\n",
       "    <tr>\n",
       "      <th>2</th>\n",
       "      <td>cp_aa</td>\n",
       "      <td>0.034124</td>\n",
       "      <td>Random Forest</td>\n",
       "    </tr>\n",
       "    <tr>\n",
       "      <th>3</th>\n",
       "      <td>slope_down</td>\n",
       "      <td>0.034386</td>\n",
       "      <td>Random Forest</td>\n",
       "    </tr>\n",
       "    <tr>\n",
       "      <th>4</th>\n",
       "      <td>fbs</td>\n",
       "      <td>0.034399</td>\n",
       "      <td>Random Forest</td>\n",
       "    </tr>\n",
       "    <tr>\n",
       "      <th>5</th>\n",
       "      <td>slope_flat</td>\n",
       "      <td>0.035568</td>\n",
       "      <td>Random Forest</td>\n",
       "    </tr>\n",
       "    <tr>\n",
       "      <th>6</th>\n",
       "      <td>cp_a</td>\n",
       "      <td>0.035775</td>\n",
       "      <td>Random Forest</td>\n",
       "    </tr>\n",
       "    <tr>\n",
       "      <th>7</th>\n",
       "      <td>slope_up</td>\n",
       "      <td>0.037164</td>\n",
       "      <td>Random Forest</td>\n",
       "    </tr>\n",
       "    <tr>\n",
       "      <th>8</th>\n",
       "      <td>cp_np</td>\n",
       "      <td>0.037178</td>\n",
       "      <td>Random Forest</td>\n",
       "    </tr>\n",
       "    <tr>\n",
       "      <th>9</th>\n",
       "      <td>restecg</td>\n",
       "      <td>0.037178</td>\n",
       "      <td>Random Forest</td>\n",
       "    </tr>\n",
       "    <tr>\n",
       "      <th>10</th>\n",
       "      <td>trestbps</td>\n",
       "      <td>0.039371</td>\n",
       "      <td>Random Forest</td>\n",
       "    </tr>\n",
       "    <tr>\n",
       "      <th>11</th>\n",
       "      <td>chol</td>\n",
       "      <td>0.041063</td>\n",
       "      <td>Random Forest</td>\n",
       "    </tr>\n",
       "    <tr>\n",
       "      <th>12</th>\n",
       "      <td>exang</td>\n",
       "      <td>0.041799</td>\n",
       "      <td>Random Forest</td>\n",
       "    </tr>\n",
       "    <tr>\n",
       "      <th>13</th>\n",
       "      <td>sex</td>\n",
       "      <td>0.041895</td>\n",
       "      <td>Random Forest</td>\n",
       "    </tr>\n",
       "    <tr>\n",
       "      <th>14</th>\n",
       "      <td>thal_rd</td>\n",
       "      <td>0.043787</td>\n",
       "      <td>Random Forest</td>\n",
       "    </tr>\n",
       "    <tr>\n",
       "      <th>15</th>\n",
       "      <td>age</td>\n",
       "      <td>0.044007</td>\n",
       "      <td>Random Forest</td>\n",
       "    </tr>\n",
       "    <tr>\n",
       "      <th>16</th>\n",
       "      <td>thal_n</td>\n",
       "      <td>0.045389</td>\n",
       "      <td>Random Forest</td>\n",
       "    </tr>\n",
       "    <tr>\n",
       "      <th>17</th>\n",
       "      <td>thalach</td>\n",
       "      <td>0.045423</td>\n",
       "      <td>Random Forest</td>\n",
       "    </tr>\n",
       "    <tr>\n",
       "      <th>18</th>\n",
       "      <td>oldpeak</td>\n",
       "      <td>0.048174</td>\n",
       "      <td>Random Forest</td>\n",
       "    </tr>\n",
       "    <tr>\n",
       "      <th>19</th>\n",
       "      <td>cp_ta</td>\n",
       "      <td>0.048869</td>\n",
       "      <td>Random Forest</td>\n",
       "    </tr>\n",
       "    <tr>\n",
       "      <th>20</th>\n",
       "      <td>ca</td>\n",
       "      <td>0.080015</td>\n",
       "      <td>Random Forest</td>\n",
       "    </tr>\n",
       "    <tr>\n",
       "      <th>21</th>\n",
       "      <td>_baseline_</td>\n",
       "      <td>0.492153</td>\n",
       "      <td>Random Forest</td>\n",
       "    </tr>\n",
       "  </tbody>\n",
       "</table>\n",
       "</div>"
      ],
      "text/plain": [
       "        variable  dropout_loss          label\n",
       "0        thal_fd      0.033980  Random Forest\n",
       "1   _full_model_      0.034042  Random Forest\n",
       "2          cp_aa      0.034124  Random Forest\n",
       "3     slope_down      0.034386  Random Forest\n",
       "4            fbs      0.034399  Random Forest\n",
       "5     slope_flat      0.035568  Random Forest\n",
       "6           cp_a      0.035775  Random Forest\n",
       "7       slope_up      0.037164  Random Forest\n",
       "8          cp_np      0.037178  Random Forest\n",
       "9        restecg      0.037178  Random Forest\n",
       "10      trestbps      0.039371  Random Forest\n",
       "11          chol      0.041063  Random Forest\n",
       "12         exang      0.041799  Random Forest\n",
       "13           sex      0.041895  Random Forest\n",
       "14       thal_rd      0.043787  Random Forest\n",
       "15           age      0.044007  Random Forest\n",
       "16        thal_n      0.045389  Random Forest\n",
       "17       thalach      0.045423  Random Forest\n",
       "18       oldpeak      0.048174  Random Forest\n",
       "19         cp_ta      0.048869  Random Forest\n",
       "20            ca      0.080015  Random Forest\n",
       "21    _baseline_      0.492153  Random Forest"
      ]
     },
     "execution_count": 10,
     "metadata": {},
     "output_type": "execute_result"
    }
   ],
   "source": [
    "fi.result"
   ]
  },
  {
   "cell_type": "markdown",
   "metadata": {},
   "source": [
    "Kolejny raz mamy potwierdzenie, że cukrzyca nie ma bezpośredniego wpływu na chorobę, jej ważność jest znikoma. Chociaż do najmniej ważnych należą zmienne po one hot encodingu, które to wartości konkretne nie określają ani zdrowia ani choroby jak np. atypowa angina, slope_down i slope_flat czy naprawiona wada. Osoba chora jak i zdrowa mogą je posiadać. "
   ]
  },
  {
   "cell_type": "markdown",
   "metadata": {},
   "source": [
    "## Porównanie ważności zmiennych dla lasu losowego z wynikami tej metody zastosowanej dla innych modeli\n",
    "\n",
    "Sprawdzimy teraz jak różnią się wybrane zmienne dla innych modeli. Inne rozważane modele to SVC na standaryzowanych danych oraz KNN na znormalizowanych danych i Naive Bayes. Tak więc mamy i glass boxy jak i black boxy do porównania ważności zmiennych."
   ]
  },
  {
   "cell_type": "code",
   "execution_count": 11,
   "metadata": {},
   "outputs": [
    {
     "name": "stdout",
     "output_type": "stream",
     "text": [
      "Preparation of a new explainer is initiated\n",
      "\n",
      "  -> data              : 242 rows 20 cols\n",
      "  -> target variable   : 242 values\n",
      "  -> model_class       : sklearn.neighbors._classification.KNeighborsClassifier (default)\n",
      "  -> label             : KNN\n",
      "  -> predict function  : <function yhat_proba_default at 0x7f00f61de7b8> will be used (default)\n",
      "  -> predict function  : Accepts pandas.DataFrame and numpy.ndarray.\n",
      "  -> predicted values  : min = 0.0, mean = 0.453, max = 1.0\n",
      "  -> model type        : classification will be used (default)\n",
      "  -> residual function : difference between y and yhat (default)\n",
      "  -> residuals         : min = -0.941, mean = 0.00559, max = 0.882\n",
      "  -> model_info        : package sklearn\n",
      "\n",
      "A new explainer has been created!\n",
      "Preparation of a new explainer is initiated\n",
      "\n",
      "  -> data              : 242 rows 20 cols\n",
      "  -> target variable   : 242 values\n",
      "  -> model_class       : sklearn.naive_bayes.GaussianNB (default)\n",
      "  -> label             : Naive Bayes\n",
      "  -> predict function  : <function yhat_proba_default at 0x7f00f61de7b8> will be used (default)\n",
      "  -> predict function  : Accepts pandas.DataFrame and numpy.ndarray.\n",
      "  -> predicted values  : min = 1.59e-08, mean = 0.439, max = 1.0\n",
      "  -> model type        : classification will be used (default)\n",
      "  -> residual function : difference between y and yhat (default)\n",
      "  -> residuals         : min = -1.0, mean = 0.0197, max = 1.0\n",
      "  -> model_info        : package sklearn\n",
      "\n",
      "A new explainer has been created!\n",
      "Preparation of a new explainer is initiated\n",
      "\n",
      "  -> data              : 242 rows 20 cols\n",
      "  -> target variable   : 242 values\n",
      "  -> model_class       : sklearn.svm._classes.SVC (default)\n",
      "  -> label             : SVC\n",
      "  -> predict function  : <function yhat_proba_default at 0x7f00f61de7b8> will be used (default)\n",
      "  -> predict function  : Accepts pandas.DataFrame and numpy.ndarray.\n",
      "  -> predicted values  : min = 0.0525, mean = 0.446, max = 0.982\n",
      "  -> model type        : classification will be used (default)\n",
      "  -> residual function : difference between y and yhat (default)\n",
      "  -> residuals         : min = -0.934, mean = 0.0127, max = 0.915\n",
      "  -> model_info        : package sklearn\n",
      "\n",
      "A new explainer has been created!\n"
     ]
    }
   ],
   "source": [
    "data_norm = (data_train - np.min(data_train)) / (np.max(data_train) - np.min(data_train)).values\n",
    "explainer_knn = dx.Explainer(knn, data_norm, target_train, label = \"KNN\")\n",
    "explainer_nb = dx.Explainer(nb, data_train, target_train, label = \"Naive Bayes\")\n",
    "explainer_svc = dx.Explainer(svc, data_train, target_train, label = \"SVC\")"
   ]
  },
  {
   "cell_type": "code",
   "execution_count": 12,
   "metadata": {},
   "outputs": [],
   "source": [
    "fi_knn = explainer_knn.model_parts()\n",
    "fi_nb = explainer_nb.model_parts()\n",
    "fi_svc = explainer_svc.model_parts()"
   ]
  },
  {
   "cell_type": "markdown",
   "metadata": {},
   "source": [
    "Poniżej można zobaczyć wykres wszystkich 4 modeli razem."
   ]
  },
  {
   "cell_type": "code",
   "execution_count": 13,
   "metadata": {
    "scrolled": false
   },
   "outputs": [
    {
     "data": {
      "application/vnd.plotly.v1+json": {
       "config": {
        "displaylogo": false,
        "modeBarButtonsToRemove": [
         "sendDataToCloud",
         "lasso2d",
         "autoScale2d",
         "select2d",
         "zoom2d",
         "pan2d",
         "zoomIn2d",
         "zoomOut2d",
         "resetScale2d",
         "toggleSpikelines",
         "hoverCompareCartesian",
         "hoverClosestCartesian"
        ],
        "plotlyServerURL": "https://plot.ly",
        "staticPlot": false,
        "toImageButtonOptions": {
         "height": null,
         "width": null
        }
       },
       "data": [
        {
         "base": 0.03404167526304924,
         "hoverinfo": "text",
         "hoverlabel": {
          "bgcolor": "rgba(0,0,0,0.8)"
         },
         "hovertext": [
          "Model: Random Forest loss after<br>variable: ca is permuted: 0.08<br>Drop-out loss change: +0.046",
          "Model: Random Forest loss after<br>variable: sex is permuted: 0.042<br>Drop-out loss change: +0.008",
          "Model: Random Forest loss after<br>variable: thal_rd is permuted: 0.044<br>Drop-out loss change: +0.01",
          "Model: Random Forest loss after<br>variable: cp_ta is permuted: 0.049<br>Drop-out loss change: +0.015",
          "Model: Random Forest loss after<br>variable: oldpeak is permuted: 0.048<br>Drop-out loss change: +0.014",
          "Model: Random Forest loss after<br>variable: thal_n is permuted: 0.045<br>Drop-out loss change: +0.011",
          "Model: Random Forest loss after<br>variable: exang is permuted: 0.042<br>Drop-out loss change: +0.008",
          "Model: Random Forest loss after<br>variable: thalach is permuted: 0.045<br>Drop-out loss change: +0.011",
          "Model: Random Forest loss after<br>variable: restecg is permuted: 0.037<br>Drop-out loss change: +0.003",
          "Model: Random Forest loss after<br>variable: cp_np is permuted: 0.037<br>Drop-out loss change: +0.003",
          "Model: Random Forest loss after<br>variable: slope_up is permuted: 0.037<br>Drop-out loss change: +0.003",
          "Model: Random Forest loss after<br>variable: cp_a is permuted: 0.036<br>Drop-out loss change: +0.002",
          "Model: Random Forest loss after<br>variable: age is permuted: 0.044<br>Drop-out loss change: +0.01",
          "Model: Random Forest loss after<br>variable: slope_flat is permuted: 0.036<br>Drop-out loss change: +0.002",
          "Model: Random Forest loss after<br>variable: trestbps is permuted: 0.039<br>Drop-out loss change: +0.005",
          "Model: Random Forest loss after<br>variable: cp_aa is permuted: 0.034<br>Drop-out loss change: +0.0",
          "Model: Random Forest loss after<br>variable: chol is permuted: 0.041<br>Drop-out loss change: +0.007",
          "Model: Random Forest loss after<br>variable: slope_down is permuted: 0.034<br>Drop-out loss change: +0.0",
          "Model: Random Forest loss after<br>variable: fbs is permuted: 0.034<br>Drop-out loss change: +0.0",
          "Model: Random Forest loss after<br>variable: thal_fd is permuted: 0.034<br>Drop-out loss change: -0.0"
         ],
         "marker": {
          "color": "#46bac2"
         },
         "orientation": "h",
         "showlegend": false,
         "text": [
          "+0.046",
          "+0.008",
          "+0.01",
          "+0.015",
          "+0.014",
          "+0.011",
          "+0.008",
          "+0.011",
          "+0.003",
          "+0.003",
          "+0.003",
          "+0.002",
          "+0.01",
          "+0.002",
          "+0.005",
          "+0.0",
          "+0.007",
          "+0.0",
          "+0.0",
          "0.0"
         ],
         "textposition": "outside",
         "type": "bar",
         "x": [
          0.045973454370401026,
          0.00785365518189949,
          0.009744859363180071,
          0.014827040781239378,
          0.014132453063750841,
          0.01134722508768319,
          0.0077573756963070575,
          0.01138161061825195,
          0.0031359603878688413,
          0.0031359603878688413,
          0.0031222061756413858,
          0.0017330307406643528,
          0.009964926758819936,
          0.0015267175572519429,
          0.00532975723815423,
          8.252527336501114e-05,
          0.007021525342136091,
          0.000343855305687403,
          0.00035760951791490025,
          -6.189395502372019e-05
         ],
         "xaxis": "x",
         "y": [
          "ca",
          "sex",
          "thal_rd",
          "cp_ta",
          "oldpeak",
          "thal_n",
          "exang",
          "thalach",
          "restecg",
          "cp_np",
          "slope_up",
          "cp_a",
          "age",
          "slope_flat",
          "trestbps",
          "cp_aa",
          "chol",
          "slope_down",
          "fbs",
          "thal_fd"
         ],
         "yaxis": "y"
        },
        {
         "base": 0.08486348944364212,
         "hoverinfo": "text",
         "hoverlabel": {
          "bgcolor": "rgba(0,0,0,0.8)"
         },
         "hovertext": [
          "Model: KNN loss after<br>variable: ca is permuted: 0.098<br>Drop-out loss change: +0.013",
          "Model: KNN loss after<br>variable: sex is permuted: 0.098<br>Drop-out loss change: +0.013",
          "Model: KNN loss after<br>variable: thal_rd is permuted: 0.1<br>Drop-out loss change: +0.015",
          "Model: KNN loss after<br>variable: cp_ta is permuted: 0.103<br>Drop-out loss change: +0.019",
          "Model: KNN loss after<br>variable: oldpeak is permuted: 0.087<br>Drop-out loss change: +0.002",
          "Model: KNN loss after<br>variable: thal_n is permuted: 0.098<br>Drop-out loss change: +0.013",
          "Model: KNN loss after<br>variable: exang is permuted: 0.097<br>Drop-out loss change: +0.012",
          "Model: KNN loss after<br>variable: thalach is permuted: 0.087<br>Drop-out loss change: +0.003",
          "Model: KNN loss after<br>variable: restecg is permuted: 0.098<br>Drop-out loss change: +0.013",
          "Model: KNN loss after<br>variable: cp_np is permuted: 0.087<br>Drop-out loss change: +0.002",
          "Model: KNN loss after<br>variable: slope_up is permuted: 0.093<br>Drop-out loss change: +0.008",
          "Model: KNN loss after<br>variable: cp_a is permuted: 0.089<br>Drop-out loss change: +0.004",
          "Model: KNN loss after<br>variable: age is permuted: 0.087<br>Drop-out loss change: +0.002",
          "Model: KNN loss after<br>variable: slope_flat is permuted: 0.09<br>Drop-out loss change: +0.005",
          "Model: KNN loss after<br>variable: trestbps is permuted: 0.087<br>Drop-out loss change: +0.002",
          "Model: KNN loss after<br>variable: cp_aa is permuted: 0.091<br>Drop-out loss change: +0.006",
          "Model: KNN loss after<br>variable: chol is permuted: 0.085<br>Drop-out loss change: +0.0",
          "Model: KNN loss after<br>variable: slope_down is permuted: 0.087<br>Drop-out loss change: +0.002",
          "Model: KNN loss after<br>variable: fbs is permuted: 0.083<br>Drop-out loss change: -0.002",
          "Model: KNN loss after<br>variable: thal_fd is permuted: 0.083<br>Drop-out loss change: -0.002"
         ],
         "marker": {
          "color": "#371ea3"
         },
         "orientation": "h",
         "showlegend": false,
         "text": [
          "+0.013",
          "+0.013",
          "+0.015",
          "+0.019",
          "+0.002",
          "+0.013",
          "+0.012",
          "+0.003",
          "+0.013",
          "+0.002",
          "+0.008",
          "+0.004",
          "+0.002",
          "+0.005",
          "+0.002",
          "+0.006",
          "+0.0",
          "+0.002",
          "0.002",
          "0.002"
         ],
         "textposition": "outside",
         "type": "bar",
         "x": [
          0.012770786053228816,
          0.013155903995598711,
          0.01495770579740048,
          0.018526923870435308,
          0.0017055223162093652,
          0.013094010040574908,
          0.011821745409531667,
          0.0025720376865414757,
          0.01283955711436631,
          0.0023175847603328636,
          0.007695481741283247,
          0.004360085276115769,
          0.0023588473970153484,
          0.004882745340760594,
          0.0024963895192902513,
          0.005900557045595223,
          0.00031634688123238774,
          0.0016917681039818472,
          -0.0018155560140293292,
          -0.0020287463035554565
         ],
         "xaxis": "x2",
         "y": [
          "ca",
          "sex",
          "thal_rd",
          "cp_ta",
          "oldpeak",
          "thal_n",
          "exang",
          "thalach",
          "restecg",
          "cp_np",
          "slope_up",
          "cp_a",
          "age",
          "slope_flat",
          "trestbps",
          "cp_aa",
          "chol",
          "slope_down",
          "fbs",
          "thal_fd"
         ],
         "yaxis": "y2"
        },
        {
         "base": 0.10301904958393515,
         "hoverinfo": "text",
         "hoverlabel": {
          "bgcolor": "rgba(0,0,0,0.8)"
         },
         "hovertext": [
          "Model: Naive Bayes loss after<br>variable: ca is permuted: 0.13<br>Drop-out loss change: +0.027",
          "Model: Naive Bayes loss after<br>variable: sex is permuted: 0.112<br>Drop-out loss change: +0.009",
          "Model: Naive Bayes loss after<br>variable: thal_rd is permuted: 0.117<br>Drop-out loss change: +0.014",
          "Model: Naive Bayes loss after<br>variable: cp_ta is permuted: 0.106<br>Drop-out loss change: +0.003",
          "Model: Naive Bayes loss after<br>variable: oldpeak is permuted: 0.116<br>Drop-out loss change: +0.013",
          "Model: Naive Bayes loss after<br>variable: thal_n is permuted: 0.113<br>Drop-out loss change: +0.01",
          "Model: Naive Bayes loss after<br>variable: exang is permuted: 0.11<br>Drop-out loss change: +0.007",
          "Model: Naive Bayes loss after<br>variable: thalach is permuted: 0.11<br>Drop-out loss change: +0.007",
          "Model: Naive Bayes loss after<br>variable: restecg is permuted: 0.105<br>Drop-out loss change: +0.002",
          "Model: Naive Bayes loss after<br>variable: cp_np is permuted: 0.116<br>Drop-out loss change: +0.013",
          "Model: Naive Bayes loss after<br>variable: slope_up is permuted: 0.105<br>Drop-out loss change: +0.002",
          "Model: Naive Bayes loss after<br>variable: cp_a is permuted: 0.107<br>Drop-out loss change: +0.004",
          "Model: Naive Bayes loss after<br>variable: age is permuted: 0.105<br>Drop-out loss change: +0.002",
          "Model: Naive Bayes loss after<br>variable: slope_flat is permuted: 0.106<br>Drop-out loss change: +0.003",
          "Model: Naive Bayes loss after<br>variable: trestbps is permuted: 0.105<br>Drop-out loss change: +0.002",
          "Model: Naive Bayes loss after<br>variable: cp_aa is permuted: 0.106<br>Drop-out loss change: +0.003",
          "Model: Naive Bayes loss after<br>variable: chol is permuted: 0.104<br>Drop-out loss change: +0.001",
          "Model: Naive Bayes loss after<br>variable: slope_down is permuted: 0.104<br>Drop-out loss change: +0.001",
          "Model: Naive Bayes loss after<br>variable: fbs is permuted: 0.103<br>Drop-out loss change: +0.0",
          "Model: Naive Bayes loss after<br>variable: thal_fd is permuted: 0.103<br>Drop-out loss change: -0.0"
         ],
         "marker": {
          "color": "#8bdcbe"
         },
         "orientation": "h",
         "showlegend": false,
         "text": [
          "+0.027",
          "+0.009",
          "+0.014",
          "+0.003",
          "+0.013",
          "+0.01",
          "+0.007",
          "+0.007",
          "+0.002",
          "+0.013",
          "+0.002",
          "+0.004",
          "+0.002",
          "+0.003",
          "+0.002",
          "+0.003",
          "+0.001",
          "+0.001",
          "+0.0",
          "0.0"
         ],
         "textposition": "outside",
         "type": "bar",
         "x": [
          0.027116429406505688,
          0.008644522384980327,
          0.014091190427068231,
          0.0029434014166838107,
          0.012557595763702564,
          0.009772367787634906,
          0.006533250808059915,
          0.006725809779244821,
          0.002324461866446567,
          0.013472250876830974,
          0.001980606560759185,
          0.004277560002750841,
          0.0020562547280103816,
          0.0033491506773948992,
          0.0019943607729866475,
          0.0027714737638401543,
          0.001120968296540778,
          0.001231001994360742,
          0.0001444192283886342,
          -0.00044013479127986976
         ],
         "xaxis": "x3",
         "y": [
          "ca",
          "sex",
          "thal_rd",
          "cp_ta",
          "oldpeak",
          "thal_n",
          "exang",
          "thalach",
          "restecg",
          "cp_np",
          "slope_up",
          "cp_a",
          "age",
          "slope_flat",
          "trestbps",
          "cp_aa",
          "chol",
          "slope_down",
          "fbs",
          "thal_fd"
         ],
         "yaxis": "y3"
        },
        {
         "base": 0.05494807784884115,
         "hoverinfo": "text",
         "hoverlabel": {
          "bgcolor": "rgba(0,0,0,0.8)"
         },
         "hovertext": [
          "Model: SVC loss after<br>variable: ca is permuted: 0.081<br>Drop-out loss change: +0.026",
          "Model: SVC loss after<br>variable: sex is permuted: 0.07<br>Drop-out loss change: +0.015",
          "Model: SVC loss after<br>variable: thal_rd is permuted: 0.061<br>Drop-out loss change: +0.006",
          "Model: SVC loss after<br>variable: cp_ta is permuted: 0.06<br>Drop-out loss change: +0.005",
          "Model: SVC loss after<br>variable: oldpeak is permuted: 0.064<br>Drop-out loss change: +0.009",
          "Model: SVC loss after<br>variable: thal_n is permuted: 0.057<br>Drop-out loss change: +0.002",
          "Model: SVC loss after<br>variable: exang is permuted: 0.064<br>Drop-out loss change: +0.009",
          "Model: SVC loss after<br>variable: thalach is permuted: 0.063<br>Drop-out loss change: +0.008",
          "Model: SVC loss after<br>variable: restecg is permuted: 0.065<br>Drop-out loss change: +0.01",
          "Model: SVC loss after<br>variable: cp_np is permuted: 0.06<br>Drop-out loss change: +0.005",
          "Model: SVC loss after<br>variable: slope_up is permuted: 0.061<br>Drop-out loss change: +0.006",
          "Model: SVC loss after<br>variable: cp_a is permuted: 0.064<br>Drop-out loss change: +0.009",
          "Model: SVC loss after<br>variable: age is permuted: 0.057<br>Drop-out loss change: +0.002",
          "Model: SVC loss after<br>variable: slope_flat is permuted: 0.06<br>Drop-out loss change: +0.006",
          "Model: SVC loss after<br>variable: trestbps is permuted: 0.059<br>Drop-out loss change: +0.004",
          "Model: SVC loss after<br>variable: cp_aa is permuted: 0.059<br>Drop-out loss change: +0.004",
          "Model: SVC loss after<br>variable: chol is permuted: 0.058<br>Drop-out loss change: +0.003",
          "Model: SVC loss after<br>variable: slope_down is permuted: 0.058<br>Drop-out loss change: +0.003",
          "Model: SVC loss after<br>variable: fbs is permuted: 0.06<br>Drop-out loss change: +0.005",
          "Model: SVC loss after<br>variable: thal_fd is permuted: 0.059<br>Drop-out loss change: +0.004"
         ],
         "marker": {
          "color": "#4378bf"
         },
         "orientation": "h",
         "showlegend": false,
         "text": [
          "+0.026",
          "+0.015",
          "+0.006",
          "+0.005",
          "+0.009",
          "+0.002",
          "+0.009",
          "+0.008",
          "+0.01",
          "+0.005",
          "+0.006",
          "+0.009",
          "+0.002",
          "+0.006",
          "+0.004",
          "+0.004",
          "+0.003",
          "+0.003",
          "+0.005",
          "+0.004"
         ],
         "textposition": "outside",
         "type": "bar",
         "x": [
          0.026339316415652403,
          0.015274052678632993,
          0.006044976273983961,
          0.005205969328106873,
          0.00895399216009915,
          0.002303830548105436,
          0.009263461935217751,
          0.00831442129152063,
          0.009689842514270075,
          0.00532288013204054,
          0.006375077367443839,
          0.008775187401141693,
          0.002358847397015418,
          0.00554982463379422,
          0.003968090227632302,
          0.0043188226394333395,
          0.0034523072691013054,
          0.002792105082181487,
          0.005233477752561763,
          0.0037273915136510766
         ],
         "xaxis": "x4",
         "y": [
          "ca",
          "sex",
          "thal_rd",
          "cp_ta",
          "oldpeak",
          "thal_n",
          "exang",
          "thalach",
          "restecg",
          "cp_np",
          "slope_up",
          "cp_a",
          "age",
          "slope_flat",
          "trestbps",
          "cp_aa",
          "chol",
          "slope_down",
          "fbs",
          "thal_fd"
         ],
         "yaxis": "y4"
        }
       ],
       "layout": {
        "annotations": [
         {
          "font": {
           "size": 16
          },
          "showarrow": false,
          "text": "Random Forest",
          "x": 0.5,
          "xanchor": "center",
          "xref": "paper",
          "y": 1,
          "yanchor": "bottom",
          "yref": "paper"
         },
         {
          "font": {
           "size": 16
          },
          "showarrow": false,
          "text": "KNN",
          "x": 0.5,
          "xanchor": "center",
          "xref": "paper",
          "y": 0.7375,
          "yanchor": "bottom",
          "yref": "paper"
         },
         {
          "font": {
           "size": 16
          },
          "showarrow": false,
          "text": "Naive Bayes",
          "x": 0.5,
          "xanchor": "center",
          "xref": "paper",
          "y": 0.475,
          "yanchor": "bottom",
          "yref": "paper"
         },
         {
          "font": {
           "size": 16
          },
          "showarrow": false,
          "text": "SVC",
          "x": 0.5,
          "xanchor": "center",
          "xref": "paper",
          "y": 0.2125,
          "yanchor": "bottom",
          "yref": "paper"
         },
         {
          "font": {
           "size": 16
          },
          "showarrow": false,
          "text": "drop-out loss",
          "x": 0.5,
          "xanchor": "center",
          "xref": "paper",
          "y": 0,
          "yanchor": "top",
          "yref": "paper",
          "yshift": -30
         }
        ],
        "font": {
         "color": "#371ea3"
        },
        "height": 2095,
        "margin": {
         "b": 71,
         "r": 30,
         "t": 78
        },
        "shapes": [
         {
          "line": {
           "color": "#371ea3",
           "dash": "dot",
           "width": 1.5
          },
          "type": "line",
          "x0": 0.03404167526304924,
          "x1": 0.03404167526304924,
          "xref": "x",
          "y0": -1,
          "y1": 20,
          "yref": "y"
         },
         {
          "line": {
           "color": "#371ea3",
           "dash": "dot",
           "width": 1.5
          },
          "type": "line",
          "x0": 0.08486348944364212,
          "x1": 0.08486348944364212,
          "xref": "x2",
          "y0": -1,
          "y1": 20,
          "yref": "y2"
         },
         {
          "line": {
           "color": "#371ea3",
           "dash": "dot",
           "width": 1.5
          },
          "type": "line",
          "x0": 0.10301904958393515,
          "x1": 0.10301904958393515,
          "xref": "x3",
          "y0": -1,
          "y1": 20,
          "yref": "y3"
         },
         {
          "line": {
           "color": "#371ea3",
           "dash": "dot",
           "width": 1.5
          },
          "type": "line",
          "x0": 0.05494807784884115,
          "x1": 0.05494807784884115,
          "xref": "x4",
          "y0": -1,
          "y1": 20,
          "yref": "y4"
         }
        ],
        "template": {
         "data": {
          "scatter": [
           {
            "type": "scatter"
           }
          ]
         }
        },
        "title": {
         "text": "Variable Importance",
         "x": 0.15
        },
        "xaxis": {
         "anchor": "y",
         "automargin": true,
         "domain": [
          0,
          1
         ],
         "fixedrange": true,
         "gridwidth": 2,
         "matches": "x4",
         "range": [
          0.019556426655663227,
          0.14455883364280314
         ],
         "showticklabels": false,
         "tickcolor": "white",
         "ticklen": 3,
         "ticks": "outside",
         "type": "linear",
         "zeroline": false
        },
        "xaxis2": {
         "anchor": "y2",
         "automargin": true,
         "domain": [
          0,
          1
         ],
         "fixedrange": true,
         "gridwidth": 2,
         "matches": "x4",
         "range": [
          0.019556426655663227,
          0.14455883364280314
         ],
         "showticklabels": false,
         "tickcolor": "white",
         "ticklen": 3,
         "ticks": "outside",
         "type": "linear",
         "zeroline": false
        },
        "xaxis3": {
         "anchor": "y3",
         "automargin": true,
         "domain": [
          0,
          1
         ],
         "fixedrange": true,
         "gridwidth": 2,
         "matches": "x4",
         "range": [
          0.019556426655663227,
          0.14455883364280314
         ],
         "showticklabels": false,
         "tickcolor": "white",
         "ticklen": 3,
         "ticks": "outside",
         "type": "linear",
         "zeroline": false
        },
        "xaxis4": {
         "anchor": "y4",
         "automargin": true,
         "domain": [
          0,
          1
         ],
         "fixedrange": true,
         "gridwidth": 2,
         "range": [
          0.019556426655663227,
          0.14455883364280314
         ],
         "tickcolor": "white",
         "ticklen": 3,
         "ticks": "outside",
         "type": "linear",
         "zeroline": false
        },
        "yaxis": {
         "anchor": "x",
         "automargin": true,
         "autorange": "reversed",
         "domain": [
          0.7875,
          1
         ],
         "fixedrange": true,
         "gridwidth": 2,
         "tickcolor": "white",
         "ticklen": 10,
         "ticks": "outside",
         "type": "category"
        },
        "yaxis2": {
         "anchor": "x2",
         "automargin": true,
         "autorange": "reversed",
         "domain": [
          0.525,
          0.7375
         ],
         "fixedrange": true,
         "gridwidth": 2,
         "tickcolor": "white",
         "ticklen": 10,
         "ticks": "outside",
         "type": "category"
        },
        "yaxis3": {
         "anchor": "x3",
         "automargin": true,
         "autorange": "reversed",
         "domain": [
          0.2625,
          0.475
         ],
         "fixedrange": true,
         "gridwidth": 2,
         "tickcolor": "white",
         "ticklen": 10,
         "ticks": "outside",
         "type": "category"
        },
        "yaxis4": {
         "anchor": "x4",
         "automargin": true,
         "autorange": "reversed",
         "domain": [
          0,
          0.2125
         ],
         "fixedrange": true,
         "gridwidth": 2,
         "tickcolor": "white",
         "ticklen": 10,
         "ticks": "outside",
         "type": "category"
        }
       }
      },
      "text/html": [
       "<div>                            <div id=\"6178931e-82fd-4ee8-a1af-1a2fe60bf813\" class=\"plotly-graph-div\" style=\"height:2095.0px; width:100%;\"></div>            <script type=\"text/javascript\">                require([\"plotly\"], function(Plotly) {                    window.PLOTLYENV=window.PLOTLYENV || {};                                    if (document.getElementById(\"6178931e-82fd-4ee8-a1af-1a2fe60bf813\")) {                    Plotly.newPlot(                        \"6178931e-82fd-4ee8-a1af-1a2fe60bf813\",                        [{\"base\": 0.03404167526304924, \"hoverinfo\": \"text\", \"hoverlabel\": {\"bgcolor\": \"rgba(0,0,0,0.8)\"}, \"hovertext\": [\"Model: Random Forest loss after<br>variable: ca is permuted: 0.08<br>Drop-out loss change: +0.046\", \"Model: Random Forest loss after<br>variable: sex is permuted: 0.042<br>Drop-out loss change: +0.008\", \"Model: Random Forest loss after<br>variable: thal_rd is permuted: 0.044<br>Drop-out loss change: +0.01\", \"Model: Random Forest loss after<br>variable: cp_ta is permuted: 0.049<br>Drop-out loss change: +0.015\", \"Model: Random Forest loss after<br>variable: oldpeak is permuted: 0.048<br>Drop-out loss change: +0.014\", \"Model: Random Forest loss after<br>variable: thal_n is permuted: 0.045<br>Drop-out loss change: +0.011\", \"Model: Random Forest loss after<br>variable: exang is permuted: 0.042<br>Drop-out loss change: +0.008\", \"Model: Random Forest loss after<br>variable: thalach is permuted: 0.045<br>Drop-out loss change: +0.011\", \"Model: Random Forest loss after<br>variable: restecg is permuted: 0.037<br>Drop-out loss change: +0.003\", \"Model: Random Forest loss after<br>variable: cp_np is permuted: 0.037<br>Drop-out loss change: +0.003\", \"Model: Random Forest loss after<br>variable: slope_up is permuted: 0.037<br>Drop-out loss change: +0.003\", \"Model: Random Forest loss after<br>variable: cp_a is permuted: 0.036<br>Drop-out loss change: +0.002\", \"Model: Random Forest loss after<br>variable: age is permuted: 0.044<br>Drop-out loss change: +0.01\", \"Model: Random Forest loss after<br>variable: slope_flat is permuted: 0.036<br>Drop-out loss change: +0.002\", \"Model: Random Forest loss after<br>variable: trestbps is permuted: 0.039<br>Drop-out loss change: +0.005\", \"Model: Random Forest loss after<br>variable: cp_aa is permuted: 0.034<br>Drop-out loss change: +0.0\", \"Model: Random Forest loss after<br>variable: chol is permuted: 0.041<br>Drop-out loss change: +0.007\", \"Model: Random Forest loss after<br>variable: slope_down is permuted: 0.034<br>Drop-out loss change: +0.0\", \"Model: Random Forest loss after<br>variable: fbs is permuted: 0.034<br>Drop-out loss change: +0.0\", \"Model: Random Forest loss after<br>variable: thal_fd is permuted: 0.034<br>Drop-out loss change: -0.0\"], \"marker\": {\"color\": \"#46bac2\"}, \"orientation\": \"h\", \"showlegend\": false, \"text\": [\"+0.046\", \"+0.008\", \"+0.01\", \"+0.015\", \"+0.014\", \"+0.011\", \"+0.008\", \"+0.011\", \"+0.003\", \"+0.003\", \"+0.003\", \"+0.002\", \"+0.01\", \"+0.002\", \"+0.005\", \"+0.0\", \"+0.007\", \"+0.0\", \"+0.0\", \"0.0\"], \"textposition\": \"outside\", \"type\": \"bar\", \"x\": [0.045973454370401026, 0.00785365518189949, 0.009744859363180071, 0.014827040781239378, 0.014132453063750841, 0.01134722508768319, 0.0077573756963070575, 0.01138161061825195, 0.0031359603878688413, 0.0031359603878688413, 0.0031222061756413858, 0.0017330307406643528, 0.009964926758819936, 0.0015267175572519429, 0.00532975723815423, 8.252527336501114e-05, 0.007021525342136091, 0.000343855305687403, 0.00035760951791490025, -6.189395502372019e-05], \"xaxis\": \"x\", \"y\": [\"ca\", \"sex\", \"thal_rd\", \"cp_ta\", \"oldpeak\", \"thal_n\", \"exang\", \"thalach\", \"restecg\", \"cp_np\", \"slope_up\", \"cp_a\", \"age\", \"slope_flat\", \"trestbps\", \"cp_aa\", \"chol\", \"slope_down\", \"fbs\", \"thal_fd\"], \"yaxis\": \"y\"}, {\"base\": 0.08486348944364212, \"hoverinfo\": \"text\", \"hoverlabel\": {\"bgcolor\": \"rgba(0,0,0,0.8)\"}, \"hovertext\": [\"Model: KNN loss after<br>variable: ca is permuted: 0.098<br>Drop-out loss change: +0.013\", \"Model: KNN loss after<br>variable: sex is permuted: 0.098<br>Drop-out loss change: +0.013\", \"Model: KNN loss after<br>variable: thal_rd is permuted: 0.1<br>Drop-out loss change: +0.015\", \"Model: KNN loss after<br>variable: cp_ta is permuted: 0.103<br>Drop-out loss change: +0.019\", \"Model: KNN loss after<br>variable: oldpeak is permuted: 0.087<br>Drop-out loss change: +0.002\", \"Model: KNN loss after<br>variable: thal_n is permuted: 0.098<br>Drop-out loss change: +0.013\", \"Model: KNN loss after<br>variable: exang is permuted: 0.097<br>Drop-out loss change: +0.012\", \"Model: KNN loss after<br>variable: thalach is permuted: 0.087<br>Drop-out loss change: +0.003\", \"Model: KNN loss after<br>variable: restecg is permuted: 0.098<br>Drop-out loss change: +0.013\", \"Model: KNN loss after<br>variable: cp_np is permuted: 0.087<br>Drop-out loss change: +0.002\", \"Model: KNN loss after<br>variable: slope_up is permuted: 0.093<br>Drop-out loss change: +0.008\", \"Model: KNN loss after<br>variable: cp_a is permuted: 0.089<br>Drop-out loss change: +0.004\", \"Model: KNN loss after<br>variable: age is permuted: 0.087<br>Drop-out loss change: +0.002\", \"Model: KNN loss after<br>variable: slope_flat is permuted: 0.09<br>Drop-out loss change: +0.005\", \"Model: KNN loss after<br>variable: trestbps is permuted: 0.087<br>Drop-out loss change: +0.002\", \"Model: KNN loss after<br>variable: cp_aa is permuted: 0.091<br>Drop-out loss change: +0.006\", \"Model: KNN loss after<br>variable: chol is permuted: 0.085<br>Drop-out loss change: +0.0\", \"Model: KNN loss after<br>variable: slope_down is permuted: 0.087<br>Drop-out loss change: +0.002\", \"Model: KNN loss after<br>variable: fbs is permuted: 0.083<br>Drop-out loss change: -0.002\", \"Model: KNN loss after<br>variable: thal_fd is permuted: 0.083<br>Drop-out loss change: -0.002\"], \"marker\": {\"color\": \"#371ea3\"}, \"orientation\": \"h\", \"showlegend\": false, \"text\": [\"+0.013\", \"+0.013\", \"+0.015\", \"+0.019\", \"+0.002\", \"+0.013\", \"+0.012\", \"+0.003\", \"+0.013\", \"+0.002\", \"+0.008\", \"+0.004\", \"+0.002\", \"+0.005\", \"+0.002\", \"+0.006\", \"+0.0\", \"+0.002\", \"0.002\", \"0.002\"], \"textposition\": \"outside\", \"type\": \"bar\", \"x\": [0.012770786053228816, 0.013155903995598711, 0.01495770579740048, 0.018526923870435308, 0.0017055223162093652, 0.013094010040574908, 0.011821745409531667, 0.0025720376865414757, 0.01283955711436631, 0.0023175847603328636, 0.007695481741283247, 0.004360085276115769, 0.0023588473970153484, 0.004882745340760594, 0.0024963895192902513, 0.005900557045595223, 0.00031634688123238774, 0.0016917681039818472, -0.0018155560140293292, -0.0020287463035554565], \"xaxis\": \"x2\", \"y\": [\"ca\", \"sex\", \"thal_rd\", \"cp_ta\", \"oldpeak\", \"thal_n\", \"exang\", \"thalach\", \"restecg\", \"cp_np\", \"slope_up\", \"cp_a\", \"age\", \"slope_flat\", \"trestbps\", \"cp_aa\", \"chol\", \"slope_down\", \"fbs\", \"thal_fd\"], \"yaxis\": \"y2\"}, {\"base\": 0.10301904958393515, \"hoverinfo\": \"text\", \"hoverlabel\": {\"bgcolor\": \"rgba(0,0,0,0.8)\"}, \"hovertext\": [\"Model: Naive Bayes loss after<br>variable: ca is permuted: 0.13<br>Drop-out loss change: +0.027\", \"Model: Naive Bayes loss after<br>variable: sex is permuted: 0.112<br>Drop-out loss change: +0.009\", \"Model: Naive Bayes loss after<br>variable: thal_rd is permuted: 0.117<br>Drop-out loss change: +0.014\", \"Model: Naive Bayes loss after<br>variable: cp_ta is permuted: 0.106<br>Drop-out loss change: +0.003\", \"Model: Naive Bayes loss after<br>variable: oldpeak is permuted: 0.116<br>Drop-out loss change: +0.013\", \"Model: Naive Bayes loss after<br>variable: thal_n is permuted: 0.113<br>Drop-out loss change: +0.01\", \"Model: Naive Bayes loss after<br>variable: exang is permuted: 0.11<br>Drop-out loss change: +0.007\", \"Model: Naive Bayes loss after<br>variable: thalach is permuted: 0.11<br>Drop-out loss change: +0.007\", \"Model: Naive Bayes loss after<br>variable: restecg is permuted: 0.105<br>Drop-out loss change: +0.002\", \"Model: Naive Bayes loss after<br>variable: cp_np is permuted: 0.116<br>Drop-out loss change: +0.013\", \"Model: Naive Bayes loss after<br>variable: slope_up is permuted: 0.105<br>Drop-out loss change: +0.002\", \"Model: Naive Bayes loss after<br>variable: cp_a is permuted: 0.107<br>Drop-out loss change: +0.004\", \"Model: Naive Bayes loss after<br>variable: age is permuted: 0.105<br>Drop-out loss change: +0.002\", \"Model: Naive Bayes loss after<br>variable: slope_flat is permuted: 0.106<br>Drop-out loss change: +0.003\", \"Model: Naive Bayes loss after<br>variable: trestbps is permuted: 0.105<br>Drop-out loss change: +0.002\", \"Model: Naive Bayes loss after<br>variable: cp_aa is permuted: 0.106<br>Drop-out loss change: +0.003\", \"Model: Naive Bayes loss after<br>variable: chol is permuted: 0.104<br>Drop-out loss change: +0.001\", \"Model: Naive Bayes loss after<br>variable: slope_down is permuted: 0.104<br>Drop-out loss change: +0.001\", \"Model: Naive Bayes loss after<br>variable: fbs is permuted: 0.103<br>Drop-out loss change: +0.0\", \"Model: Naive Bayes loss after<br>variable: thal_fd is permuted: 0.103<br>Drop-out loss change: -0.0\"], \"marker\": {\"color\": \"#8bdcbe\"}, \"orientation\": \"h\", \"showlegend\": false, \"text\": [\"+0.027\", \"+0.009\", \"+0.014\", \"+0.003\", \"+0.013\", \"+0.01\", \"+0.007\", \"+0.007\", \"+0.002\", \"+0.013\", \"+0.002\", \"+0.004\", \"+0.002\", \"+0.003\", \"+0.002\", \"+0.003\", \"+0.001\", \"+0.001\", \"+0.0\", \"0.0\"], \"textposition\": \"outside\", \"type\": \"bar\", \"x\": [0.027116429406505688, 0.008644522384980327, 0.014091190427068231, 0.0029434014166838107, 0.012557595763702564, 0.009772367787634906, 0.006533250808059915, 0.006725809779244821, 0.002324461866446567, 0.013472250876830974, 0.001980606560759185, 0.004277560002750841, 0.0020562547280103816, 0.0033491506773948992, 0.0019943607729866475, 0.0027714737638401543, 0.001120968296540778, 0.001231001994360742, 0.0001444192283886342, -0.00044013479127986976], \"xaxis\": \"x3\", \"y\": [\"ca\", \"sex\", \"thal_rd\", \"cp_ta\", \"oldpeak\", \"thal_n\", \"exang\", \"thalach\", \"restecg\", \"cp_np\", \"slope_up\", \"cp_a\", \"age\", \"slope_flat\", \"trestbps\", \"cp_aa\", \"chol\", \"slope_down\", \"fbs\", \"thal_fd\"], \"yaxis\": \"y3\"}, {\"base\": 0.05494807784884115, \"hoverinfo\": \"text\", \"hoverlabel\": {\"bgcolor\": \"rgba(0,0,0,0.8)\"}, \"hovertext\": [\"Model: SVC loss after<br>variable: ca is permuted: 0.081<br>Drop-out loss change: +0.026\", \"Model: SVC loss after<br>variable: sex is permuted: 0.07<br>Drop-out loss change: +0.015\", \"Model: SVC loss after<br>variable: thal_rd is permuted: 0.061<br>Drop-out loss change: +0.006\", \"Model: SVC loss after<br>variable: cp_ta is permuted: 0.06<br>Drop-out loss change: +0.005\", \"Model: SVC loss after<br>variable: oldpeak is permuted: 0.064<br>Drop-out loss change: +0.009\", \"Model: SVC loss after<br>variable: thal_n is permuted: 0.057<br>Drop-out loss change: +0.002\", \"Model: SVC loss after<br>variable: exang is permuted: 0.064<br>Drop-out loss change: +0.009\", \"Model: SVC loss after<br>variable: thalach is permuted: 0.063<br>Drop-out loss change: +0.008\", \"Model: SVC loss after<br>variable: restecg is permuted: 0.065<br>Drop-out loss change: +0.01\", \"Model: SVC loss after<br>variable: cp_np is permuted: 0.06<br>Drop-out loss change: +0.005\", \"Model: SVC loss after<br>variable: slope_up is permuted: 0.061<br>Drop-out loss change: +0.006\", \"Model: SVC loss after<br>variable: cp_a is permuted: 0.064<br>Drop-out loss change: +0.009\", \"Model: SVC loss after<br>variable: age is permuted: 0.057<br>Drop-out loss change: +0.002\", \"Model: SVC loss after<br>variable: slope_flat is permuted: 0.06<br>Drop-out loss change: +0.006\", \"Model: SVC loss after<br>variable: trestbps is permuted: 0.059<br>Drop-out loss change: +0.004\", \"Model: SVC loss after<br>variable: cp_aa is permuted: 0.059<br>Drop-out loss change: +0.004\", \"Model: SVC loss after<br>variable: chol is permuted: 0.058<br>Drop-out loss change: +0.003\", \"Model: SVC loss after<br>variable: slope_down is permuted: 0.058<br>Drop-out loss change: +0.003\", \"Model: SVC loss after<br>variable: fbs is permuted: 0.06<br>Drop-out loss change: +0.005\", \"Model: SVC loss after<br>variable: thal_fd is permuted: 0.059<br>Drop-out loss change: +0.004\"], \"marker\": {\"color\": \"#4378bf\"}, \"orientation\": \"h\", \"showlegend\": false, \"text\": [\"+0.026\", \"+0.015\", \"+0.006\", \"+0.005\", \"+0.009\", \"+0.002\", \"+0.009\", \"+0.008\", \"+0.01\", \"+0.005\", \"+0.006\", \"+0.009\", \"+0.002\", \"+0.006\", \"+0.004\", \"+0.004\", \"+0.003\", \"+0.003\", \"+0.005\", \"+0.004\"], \"textposition\": \"outside\", \"type\": \"bar\", \"x\": [0.026339316415652403, 0.015274052678632993, 0.006044976273983961, 0.005205969328106873, 0.00895399216009915, 0.002303830548105436, 0.009263461935217751, 0.00831442129152063, 0.009689842514270075, 0.00532288013204054, 0.006375077367443839, 0.008775187401141693, 0.002358847397015418, 0.00554982463379422, 0.003968090227632302, 0.0043188226394333395, 0.0034523072691013054, 0.002792105082181487, 0.005233477752561763, 0.0037273915136510766], \"xaxis\": \"x4\", \"y\": [\"ca\", \"sex\", \"thal_rd\", \"cp_ta\", \"oldpeak\", \"thal_n\", \"exang\", \"thalach\", \"restecg\", \"cp_np\", \"slope_up\", \"cp_a\", \"age\", \"slope_flat\", \"trestbps\", \"cp_aa\", \"chol\", \"slope_down\", \"fbs\", \"thal_fd\"], \"yaxis\": \"y4\"}],                        {\"annotations\": [{\"font\": {\"size\": 16}, \"showarrow\": false, \"text\": \"Random Forest\", \"x\": 0.5, \"xanchor\": \"center\", \"xref\": \"paper\", \"y\": 1.0, \"yanchor\": \"bottom\", \"yref\": \"paper\"}, {\"font\": {\"size\": 16}, \"showarrow\": false, \"text\": \"KNN\", \"x\": 0.5, \"xanchor\": \"center\", \"xref\": \"paper\", \"y\": 0.7375, \"yanchor\": \"bottom\", \"yref\": \"paper\"}, {\"font\": {\"size\": 16}, \"showarrow\": false, \"text\": \"Naive Bayes\", \"x\": 0.5, \"xanchor\": \"center\", \"xref\": \"paper\", \"y\": 0.475, \"yanchor\": \"bottom\", \"yref\": \"paper\"}, {\"font\": {\"size\": 16}, \"showarrow\": false, \"text\": \"SVC\", \"x\": 0.5, \"xanchor\": \"center\", \"xref\": \"paper\", \"y\": 0.2125, \"yanchor\": \"bottom\", \"yref\": \"paper\"}, {\"font\": {\"size\": 16}, \"showarrow\": false, \"text\": \"drop-out loss\", \"x\": 0.5, \"xanchor\": \"center\", \"xref\": \"paper\", \"y\": 0, \"yanchor\": \"top\", \"yref\": \"paper\", \"yshift\": -30}], \"font\": {\"color\": \"#371ea3\"}, \"height\": 2095.0, \"margin\": {\"b\": 71, \"r\": 30, \"t\": 78}, \"shapes\": [{\"line\": {\"color\": \"#371ea3\", \"dash\": \"dot\", \"width\": 1.5}, \"type\": \"line\", \"x0\": 0.03404167526304924, \"x1\": 0.03404167526304924, \"xref\": \"x\", \"y0\": -1, \"y1\": 20, \"yref\": \"y\"}, {\"line\": {\"color\": \"#371ea3\", \"dash\": \"dot\", \"width\": 1.5}, \"type\": \"line\", \"x0\": 0.08486348944364212, \"x1\": 0.08486348944364212, \"xref\": \"x2\", \"y0\": -1, \"y1\": 20, \"yref\": \"y2\"}, {\"line\": {\"color\": \"#371ea3\", \"dash\": \"dot\", \"width\": 1.5}, \"type\": \"line\", \"x0\": 0.10301904958393515, \"x1\": 0.10301904958393515, \"xref\": \"x3\", \"y0\": -1, \"y1\": 20, \"yref\": \"y3\"}, {\"line\": {\"color\": \"#371ea3\", \"dash\": \"dot\", \"width\": 1.5}, \"type\": \"line\", \"x0\": 0.05494807784884115, \"x1\": 0.05494807784884115, \"xref\": \"x4\", \"y0\": -1, \"y1\": 20, \"yref\": \"y4\"}], \"template\": {\"data\": {\"scatter\": [{\"type\": \"scatter\"}]}}, \"title\": {\"text\": \"Variable Importance\", \"x\": 0.15}, \"xaxis\": {\"anchor\": \"y\", \"automargin\": true, \"domain\": [0.0, 1.0], \"fixedrange\": true, \"gridwidth\": 2, \"matches\": \"x4\", \"range\": [0.019556426655663227, 0.14455883364280314], \"showticklabels\": false, \"tickcolor\": \"white\", \"ticklen\": 3, \"ticks\": \"outside\", \"type\": \"linear\", \"zeroline\": false}, \"xaxis2\": {\"anchor\": \"y2\", \"automargin\": true, \"domain\": [0.0, 1.0], \"fixedrange\": true, \"gridwidth\": 2, \"matches\": \"x4\", \"range\": [0.019556426655663227, 0.14455883364280314], \"showticklabels\": false, \"tickcolor\": \"white\", \"ticklen\": 3, \"ticks\": \"outside\", \"type\": \"linear\", \"zeroline\": false}, \"xaxis3\": {\"anchor\": \"y3\", \"automargin\": true, \"domain\": [0.0, 1.0], \"fixedrange\": true, \"gridwidth\": 2, \"matches\": \"x4\", \"range\": [0.019556426655663227, 0.14455883364280314], \"showticklabels\": false, \"tickcolor\": \"white\", \"ticklen\": 3, \"ticks\": \"outside\", \"type\": \"linear\", \"zeroline\": false}, \"xaxis4\": {\"anchor\": \"y4\", \"automargin\": true, \"domain\": [0.0, 1.0], \"fixedrange\": true, \"gridwidth\": 2, \"range\": [0.019556426655663227, 0.14455883364280314], \"tickcolor\": \"white\", \"ticklen\": 3, \"ticks\": \"outside\", \"type\": \"linear\", \"zeroline\": false}, \"yaxis\": {\"anchor\": \"x\", \"automargin\": true, \"autorange\": \"reversed\", \"domain\": [0.7875, 1.0], \"fixedrange\": true, \"gridwidth\": 2, \"tickcolor\": \"white\", \"ticklen\": 10, \"ticks\": \"outside\", \"type\": \"category\"}, \"yaxis2\": {\"anchor\": \"x2\", \"automargin\": true, \"autorange\": \"reversed\", \"domain\": [0.525, 0.7375], \"fixedrange\": true, \"gridwidth\": 2, \"tickcolor\": \"white\", \"ticklen\": 10, \"ticks\": \"outside\", \"type\": \"category\"}, \"yaxis3\": {\"anchor\": \"x3\", \"automargin\": true, \"autorange\": \"reversed\", \"domain\": [0.2625, 0.475], \"fixedrange\": true, \"gridwidth\": 2, \"tickcolor\": \"white\", \"ticklen\": 10, \"ticks\": \"outside\", \"type\": \"category\"}, \"yaxis4\": {\"anchor\": \"x4\", \"automargin\": true, \"autorange\": \"reversed\", \"domain\": [0.0, 0.2125], \"fixedrange\": true, \"gridwidth\": 2, \"tickcolor\": \"white\", \"ticklen\": 10, \"ticks\": \"outside\", \"type\": \"category\"}},                        {\"displaylogo\": false, \"staticPlot\": false, \"toImageButtonOptions\": {\"height\": null, \"width\": null}, \"modeBarButtonsToRemove\": [\"sendDataToCloud\", \"lasso2d\", \"autoScale2d\", \"select2d\", \"zoom2d\", \"pan2d\", \"zoomIn2d\", \"zoomOut2d\", \"resetScale2d\", \"toggleSpikelines\", \"hoverCompareCartesian\", \"hoverClosestCartesian\"], \"responsive\": true}                    ).then(function(){\n",
       "                            \n",
       "var gd = document.getElementById('6178931e-82fd-4ee8-a1af-1a2fe60bf813');\n",
       "var x = new MutationObserver(function (mutations, observer) {{\n",
       "        var display = window.getComputedStyle(gd).display;\n",
       "        if (!display || display === 'none') {{\n",
       "            console.log([gd, 'removed!']);\n",
       "            Plotly.purge(gd);\n",
       "            observer.disconnect();\n",
       "        }}\n",
       "}});\n",
       "\n",
       "// Listen for the removal of the full notebook cells\n",
       "var notebookContainer = gd.closest('#notebook-container');\n",
       "if (notebookContainer) {{\n",
       "    x.observe(notebookContainer, {childList: true});\n",
       "}}\n",
       "\n",
       "// Listen for the clearing of the current output cell\n",
       "var outputEl = gd.closest('.output');\n",
       "if (outputEl) {{\n",
       "    x.observe(outputEl, {childList: true});\n",
       "}}\n",
       "\n",
       "                        })                };                });            </script>        </div>"
      ]
     },
     "metadata": {},
     "output_type": "display_data"
    }
   ],
   "source": [
    "fi.plot([fi_knn, fi_nb, fi_svc], max_vars = 21)"
   ]
  },
  {
   "cell_type": "markdown",
   "metadata": {},
   "source": [
    "Na pierwszy rzut oka widać pozycję na osi wartości (1 - AUC(model)), przy czym wybrany las losowy do analizy jest najlepszy, następnie jest SVC, KNN oraz Naive Bayes. Jak wiadomo Naive Bayes nie bierze pod uwagę interacji i zależności zmiennych stąd nie powinna dziwić jego pozycja.\n",
    "\n",
    "Przyglądając się zmiennej **ca**, to nie wszystkie modele wybrały ją za najważniejszą, dla modelu KNN, to właśnie **typical angina (cp_ta)** jest ważniejsza. Trudno tu toczyć spór, czy to błąd, ponieważ obie zmienne są ważne dla znalezienia chorych pacjentów. W wyjaśnieniach lokalnych dowiedzieliśmy się, że występowanie tylko jednego objawu nie musi oznaczać Choroby wieńcowej a inną chorobę serca, więc i tak chorych pacjentów przewiduje się co najmniej po kilku objawach np. po ca, cp, oldpeak i thal, które we cztery z dobrymi wartościami potrafią wskazać osobę chorą z dużą pewnością.\n",
    "\n",
    "Co więcej możemy powiedzieć o ważności zmiennych?\n",
    "* jakby spojrzeć na pierwsze 6 najważniejszych zmiennych to mimo innej kolejności powtarzają się zmienne: ca, płeć oraz cp (niekoniecznie ta sama wartość). Czyli zmienne, które jasno określają większe prawdopodobieństwo choroby. Natomiast 3/4 modele wyznaczyły za najważniejsze dodatkowo: oldpeak, exang, tętno maksymalne oraz thal. Exang dotyczy dławicy wysiłkowej, która często pojawia się z bólem typical angina (cp_ta), natomiast o ważności tętna, wad serca i oldpeak już wspomniano. Modele dobrze określiły najważniejsze zmienne\n",
    "* ciekawe jest, że tylko Random Forest wytypował silne zmaczenie wieku, reszta modeli ma go pod koniec listy ważności zmiennych, możliwe, że nie wyciągają z niego zbytniej wartości, ponieważ wszystko co można określić na wieku jest skorelowane np. z tętnem, który to od wieku właśnie zależy. \n",
    "* model SVC oraz KNN uważają restecg za ważniejsze niż reszta modeli, badanie EKG może być dobrym wskaźnikiem zaburzeń pracy serca, przy czym zmienna restecg przewiduje czy są zaburzenia czy nie ma, skąd można coś wywnioskować, jednak lepszą zmienną, która również dotyczy badania EKG jest oldpeak, który już szczegółowo określa jak krzywa EKG się zachowuje, dlatego tę zmienną większość modeli ma prawie na piedestale.\n",
    "* warto wspomnieć, że Naive Bayes nie wziął pod uwagę zmiennej cp_ta, czyli typical angina, za jedną z ważniejszych, pojawia się natomiast zmienna cp_np, czyli ból nie związany z anginą, przy czym on uznaje zmienne za niezależne i może właśnie dlatego typical angina nie okazała się najważniejsza - koreluje ona z wiekiem, płcią czy exang i np. dla starszych mężczyzn pojawienie się typical angina jest jednoznaczne z chorobą wieńcową."
   ]
  },
  {
   "cell_type": "markdown",
   "metadata": {},
   "source": [
    "## Podsumowanie"
   ]
  },
  {
   "cell_type": "markdown",
   "metadata": {},
   "source": [
    "Przyjrzeliśmy się najważniejszym zmiennym dla modeli, porównując to z medycznym punktem widzenia, modele podobnie wybrały zmienne najważniejsze - na podium znalazły się ca, cp, oldpeak, sex, thalach, thal. Są to zmienne, po których widać objawy choroby wieńcowej. Nasz model wybrany do projektu, czyli Random Forest umieścił też wiek dość wysoko, który ma wpływ na chorobę, chociaż bardziej jego udział przejawia się w tętnie czy połączeniu wieku, płci i bólu w klatce.\n",
    "\n",
    "Podsumowując, wciąż mamy potwierdzenie w tym co uważamy za znaczące dla choroby wieńcowej, chociaż w przypadku danych medycznych objawy są często jasno określone i jedynie możemy się cieszyć, że wyjaśnienia modelu potwierdzają teorie wysnute przez lekarzy na podstawie lat badań."
   ]
  }
 ],
 "metadata": {
  "kernelspec": {
   "display_name": "Python 3",
   "language": "python",
   "name": "python3"
  },
  "language_info": {
   "codemirror_mode": {
    "name": "ipython",
    "version": 3
   },
   "file_extension": ".py",
   "mimetype": "text/x-python",
   "name": "python",
   "nbconvert_exporter": "python",
   "pygments_lexer": "ipython3",
   "version": "3.6.9"
  }
 },
 "nbformat": 4,
 "nbformat_minor": 4
}
