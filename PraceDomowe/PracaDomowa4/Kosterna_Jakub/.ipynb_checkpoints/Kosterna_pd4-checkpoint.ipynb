{
 "cells": [
  {
   "cell_type": "markdown",
   "metadata": {},
   "source": [
    "# Jakub Kosterna - pd 4\n",
    "## Warsztaty Badawcze 2021: XAI-1"
   ]
  },
  {
   "cell_type": "markdown",
   "metadata": {},
   "source": [
    "### Początek klasycznie"
   ]
  },
  {
   "cell_type": "code",
   "execution_count": 41,
   "metadata": {},
   "outputs": [],
   "source": [
    "import pandas as pd\n",
    "import numpy as np\n",
    "import math\n",
    "\n",
    "import pickle\n",
    "from sklearn.ensemble import GradientBoostingClassifier, RandomForestClassifier\n",
    "from sklearn.model_selection import train_test_split\n",
    "\n",
    "import dalex as dx \n",
    "import lime"
   ]
  },
  {
   "cell_type": "code",
   "execution_count": 12,
   "metadata": {},
   "outputs": [],
   "source": [
    "df_wines = pd.read_csv('winequality-red.csv')\n",
    "df_wines[\"is_good\"] = df_wines.apply(lambda row: 1 if row.quality > 5 else 0, axis = 1)\n",
    "X = df_wines.drop([\"is_good\", 'quality'], axis=1)\n",
    "y = df_wines[\"is_good\"]\n",
    "X_train, X_test, y_train, y_test = train_test_split(X, y, stratify=y,random_state = 42)\n",
    "y_test = y_test.reset_index()[\"is_good\"]"
   ]
  },
  {
   "cell_type": "code",
   "execution_count": 36,
   "metadata": {},
   "outputs": [],
   "source": [
    "xgb = pickle.load(open(\"xgb\", 'rb'))\n",
    "y_pred = xgb.predict(X_test)"
   ]
  },
  {
   "cell_type": "markdown",
   "metadata": {},
   "source": [
    "### XGBoost"
   ]
  },
  {
   "cell_type": "code",
   "execution_count": 19,
   "metadata": {},
   "outputs": [
    {
     "name": "stdout",
     "output_type": "stream",
     "text": [
      "Preparation of a new explainer is initiated\n",
      "\n",
      "  -> data              : 1199 rows 11 cols\n",
      "  -> target variable   : Parameter 'y' was a pandas.Series. Converted to a numpy.ndarray.\n",
      "  -> target variable   : 1199 values\n",
      "  -> model_class       : sklearn.model_selection._search.RandomizedSearchCV (default)\n",
      "  -> label             : XGBoost\n",
      "  -> predict function  : <function yhat_proba_default at 0x00000297ABE47B80> will be used (default)\n",
      "  -> predict function  : Accepts pandas.DataFrame and numpy.ndarray.\n",
      "  -> predicted values  : min = 0.00364, mean = 0.535, max = 1.0\n",
      "  -> model type        : classification will be used (default)\n",
      "  -> residual function : difference between y and yhat (default)\n",
      "  -> residuals         : min = -0.626, mean = -2.74e-05, max = 0.775\n",
      "  -> model_info        : package sklearn\n",
      "\n",
      "A new explainer has been created!\n"
     ]
    }
   ],
   "source": [
    "explainer = dx.Explainer(xgb, X_train, y_train, label = \"XGBoost\")"
   ]
  },
  {
   "cell_type": "markdown",
   "metadata": {},
   "source": [
    "I wreszcie czas przypatrzyć się permutacyjnej ważności zmiennych modelu!"
   ]
  },
  {
   "cell_type": "code",
   "execution_count": 29,
   "metadata": {},
   "outputs": [],
   "source": [
    "fi = explainer.model_parts()"
   ]
  },
  {
   "cell_type": "code",
   "execution_count": 21,
   "metadata": {},
   "outputs": [
    {
     "data": {
      "text/html": [
       "<div>\n",
       "<style scoped>\n",
       "    .dataframe tbody tr th:only-of-type {\n",
       "        vertical-align: middle;\n",
       "    }\n",
       "\n",
       "    .dataframe tbody tr th {\n",
       "        vertical-align: top;\n",
       "    }\n",
       "\n",
       "    .dataframe thead th {\n",
       "        text-align: right;\n",
       "    }\n",
       "</style>\n",
       "<table border=\"1\" class=\"dataframe\">\n",
       "  <thead>\n",
       "    <tr style=\"text-align: right;\">\n",
       "      <th></th>\n",
       "      <th>variable</th>\n",
       "      <th>dropout_loss</th>\n",
       "      <th>label</th>\n",
       "    </tr>\n",
       "  </thead>\n",
       "  <tbody>\n",
       "    <tr>\n",
       "      <th>0</th>\n",
       "      <td>_full_model_</td>\n",
       "      <td>0.001489</td>\n",
       "      <td>XGBoost</td>\n",
       "    </tr>\n",
       "    <tr>\n",
       "      <th>1</th>\n",
       "      <td>residual sugar</td>\n",
       "      <td>0.004696</td>\n",
       "      <td>XGBoost</td>\n",
       "    </tr>\n",
       "    <tr>\n",
       "      <th>2</th>\n",
       "      <td>free sulfur dioxide</td>\n",
       "      <td>0.005097</td>\n",
       "      <td>XGBoost</td>\n",
       "    </tr>\n",
       "    <tr>\n",
       "      <th>3</th>\n",
       "      <td>fixed acidity</td>\n",
       "      <td>0.007558</td>\n",
       "      <td>XGBoost</td>\n",
       "    </tr>\n",
       "    <tr>\n",
       "      <th>4</th>\n",
       "      <td>density</td>\n",
       "      <td>0.009383</td>\n",
       "      <td>XGBoost</td>\n",
       "    </tr>\n",
       "    <tr>\n",
       "      <th>5</th>\n",
       "      <td>chlorides</td>\n",
       "      <td>0.014876</td>\n",
       "      <td>XGBoost</td>\n",
       "    </tr>\n",
       "    <tr>\n",
       "      <th>6</th>\n",
       "      <td>pH</td>\n",
       "      <td>0.016118</td>\n",
       "      <td>XGBoost</td>\n",
       "    </tr>\n",
       "    <tr>\n",
       "      <th>7</th>\n",
       "      <td>citric acid</td>\n",
       "      <td>0.019362</td>\n",
       "      <td>XGBoost</td>\n",
       "    </tr>\n",
       "    <tr>\n",
       "      <th>8</th>\n",
       "      <td>total sulfur dioxide</td>\n",
       "      <td>0.032444</td>\n",
       "      <td>XGBoost</td>\n",
       "    </tr>\n",
       "    <tr>\n",
       "      <th>9</th>\n",
       "      <td>volatile acidity</td>\n",
       "      <td>0.036295</td>\n",
       "      <td>XGBoost</td>\n",
       "    </tr>\n",
       "    <tr>\n",
       "      <th>10</th>\n",
       "      <td>sulphates</td>\n",
       "      <td>0.068242</td>\n",
       "      <td>XGBoost</td>\n",
       "    </tr>\n",
       "    <tr>\n",
       "      <th>11</th>\n",
       "      <td>alcohol</td>\n",
       "      <td>0.076894</td>\n",
       "      <td>XGBoost</td>\n",
       "    </tr>\n",
       "    <tr>\n",
       "      <th>12</th>\n",
       "      <td>_baseline_</td>\n",
       "      <td>0.494633</td>\n",
       "      <td>XGBoost</td>\n",
       "    </tr>\n",
       "  </tbody>\n",
       "</table>\n",
       "</div>"
      ],
      "text/plain": [
       "                variable  dropout_loss    label\n",
       "0           _full_model_      0.001489  XGBoost\n",
       "1         residual sugar      0.004696  XGBoost\n",
       "2    free sulfur dioxide      0.005097  XGBoost\n",
       "3          fixed acidity      0.007558  XGBoost\n",
       "4                density      0.009383  XGBoost\n",
       "5              chlorides      0.014876  XGBoost\n",
       "6                     pH      0.016118  XGBoost\n",
       "7            citric acid      0.019362  XGBoost\n",
       "8   total sulfur dioxide      0.032444  XGBoost\n",
       "9       volatile acidity      0.036295  XGBoost\n",
       "10             sulphates      0.068242  XGBoost\n",
       "11               alcohol      0.076894  XGBoost\n",
       "12            _baseline_      0.494633  XGBoost"
      ]
     },
     "execution_count": 21,
     "metadata": {},
     "output_type": "execute_result"
    }
   ],
   "source": [
    "fi.result"
   ]
  },
  {
   "cell_type": "code",
   "execution_count": 17,
   "metadata": {},
   "outputs": [
    {
     "data": {
      "application/vnd.plotly.v1+json": {
       "config": {
        "displaylogo": false,
        "modeBarButtonsToRemove": [
         "sendDataToCloud",
         "lasso2d",
         "autoScale2d",
         "select2d",
         "zoom2d",
         "pan2d",
         "zoomIn2d",
         "zoomOut2d",
         "resetScale2d",
         "toggleSpikelines",
         "hoverCompareCartesian",
         "hoverClosestCartesian"
        ],
        "plotlyServerURL": "https://plot.ly",
        "staticPlot": false,
        "toImageButtonOptions": {
         "height": null,
         "width": null
        }
       },
       "data": [
        {
         "base": 0.0014893617021275452,
         "hoverinfo": "text",
         "hoverlabel": {
          "bgcolor": "rgba(0,0,0,0.8)"
         },
         "hovertext": [
          "Model: Random Forest loss after<br>variable: alcohol is permuted: 0.082<br>Drop-out loss change: +0.081",
          "Model: Random Forest loss after<br>variable: sulphates is permuted: 0.067<br>Drop-out loss change: +0.066",
          "Model: Random Forest loss after<br>variable: volatile acidity is permuted: 0.037<br>Drop-out loss change: +0.035",
          "Model: Random Forest loss after<br>variable: total sulfur dioxide is permuted: 0.032<br>Drop-out loss change: +0.031",
          "Model: Random Forest loss after<br>variable: citric acid is permuted: 0.018<br>Drop-out loss change: +0.017",
          "Model: Random Forest loss after<br>variable: pH is permuted: 0.017<br>Drop-out loss change: +0.015",
          "Model: Random Forest loss after<br>variable: chlorides is permuted: 0.016<br>Drop-out loss change: +0.014",
          "Model: Random Forest loss after<br>variable: density is permuted: 0.009<br>Drop-out loss change: +0.008",
          "Model: Random Forest loss after<br>variable: fixed acidity is permuted: 0.007<br>Drop-out loss change: +0.006",
          "Model: Random Forest loss after<br>variable: free sulfur dioxide is permuted: 0.005<br>Drop-out loss change: +0.004"
         ],
         "marker": {
          "color": "#46bac2"
         },
         "orientation": "h",
         "showlegend": false,
         "text": [
          "+0.081",
          "+0.066",
          "+0.035",
          "+0.031",
          "+0.017",
          "+0.015",
          "+0.014",
          "+0.008",
          "+0.006",
          "+0.004"
         ],
         "textposition": "outside",
         "type": "bar",
         "x": [
          0.08053673223604987,
          0.06559614612605388,
          0.03547611401043762,
          0.030783621035728737,
          0.01651144118827791,
          0.015215576073865977,
          0.014121236451224473,
          0.007691690084303537,
          0.005889201124046617,
          0.0036852669610598406
         ],
         "xaxis": "x",
         "y": [
          "alcohol",
          "sulphates",
          "volatile acidity",
          "total sulfur dioxide",
          "citric acid",
          "pH",
          "chlorides",
          "density",
          "fixed acidity",
          "free sulfur dioxide"
         ],
         "yaxis": "y"
        }
       ],
       "layout": {
        "annotations": [
         {
          "font": {
           "size": 16
          },
          "showarrow": false,
          "text": "Random Forest",
          "x": 0.5,
          "xanchor": "center",
          "xref": "paper",
          "y": 1,
          "yanchor": "bottom",
          "yref": "paper"
         },
         {
          "font": {
           "size": 16
          },
          "showarrow": false,
          "text": "drop-out loss",
          "x": 0.5,
          "xanchor": "center",
          "xref": "paper",
          "y": 0,
          "yanchor": "top",
          "yref": "paper",
          "yshift": -30
         }
        ],
        "font": {
         "color": "#371ea3"
        },
        "height": 383,
        "margin": {
         "b": 71,
         "r": 30,
         "t": 78
        },
        "shapes": [
         {
          "line": {
           "color": "#371ea3",
           "dash": "dot",
           "width": 1.5
          },
          "type": "line",
          "x0": 0.0014893617021275452,
          "x1": 0.0014893617021275452,
          "xref": "x",
          "y0": -1,
          "y1": 10,
          "yref": "y"
         }
        ],
        "template": {
         "data": {
          "scatter": [
           {
            "type": "scatter"
           }
          ]
         }
        },
        "title": {
         "text": "Variable Importance",
         "x": 0.15
        },
        "xaxis": {
         "anchor": "y",
         "automargin": true,
         "domain": [
          0,
          1
         ],
         "fixedrange": true,
         "gridwidth": 2,
         "range": [
          -0.010591148133279936,
          0.0941066037735849
         ],
         "tickcolor": "white",
         "ticklen": 3,
         "ticks": "outside",
         "type": "linear",
         "zeroline": false
        },
        "yaxis": {
         "anchor": "x",
         "automargin": true,
         "autorange": "reversed",
         "domain": [
          0,
          1
         ],
         "fixedrange": true,
         "gridwidth": 2,
         "tickcolor": "white",
         "ticklen": 10,
         "ticks": "outside",
         "type": "category"
        }
       }
      },
      "text/html": [
       "<div>                            <div id=\"0835e611-577d-4099-bbff-c9c634f4dc49\" class=\"plotly-graph-div\" style=\"height:383.0px; width:100%;\"></div>            <script type=\"text/javascript\">                require([\"plotly\"], function(Plotly) {                    window.PLOTLYENV=window.PLOTLYENV || {};                                    if (document.getElementById(\"0835e611-577d-4099-bbff-c9c634f4dc49\")) {                    Plotly.newPlot(                        \"0835e611-577d-4099-bbff-c9c634f4dc49\",                        [{\"base\": 0.0014893617021275452, \"hoverinfo\": \"text\", \"hoverlabel\": {\"bgcolor\": \"rgba(0,0,0,0.8)\"}, \"hovertext\": [\"Model: Random Forest loss after<br>variable: alcohol is permuted: 0.082<br>Drop-out loss change: +0.081\", \"Model: Random Forest loss after<br>variable: sulphates is permuted: 0.067<br>Drop-out loss change: +0.066\", \"Model: Random Forest loss after<br>variable: volatile acidity is permuted: 0.037<br>Drop-out loss change: +0.035\", \"Model: Random Forest loss after<br>variable: total sulfur dioxide is permuted: 0.032<br>Drop-out loss change: +0.031\", \"Model: Random Forest loss after<br>variable: citric acid is permuted: 0.018<br>Drop-out loss change: +0.017\", \"Model: Random Forest loss after<br>variable: pH is permuted: 0.017<br>Drop-out loss change: +0.015\", \"Model: Random Forest loss after<br>variable: chlorides is permuted: 0.016<br>Drop-out loss change: +0.014\", \"Model: Random Forest loss after<br>variable: density is permuted: 0.009<br>Drop-out loss change: +0.008\", \"Model: Random Forest loss after<br>variable: fixed acidity is permuted: 0.007<br>Drop-out loss change: +0.006\", \"Model: Random Forest loss after<br>variable: free sulfur dioxide is permuted: 0.005<br>Drop-out loss change: +0.004\"], \"marker\": {\"color\": \"#46bac2\"}, \"orientation\": \"h\", \"showlegend\": false, \"text\": [\"+0.081\", \"+0.066\", \"+0.035\", \"+0.031\", \"+0.017\", \"+0.015\", \"+0.014\", \"+0.008\", \"+0.006\", \"+0.004\"], \"textposition\": \"outside\", \"type\": \"bar\", \"x\": [0.08053673223604987, 0.06559614612605388, 0.03547611401043762, 0.030783621035728737, 0.01651144118827791, 0.015215576073865977, 0.014121236451224473, 0.007691690084303537, 0.005889201124046617, 0.0036852669610598406], \"xaxis\": \"x\", \"y\": [\"alcohol\", \"sulphates\", \"volatile acidity\", \"total sulfur dioxide\", \"citric acid\", \"pH\", \"chlorides\", \"density\", \"fixed acidity\", \"free sulfur dioxide\"], \"yaxis\": \"y\"}],                        {\"annotations\": [{\"font\": {\"size\": 16}, \"showarrow\": false, \"text\": \"Random Forest\", \"x\": 0.5, \"xanchor\": \"center\", \"xref\": \"paper\", \"y\": 1.0, \"yanchor\": \"bottom\", \"yref\": \"paper\"}, {\"font\": {\"size\": 16}, \"showarrow\": false, \"text\": \"drop-out loss\", \"x\": 0.5, \"xanchor\": \"center\", \"xref\": \"paper\", \"y\": 0, \"yanchor\": \"top\", \"yref\": \"paper\", \"yshift\": -30}], \"font\": {\"color\": \"#371ea3\"}, \"height\": 383.0, \"margin\": {\"b\": 71, \"r\": 30, \"t\": 78}, \"shapes\": [{\"line\": {\"color\": \"#371ea3\", \"dash\": \"dot\", \"width\": 1.5}, \"type\": \"line\", \"x0\": 0.0014893617021275452, \"x1\": 0.0014893617021275452, \"xref\": \"x\", \"y0\": -1, \"y1\": 10, \"yref\": \"y\"}], \"template\": {\"data\": {\"scatter\": [{\"type\": \"scatter\"}]}}, \"title\": {\"text\": \"Variable Importance\", \"x\": 0.15}, \"xaxis\": {\"anchor\": \"y\", \"automargin\": true, \"domain\": [0.0, 1.0], \"fixedrange\": true, \"gridwidth\": 2, \"range\": [-0.010591148133279936, 0.0941066037735849], \"tickcolor\": \"white\", \"ticklen\": 3, \"ticks\": \"outside\", \"type\": \"linear\", \"zeroline\": false}, \"yaxis\": {\"anchor\": \"x\", \"automargin\": true, \"autorange\": \"reversed\", \"domain\": [0.0, 1.0], \"fixedrange\": true, \"gridwidth\": 2, \"tickcolor\": \"white\", \"ticklen\": 10, \"ticks\": \"outside\", \"type\": \"category\"}},                        {\"displaylogo\": false, \"staticPlot\": false, \"toImageButtonOptions\": {\"height\": null, \"width\": null}, \"modeBarButtonsToRemove\": [\"sendDataToCloud\", \"lasso2d\", \"autoScale2d\", \"select2d\", \"zoom2d\", \"pan2d\", \"zoomIn2d\", \"zoomOut2d\", \"resetScale2d\", \"toggleSpikelines\", \"hoverCompareCartesian\", \"hoverClosestCartesian\"], \"responsive\": true}                    ).then(function(){\n",
       "                            \n",
       "var gd = document.getElementById('0835e611-577d-4099-bbff-c9c634f4dc49');\n",
       "var x = new MutationObserver(function (mutations, observer) {{\n",
       "        var display = window.getComputedStyle(gd).display;\n",
       "        if (!display || display === 'none') {{\n",
       "            console.log([gd, 'removed!']);\n",
       "            Plotly.purge(gd);\n",
       "            observer.disconnect();\n",
       "        }}\n",
       "}});\n",
       "\n",
       "// Listen for the removal of the full notebook cells\n",
       "var notebookContainer = gd.closest('#notebook-container');\n",
       "if (notebookContainer) {{\n",
       "    x.observe(notebookContainer, {childList: true});\n",
       "}}\n",
       "\n",
       "// Listen for the clearing of the current output cell\n",
       "var outputEl = gd.closest('.output');\n",
       "if (outputEl) {{\n",
       "    x.observe(outputEl, {childList: true});\n",
       "}}\n",
       "\n",
       "                        })                };                });            </script>        </div>"
      ]
     },
     "metadata": {},
     "output_type": "display_data"
    }
   ],
   "source": [
    "fi.plot()"
   ]
  },
  {
   "cell_type": "markdown",
   "metadata": {},
   "source": [
    "🍷 Metoda *model_parts* potwierdza wcześniejsze spostrzeżenia - zgodnie z wynikami wcześniejszych analiz, zawartość alkoholu ma największy wpływ na wartość predykcji.\n",
    "\n",
    "🍷 Nie jest to jednak kolumna mocno wychodząca poza szereg - wskaźnik dla zawartości siarczanów odpowiedzialnych za konserwowanie win jest nieznacznie niższy.\n",
    "\n",
    "🍷 Mimo, że wyżej wspomniane dwie zmienne decyzyjne dominują w kwestii wpływu na wynik algorytmu, każda ma \"jakiś\" wpływ.\n",
    "\n",
    "🍷 Tak jak i w przypadku wcześniejszych rozwiązań, umiarkowany wpływ okazują się mieć kwasowość lotna, a także całkowita zawartość dwutlenku siarki. Nie dorównują one pierwszym dwóm, ale także mają znaczny udział i efekt.\n",
    "\n",
    "🍷 Trochę \"gorzej\" w przypadku kwasu cytrynowego, odczynnika pH i sól w winie - te okazują się mieć umiarkowanie niski wkład.\n",
    "\n",
    "🍷 Najsłabiej pod względem ważności wypadają gęstość, kwasowość stała i ilość cząsteczek dwutlenku siarki niezwiązanych z innymi cząsteczkami. Mamy tu wartości poniżej 1/1000!"
   ]
  },
  {
   "cell_type": "markdown",
   "metadata": {},
   "source": [
    "### Gradient Boosting"
   ]
  },
  {
   "cell_type": "code",
   "execution_count": 27,
   "metadata": {},
   "outputs": [
    {
     "data": {
      "text/plain": [
       "GradientBoostingClassifier()"
      ]
     },
     "execution_count": 27,
     "metadata": {},
     "output_type": "execute_result"
    }
   ],
   "source": [
    "gbc = GradientBoostingClassifier()\n",
    "gbc.fit(X_train, y_train)"
   ]
  },
  {
   "cell_type": "code",
   "execution_count": 38,
   "metadata": {},
   "outputs": [
    {
     "name": "stdout",
     "output_type": "stream",
     "text": [
      "Preparation of a new explainer is initiated\n",
      "\n",
      "  -> data              : 1199 rows 11 cols\n",
      "  -> target variable   : Parameter 'y' was a pandas.Series. Converted to a numpy.ndarray.\n",
      "  -> target variable   : 1199 values\n",
      "  -> model_class       : sklearn.ensemble._gb.GradientBoostingClassifier (default)\n",
      "  -> label             : Gradient Boosting\n",
      "  -> predict function  : <function yhat_proba_default at 0x00000297ABE47B80> will be used (default)\n",
      "  -> predict function  : Accepts pandas.DataFrame and numpy.ndarray.\n",
      "  -> predicted values  : min = 0.0247, mean = 0.535, max = 0.984\n",
      "  -> model type        : classification will be used (default)\n",
      "  -> residual function : difference between y and yhat (default)\n",
      "  -> residuals         : min = -0.859, mean = 2.17e-05, max = 0.879\n",
      "  -> model_info        : package sklearn\n",
      "\n",
      "A new explainer has been created!\n"
     ]
    }
   ],
   "source": [
    "explainer = dx.Explainer(gbc, X_train, y_train, label = \"Gradient Boosting\")"
   ]
  },
  {
   "cell_type": "code",
   "execution_count": 39,
   "metadata": {},
   "outputs": [
    {
     "data": {
      "text/html": [
       "<div>\n",
       "<style scoped>\n",
       "    .dataframe tbody tr th:only-of-type {\n",
       "        vertical-align: middle;\n",
       "    }\n",
       "\n",
       "    .dataframe tbody tr th {\n",
       "        vertical-align: top;\n",
       "    }\n",
       "\n",
       "    .dataframe thead th {\n",
       "        text-align: right;\n",
       "    }\n",
       "</style>\n",
       "<table border=\"1\" class=\"dataframe\">\n",
       "  <thead>\n",
       "    <tr style=\"text-align: right;\">\n",
       "      <th></th>\n",
       "      <th>variable</th>\n",
       "      <th>dropout_loss</th>\n",
       "      <th>label</th>\n",
       "    </tr>\n",
       "  </thead>\n",
       "  <tbody>\n",
       "    <tr>\n",
       "      <th>0</th>\n",
       "      <td>_full_model_</td>\n",
       "      <td>0.043719</td>\n",
       "      <td>Gradient Boosting</td>\n",
       "    </tr>\n",
       "    <tr>\n",
       "      <th>1</th>\n",
       "      <td>free sulfur dioxide</td>\n",
       "      <td>0.049876</td>\n",
       "      <td>Gradient Boosting</td>\n",
       "    </tr>\n",
       "    <tr>\n",
       "      <th>2</th>\n",
       "      <td>density</td>\n",
       "      <td>0.052252</td>\n",
       "      <td>Gradient Boosting</td>\n",
       "    </tr>\n",
       "    <tr>\n",
       "      <th>3</th>\n",
       "      <td>residual sugar</td>\n",
       "      <td>0.055740</td>\n",
       "      <td>Gradient Boosting</td>\n",
       "    </tr>\n",
       "    <tr>\n",
       "      <th>4</th>\n",
       "      <td>fixed acidity</td>\n",
       "      <td>0.059746</td>\n",
       "      <td>Gradient Boosting</td>\n",
       "    </tr>\n",
       "    <tr>\n",
       "      <th>5</th>\n",
       "      <td>citric acid</td>\n",
       "      <td>0.062703</td>\n",
       "      <td>Gradient Boosting</td>\n",
       "    </tr>\n",
       "    <tr>\n",
       "      <th>6</th>\n",
       "      <td>chlorides</td>\n",
       "      <td>0.065441</td>\n",
       "      <td>Gradient Boosting</td>\n",
       "    </tr>\n",
       "    <tr>\n",
       "      <th>7</th>\n",
       "      <td>pH</td>\n",
       "      <td>0.073862</td>\n",
       "      <td>Gradient Boosting</td>\n",
       "    </tr>\n",
       "    <tr>\n",
       "      <th>8</th>\n",
       "      <td>volatile acidity</td>\n",
       "      <td>0.078557</td>\n",
       "      <td>Gradient Boosting</td>\n",
       "    </tr>\n",
       "    <tr>\n",
       "      <th>9</th>\n",
       "      <td>total sulfur dioxide</td>\n",
       "      <td>0.093488</td>\n",
       "      <td>Gradient Boosting</td>\n",
       "    </tr>\n",
       "    <tr>\n",
       "      <th>10</th>\n",
       "      <td>sulphates</td>\n",
       "      <td>0.128230</td>\n",
       "      <td>Gradient Boosting</td>\n",
       "    </tr>\n",
       "    <tr>\n",
       "      <th>11</th>\n",
       "      <td>alcohol</td>\n",
       "      <td>0.181911</td>\n",
       "      <td>Gradient Boosting</td>\n",
       "    </tr>\n",
       "    <tr>\n",
       "      <th>12</th>\n",
       "      <td>_baseline_</td>\n",
       "      <td>0.492625</td>\n",
       "      <td>Gradient Boosting</td>\n",
       "    </tr>\n",
       "  </tbody>\n",
       "</table>\n",
       "</div>"
      ],
      "text/plain": [
       "                variable  dropout_loss              label\n",
       "0           _full_model_      0.043719  Gradient Boosting\n",
       "1    free sulfur dioxide      0.049876  Gradient Boosting\n",
       "2                density      0.052252  Gradient Boosting\n",
       "3         residual sugar      0.055740  Gradient Boosting\n",
       "4          fixed acidity      0.059746  Gradient Boosting\n",
       "5            citric acid      0.062703  Gradient Boosting\n",
       "6              chlorides      0.065441  Gradient Boosting\n",
       "7                     pH      0.073862  Gradient Boosting\n",
       "8       volatile acidity      0.078557  Gradient Boosting\n",
       "9   total sulfur dioxide      0.093488  Gradient Boosting\n",
       "10             sulphates      0.128230  Gradient Boosting\n",
       "11               alcohol      0.181911  Gradient Boosting\n",
       "12            _baseline_      0.492625  Gradient Boosting"
      ]
     },
     "execution_count": 39,
     "metadata": {},
     "output_type": "execute_result"
    }
   ],
   "source": [
    "fi = explainer.model_parts()\n",
    "fi.result"
   ]
  },
  {
   "cell_type": "code",
   "execution_count": 40,
   "metadata": {},
   "outputs": [
    {
     "data": {
      "application/vnd.plotly.v1+json": {
       "config": {
        "displaylogo": false,
        "modeBarButtonsToRemove": [
         "sendDataToCloud",
         "lasso2d",
         "autoScale2d",
         "select2d",
         "zoom2d",
         "pan2d",
         "zoomIn2d",
         "zoomOut2d",
         "resetScale2d",
         "toggleSpikelines",
         "hoverCompareCartesian",
         "hoverClosestCartesian"
        ],
        "plotlyServerURL": "https://plot.ly",
        "staticPlot": false,
        "toImageButtonOptions": {
         "height": null,
         "width": null
        }
       },
       "data": [
        {
         "base": 0.04371898835808914,
         "hoverinfo": "text",
         "hoverlabel": {
          "bgcolor": "rgba(0,0,0,0.8)"
         },
         "hovertext": [
          "Model: Gradient Boosting loss after<br>variable: alcohol is permuted: 0.182<br>Drop-out loss change: +0.138",
          "Model: Gradient Boosting loss after<br>variable: sulphates is permuted: 0.128<br>Drop-out loss change: +0.085",
          "Model: Gradient Boosting loss after<br>variable: total sulfur dioxide is permuted: 0.093<br>Drop-out loss change: +0.05",
          "Model: Gradient Boosting loss after<br>variable: volatile acidity is permuted: 0.079<br>Drop-out loss change: +0.035",
          "Model: Gradient Boosting loss after<br>variable: pH is permuted: 0.074<br>Drop-out loss change: +0.03",
          "Model: Gradient Boosting loss after<br>variable: chlorides is permuted: 0.065<br>Drop-out loss change: +0.022",
          "Model: Gradient Boosting loss after<br>variable: citric acid is permuted: 0.063<br>Drop-out loss change: +0.019",
          "Model: Gradient Boosting loss after<br>variable: fixed acidity is permuted: 0.06<br>Drop-out loss change: +0.016",
          "Model: Gradient Boosting loss after<br>variable: residual sugar is permuted: 0.056<br>Drop-out loss change: +0.012",
          "Model: Gradient Boosting loss after<br>variable: density is permuted: 0.052<br>Drop-out loss change: +0.009"
         ],
         "marker": {
          "color": "#46bac2"
         },
         "orientation": "h",
         "showlegend": false,
         "text": [
          "+0.138",
          "+0.085",
          "+0.05",
          "+0.035",
          "+0.03",
          "+0.022",
          "+0.019",
          "+0.016",
          "+0.012",
          "+0.009"
         ],
         "textposition": "outside",
         "type": "bar",
         "x": [
          0.13819229225210755,
          0.08451144118827776,
          0.049769169008430286,
          0.03483781613809715,
          0.030142513046969063,
          0.02172219991971093,
          0.018983942191890812,
          0.0160272982737856,
          0.012020875150541885,
          0.008533119229225193
         ],
         "xaxis": "x",
         "y": [
          "alcohol",
          "sulphates",
          "total sulfur dioxide",
          "volatile acidity",
          "pH",
          "chlorides",
          "citric acid",
          "fixed acidity",
          "residual sugar",
          "density"
         ],
         "yaxis": "y"
        }
       ],
       "layout": {
        "annotations": [
         {
          "font": {
           "size": 16
          },
          "showarrow": false,
          "text": "Gradient Boosting",
          "x": 0.5,
          "xanchor": "center",
          "xref": "paper",
          "y": 1,
          "yanchor": "bottom",
          "yref": "paper"
         },
         {
          "font": {
           "size": 16
          },
          "showarrow": false,
          "text": "drop-out loss",
          "x": 0.5,
          "xanchor": "center",
          "xref": "paper",
          "y": 0,
          "yanchor": "top",
          "yref": "paper",
          "yshift": -30
         }
        ],
        "font": {
         "color": "#371ea3"
        },
        "height": 383,
        "margin": {
         "b": 71,
         "r": 30,
         "t": 78
        },
        "shapes": [
         {
          "line": {
           "color": "#371ea3",
           "dash": "dot",
           "width": 1.5
          },
          "type": "line",
          "x0": 0.04371898835808914,
          "x1": 0.04371898835808914,
          "xref": "x",
          "y0": -1,
          "y1": 10,
          "yref": "y"
         }
        ],
        "template": {
         "data": {
          "scatter": [
           {
            "type": "scatter"
           }
          ]
         }
        },
        "title": {
         "text": "Variable Importance",
         "x": 0.15
        },
        "xaxis": {
         "anchor": "y",
         "automargin": true,
         "domain": [
          0,
          1
         ],
         "fixedrange": true,
         "gridwidth": 2,
         "range": [
          0.02299014452027301,
          0.20264012444801283
         ],
         "tickcolor": "white",
         "ticklen": 3,
         "ticks": "outside",
         "type": "linear",
         "zeroline": false
        },
        "yaxis": {
         "anchor": "x",
         "automargin": true,
         "autorange": "reversed",
         "domain": [
          0,
          1
         ],
         "fixedrange": true,
         "gridwidth": 2,
         "tickcolor": "white",
         "ticklen": 10,
         "ticks": "outside",
         "type": "category"
        }
       }
      },
      "text/html": [
       "<div>                            <div id=\"ccdf46ec-daaa-4414-99dd-c187bae22a59\" class=\"plotly-graph-div\" style=\"height:383.0px; width:100%;\"></div>            <script type=\"text/javascript\">                require([\"plotly\"], function(Plotly) {                    window.PLOTLYENV=window.PLOTLYENV || {};                                    if (document.getElementById(\"ccdf46ec-daaa-4414-99dd-c187bae22a59\")) {                    Plotly.newPlot(                        \"ccdf46ec-daaa-4414-99dd-c187bae22a59\",                        [{\"base\": 0.04371898835808914, \"hoverinfo\": \"text\", \"hoverlabel\": {\"bgcolor\": \"rgba(0,0,0,0.8)\"}, \"hovertext\": [\"Model: Gradient Boosting loss after<br>variable: alcohol is permuted: 0.182<br>Drop-out loss change: +0.138\", \"Model: Gradient Boosting loss after<br>variable: sulphates is permuted: 0.128<br>Drop-out loss change: +0.085\", \"Model: Gradient Boosting loss after<br>variable: total sulfur dioxide is permuted: 0.093<br>Drop-out loss change: +0.05\", \"Model: Gradient Boosting loss after<br>variable: volatile acidity is permuted: 0.079<br>Drop-out loss change: +0.035\", \"Model: Gradient Boosting loss after<br>variable: pH is permuted: 0.074<br>Drop-out loss change: +0.03\", \"Model: Gradient Boosting loss after<br>variable: chlorides is permuted: 0.065<br>Drop-out loss change: +0.022\", \"Model: Gradient Boosting loss after<br>variable: citric acid is permuted: 0.063<br>Drop-out loss change: +0.019\", \"Model: Gradient Boosting loss after<br>variable: fixed acidity is permuted: 0.06<br>Drop-out loss change: +0.016\", \"Model: Gradient Boosting loss after<br>variable: residual sugar is permuted: 0.056<br>Drop-out loss change: +0.012\", \"Model: Gradient Boosting loss after<br>variable: density is permuted: 0.052<br>Drop-out loss change: +0.009\"], \"marker\": {\"color\": \"#46bac2\"}, \"orientation\": \"h\", \"showlegend\": false, \"text\": [\"+0.138\", \"+0.085\", \"+0.05\", \"+0.035\", \"+0.03\", \"+0.022\", \"+0.019\", \"+0.016\", \"+0.012\", \"+0.009\"], \"textposition\": \"outside\", \"type\": \"bar\", \"x\": [0.13819229225210755, 0.08451144118827776, 0.049769169008430286, 0.03483781613809715, 0.030142513046969063, 0.02172219991971093, 0.018983942191890812, 0.0160272982737856, 0.012020875150541885, 0.008533119229225193], \"xaxis\": \"x\", \"y\": [\"alcohol\", \"sulphates\", \"total sulfur dioxide\", \"volatile acidity\", \"pH\", \"chlorides\", \"citric acid\", \"fixed acidity\", \"residual sugar\", \"density\"], \"yaxis\": \"y\"}],                        {\"annotations\": [{\"font\": {\"size\": 16}, \"showarrow\": false, \"text\": \"Gradient Boosting\", \"x\": 0.5, \"xanchor\": \"center\", \"xref\": \"paper\", \"y\": 1.0, \"yanchor\": \"bottom\", \"yref\": \"paper\"}, {\"font\": {\"size\": 16}, \"showarrow\": false, \"text\": \"drop-out loss\", \"x\": 0.5, \"xanchor\": \"center\", \"xref\": \"paper\", \"y\": 0, \"yanchor\": \"top\", \"yref\": \"paper\", \"yshift\": -30}], \"font\": {\"color\": \"#371ea3\"}, \"height\": 383.0, \"margin\": {\"b\": 71, \"r\": 30, \"t\": 78}, \"shapes\": [{\"line\": {\"color\": \"#371ea3\", \"dash\": \"dot\", \"width\": 1.5}, \"type\": \"line\", \"x0\": 0.04371898835808914, \"x1\": 0.04371898835808914, \"xref\": \"x\", \"y0\": -1, \"y1\": 10, \"yref\": \"y\"}], \"template\": {\"data\": {\"scatter\": [{\"type\": \"scatter\"}]}}, \"title\": {\"text\": \"Variable Importance\", \"x\": 0.15}, \"xaxis\": {\"anchor\": \"y\", \"automargin\": true, \"domain\": [0.0, 1.0], \"fixedrange\": true, \"gridwidth\": 2, \"range\": [0.02299014452027301, 0.20264012444801283], \"tickcolor\": \"white\", \"ticklen\": 3, \"ticks\": \"outside\", \"type\": \"linear\", \"zeroline\": false}, \"yaxis\": {\"anchor\": \"x\", \"automargin\": true, \"autorange\": \"reversed\", \"domain\": [0.0, 1.0], \"fixedrange\": true, \"gridwidth\": 2, \"tickcolor\": \"white\", \"ticklen\": 10, \"ticks\": \"outside\", \"type\": \"category\"}},                        {\"displaylogo\": false, \"staticPlot\": false, \"toImageButtonOptions\": {\"height\": null, \"width\": null}, \"modeBarButtonsToRemove\": [\"sendDataToCloud\", \"lasso2d\", \"autoScale2d\", \"select2d\", \"zoom2d\", \"pan2d\", \"zoomIn2d\", \"zoomOut2d\", \"resetScale2d\", \"toggleSpikelines\", \"hoverCompareCartesian\", \"hoverClosestCartesian\"], \"responsive\": true}                    ).then(function(){\n",
       "                            \n",
       "var gd = document.getElementById('ccdf46ec-daaa-4414-99dd-c187bae22a59');\n",
       "var x = new MutationObserver(function (mutations, observer) {{\n",
       "        var display = window.getComputedStyle(gd).display;\n",
       "        if (!display || display === 'none') {{\n",
       "            console.log([gd, 'removed!']);\n",
       "            Plotly.purge(gd);\n",
       "            observer.disconnect();\n",
       "        }}\n",
       "}});\n",
       "\n",
       "// Listen for the removal of the full notebook cells\n",
       "var notebookContainer = gd.closest('#notebook-container');\n",
       "if (notebookContainer) {{\n",
       "    x.observe(notebookContainer, {childList: true});\n",
       "}}\n",
       "\n",
       "// Listen for the clearing of the current output cell\n",
       "var outputEl = gd.closest('.output');\n",
       "if (outputEl) {{\n",
       "    x.observe(outputEl, {childList: true});\n",
       "}}\n",
       "\n",
       "                        })                };                });            </script>        </div>"
      ]
     },
     "metadata": {},
     "output_type": "display_data"
    }
   ],
   "source": [
    "fi.plot()"
   ]
  },
  {
   "cell_type": "markdown",
   "metadata": {},
   "source": [
    "O proszę!!\n",
    "\n",
    "🍷 Wyniki dosyć podobne.\n",
    "\n",
    "🍷 Można zaobserwować wyraźnie większą dominację alkoholu - dobrze dla naszej pracy badawczej\n",
    "\n",
    "🍷 Miejsca trzecie i czwarte zamienione miejscami - dla kwasowości lotnej wartość już niewiele odbiegająca od bloku miejsc 5-10.\n",
    "\n",
    "🍷 To samo bottom 2 i pozycje 6-8. Jest podobnie, ale jednak nieco inaczej --> widać, że inne modele."
   ]
  },
  {
   "cell_type": "markdown",
   "metadata": {},
   "source": [
    "Może chociaż dla lasów losowych będzie do zaobserwowania jeszcze większe odstępstwo? Obstawiam, że jednak ich większa prostota zaowocuje wyraźnymi różnicami w stosunku do dwóch wcześniej wygenerowanych wykresów."
   ]
  },
  {
   "cell_type": "markdown",
   "metadata": {},
   "source": [
    "### Random forest"
   ]
  },
  {
   "cell_type": "code",
   "execution_count": 42,
   "metadata": {},
   "outputs": [
    {
     "data": {
      "text/plain": [
       "RandomForestClassifier()"
      ]
     },
     "execution_count": 42,
     "metadata": {},
     "output_type": "execute_result"
    }
   ],
   "source": [
    "rf = RandomForestClassifier()\n",
    "rf.fit(X_train, y_train)"
   ]
  },
  {
   "cell_type": "code",
   "execution_count": 44,
   "metadata": {},
   "outputs": [
    {
     "name": "stdout",
     "output_type": "stream",
     "text": [
      "Preparation of a new explainer is initiated\n",
      "\n",
      "  -> data              : 1199 rows 11 cols\n",
      "  -> target variable   : Parameter 'y' was a pandas.Series. Converted to a numpy.ndarray.\n",
      "  -> target variable   : 1199 values\n",
      "  -> model_class       : sklearn.ensemble._forest.RandomForestClassifier (default)\n",
      "  -> label             : Random Forest\n",
      "  -> predict function  : <function yhat_proba_default at 0x00000297ABE47B80> will be used (default)\n",
      "  -> predict function  : Accepts pandas.DataFrame and numpy.ndarray.\n",
      "  -> predicted values  : min = 0.0, mean = 0.534, max = 1.0\n",
      "  -> model type        : classification will be used (default)\n",
      "  -> residual function : difference between y and yhat (default)\n",
      "  -> residuals         : min = -0.41, mean = 0.000509, max = 0.45\n",
      "  -> model_info        : package sklearn\n",
      "\n",
      "A new explainer has been created!\n"
     ]
    }
   ],
   "source": [
    "explainer = dx.Explainer(rf, X_train, y_train, label = \"Random Forest\")"
   ]
  },
  {
   "cell_type": "code",
   "execution_count": 45,
   "metadata": {},
   "outputs": [
    {
     "data": {
      "text/html": [
       "<div>\n",
       "<style scoped>\n",
       "    .dataframe tbody tr th:only-of-type {\n",
       "        vertical-align: middle;\n",
       "    }\n",
       "\n",
       "    .dataframe tbody tr th {\n",
       "        vertical-align: top;\n",
       "    }\n",
       "\n",
       "    .dataframe thead th {\n",
       "        text-align: right;\n",
       "    }\n",
       "</style>\n",
       "<table border=\"1\" class=\"dataframe\">\n",
       "  <thead>\n",
       "    <tr style=\"text-align: right;\">\n",
       "      <th></th>\n",
       "      <th>variable</th>\n",
       "      <th>dropout_loss</th>\n",
       "      <th>label</th>\n",
       "    </tr>\n",
       "  </thead>\n",
       "  <tbody>\n",
       "    <tr>\n",
       "      <th>0</th>\n",
       "      <td>_full_model_</td>\n",
       "      <td>0.000000</td>\n",
       "      <td>Random Forest</td>\n",
       "    </tr>\n",
       "    <tr>\n",
       "      <th>1</th>\n",
       "      <td>residual sugar</td>\n",
       "      <td>0.000207</td>\n",
       "      <td>Random Forest</td>\n",
       "    </tr>\n",
       "    <tr>\n",
       "      <th>2</th>\n",
       "      <td>free sulfur dioxide</td>\n",
       "      <td>0.000208</td>\n",
       "      <td>Random Forest</td>\n",
       "    </tr>\n",
       "    <tr>\n",
       "      <th>3</th>\n",
       "      <td>fixed acidity</td>\n",
       "      <td>0.000369</td>\n",
       "      <td>Random Forest</td>\n",
       "    </tr>\n",
       "    <tr>\n",
       "      <th>4</th>\n",
       "      <td>pH</td>\n",
       "      <td>0.000385</td>\n",
       "      <td>Random Forest</td>\n",
       "    </tr>\n",
       "    <tr>\n",
       "      <th>5</th>\n",
       "      <td>citric acid</td>\n",
       "      <td>0.001197</td>\n",
       "      <td>Random Forest</td>\n",
       "    </tr>\n",
       "    <tr>\n",
       "      <th>6</th>\n",
       "      <td>density</td>\n",
       "      <td>0.001737</td>\n",
       "      <td>Random Forest</td>\n",
       "    </tr>\n",
       "    <tr>\n",
       "      <th>7</th>\n",
       "      <td>chlorides</td>\n",
       "      <td>0.002751</td>\n",
       "      <td>Random Forest</td>\n",
       "    </tr>\n",
       "    <tr>\n",
       "      <th>8</th>\n",
       "      <td>volatile acidity</td>\n",
       "      <td>0.011283</td>\n",
       "      <td>Random Forest</td>\n",
       "    </tr>\n",
       "    <tr>\n",
       "      <th>9</th>\n",
       "      <td>total sulfur dioxide</td>\n",
       "      <td>0.011728</td>\n",
       "      <td>Random Forest</td>\n",
       "    </tr>\n",
       "    <tr>\n",
       "      <th>10</th>\n",
       "      <td>sulphates</td>\n",
       "      <td>0.044560</td>\n",
       "      <td>Random Forest</td>\n",
       "    </tr>\n",
       "    <tr>\n",
       "      <th>11</th>\n",
       "      <td>alcohol</td>\n",
       "      <td>0.055210</td>\n",
       "      <td>Random Forest</td>\n",
       "    </tr>\n",
       "    <tr>\n",
       "      <th>12</th>\n",
       "      <td>_baseline_</td>\n",
       "      <td>0.495718</td>\n",
       "      <td>Random Forest</td>\n",
       "    </tr>\n",
       "  </tbody>\n",
       "</table>\n",
       "</div>"
      ],
      "text/plain": [
       "                variable  dropout_loss          label\n",
       "0           _full_model_      0.000000  Random Forest\n",
       "1         residual sugar      0.000207  Random Forest\n",
       "2    free sulfur dioxide      0.000208  Random Forest\n",
       "3          fixed acidity      0.000369  Random Forest\n",
       "4                     pH      0.000385  Random Forest\n",
       "5            citric acid      0.001197  Random Forest\n",
       "6                density      0.001737  Random Forest\n",
       "7              chlorides      0.002751  Random Forest\n",
       "8       volatile acidity      0.011283  Random Forest\n",
       "9   total sulfur dioxide      0.011728  Random Forest\n",
       "10             sulphates      0.044560  Random Forest\n",
       "11               alcohol      0.055210  Random Forest\n",
       "12            _baseline_      0.495718  Random Forest"
      ]
     },
     "execution_count": 45,
     "metadata": {},
     "output_type": "execute_result"
    }
   ],
   "source": [
    "fi = explainer.model_parts()\n",
    "fi.result"
   ]
  },
  {
   "cell_type": "code",
   "execution_count": 46,
   "metadata": {},
   "outputs": [
    {
     "data": {
      "application/vnd.plotly.v1+json": {
       "config": {
        "displaylogo": false,
        "modeBarButtonsToRemove": [
         "sendDataToCloud",
         "lasso2d",
         "autoScale2d",
         "select2d",
         "zoom2d",
         "pan2d",
         "zoomIn2d",
         "zoomOut2d",
         "resetScale2d",
         "toggleSpikelines",
         "hoverCompareCartesian",
         "hoverClosestCartesian"
        ],
        "plotlyServerURL": "https://plot.ly",
        "staticPlot": false,
        "toImageButtonOptions": {
         "height": null,
         "width": null
        }
       },
       "data": [
        {
         "base": 0,
         "hoverinfo": "text",
         "hoverlabel": {
          "bgcolor": "rgba(0,0,0,0.8)"
         },
         "hovertext": [
          "Model: Random Forest loss after<br>variable: alcohol is permuted: 0.055<br>Drop-out loss change: +0.055",
          "Model: Random Forest loss after<br>variable: sulphates is permuted: 0.045<br>Drop-out loss change: +0.045",
          "Model: Random Forest loss after<br>variable: total sulfur dioxide is permuted: 0.012<br>Drop-out loss change: +0.012",
          "Model: Random Forest loss after<br>variable: volatile acidity is permuted: 0.011<br>Drop-out loss change: +0.011",
          "Model: Random Forest loss after<br>variable: chlorides is permuted: 0.003<br>Drop-out loss change: +0.003",
          "Model: Random Forest loss after<br>variable: density is permuted: 0.002<br>Drop-out loss change: +0.002",
          "Model: Random Forest loss after<br>variable: citric acid is permuted: 0.001<br>Drop-out loss change: +0.001",
          "Model: Random Forest loss after<br>variable: pH is permuted: 0.0<br>Drop-out loss change: +0.0",
          "Model: Random Forest loss after<br>variable: fixed acidity is permuted: 0.0<br>Drop-out loss change: +0.0",
          "Model: Random Forest loss after<br>variable: free sulfur dioxide is permuted: 0.0<br>Drop-out loss change: +0.0"
         ],
         "marker": {
          "color": "#46bac2"
         },
         "orientation": "h",
         "showlegend": false,
         "text": [
          "+0.055",
          "+0.045",
          "+0.012",
          "+0.011",
          "+0.003",
          "+0.002",
          "+0.001",
          "+0.0",
          "+0.0",
          "+0.0"
         ],
         "textposition": "outside",
         "type": "bar",
         "x": [
          0.05520995584102769,
          0.04456041750301085,
          0.011727820152549095,
          0.01128301886792451,
          0.0027511039743074563,
          0.0017374548374145982,
          0.0011967081493375552,
          0.0003849859494178376,
          0.00036932958651139105,
          0.00020754716981126188
         ],
         "xaxis": "x",
         "y": [
          "alcohol",
          "sulphates",
          "total sulfur dioxide",
          "volatile acidity",
          "chlorides",
          "density",
          "citric acid",
          "pH",
          "fixed acidity",
          "free sulfur dioxide"
         ],
         "yaxis": "y"
        }
       ],
       "layout": {
        "annotations": [
         {
          "font": {
           "size": 16
          },
          "showarrow": false,
          "text": "Random Forest",
          "x": 0.5,
          "xanchor": "center",
          "xref": "paper",
          "y": 1,
          "yanchor": "bottom",
          "yref": "paper"
         },
         {
          "font": {
           "size": 16
          },
          "showarrow": false,
          "text": "drop-out loss",
          "x": 0.5,
          "xanchor": "center",
          "xref": "paper",
          "y": 0,
          "yanchor": "top",
          "yref": "paper",
          "yshift": -30
         }
        ],
        "font": {
         "color": "#371ea3"
        },
        "height": 383,
        "margin": {
         "b": 71,
         "r": 30,
         "t": 78
        },
        "shapes": [
         {
          "line": {
           "color": "#371ea3",
           "dash": "dot",
           "width": 1.5
          },
          "type": "line",
          "x0": 0,
          "x1": 0,
          "xref": "x",
          "y0": -1,
          "y1": 10,
          "yref": "y"
         }
        ],
        "template": {
         "data": {
          "scatter": [
           {
            "type": "scatter"
           }
          ]
         }
        },
        "title": {
         "text": "Variable Importance",
         "x": 0.15
        },
        "xaxis": {
         "anchor": "y",
         "automargin": true,
         "domain": [
          0,
          1
         ],
         "fixedrange": true,
         "gridwidth": 2,
         "range": [
          -0.008281493376154154,
          0.06349144921718185
         ],
         "tickcolor": "white",
         "ticklen": 3,
         "ticks": "outside",
         "type": "linear",
         "zeroline": false
        },
        "yaxis": {
         "anchor": "x",
         "automargin": true,
         "autorange": "reversed",
         "domain": [
          0,
          1
         ],
         "fixedrange": true,
         "gridwidth": 2,
         "tickcolor": "white",
         "ticklen": 10,
         "ticks": "outside",
         "type": "category"
        }
       }
      },
      "text/html": [
       "<div>                            <div id=\"ff77d9c3-fef2-4edc-89b3-783f489c32e1\" class=\"plotly-graph-div\" style=\"height:383.0px; width:100%;\"></div>            <script type=\"text/javascript\">                require([\"plotly\"], function(Plotly) {                    window.PLOTLYENV=window.PLOTLYENV || {};                                    if (document.getElementById(\"ff77d9c3-fef2-4edc-89b3-783f489c32e1\")) {                    Plotly.newPlot(                        \"ff77d9c3-fef2-4edc-89b3-783f489c32e1\",                        [{\"base\": 0.0, \"hoverinfo\": \"text\", \"hoverlabel\": {\"bgcolor\": \"rgba(0,0,0,0.8)\"}, \"hovertext\": [\"Model: Random Forest loss after<br>variable: alcohol is permuted: 0.055<br>Drop-out loss change: +0.055\", \"Model: Random Forest loss after<br>variable: sulphates is permuted: 0.045<br>Drop-out loss change: +0.045\", \"Model: Random Forest loss after<br>variable: total sulfur dioxide is permuted: 0.012<br>Drop-out loss change: +0.012\", \"Model: Random Forest loss after<br>variable: volatile acidity is permuted: 0.011<br>Drop-out loss change: +0.011\", \"Model: Random Forest loss after<br>variable: chlorides is permuted: 0.003<br>Drop-out loss change: +0.003\", \"Model: Random Forest loss after<br>variable: density is permuted: 0.002<br>Drop-out loss change: +0.002\", \"Model: Random Forest loss after<br>variable: citric acid is permuted: 0.001<br>Drop-out loss change: +0.001\", \"Model: Random Forest loss after<br>variable: pH is permuted: 0.0<br>Drop-out loss change: +0.0\", \"Model: Random Forest loss after<br>variable: fixed acidity is permuted: 0.0<br>Drop-out loss change: +0.0\", \"Model: Random Forest loss after<br>variable: free sulfur dioxide is permuted: 0.0<br>Drop-out loss change: +0.0\"], \"marker\": {\"color\": \"#46bac2\"}, \"orientation\": \"h\", \"showlegend\": false, \"text\": [\"+0.055\", \"+0.045\", \"+0.012\", \"+0.011\", \"+0.003\", \"+0.002\", \"+0.001\", \"+0.0\", \"+0.0\", \"+0.0\"], \"textposition\": \"outside\", \"type\": \"bar\", \"x\": [0.05520995584102769, 0.04456041750301085, 0.011727820152549095, 0.01128301886792451, 0.0027511039743074563, 0.0017374548374145982, 0.0011967081493375552, 0.0003849859494178376, 0.00036932958651139105, 0.00020754716981126188], \"xaxis\": \"x\", \"y\": [\"alcohol\", \"sulphates\", \"total sulfur dioxide\", \"volatile acidity\", \"chlorides\", \"density\", \"citric acid\", \"pH\", \"fixed acidity\", \"free sulfur dioxide\"], \"yaxis\": \"y\"}],                        {\"annotations\": [{\"font\": {\"size\": 16}, \"showarrow\": false, \"text\": \"Random Forest\", \"x\": 0.5, \"xanchor\": \"center\", \"xref\": \"paper\", \"y\": 1.0, \"yanchor\": \"bottom\", \"yref\": \"paper\"}, {\"font\": {\"size\": 16}, \"showarrow\": false, \"text\": \"drop-out loss\", \"x\": 0.5, \"xanchor\": \"center\", \"xref\": \"paper\", \"y\": 0, \"yanchor\": \"top\", \"yref\": \"paper\", \"yshift\": -30}], \"font\": {\"color\": \"#371ea3\"}, \"height\": 383.0, \"margin\": {\"b\": 71, \"r\": 30, \"t\": 78}, \"shapes\": [{\"line\": {\"color\": \"#371ea3\", \"dash\": \"dot\", \"width\": 1.5}, \"type\": \"line\", \"x0\": 0.0, \"x1\": 0.0, \"xref\": \"x\", \"y0\": -1, \"y1\": 10, \"yref\": \"y\"}], \"template\": {\"data\": {\"scatter\": [{\"type\": \"scatter\"}]}}, \"title\": {\"text\": \"Variable Importance\", \"x\": 0.15}, \"xaxis\": {\"anchor\": \"y\", \"automargin\": true, \"domain\": [0.0, 1.0], \"fixedrange\": true, \"gridwidth\": 2, \"range\": [-0.008281493376154154, 0.06349144921718185], \"tickcolor\": \"white\", \"ticklen\": 3, \"ticks\": \"outside\", \"type\": \"linear\", \"zeroline\": false}, \"yaxis\": {\"anchor\": \"x\", \"automargin\": true, \"autorange\": \"reversed\", \"domain\": [0.0, 1.0], \"fixedrange\": true, \"gridwidth\": 2, \"tickcolor\": \"white\", \"ticklen\": 10, \"ticks\": \"outside\", \"type\": \"category\"}},                        {\"displaylogo\": false, \"staticPlot\": false, \"toImageButtonOptions\": {\"height\": null, \"width\": null}, \"modeBarButtonsToRemove\": [\"sendDataToCloud\", \"lasso2d\", \"autoScale2d\", \"select2d\", \"zoom2d\", \"pan2d\", \"zoomIn2d\", \"zoomOut2d\", \"resetScale2d\", \"toggleSpikelines\", \"hoverCompareCartesian\", \"hoverClosestCartesian\"], \"responsive\": true}                    ).then(function(){\n",
       "                            \n",
       "var gd = document.getElementById('ff77d9c3-fef2-4edc-89b3-783f489c32e1');\n",
       "var x = new MutationObserver(function (mutations, observer) {{\n",
       "        var display = window.getComputedStyle(gd).display;\n",
       "        if (!display || display === 'none') {{\n",
       "            console.log([gd, 'removed!']);\n",
       "            Plotly.purge(gd);\n",
       "            observer.disconnect();\n",
       "        }}\n",
       "}});\n",
       "\n",
       "// Listen for the removal of the full notebook cells\n",
       "var notebookContainer = gd.closest('#notebook-container');\n",
       "if (notebookContainer) {{\n",
       "    x.observe(notebookContainer, {childList: true});\n",
       "}}\n",
       "\n",
       "// Listen for the clearing of the current output cell\n",
       "var outputEl = gd.closest('.output');\n",
       "if (outputEl) {{\n",
       "    x.observe(outputEl, {childList: true});\n",
       "}}\n",
       "\n",
       "                        })                };                });            </script>        </div>"
      ]
     },
     "metadata": {},
     "output_type": "display_data"
    }
   ],
   "source": [
    "fi.plot()"
   ]
  },
  {
   "cell_type": "markdown",
   "metadata": {},
   "source": [
    "🍷 Zgodnie z oczekiwaniami output dla lasów losowych już kompletnie inny.\n",
    "\n",
    "🍷 W odwóżnieniu do wcześniejszych dwóch bardziej zaawansowanych modeli - tu zero wpływu na wynik ze strony trzech zmiennych.\n",
    "\n",
    "🍷 Co szokuje tym bardziej - jedna z nich, wskaźnik pH - dla głównego modelu *XGBoost* okazała się według tej metody szóstą najważniejszą, zaś patrząc na najprostszą formę *Gradient Boostingu* - aż piątą!\n",
    "\n",
    "🍷 TOP 2 bez zmian. Tutaj modelem *XGBoost-a* - przy nie jakiejś znaczącej różnicy. Tu jednak ich dominacja nad innymi jest zdecydowanie największa.\n",
    "\n",
    "🍷 To samo z trzecią i czwartą najważniejszą zmienną (przymykając oko na ich kolejność).\n",
    "\n",
    "🍷 Gęstość, kwas cytrynowy i sole okazały się mieć niezerowy, ale bardzo niski wkład na efekt algorytmu - wartości najmniejsze porównując z wcześniejszymi dwoma modelami."
   ]
  },
  {
   "cell_type": "markdown",
   "metadata": {},
   "source": [
    "### Podsumowując"
   ]
  },
  {
   "cell_type": "markdown",
   "metadata": {},
   "source": [
    "🍷 Kolejna fajna metoda!\n",
    "\n",
    "🍷 Największa zaleta - przejrzystość i oczywistość.\n",
    "\n",
    "🍷 Największa wada - co w sumie trochę jest związane z zaletą, ale jednak: brak wiedzy skąd te wartości.. niewiadoma.\n",
    "    \n",
    "🍷 Satysfakcjonujące wyniki porównując trzy modele. Zgodnie z oczekiwaniami *XGBoost* i *Gradient Boosting* okazały się mieć nieco bliższe współczynniki między sobą niż z jednak bardziej prymitywnym *Random Forest*. Widać też specyfikacje owych rozwiązań - dla pierwszych dwóch każda kolumna miała jednak jakiś wpływ, zaś dla lasów losowych wyszło szydło z worka w kwestii złożoności końcowo uzyskanego algorytmu. Pociesza, że ważności zmiennych są w miarę spójne między sobą, niezależnie od rozwiązania [przynajmniej w ciele owych pierwszych-lepszych trzech rozwiązań niegłupich]."
   ]
  }
 ],
 "metadata": {
  "kernelspec": {
   "display_name": "Python 3",
   "language": "python",
   "name": "python3"
  },
  "language_info": {
   "codemirror_mode": {
    "name": "ipython",
    "version": 3
   },
   "file_extension": ".py",
   "mimetype": "text/x-python",
   "name": "python",
   "nbconvert_exporter": "python",
   "pygments_lexer": "ipython3",
   "version": "3.9.0"
  }
 },
 "nbformat": 4,
 "nbformat_minor": 4
}
