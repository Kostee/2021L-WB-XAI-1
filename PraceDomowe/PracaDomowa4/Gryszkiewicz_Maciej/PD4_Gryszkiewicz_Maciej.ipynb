{
 "cells": [
  {
   "cell_type": "markdown",
   "id": "thrown-buddy",
   "metadata": {},
   "source": [
    "# Praca Domowa 4\n",
    "## Maciej Gryszkiewicz"
   ]
  },
  {
   "cell_type": "code",
   "execution_count": 1,
   "id": "vulnerable-confirmation",
   "metadata": {},
   "outputs": [],
   "source": [
    "import dalex as dx\n",
    "import pandas as pd\n",
    "import numpy as np\n",
    "import pickle\n",
    "\n",
    "import warnings\n",
    "warnings.filterwarnings(\"ignore\")"
   ]
  },
  {
   "cell_type": "code",
   "execution_count": 10,
   "id": "medium-combining",
   "metadata": {},
   "outputs": [],
   "source": [
    "xgb = pickle.load(open(\"xgb.pickle\", \"rb\"))\n",
    "mlp = pickle.load(open(\"mlp.pickle\", \"rb\"))\n",
    "svr = pickle.load(open(\"svr.pickle\", \"rb\"))"
   ]
  },
  {
   "cell_type": "code",
   "execution_count": 6,
   "id": "above-arrow",
   "metadata": {},
   "outputs": [],
   "source": [
    "df = pd.read_csv('housing_preprocessed.csv').rename(columns={\"<1H OCEAN\" : \"1H OCEAN\"})"
   ]
  },
  {
   "cell_type": "code",
   "execution_count": 7,
   "id": "seeing-volunteer",
   "metadata": {
    "scrolled": true
   },
   "outputs": [
    {
     "data": {
      "text/html": [
       "<div>\n",
       "<style scoped>\n",
       "    .dataframe tbody tr th:only-of-type {\n",
       "        vertical-align: middle;\n",
       "    }\n",
       "\n",
       "    .dataframe tbody tr th {\n",
       "        vertical-align: top;\n",
       "    }\n",
       "\n",
       "    .dataframe thead th {\n",
       "        text-align: right;\n",
       "    }\n",
       "</style>\n",
       "<table border=\"1\" class=\"dataframe\">\n",
       "  <thead>\n",
       "    <tr style=\"text-align: right;\">\n",
       "      <th></th>\n",
       "      <th>longitude</th>\n",
       "      <th>latitude</th>\n",
       "      <th>housing_median_age</th>\n",
       "      <th>total_bedrooms</th>\n",
       "      <th>population</th>\n",
       "      <th>households</th>\n",
       "      <th>median_income</th>\n",
       "      <th>1H OCEAN</th>\n",
       "      <th>INLAND</th>\n",
       "      <th>NEAR BAY</th>\n",
       "      <th>NEAR OCEAN</th>\n",
       "      <th>rooms_per_household</th>\n",
       "      <th>median_house_value</th>\n",
       "    </tr>\n",
       "  </thead>\n",
       "  <tbody>\n",
       "    <tr>\n",
       "      <th>0</th>\n",
       "      <td>0.211155</td>\n",
       "      <td>0.567481</td>\n",
       "      <td>0.784314</td>\n",
       "      <td>0.019711</td>\n",
       "      <td>0.008941</td>\n",
       "      <td>0.020395</td>\n",
       "      <td>0.539668</td>\n",
       "      <td>0.0</td>\n",
       "      <td>0.0</td>\n",
       "      <td>1.0</td>\n",
       "      <td>0.0</td>\n",
       "      <td>0.046610</td>\n",
       "      <td>452600.0</td>\n",
       "    </tr>\n",
       "    <tr>\n",
       "      <th>1</th>\n",
       "      <td>0.212151</td>\n",
       "      <td>0.565356</td>\n",
       "      <td>0.392157</td>\n",
       "      <td>0.171349</td>\n",
       "      <td>0.067210</td>\n",
       "      <td>0.186842</td>\n",
       "      <td>0.538027</td>\n",
       "      <td>0.0</td>\n",
       "      <td>0.0</td>\n",
       "      <td>1.0</td>\n",
       "      <td>0.0</td>\n",
       "      <td>0.040945</td>\n",
       "      <td>358500.0</td>\n",
       "    </tr>\n",
       "    <tr>\n",
       "      <th>2</th>\n",
       "      <td>0.210159</td>\n",
       "      <td>0.564293</td>\n",
       "      <td>1.000000</td>\n",
       "      <td>0.029179</td>\n",
       "      <td>0.013818</td>\n",
       "      <td>0.028783</td>\n",
       "      <td>0.466028</td>\n",
       "      <td>0.0</td>\n",
       "      <td>0.0</td>\n",
       "      <td>1.0</td>\n",
       "      <td>0.0</td>\n",
       "      <td>0.056513</td>\n",
       "      <td>352100.0</td>\n",
       "    </tr>\n",
       "    <tr>\n",
       "      <th>3</th>\n",
       "      <td>0.209163</td>\n",
       "      <td>0.564293</td>\n",
       "      <td>1.000000</td>\n",
       "      <td>0.036163</td>\n",
       "      <td>0.015555</td>\n",
       "      <td>0.035691</td>\n",
       "      <td>0.354699</td>\n",
       "      <td>0.0</td>\n",
       "      <td>0.0</td>\n",
       "      <td>1.0</td>\n",
       "      <td>0.0</td>\n",
       "      <td>0.037750</td>\n",
       "      <td>341300.0</td>\n",
       "    </tr>\n",
       "    <tr>\n",
       "      <th>4</th>\n",
       "      <td>0.209163</td>\n",
       "      <td>0.564293</td>\n",
       "      <td>1.000000</td>\n",
       "      <td>0.043148</td>\n",
       "      <td>0.015752</td>\n",
       "      <td>0.042270</td>\n",
       "      <td>0.230776</td>\n",
       "      <td>0.0</td>\n",
       "      <td>0.0</td>\n",
       "      <td>1.0</td>\n",
       "      <td>0.0</td>\n",
       "      <td>0.041277</td>\n",
       "      <td>342200.0</td>\n",
       "    </tr>\n",
       "  </tbody>\n",
       "</table>\n",
       "</div>"
      ],
      "text/plain": [
       "   longitude  latitude  housing_median_age  total_bedrooms  population  \\\n",
       "0   0.211155  0.567481            0.784314        0.019711    0.008941   \n",
       "1   0.212151  0.565356            0.392157        0.171349    0.067210   \n",
       "2   0.210159  0.564293            1.000000        0.029179    0.013818   \n",
       "3   0.209163  0.564293            1.000000        0.036163    0.015555   \n",
       "4   0.209163  0.564293            1.000000        0.043148    0.015752   \n",
       "\n",
       "   households  median_income  1H OCEAN  INLAND  NEAR BAY  NEAR OCEAN  \\\n",
       "0    0.020395       0.539668       0.0     0.0       1.0         0.0   \n",
       "1    0.186842       0.538027       0.0     0.0       1.0         0.0   \n",
       "2    0.028783       0.466028       0.0     0.0       1.0         0.0   \n",
       "3    0.035691       0.354699       0.0     0.0       1.0         0.0   \n",
       "4    0.042270       0.230776       0.0     0.0       1.0         0.0   \n",
       "\n",
       "   rooms_per_household  median_house_value  \n",
       "0             0.046610            452600.0  \n",
       "1             0.040945            358500.0  \n",
       "2             0.056513            352100.0  \n",
       "3             0.037750            341300.0  \n",
       "4             0.041277            342200.0  "
      ]
     },
     "execution_count": 7,
     "metadata": {},
     "output_type": "execute_result"
    }
   ],
   "source": [
    "df.head()"
   ]
  },
  {
   "cell_type": "code",
   "execution_count": 15,
   "id": "arranged-acquisition",
   "metadata": {},
   "outputs": [],
   "source": [
    "X = df.drop([\"median_house_value\"], axis=1)\n",
    "y = df[[\"median_house_value\"]]"
   ]
  },
  {
   "cell_type": "code",
   "execution_count": 26,
   "id": "peripheral-huntington",
   "metadata": {
    "scrolled": false
   },
   "outputs": [
    {
     "name": "stdout",
     "output_type": "stream",
     "text": [
      "Preparation of a new explainer is initiated\n",
      "\n",
      "  -> data              : 19643 rows 12 cols\n",
      "  -> target variable   : Parameter 'y' was a pandas.DataFrame. Converted to a numpy.ndarray.\n",
      "  -> target variable   : 19643 values\n",
      "  -> model_class       : xgboost.sklearn.XGBRegressor (default)\n",
      "  -> label             : Not specified, model's class short name will be used. (default)\n",
      "  -> predict function  : <function yhat_default at 0x000001D2FFD9AD30> will be used (default)\n",
      "  -> predict function  : Accepts only pandas.DataFrame, numpy.ndarray causes problems.\n",
      "  -> predicted values  : min = 2.73e+04, mean = 1.92e+05, max = 4.59e+05\n",
      "  -> model type        : regression will be used (default)\n",
      "  -> residual function : difference between y and yhat (default)\n",
      "  -> residuals         : min = -2.45e+05, mean = -1.54e+02, max = 3.06e+05\n",
      "  -> model_info        : package xgboost\n",
      "\n",
      "A new explainer has been created!\n"
     ]
    },
    {
     "data": {
      "application/vnd.plotly.v1+json": {
       "config": {
        "displaylogo": false,
        "modeBarButtonsToRemove": [
         "sendDataToCloud",
         "lasso2d",
         "autoScale2d",
         "select2d",
         "zoom2d",
         "pan2d",
         "zoomIn2d",
         "zoomOut2d",
         "resetScale2d",
         "toggleSpikelines",
         "hoverCompareCartesian",
         "hoverClosestCartesian"
        ],
        "plotlyServerURL": "https://plot.ly",
        "staticPlot": false,
        "toImageButtonOptions": {
         "height": null,
         "width": null
        }
       },
       "data": [
        {
         "base": 44364.410552650625,
         "hoverinfo": "text",
         "hoverlabel": {
          "bgcolor": "rgba(0,0,0,0.8)"
         },
         "hovertext": [
          "Model: XGBRegressor loss after<br>variable: median_income is permuted: 97693.806<br>Drop-out loss change: +53329.395",
          "Model: XGBRegressor loss after<br>variable: population is permuted: 51857.417<br>Drop-out loss change: +7493.007",
          "Model: XGBRegressor loss after<br>variable: total_bedrooms is permuted: 50641.102<br>Drop-out loss change: +6276.691",
          "Model: XGBRegressor loss after<br>variable: households is permuted: 50242.146<br>Drop-out loss change: +5877.735",
          "Model: XGBRegressor loss after<br>variable: housing_median_age is permuted: 48435.422<br>Drop-out loss change: +4071.011",
          "Model: XGBRegressor loss after<br>variable: rooms_per_household is permuted: 47960.832<br>Drop-out loss change: +3596.421",
          "Model: XGBRegressor loss after<br>variable: latitude is permuted: 46976.53<br>Drop-out loss change: +2612.12",
          "Model: XGBRegressor loss after<br>variable: longitude is permuted: 46410.357<br>Drop-out loss change: +2045.946",
          "Model: XGBRegressor loss after<br>variable: NEAR BAY is permuted: 46075.168<br>Drop-out loss change: +1710.757",
          "Model: XGBRegressor loss after<br>variable: INLAND is permuted: 45000.276<br>Drop-out loss change: +635.865"
         ],
         "marker": {
          "color": "#46bac2"
         },
         "orientation": "h",
         "showlegend": false,
         "text": [
          "+53329.395",
          "+7493.007",
          "+6276.691",
          "+5877.735",
          "+4071.011",
          "+3596.421",
          "+2612.12",
          "+2045.946",
          "+1710.757",
          "+635.865"
         ],
         "textposition": "outside",
         "type": "bar",
         "x": [
          53329.39544997202,
          7493.006614377351,
          6276.691033521936,
          5877.735456874238,
          4071.0112700489044,
          3596.4210088027394,
          2612.1197048583053,
          2045.9462322238905,
          1710.7569688526273,
          635.8652816634203
         ],
         "xaxis": "x",
         "y": [
          "median_income",
          "population",
          "total_bedrooms",
          "households",
          "housing_median_age",
          "rooms_per_household",
          "latitude",
          "longitude",
          "NEAR BAY",
          "INLAND"
         ],
         "yaxis": "y"
        }
       ],
       "layout": {
        "annotations": [
         {
          "font": {
           "size": 16
          },
          "showarrow": false,
          "text": "XGBRegressor",
          "x": 0.5,
          "xanchor": "center",
          "xref": "paper",
          "y": 1,
          "yanchor": "bottom",
          "yref": "paper"
         },
         {
          "font": {
           "size": 16
          },
          "showarrow": false,
          "text": "drop-out loss",
          "x": 0.5,
          "xanchor": "center",
          "xref": "paper",
          "y": 0,
          "yanchor": "top",
          "yref": "paper",
          "yshift": -30
         }
        ],
        "font": {
         "color": "#371ea3"
        },
        "height": 383,
        "margin": {
         "b": 71,
         "r": 30,
         "t": 78
        },
        "shapes": [
         {
          "line": {
           "color": "#371ea3",
           "dash": "dot",
           "width": 1.5
          },
          "type": "line",
          "x0": 44364.410552650625,
          "x1": 44364.410552650625,
          "xref": "x",
          "y0": -1,
          "y1": 10,
          "yref": "y"
         }
        ],
        "template": {
         "data": {
          "scatter": [
           {
            "type": "scatter"
           }
          ]
         }
        },
        "title": {
         "text": "Variable Importance",
         "x": 0.15
        },
        "xaxis": {
         "anchor": "y",
         "automargin": true,
         "domain": [
          0,
          1
         ],
         "fixedrange": true,
         "gridwidth": 2,
         "range": [
          36365.00123515482,
          105693.21532011844
         ],
         "tickcolor": "white",
         "ticklen": 3,
         "ticks": "outside",
         "type": "linear",
         "zeroline": false
        },
        "yaxis": {
         "anchor": "x",
         "automargin": true,
         "autorange": "reversed",
         "domain": [
          0,
          1
         ],
         "fixedrange": true,
         "gridwidth": 2,
         "tickcolor": "white",
         "ticklen": 10,
         "ticks": "outside",
         "type": "category"
        }
       }
      },
      "text/html": [
       "<div>                            <div id=\"3a7d3cee-04d3-4698-b3d3-deb97abd9732\" class=\"plotly-graph-div\" style=\"height:383.0px; width:100%;\"></div>            <script type=\"text/javascript\">                require([\"plotly\"], function(Plotly) {                    window.PLOTLYENV=window.PLOTLYENV || {};                                    if (document.getElementById(\"3a7d3cee-04d3-4698-b3d3-deb97abd9732\")) {                    Plotly.newPlot(                        \"3a7d3cee-04d3-4698-b3d3-deb97abd9732\",                        [{\"base\": 44364.410552650625, \"hoverinfo\": \"text\", \"hoverlabel\": {\"bgcolor\": \"rgba(0,0,0,0.8)\"}, \"hovertext\": [\"Model: XGBRegressor loss after<br>variable: median_income is permuted: 97693.806<br>Drop-out loss change: +53329.395\", \"Model: XGBRegressor loss after<br>variable: population is permuted: 51857.417<br>Drop-out loss change: +7493.007\", \"Model: XGBRegressor loss after<br>variable: total_bedrooms is permuted: 50641.102<br>Drop-out loss change: +6276.691\", \"Model: XGBRegressor loss after<br>variable: households is permuted: 50242.146<br>Drop-out loss change: +5877.735\", \"Model: XGBRegressor loss after<br>variable: housing_median_age is permuted: 48435.422<br>Drop-out loss change: +4071.011\", \"Model: XGBRegressor loss after<br>variable: rooms_per_household is permuted: 47960.832<br>Drop-out loss change: +3596.421\", \"Model: XGBRegressor loss after<br>variable: latitude is permuted: 46976.53<br>Drop-out loss change: +2612.12\", \"Model: XGBRegressor loss after<br>variable: longitude is permuted: 46410.357<br>Drop-out loss change: +2045.946\", \"Model: XGBRegressor loss after<br>variable: NEAR BAY is permuted: 46075.168<br>Drop-out loss change: +1710.757\", \"Model: XGBRegressor loss after<br>variable: INLAND is permuted: 45000.276<br>Drop-out loss change: +635.865\"], \"marker\": {\"color\": \"#46bac2\"}, \"orientation\": \"h\", \"showlegend\": false, \"text\": [\"+53329.395\", \"+7493.007\", \"+6276.691\", \"+5877.735\", \"+4071.011\", \"+3596.421\", \"+2612.12\", \"+2045.946\", \"+1710.757\", \"+635.865\"], \"textposition\": \"outside\", \"type\": \"bar\", \"x\": [53329.39544997202, 7493.006614377351, 6276.691033521936, 5877.735456874238, 4071.0112700489044, 3596.4210088027394, 2612.1197048583053, 2045.9462322238905, 1710.7569688526273, 635.8652816634203], \"xaxis\": \"x\", \"y\": [\"median_income\", \"population\", \"total_bedrooms\", \"households\", \"housing_median_age\", \"rooms_per_household\", \"latitude\", \"longitude\", \"NEAR BAY\", \"INLAND\"], \"yaxis\": \"y\"}],                        {\"annotations\": [{\"font\": {\"size\": 16}, \"showarrow\": false, \"text\": \"XGBRegressor\", \"x\": 0.5, \"xanchor\": \"center\", \"xref\": \"paper\", \"y\": 1.0, \"yanchor\": \"bottom\", \"yref\": \"paper\"}, {\"font\": {\"size\": 16}, \"showarrow\": false, \"text\": \"drop-out loss\", \"x\": 0.5, \"xanchor\": \"center\", \"xref\": \"paper\", \"y\": 0, \"yanchor\": \"top\", \"yref\": \"paper\", \"yshift\": -30}], \"font\": {\"color\": \"#371ea3\"}, \"height\": 383.0, \"margin\": {\"b\": 71, \"r\": 30, \"t\": 78}, \"shapes\": [{\"line\": {\"color\": \"#371ea3\", \"dash\": \"dot\", \"width\": 1.5}, \"type\": \"line\", \"x0\": 44364.410552650625, \"x1\": 44364.410552650625, \"xref\": \"x\", \"y0\": -1, \"y1\": 10, \"yref\": \"y\"}], \"template\": {\"data\": {\"scatter\": [{\"type\": \"scatter\"}]}}, \"title\": {\"text\": \"Variable Importance\", \"x\": 0.15}, \"xaxis\": {\"anchor\": \"y\", \"automargin\": true, \"domain\": [0.0, 1.0], \"fixedrange\": true, \"gridwidth\": 2, \"range\": [36365.00123515482, 105693.21532011844], \"tickcolor\": \"white\", \"ticklen\": 3, \"ticks\": \"outside\", \"type\": \"linear\", \"zeroline\": false}, \"yaxis\": {\"anchor\": \"x\", \"automargin\": true, \"autorange\": \"reversed\", \"domain\": [0.0, 1.0], \"fixedrange\": true, \"gridwidth\": 2, \"tickcolor\": \"white\", \"ticklen\": 10, \"ticks\": \"outside\", \"type\": \"category\"}},                        {\"displaylogo\": false, \"staticPlot\": false, \"toImageButtonOptions\": {\"height\": null, \"width\": null}, \"modeBarButtonsToRemove\": [\"sendDataToCloud\", \"lasso2d\", \"autoScale2d\", \"select2d\", \"zoom2d\", \"pan2d\", \"zoomIn2d\", \"zoomOut2d\", \"resetScale2d\", \"toggleSpikelines\", \"hoverCompareCartesian\", \"hoverClosestCartesian\"], \"responsive\": true}                    ).then(function(){\n",
       "                            \n",
       "var gd = document.getElementById('3a7d3cee-04d3-4698-b3d3-deb97abd9732');\n",
       "var x = new MutationObserver(function (mutations, observer) {{\n",
       "        var display = window.getComputedStyle(gd).display;\n",
       "        if (!display || display === 'none') {{\n",
       "            console.log([gd, 'removed!']);\n",
       "            Plotly.purge(gd);\n",
       "            observer.disconnect();\n",
       "        }}\n",
       "}});\n",
       "\n",
       "// Listen for the removal of the full notebook cells\n",
       "var notebookContainer = gd.closest('#notebook-container');\n",
       "if (notebookContainer) {{\n",
       "    x.observe(notebookContainer, {childList: true});\n",
       "}}\n",
       "\n",
       "// Listen for the clearing of the current output cell\n",
       "var outputEl = gd.closest('.output');\n",
       "if (outputEl) {{\n",
       "    x.observe(outputEl, {childList: true});\n",
       "}}\n",
       "\n",
       "                        })                };                });            </script>        </div>"
      ]
     },
     "metadata": {},
     "output_type": "display_data"
    },
    {
     "name": "stdout",
     "output_type": "stream",
     "text": [
      "\n",
      "\n",
      "               variable   dropout_loss         label\n",
      "13           _baseline_  107139.320606  XGBRegressor\n",
      "12        median_income   97693.806003  XGBRegressor\n",
      "11           population   51857.417167  XGBRegressor\n",
      "10       total_bedrooms   50641.101586  XGBRegressor\n",
      "9            households   50242.146010  XGBRegressor\n",
      "8    housing_median_age   48435.421823  XGBRegressor\n",
      "7   rooms_per_household   47960.831561  XGBRegressor\n",
      "6              latitude   46976.530258  XGBRegressor\n",
      "5             longitude   46410.356785  XGBRegressor\n",
      "4              NEAR BAY   46075.167522  XGBRegressor\n",
      "3                INLAND   45000.275834  XGBRegressor\n",
      "0              1H OCEAN   44364.410553  XGBRegressor\n",
      "1            NEAR OCEAN   44364.410553  XGBRegressor\n",
      "2          _full_model_   44364.410553  XGBRegressor\n"
     ]
    }
   ],
   "source": [
    "explainer_xgb = dx.Explainer(xgb, X, y)\n",
    "parts_xgb = explainer_xgb.model_parts()\n",
    "parts_xgb.plot()\n",
    "print(\"\\n\")\n",
    "print(parts_xgb.result.sort_values(\"dropout_loss\", ascending=False))"
   ]
  },
  {
   "cell_type": "code",
   "execution_count": 28,
   "id": "political-bridges",
   "metadata": {},
   "outputs": [
    {
     "name": "stdout",
     "output_type": "stream",
     "text": [
      "Preparation of a new explainer is initiated\n",
      "\n",
      "  -> data              : 19643 rows 12 cols\n",
      "  -> target variable   : Parameter 'y' was a pandas.DataFrame. Converted to a numpy.ndarray.\n",
      "  -> target variable   : 19643 values\n",
      "  -> model_class       : sklearn.neural_network._multilayer_perceptron.MLPRegressor (default)\n",
      "  -> label             : Not specified, model's class short name will be used. (default)\n",
      "  -> predict function  : <function yhat_default at 0x000001D2FFD9AD30> will be used (default)\n",
      "  -> predict function  : Accepts pandas.DataFrame and numpy.ndarray.\n",
      "  -> predicted values  : min = 4.19e+04, mean = 1.91e+05, max = 4e+05\n",
      "  -> model type        : regression will be used (default)\n",
      "  -> residual function : difference between y and yhat (default)\n",
      "  -> residuals         : min = -2.78e+05, mean = 1.05e+03, max = 3.56e+05\n",
      "  -> model_info        : package sklearn\n",
      "\n",
      "A new explainer has been created!\n"
     ]
    },
    {
     "data": {
      "application/vnd.plotly.v1+json": {
       "config": {
        "displaylogo": false,
        "modeBarButtonsToRemove": [
         "sendDataToCloud",
         "lasso2d",
         "autoScale2d",
         "select2d",
         "zoom2d",
         "pan2d",
         "zoomIn2d",
         "zoomOut2d",
         "resetScale2d",
         "toggleSpikelines",
         "hoverCompareCartesian",
         "hoverClosestCartesian"
        ],
        "plotlyServerURL": "https://plot.ly",
        "staticPlot": false,
        "toImageButtonOptions": {
         "height": null,
         "width": null
        }
       },
       "data": [
        {
         "base": 49827.97068674699,
         "hoverinfo": "text",
         "hoverlabel": {
          "bgcolor": "rgba(0,0,0,0.8)"
         },
         "hovertext": [
          "Model: MLPRegressor loss after<br>variable: median_income is permuted: 104873.358<br>Drop-out loss change: +55045.387",
          "Model: MLPRegressor loss after<br>variable: households is permuted: 81958.721<br>Drop-out loss change: +32130.751",
          "Model: MLPRegressor loss after<br>variable: population is permuted: 70541.807<br>Drop-out loss change: +20713.836",
          "Model: MLPRegressor loss after<br>variable: total_bedrooms is permuted: 58951.101<br>Drop-out loss change: +9123.131",
          "Model: MLPRegressor loss after<br>variable: 1H OCEAN is permuted: 55071.559<br>Drop-out loss change: +5243.588",
          "Model: MLPRegressor loss after<br>variable: latitude is permuted: 54058.419<br>Drop-out loss change: +4230.448",
          "Model: MLPRegressor loss after<br>variable: housing_median_age is permuted: 53949.972<br>Drop-out loss change: +4122.002",
          "Model: MLPRegressor loss after<br>variable: INLAND is permuted: 53365.802<br>Drop-out loss change: +3537.831",
          "Model: MLPRegressor loss after<br>variable: longitude is permuted: 52446.0<br>Drop-out loss change: +2618.029",
          "Model: MLPRegressor loss after<br>variable: NEAR BAY is permuted: 51674.46<br>Drop-out loss change: +1846.49"
         ],
         "marker": {
          "color": "#46bac2"
         },
         "orientation": "h",
         "showlegend": false,
         "text": [
          "+55045.387",
          "+32130.751",
          "+20713.836",
          "+9123.131",
          "+5243.588",
          "+4230.448",
          "+4122.002",
          "+3537.831",
          "+2618.029",
          "+1846.49"
         ],
         "textposition": "outside",
         "type": "bar",
         "x": [
          55045.38733893002,
          32130.75065006552,
          20713.836412490935,
          9123.130759672895,
          5243.588161265601,
          4230.448098428111,
          4122.001798061661,
          3537.8313328933364,
          2618.028901466423,
          1846.489775134185
         ],
         "xaxis": "x",
         "y": [
          "median_income",
          "households",
          "population",
          "total_bedrooms",
          "1H OCEAN",
          "latitude",
          "housing_median_age",
          "INLAND",
          "longitude",
          "NEAR BAY"
         ],
         "yaxis": "y"
        }
       ],
       "layout": {
        "annotations": [
         {
          "font": {
           "size": 16
          },
          "showarrow": false,
          "text": "MLPRegressor",
          "x": 0.5,
          "xanchor": "center",
          "xref": "paper",
          "y": 1,
          "yanchor": "bottom",
          "yref": "paper"
         },
         {
          "font": {
           "size": 16
          },
          "showarrow": false,
          "text": "drop-out loss",
          "x": 0.5,
          "xanchor": "center",
          "xref": "paper",
          "y": 0,
          "yanchor": "top",
          "yref": "paper",
          "yshift": -30
         }
        ],
        "font": {
         "color": "#371ea3"
        },
        "height": 383,
        "margin": {
         "b": 71,
         "r": 30,
         "t": 78
        },
        "shapes": [
         {
          "line": {
           "color": "#371ea3",
           "dash": "dot",
           "width": 1.5
          },
          "type": "line",
          "x0": 49827.97068674699,
          "x1": 49827.97068674699,
          "xref": "x",
          "y0": -1,
          "y1": 10,
          "yref": "y"
         }
        ],
        "template": {
         "data": {
          "scatter": [
           {
            "type": "scatter"
           }
          ]
         }
        },
        "title": {
         "text": "Variable Importance",
         "x": 0.15
        },
        "xaxis": {
         "anchor": "y",
         "automargin": true,
         "domain": [
          0,
          1
         ],
         "fixedrange": true,
         "gridwidth": 2,
         "range": [
          41571.162585907485,
          113130.1661265165
         ],
         "tickcolor": "white",
         "ticklen": 3,
         "ticks": "outside",
         "type": "linear",
         "zeroline": false
        },
        "yaxis": {
         "anchor": "x",
         "automargin": true,
         "autorange": "reversed",
         "domain": [
          0,
          1
         ],
         "fixedrange": true,
         "gridwidth": 2,
         "tickcolor": "white",
         "ticklen": 10,
         "ticks": "outside",
         "type": "category"
        }
       }
      },
      "text/html": [
       "<div>                            <div id=\"f3ec934f-d27e-4712-82a3-4917017c4872\" class=\"plotly-graph-div\" style=\"height:383.0px; width:100%;\"></div>            <script type=\"text/javascript\">                require([\"plotly\"], function(Plotly) {                    window.PLOTLYENV=window.PLOTLYENV || {};                                    if (document.getElementById(\"f3ec934f-d27e-4712-82a3-4917017c4872\")) {                    Plotly.newPlot(                        \"f3ec934f-d27e-4712-82a3-4917017c4872\",                        [{\"base\": 49827.97068674699, \"hoverinfo\": \"text\", \"hoverlabel\": {\"bgcolor\": \"rgba(0,0,0,0.8)\"}, \"hovertext\": [\"Model: MLPRegressor loss after<br>variable: median_income is permuted: 104873.358<br>Drop-out loss change: +55045.387\", \"Model: MLPRegressor loss after<br>variable: households is permuted: 81958.721<br>Drop-out loss change: +32130.751\", \"Model: MLPRegressor loss after<br>variable: population is permuted: 70541.807<br>Drop-out loss change: +20713.836\", \"Model: MLPRegressor loss after<br>variable: total_bedrooms is permuted: 58951.101<br>Drop-out loss change: +9123.131\", \"Model: MLPRegressor loss after<br>variable: 1H OCEAN is permuted: 55071.559<br>Drop-out loss change: +5243.588\", \"Model: MLPRegressor loss after<br>variable: latitude is permuted: 54058.419<br>Drop-out loss change: +4230.448\", \"Model: MLPRegressor loss after<br>variable: housing_median_age is permuted: 53949.972<br>Drop-out loss change: +4122.002\", \"Model: MLPRegressor loss after<br>variable: INLAND is permuted: 53365.802<br>Drop-out loss change: +3537.831\", \"Model: MLPRegressor loss after<br>variable: longitude is permuted: 52446.0<br>Drop-out loss change: +2618.029\", \"Model: MLPRegressor loss after<br>variable: NEAR BAY is permuted: 51674.46<br>Drop-out loss change: +1846.49\"], \"marker\": {\"color\": \"#46bac2\"}, \"orientation\": \"h\", \"showlegend\": false, \"text\": [\"+55045.387\", \"+32130.751\", \"+20713.836\", \"+9123.131\", \"+5243.588\", \"+4230.448\", \"+4122.002\", \"+3537.831\", \"+2618.029\", \"+1846.49\"], \"textposition\": \"outside\", \"type\": \"bar\", \"x\": [55045.38733893002, 32130.75065006552, 20713.836412490935, 9123.130759672895, 5243.588161265601, 4230.448098428111, 4122.001798061661, 3537.8313328933364, 2618.028901466423, 1846.489775134185], \"xaxis\": \"x\", \"y\": [\"median_income\", \"households\", \"population\", \"total_bedrooms\", \"1H OCEAN\", \"latitude\", \"housing_median_age\", \"INLAND\", \"longitude\", \"NEAR BAY\"], \"yaxis\": \"y\"}],                        {\"annotations\": [{\"font\": {\"size\": 16}, \"showarrow\": false, \"text\": \"MLPRegressor\", \"x\": 0.5, \"xanchor\": \"center\", \"xref\": \"paper\", \"y\": 1.0, \"yanchor\": \"bottom\", \"yref\": \"paper\"}, {\"font\": {\"size\": 16}, \"showarrow\": false, \"text\": \"drop-out loss\", \"x\": 0.5, \"xanchor\": \"center\", \"xref\": \"paper\", \"y\": 0, \"yanchor\": \"top\", \"yref\": \"paper\", \"yshift\": -30}], \"font\": {\"color\": \"#371ea3\"}, \"height\": 383.0, \"margin\": {\"b\": 71, \"r\": 30, \"t\": 78}, \"shapes\": [{\"line\": {\"color\": \"#371ea3\", \"dash\": \"dot\", \"width\": 1.5}, \"type\": \"line\", \"x0\": 49827.97068674699, \"x1\": 49827.97068674699, \"xref\": \"x\", \"y0\": -1, \"y1\": 10, \"yref\": \"y\"}], \"template\": {\"data\": {\"scatter\": [{\"type\": \"scatter\"}]}}, \"title\": {\"text\": \"Variable Importance\", \"x\": 0.15}, \"xaxis\": {\"anchor\": \"y\", \"automargin\": true, \"domain\": [0.0, 1.0], \"fixedrange\": true, \"gridwidth\": 2, \"range\": [41571.162585907485, 113130.1661265165], \"tickcolor\": \"white\", \"ticklen\": 3, \"ticks\": \"outside\", \"type\": \"linear\", \"zeroline\": false}, \"yaxis\": {\"anchor\": \"x\", \"automargin\": true, \"autorange\": \"reversed\", \"domain\": [0.0, 1.0], \"fixedrange\": true, \"gridwidth\": 2, \"tickcolor\": \"white\", \"ticklen\": 10, \"ticks\": \"outside\", \"type\": \"category\"}},                        {\"displaylogo\": false, \"staticPlot\": false, \"toImageButtonOptions\": {\"height\": null, \"width\": null}, \"modeBarButtonsToRemove\": [\"sendDataToCloud\", \"lasso2d\", \"autoScale2d\", \"select2d\", \"zoom2d\", \"pan2d\", \"zoomIn2d\", \"zoomOut2d\", \"resetScale2d\", \"toggleSpikelines\", \"hoverCompareCartesian\", \"hoverClosestCartesian\"], \"responsive\": true}                    ).then(function(){\n",
       "                            \n",
       "var gd = document.getElementById('f3ec934f-d27e-4712-82a3-4917017c4872');\n",
       "var x = new MutationObserver(function (mutations, observer) {{\n",
       "        var display = window.getComputedStyle(gd).display;\n",
       "        if (!display || display === 'none') {{\n",
       "            console.log([gd, 'removed!']);\n",
       "            Plotly.purge(gd);\n",
       "            observer.disconnect();\n",
       "        }}\n",
       "}});\n",
       "\n",
       "// Listen for the removal of the full notebook cells\n",
       "var notebookContainer = gd.closest('#notebook-container');\n",
       "if (notebookContainer) {{\n",
       "    x.observe(notebookContainer, {childList: true});\n",
       "}}\n",
       "\n",
       "// Listen for the clearing of the current output cell\n",
       "var outputEl = gd.closest('.output');\n",
       "if (outputEl) {{\n",
       "    x.observe(outputEl, {childList: true});\n",
       "}}\n",
       "\n",
       "                        })                };                });            </script>        </div>"
      ]
     },
     "metadata": {},
     "output_type": "display_data"
    },
    {
     "name": "stdout",
     "output_type": "stream",
     "text": [
      "\n",
      "\n",
      "               variable   dropout_loss         label\n",
      "13           _baseline_  106529.847071  MLPRegressor\n",
      "12        median_income  104873.358026  MLPRegressor\n",
      "11           households   81958.721337  MLPRegressor\n",
      "10           population   70541.807099  MLPRegressor\n",
      "9        total_bedrooms   58951.101446  MLPRegressor\n",
      "8              1H OCEAN   55071.558848  MLPRegressor\n",
      "7              latitude   54058.418785  MLPRegressor\n",
      "6    housing_median_age   53949.972485  MLPRegressor\n",
      "5                INLAND   53365.802020  MLPRegressor\n",
      "4             longitude   52445.999588  MLPRegressor\n",
      "3              NEAR BAY   51674.460462  MLPRegressor\n",
      "2   rooms_per_household   50909.902366  MLPRegressor\n",
      "0            NEAR OCEAN   49827.970687  MLPRegressor\n",
      "1          _full_model_   49827.970687  MLPRegressor\n"
     ]
    }
   ],
   "source": [
    "explainer_mlp = dx.Explainer(mlp, X, y)\n",
    "parts_mlp = explainer_mlp.model_parts()\n",
    "parts_mlp.plot()\n",
    "print(\"\\n\")\n",
    "print(parts_mlp.result.sort_values(\"dropout_loss\", ascending=False))"
   ]
  },
  {
   "cell_type": "code",
   "execution_count": 30,
   "id": "narrative-pricing",
   "metadata": {
    "scrolled": false
   },
   "outputs": [
    {
     "name": "stdout",
     "output_type": "stream",
     "text": [
      "Preparation of a new explainer is initiated\n",
      "\n",
      "  -> data              : 19643 rows 12 cols\n",
      "  -> target variable   : Parameter 'y' was a pandas.DataFrame. Converted to a numpy.ndarray.\n",
      "  -> target variable   : 19643 values\n",
      "  -> model_class       : sklearn.svm._classes.LinearSVR (default)\n",
      "  -> label             : Not specified, model's class short name will be used. (default)\n",
      "  -> predict function  : <function yhat_default at 0x000001D2FFD9AD30> will be used (default)\n",
      "  -> predict function  : Accepts pandas.DataFrame and numpy.ndarray.\n",
      "  -> predicted values  : min = -4.75e+05, mean = 1.93e+05, max = 6.43e+05\n",
      "  -> model type        : regression will be used (default)\n",
      "  -> residual function : difference between y and yhat (default)\n",
      "  -> residuals         : min = -5.12e+05, mean = -4.93e+02, max = 6.1e+05\n",
      "  -> model_info        : package sklearn\n",
      "\n",
      "A new explainer has been created!\n"
     ]
    },
    {
     "data": {
      "application/vnd.plotly.v1+json": {
       "config": {
        "displaylogo": false,
        "modeBarButtonsToRemove": [
         "sendDataToCloud",
         "lasso2d",
         "autoScale2d",
         "select2d",
         "zoom2d",
         "pan2d",
         "zoomIn2d",
         "zoomOut2d",
         "resetScale2d",
         "toggleSpikelines",
         "hoverCompareCartesian",
         "hoverClosestCartesian"
        ],
        "plotlyServerURL": "https://plot.ly",
        "staticPlot": false,
        "toImageButtonOptions": {
         "height": null,
         "width": null
        }
       },
       "data": [
        {
         "base": 56593.88069776057,
         "hoverinfo": "text",
         "hoverlabel": {
          "bgcolor": "rgba(0,0,0,0.8)"
         },
         "hovertext": [
          "Model: LinearSVR loss after<br>variable: median_income is permuted: 107588.178<br>Drop-out loss change: +50994.298",
          "Model: LinearSVR loss after<br>variable: households is permuted: 71252.105<br>Drop-out loss change: +14658.224",
          "Model: LinearSVR loss after<br>variable: population is permuted: 71216.67<br>Drop-out loss change: +14622.789",
          "Model: LinearSVR loss after<br>variable: 1H OCEAN is permuted: 61091.443<br>Drop-out loss change: +4497.562",
          "Model: LinearSVR loss after<br>variable: total_bedrooms is permuted: 59851.921<br>Drop-out loss change: +3258.041",
          "Model: LinearSVR loss after<br>variable: NEAR BAY is permuted: 58359.075<br>Drop-out loss change: +1765.195",
          "Model: LinearSVR loss after<br>variable: housing_median_age is permuted: 57762.797<br>Drop-out loss change: +1168.916",
          "Model: LinearSVR loss after<br>variable: INLAND is permuted: 57397.804<br>Drop-out loss change: +803.923",
          "Model: LinearSVR loss after<br>variable: rooms_per_household is permuted: 56787.618<br>Drop-out loss change: +193.737",
          "Model: LinearSVR loss after<br>variable: NEAR OCEAN is permuted: 56593.881<br>Drop-out loss change: -0.0"
         ],
         "marker": {
          "color": "#46bac2"
         },
         "orientation": "h",
         "showlegend": false,
         "text": [
          "+50994.298",
          "+14658.224",
          "+14622.789",
          "+4497.562",
          "+3258.041",
          "+1765.195",
          "+1168.916",
          "+803.923",
          "+193.737",
          "0.0"
         ],
         "textposition": "outside",
         "type": "bar",
         "x": [
          50994.29761148598,
          14658.22419705971,
          14622.789016718118,
          4497.561827400663,
          3258.040793842374,
          1765.194753677526,
          1168.9158665049908,
          803.923215300274,
          193.7369178953304,
          0
         ],
         "xaxis": "x",
         "y": [
          "median_income",
          "households",
          "population",
          "1H OCEAN",
          "total_bedrooms",
          "NEAR BAY",
          "housing_median_age",
          "INLAND",
          "rooms_per_household",
          "NEAR OCEAN"
         ],
         "yaxis": "y"
        }
       ],
       "layout": {
        "annotations": [
         {
          "font": {
           "size": 16
          },
          "showarrow": false,
          "text": "LinearSVR",
          "x": 0.5,
          "xanchor": "center",
          "xref": "paper",
          "y": 1,
          "yanchor": "bottom",
          "yref": "paper"
         },
         {
          "font": {
           "size": 16
          },
          "showarrow": false,
          "text": "drop-out loss",
          "x": 0.5,
          "xanchor": "center",
          "xref": "paper",
          "y": 0,
          "yanchor": "top",
          "yref": "paper",
          "yshift": -30
         }
        ],
        "font": {
         "color": "#371ea3"
        },
        "height": 383,
        "margin": {
         "b": 71,
         "r": 30,
         "t": 78
        },
        "shapes": [
         {
          "line": {
           "color": "#371ea3",
           "dash": "dot",
           "width": 1.5
          },
          "type": "line",
          "x0": 56593.88069776057,
          "x1": 56593.88069776057,
          "xref": "x",
          "y0": -1,
          "y1": 10,
          "yref": "y"
         }
        ],
        "template": {
         "data": {
          "scatter": [
           {
            "type": "scatter"
           }
          ]
         }
        },
        "title": {
         "text": "Variable Importance",
         "x": 0.15
        },
        "xaxis": {
         "anchor": "y",
         "automargin": true,
         "domain": [
          0,
          1
         ],
         "fixedrange": true,
         "gridwidth": 2,
         "range": [
          48765.698474173536,
          115260.67567903869
         ],
         "tickcolor": "white",
         "ticklen": 3,
         "ticks": "outside",
         "type": "linear",
         "zeroline": false
        },
        "yaxis": {
         "anchor": "x",
         "automargin": true,
         "autorange": "reversed",
         "domain": [
          0,
          1
         ],
         "fixedrange": true,
         "gridwidth": 2,
         "tickcolor": "white",
         "ticklen": 10,
         "ticks": "outside",
         "type": "category"
        }
       }
      },
      "text/html": [
       "<div>                            <div id=\"c3e9338d-5d89-426c-8115-1bfe9ad253c6\" class=\"plotly-graph-div\" style=\"height:383.0px; width:100%;\"></div>            <script type=\"text/javascript\">                require([\"plotly\"], function(Plotly) {                    window.PLOTLYENV=window.PLOTLYENV || {};                                    if (document.getElementById(\"c3e9338d-5d89-426c-8115-1bfe9ad253c6\")) {                    Plotly.newPlot(                        \"c3e9338d-5d89-426c-8115-1bfe9ad253c6\",                        [{\"base\": 56593.88069776057, \"hoverinfo\": \"text\", \"hoverlabel\": {\"bgcolor\": \"rgba(0,0,0,0.8)\"}, \"hovertext\": [\"Model: LinearSVR loss after<br>variable: median_income is permuted: 107588.178<br>Drop-out loss change: +50994.298\", \"Model: LinearSVR loss after<br>variable: households is permuted: 71252.105<br>Drop-out loss change: +14658.224\", \"Model: LinearSVR loss after<br>variable: population is permuted: 71216.67<br>Drop-out loss change: +14622.789\", \"Model: LinearSVR loss after<br>variable: 1H OCEAN is permuted: 61091.443<br>Drop-out loss change: +4497.562\", \"Model: LinearSVR loss after<br>variable: total_bedrooms is permuted: 59851.921<br>Drop-out loss change: +3258.041\", \"Model: LinearSVR loss after<br>variable: NEAR BAY is permuted: 58359.075<br>Drop-out loss change: +1765.195\", \"Model: LinearSVR loss after<br>variable: housing_median_age is permuted: 57762.797<br>Drop-out loss change: +1168.916\", \"Model: LinearSVR loss after<br>variable: INLAND is permuted: 57397.804<br>Drop-out loss change: +803.923\", \"Model: LinearSVR loss after<br>variable: rooms_per_household is permuted: 56787.618<br>Drop-out loss change: +193.737\", \"Model: LinearSVR loss after<br>variable: NEAR OCEAN is permuted: 56593.881<br>Drop-out loss change: -0.0\"], \"marker\": {\"color\": \"#46bac2\"}, \"orientation\": \"h\", \"showlegend\": false, \"text\": [\"+50994.298\", \"+14658.224\", \"+14622.789\", \"+4497.562\", \"+3258.041\", \"+1765.195\", \"+1168.916\", \"+803.923\", \"+193.737\", \"0.0\"], \"textposition\": \"outside\", \"type\": \"bar\", \"x\": [50994.29761148598, 14658.22419705971, 14622.789016718118, 4497.561827400663, 3258.040793842374, 1765.194753677526, 1168.9158665049908, 803.923215300274, 193.7369178953304, 0.0], \"xaxis\": \"x\", \"y\": [\"median_income\", \"households\", \"population\", \"1H OCEAN\", \"total_bedrooms\", \"NEAR BAY\", \"housing_median_age\", \"INLAND\", \"rooms_per_household\", \"NEAR OCEAN\"], \"yaxis\": \"y\"}],                        {\"annotations\": [{\"font\": {\"size\": 16}, \"showarrow\": false, \"text\": \"LinearSVR\", \"x\": 0.5, \"xanchor\": \"center\", \"xref\": \"paper\", \"y\": 1.0, \"yanchor\": \"bottom\", \"yref\": \"paper\"}, {\"font\": {\"size\": 16}, \"showarrow\": false, \"text\": \"drop-out loss\", \"x\": 0.5, \"xanchor\": \"center\", \"xref\": \"paper\", \"y\": 0, \"yanchor\": \"top\", \"yref\": \"paper\", \"yshift\": -30}], \"font\": {\"color\": \"#371ea3\"}, \"height\": 383.0, \"margin\": {\"b\": 71, \"r\": 30, \"t\": 78}, \"shapes\": [{\"line\": {\"color\": \"#371ea3\", \"dash\": \"dot\", \"width\": 1.5}, \"type\": \"line\", \"x0\": 56593.88069776057, \"x1\": 56593.88069776057, \"xref\": \"x\", \"y0\": -1, \"y1\": 10, \"yref\": \"y\"}], \"template\": {\"data\": {\"scatter\": [{\"type\": \"scatter\"}]}}, \"title\": {\"text\": \"Variable Importance\", \"x\": 0.15}, \"xaxis\": {\"anchor\": \"y\", \"automargin\": true, \"domain\": [0.0, 1.0], \"fixedrange\": true, \"gridwidth\": 2, \"range\": [48765.698474173536, 115260.67567903869], \"tickcolor\": \"white\", \"ticklen\": 3, \"ticks\": \"outside\", \"type\": \"linear\", \"zeroline\": false}, \"yaxis\": {\"anchor\": \"x\", \"automargin\": true, \"autorange\": \"reversed\", \"domain\": [0.0, 1.0], \"fixedrange\": true, \"gridwidth\": 2, \"tickcolor\": \"white\", \"ticklen\": 10, \"ticks\": \"outside\", \"type\": \"category\"}},                        {\"displaylogo\": false, \"staticPlot\": false, \"toImageButtonOptions\": {\"height\": null, \"width\": null}, \"modeBarButtonsToRemove\": [\"sendDataToCloud\", \"lasso2d\", \"autoScale2d\", \"select2d\", \"zoom2d\", \"pan2d\", \"zoomIn2d\", \"zoomOut2d\", \"resetScale2d\", \"toggleSpikelines\", \"hoverCompareCartesian\", \"hoverClosestCartesian\"], \"responsive\": true}                    ).then(function(){\n",
       "                            \n",
       "var gd = document.getElementById('c3e9338d-5d89-426c-8115-1bfe9ad253c6');\n",
       "var x = new MutationObserver(function (mutations, observer) {{\n",
       "        var display = window.getComputedStyle(gd).display;\n",
       "        if (!display || display === 'none') {{\n",
       "            console.log([gd, 'removed!']);\n",
       "            Plotly.purge(gd);\n",
       "            observer.disconnect();\n",
       "        }}\n",
       "}});\n",
       "\n",
       "// Listen for the removal of the full notebook cells\n",
       "var notebookContainer = gd.closest('#notebook-container');\n",
       "if (notebookContainer) {{\n",
       "    x.observe(notebookContainer, {childList: true});\n",
       "}}\n",
       "\n",
       "// Listen for the clearing of the current output cell\n",
       "var outputEl = gd.closest('.output');\n",
       "if (outputEl) {{\n",
       "    x.observe(outputEl, {childList: true});\n",
       "}}\n",
       "\n",
       "                        })                };                });            </script>        </div>"
      ]
     },
     "metadata": {},
     "output_type": "display_data"
    },
    {
     "name": "stdout",
     "output_type": "stream",
     "text": [
      "\n",
      "\n",
      "               variable   dropout_loss      label\n",
      "13        median_income  107588.178309  LinearSVR\n",
      "12           _baseline_  103586.838581  LinearSVR\n",
      "11           households   71252.104895  LinearSVR\n",
      "10           population   71216.669714  LinearSVR\n",
      "9              1H OCEAN   61091.442525  LinearSVR\n",
      "8        total_bedrooms   59851.921492  LinearSVR\n",
      "7              NEAR BAY   58359.075451  LinearSVR\n",
      "6    housing_median_age   57762.796564  LinearSVR\n",
      "5                INLAND   57397.803913  LinearSVR\n",
      "4   rooms_per_household   56787.617616  LinearSVR\n",
      "2            NEAR OCEAN   56593.880698  LinearSVR\n",
      "3          _full_model_   56593.880698  LinearSVR\n",
      "1              latitude   56549.140745  LinearSVR\n",
      "0             longitude   56438.195844  LinearSVR\n"
     ]
    }
   ],
   "source": [
    "explainer_svr = dx.Explainer(svr, X, y)\n",
    "parts_svr = explainer_svr.model_parts()\n",
    "parts_svr.plot(show=20)\n",
    "print(\"\\n\")\n",
    "print(parts_svr.result.sort_values(\"dropout_loss\", ascending=False))"
   ]
  },
  {
   "cell_type": "markdown",
   "id": "bulgarian-experience",
   "metadata": {},
   "source": [
    "Nie jest zaskoczeniem, że ponownie najważniejszą zmienna przy predykcji ceny domu okazała się mediana wynagrodzeń jego mieszkańców. Potwierdza to nasze odkrycia z poprzednich etapów pracy nad tą ramką danych. Populalation i Households w przypadku wszystkich modeli utrzymują się na topowych pozycjach.\n",
    "\n",
    "Istotną różnicą pomiędzy zbadanymi modelami jest to jak bardzo XGBoost fokusuje się na jednej zmiennej. W przypadku SVR i MLP druga i trzecia najważniejsza zmienna mają istotny wpływ na wydajność modelu, podczas gdy w XGBoost tylko median_income ma istotne znaczenie. Mimo tego, to właśnie XGBoost dawał nam najlepsze wyniki ze wszystkich wyżej wymienionych modeli.\n",
    "\n",
    "Fakt, że w każdym z trzech modeli zmienna NEAR_OCEAN nie ma żadnego wpływu na wynik końcowy można prawdopodbnie wytłumaczyć tym, że jest to ostatnia z 4 zakodowanych wartości zmiennej kategorycznej. Jest ona zbędna ponieważ kodowanie 0 0 0 1 jest równoważne kodowaniu 0 0 0.\n",
    "\n",
    "Zmienne latitude i longitude, wbrew temu czego można się było spodziewać, nie są istotne, być może nawet przeszkadzają naszemu modelowi."
   ]
  }
 ],
 "metadata": {
  "kernelspec": {
   "display_name": "Python 3",
   "language": "python",
   "name": "python3"
  },
  "language_info": {
   "codemirror_mode": {
    "name": "ipython",
    "version": 3
   },
   "file_extension": ".py",
   "mimetype": "text/x-python",
   "name": "python",
   "nbconvert_exporter": "python",
   "pygments_lexer": "ipython3",
   "version": "3.8.8"
  }
 },
 "nbformat": 4,
 "nbformat_minor": 5
}
