{
 "cells": [
  {
   "cell_type": "markdown",
   "id": "mighty-provision",
   "metadata": {},
   "source": [
    "# Praca domowa 3\n",
    "Dane - Credit Cards Customers.\n",
    "\n",
    "Problem - zbadaj którzy klienci są chętni do zrezygnowania z usługi.\n",
    "\n",
    "Do zadania został użyty model Xgboost."
   ]
  },
  {
   "cell_type": "code",
   "execution_count": null,
   "id": "worth-uganda",
   "metadata": {},
   "outputs": [],
   "source": [
    "import numpy as np\n",
    "import pandas as pd\n",
    "import matplotlib.pyplot as plt\n",
    "from matplotlib.ticker import MaxNLocator\n",
    "import seaborn as sns\n",
    "plt.style.use('ggplot')\n",
    "import dalex as dx\n",
    "import pickle\n",
    "import xgboost as xgb\n",
    "\n",
    "from sklearn.model_selection import train_test_split\n",
    "np.random.seed(23)"
   ]
  },
  {
   "cell_type": "code",
   "execution_count": null,
   "id": "voluntary-music",
   "metadata": {},
   "outputs": [],
   "source": [
    "input_df = pd.read_csv('data/preprocessed_dataset.csv')\n",
    "input_df.info()"
   ]
  },
  {
   "cell_type": "code",
   "execution_count": null,
   "id": "concerned-appointment",
   "metadata": {},
   "outputs": [],
   "source": [
    "y = input_df.loc[:,'Attrition']\n",
    "X = input_df.drop('Attrition', axis='columns')\n",
    "X_train, X_test, y_train, y_test = train_test_split(X, y, random_state=14) "
   ]
  },
  {
   "cell_type": "code",
   "execution_count": null,
   "id": "pediatric-contact",
   "metadata": {},
   "outputs": [],
   "source": [
    "xgboost = pickle.load(open(\"xgb_model.p\", \"rb\" ))"
   ]
  },
  {
   "cell_type": "code",
   "execution_count": null,
   "id": "civic-highland",
   "metadata": {},
   "outputs": [],
   "source": [
    "explainer = dx.Explainer(xgboost, X_train, y_train,  label = \"Random Forest\")"
   ]
  },
  {
   "cell_type": "markdown",
   "id": "crazy-stock",
   "metadata": {},
   "source": [
    "Attrition:\n",
    "\n",
    "1-existing\n",
    "\n",
    "0-attrited"
   ]
  },
  {
   "cell_type": "markdown",
   "id": "instructional-biography",
   "metadata": {},
   "source": [
    "# 1. Dla wybranej obserwacji ze zbioru danych wylicz predykcję modelu."
   ]
  },
  {
   "cell_type": "code",
   "execution_count": null,
   "id": "closed-anderson",
   "metadata": {},
   "outputs": [],
   "source": [
    "explainer.predict(X_train)[0]"
   ]
  },
  {
   "cell_type": "markdown",
   "id": "mobile-mozambique",
   "metadata": {},
   "source": [
    "# 2. Dla wybranej obserwacji z punktu 1., wylicz dekompozycję predykcji modelu używając profili Ceteris Paribus/ ICE"
   ]
  },
  {
   "cell_type": "code",
   "execution_count": null,
   "id": "funded-logic",
   "metadata": {},
   "outputs": [],
   "source": [
    "cp = explainer.predict_profile(X_train.iloc[0,:])"
   ]
  },
  {
   "cell_type": "code",
   "execution_count": null,
   "id": "unauthorized-component",
   "metadata": {},
   "outputs": [],
   "source": [
    "cp.plot()"
   ]
  },
  {
   "cell_type": "markdown",
   "id": "organic-veteran",
   "metadata": {},
   "source": [
    "Predykcja dla obserwacji o indeksie 0 zmalałaby z 0.97 do 0.45 gdyby `Months_on_book`(liczba miesięcy od udzielenia pożyczki) wzrosło wzrosło do 44.\n",
    "gdyby `Total_Trans_Amt`(liczba transakcji w ostatnich 12 miesiącach) spadło poniżej 1000 predykcja spdałaby do 0.18."
   ]
  },
  {
   "cell_type": "markdown",
   "id": "endangered-roller",
   "metadata": {},
   "source": [
    "# 3.Wybierz dwie obserwacje ze zbioru danych, które mają różne profile CP"
   ]
  },
  {
   "cell_type": "code",
   "execution_count": null,
   "id": "sustainable-tennis",
   "metadata": {},
   "outputs": [],
   "source": [
    "cp = explainer.predict_profile(X_train.iloc[57,:])\n",
    "cp.plot()"
   ]
  },
  {
   "cell_type": "code",
   "execution_count": null,
   "id": "found-chamber",
   "metadata": {},
   "outputs": [],
   "source": [
    "cp = explainer.predict_profile(X_train.iloc[61,:])\n",
    "cp.plot()"
   ]
  },
  {
   "cell_type": "markdown",
   "id": "iraqi-million",
   "metadata": {},
   "source": [
    "Porównujemy obserwację 57. i 61. dla których predykcje wynoszą 0.974 i 0.061. ZMienna `Gender` reprezentuje płeć użytkownika: 1-mężczyzna, 0-kobieta. Dla obserwacji 61. bycie kobietą zwiększa predykcję, a dla obserwacji 57. zmnijesza. Dla zmiennej `Months on book`. Dla obserwaji 57. predykcja rośnie wraz ze wzrtostem `Months on book`, z dwoma małymi spadkami dla wartości 15 oraz 30, Dla obserwacji 61. wzrost wartości zmiennej przyczynia się do spadku predykcji oraz występują podobne dwa spadki jak u obserwacji 57.\n",
    "Dla zmiennej `Avg open to buy`(średni limit kredytu odnawialnego z ostatnich 12 miesięcy) obserwacja 57. ma niewielkie zmiany, a dla obserwacji 61. pojawia się duży spadek predykcji dla wartości 1380-3100."
   ]
  },
  {
   "cell_type": "markdown",
   "id": "associate-parallel",
   "metadata": {},
   "source": [
    "# 4. Skomentuj poszczególne wyniki uzyskane w powyższych punktach."
   ]
  },
  {
   "cell_type": "markdown",
   "id": "standard-observation",
   "metadata": {},
   "source": [
    "W poprzedniej pracy domowej zastanawiało mnie dlaczego w zależnosci o ile wzrosło `Total trans amt` czasem dostawaliśmy przeciwnę wpływy na predykcję. Użycie profili Ceteris Paribus pozwala zobaczyć i zrozumieć skąd wynikają te różnice. Profil Ceteris Paribus pokazuje,które zmienne mają kluczowy wpływ na zmianę predykcji dla danej obserwacji i przy jakich wartosciach zmiany te są największe."
   ]
  }
 ],
 "metadata": {
  "kernelspec": {
   "display_name": "Python 3",
   "language": "python",
   "name": "python3"
  },
  "language_info": {
   "codemirror_mode": {
    "name": "ipython",
    "version": 3
   },
   "file_extension": ".py",
   "mimetype": "text/x-python",
   "name": "python",
   "nbconvert_exporter": "python",
   "pygments_lexer": "ipython3",
   "version": "3.8.8"
  }
 },
 "nbformat": 4,
 "nbformat_minor": 5
}
